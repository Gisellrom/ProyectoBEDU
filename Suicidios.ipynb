{
  "nbformat": 4,
  "nbformat_minor": 0,
  "metadata": {
    "colab": {
      "provenance": [],
      "include_colab_link": true
    },
    "kernelspec": {
      "name": "python3",
      "display_name": "Python 3"
    },
    "language_info": {
      "name": "python"
    }
  },
  "cells": [
    {
      "cell_type": "markdown",
      "metadata": {
        "id": "view-in-github",
        "colab_type": "text"
      },
      "source": [
        "<a href=\"https://colab.research.google.com/github/Gisellrom/ProyectoBEDU/blob/main/Suicidios.ipynb\" target=\"_parent\"><img src=\"https://colab.research.google.com/assets/colab-badge.svg\" alt=\"Open In Colab\"/></a>"
      ]
    },
    {
      "cell_type": "markdown",
      "source": [
        "# PROYECTO: EL SUICIDIO EN EL SIGLO XXI"
      ],
      "metadata": {
        "id": "hx_r-d5NdpIf"
      }
    },
    {
      "cell_type": "markdown",
      "source": [
        "En 2017, un hombre a quien consideraba uno de los mejores músicos de todos los tiempos y autor, o coautor, de varias canciones que se habían convertido en la banda sonora de mi vida, se suicidó. Muchos se sorprendieron y muchos lo extrañan hoy.\n",
        "En 2018, un hombre cuyos programas de televisión me mantuvieron repetidamente en un estado de respeto y fascinación por la diversidad del mundo, se suicidó. Muchos se sorprendieron y muchos lo extrañan hoy.\n",
        "\n",
        "Según la OMS, cerca de 800.000 personas menos famosas mueren cada año por suicidio. Miré las Estadísticas de suicidio de la OMS para ver hacia dónde se dirige el mundo en su conjunto.\n",
        "\n",
        "¿Está mejorando o empeorando? Verás mi respuesta a continuación.\n",
        "\n",
        "Nota: haga lo que haga con los datos y las conclusiones que saque, nada de eso está aprobado ni respaldado por la OMS."
      ],
      "metadata": {
        "id": "yKpihGX2d1N2"
      }
    },
    {
      "cell_type": "markdown",
      "source": [
        "# Objetivo General"
      ],
      "metadata": {
        "id": "5iOxQ2uu3ngv"
      }
    },
    {
      "cell_type": "markdown",
      "source": [],
      "metadata": {
        "id": "1g-OaqJq33Gd"
      }
    },
    {
      "cell_type": "markdown",
      "source": [
        "# Objetivos"
      ],
      "metadata": {
        "id": "PbcDCqKUo-EL"
      }
    },
    {
      "cell_type": "markdown",
      "source": [
        "\n",
        "- Recolección de indices de suicidios por país\n",
        "- Analizar y graficar las variables como edades, género y generación, para identificar posibles factores de riesgo asociados con el suicidio.\n",
        "- Años en los que hubo más suicidios.\n",
        "- Presentar la tasa de suicidios con el PIB anual de los paises"
      ],
      "metadata": {
        "id": "VO_vFoZZorgr"
      }
    },
    {
      "cell_type": "markdown",
      "source": [
        "# Objetivos específicos\n",
        "Nuestro colab busca responder las siguientes preguntas:\n",
        "\n",
        "* ¿Cuál es el país con más indices de suicidio y en qué año se presentó el mayor número de muertes?\n",
        "\n",
        "* ¿A qué edad se presentó el mayor número de suicidios y cuál es la generación más afectada?. Está incidencia es mayor ¿en hombres o mujeres?\n",
        "\n",
        "* ¿El factor económico juega un papel importante de acuerdo con el número de suicidos registrados?\n",
        "\n"
      ],
      "metadata": {
        "id": "Vlfj5kMp5uNo"
      }
    },
    {
      "cell_type": "code",
      "source": [
        "# Link original:\n",
        "# https://www.kaggle.com/code/szamil/suicide-in-the-twenty-first-century/input"
      ],
      "metadata": {
        "id": "0HcRPeD0d9fY"
      },
      "execution_count": null,
      "outputs": []
    },
    {
      "cell_type": "code",
      "execution_count": null,
      "metadata": {
        "colab": {
          "base_uri": "https://localhost:8080/"
        },
        "id": "CQvHNVngZxc5",
        "outputId": "a06bfc92-a400-4453-bef3-d04669d58f8c"
      },
      "outputs": [
        {
          "output_type": "stream",
          "name": "stdout",
          "text": [
            "Mounted at /content/drive\n"
          ]
        }
      ],
      "source": [
        "from google.colab import drive\n",
        "drive.mount('/content/drive')"
      ]
    },
    {
      "cell_type": "markdown",
      "source": [
        "# Inicialización"
      ],
      "metadata": {
        "id": "WZ-wgJcspGBD"
      }
    },
    {
      "cell_type": "markdown",
      "source": [
        "Para comenzar, vamos a importar todas las librerías necesarias para la construcción correcta de las gráficas. En este caso, trabajaremos con las librerías `Pandas`, `Numpy` y `Seaborn` , que permiten leer correctamente los archivos, trabajar con bases de datos, trazar gráficos."
      ],
      "metadata": {
        "id": "Uwz-_nH1pJgk"
      }
    },
    {
      "cell_type": "code",
      "source": [
        "import pandas as pd\n",
        "import matplotlib.pyplot as plt\n",
        "import seaborn as sns\n"
      ],
      "metadata": {
        "id": "qNBtktsCaZ3z"
      },
      "execution_count": null,
      "outputs": []
    },
    {
      "cell_type": "markdown",
      "source": [
        "# Cargar datos"
      ],
      "metadata": {
        "id": "IWzgPD-Pp2lr"
      }
    },
    {
      "cell_type": "markdown",
      "source": [
        "En segundo lugar, importamos los datasets con la información de los suicidios del siglo XXI. Para esto utilizaremos la función `read_csv` de pandas y pasaremos como argumento la ubicación del archivo. Guardaremos los datos en la variable `df`"
      ],
      "metadata": {
        "id": "oVLpdb55qFIO"
      }
    },
    {
      "cell_type": "code",
      "source": [
        "# Leemos los datos\n",
        "df = pd.read_csv('/content/drive/MyDrive/Proyecto BEDU/Dataset/master.csv', index_col=0)"
      ],
      "metadata": {
        "id": "fQ2n-TCgp3aB"
      },
      "execution_count": null,
      "outputs": []
    },
    {
      "cell_type": "markdown",
      "source": [
        "# Procesamiento de datos"
      ],
      "metadata": {
        "id": "uA_g10YLGQ0x"
      }
    },
    {
      "cell_type": "markdown",
      "source": [
        "## Explorar datos iniciales"
      ],
      "metadata": {
        "id": "Gt_X0FFjruS6"
      }
    },
    {
      "cell_type": "markdown",
      "source": [
        "Con los datasets correctamente importados, ahora procedemos a realizar una exploración inicial de los datos. En este caso llamaremos al atributo `shape`, y los métodos `head` e `info` para el dataset."
      ],
      "metadata": {
        "id": "535gwdAVr-Q1"
      }
    },
    {
      "cell_type": "code",
      "source": [
        "#Tamaño del dataset\n",
        "df.shape"
      ],
      "metadata": {
        "colab": {
          "base_uri": "https://localhost:8080/"
        },
        "id": "YWhhtcy2rzqU",
        "outputId": "8cf7dc60-9b52-423f-b812-d142258197ae"
      },
      "execution_count": null,
      "outputs": [
        {
          "output_type": "execute_result",
          "data": {
            "text/plain": [
              "(27820, 11)"
            ]
          },
          "metadata": {},
          "execution_count": 4
        }
      ]
    },
    {
      "cell_type": "code",
      "source": [
        "#Verificamos que los datos esten cargados\n",
        "df.head()"
      ],
      "metadata": {
        "id": "6U615_oTa4O-",
        "colab": {
          "base_uri": "https://localhost:8080/",
          "height": 448
        },
        "outputId": "8cdaf19a-1a7c-4ba5-b38e-9a3ae1aca30a"
      },
      "execution_count": null,
      "outputs": [
        {
          "output_type": "execute_result",
          "data": {
            "text/plain": [
              "         year     sex          age  suicides_no  population  \\\n",
              "country                                                       \n",
              "Albania  1987    male  15-24 years           21      312900   \n",
              "Albania  1987    male  35-54 years           16      308000   \n",
              "Albania  1987  female  15-24 years           14      289700   \n",
              "Albania  1987    male    75+ years            1       21800   \n",
              "Albania  1987    male  25-34 years            9      274300   \n",
              "\n",
              "         suicides/100k pop country-year  HDI for year  gdp_for_year ($)   \\\n",
              "country                                                                    \n",
              "Albania               6.71  Albania1987           NaN      2,156,624,900   \n",
              "Albania               5.19  Albania1987           NaN      2,156,624,900   \n",
              "Albania               4.83  Albania1987           NaN      2,156,624,900   \n",
              "Albania               4.59  Albania1987           NaN      2,156,624,900   \n",
              "Albania               3.28  Albania1987           NaN      2,156,624,900   \n",
              "\n",
              "         gdp_per_capita ($)       generation  \n",
              "country                                       \n",
              "Albania                 796     Generation X  \n",
              "Albania                 796           Silent  \n",
              "Albania                 796     Generation X  \n",
              "Albania                 796  G.I. Generation  \n",
              "Albania                 796          Boomers  "
            ],
            "text/html": [
              "\n",
              "  <div id=\"df-16b39198-eb6d-47e0-a25e-c2d4735e0573\" class=\"colab-df-container\">\n",
              "    <div>\n",
              "<style scoped>\n",
              "    .dataframe tbody tr th:only-of-type {\n",
              "        vertical-align: middle;\n",
              "    }\n",
              "\n",
              "    .dataframe tbody tr th {\n",
              "        vertical-align: top;\n",
              "    }\n",
              "\n",
              "    .dataframe thead th {\n",
              "        text-align: right;\n",
              "    }\n",
              "</style>\n",
              "<table border=\"1\" class=\"dataframe\">\n",
              "  <thead>\n",
              "    <tr style=\"text-align: right;\">\n",
              "      <th></th>\n",
              "      <th>year</th>\n",
              "      <th>sex</th>\n",
              "      <th>age</th>\n",
              "      <th>suicides_no</th>\n",
              "      <th>population</th>\n",
              "      <th>suicides/100k pop</th>\n",
              "      <th>country-year</th>\n",
              "      <th>HDI for year</th>\n",
              "      <th>gdp_for_year ($)</th>\n",
              "      <th>gdp_per_capita ($)</th>\n",
              "      <th>generation</th>\n",
              "    </tr>\n",
              "    <tr>\n",
              "      <th>country</th>\n",
              "      <th></th>\n",
              "      <th></th>\n",
              "      <th></th>\n",
              "      <th></th>\n",
              "      <th></th>\n",
              "      <th></th>\n",
              "      <th></th>\n",
              "      <th></th>\n",
              "      <th></th>\n",
              "      <th></th>\n",
              "      <th></th>\n",
              "    </tr>\n",
              "  </thead>\n",
              "  <tbody>\n",
              "    <tr>\n",
              "      <th>Albania</th>\n",
              "      <td>1987</td>\n",
              "      <td>male</td>\n",
              "      <td>15-24 years</td>\n",
              "      <td>21</td>\n",
              "      <td>312900</td>\n",
              "      <td>6.71</td>\n",
              "      <td>Albania1987</td>\n",
              "      <td>NaN</td>\n",
              "      <td>2,156,624,900</td>\n",
              "      <td>796</td>\n",
              "      <td>Generation X</td>\n",
              "    </tr>\n",
              "    <tr>\n",
              "      <th>Albania</th>\n",
              "      <td>1987</td>\n",
              "      <td>male</td>\n",
              "      <td>35-54 years</td>\n",
              "      <td>16</td>\n",
              "      <td>308000</td>\n",
              "      <td>5.19</td>\n",
              "      <td>Albania1987</td>\n",
              "      <td>NaN</td>\n",
              "      <td>2,156,624,900</td>\n",
              "      <td>796</td>\n",
              "      <td>Silent</td>\n",
              "    </tr>\n",
              "    <tr>\n",
              "      <th>Albania</th>\n",
              "      <td>1987</td>\n",
              "      <td>female</td>\n",
              "      <td>15-24 years</td>\n",
              "      <td>14</td>\n",
              "      <td>289700</td>\n",
              "      <td>4.83</td>\n",
              "      <td>Albania1987</td>\n",
              "      <td>NaN</td>\n",
              "      <td>2,156,624,900</td>\n",
              "      <td>796</td>\n",
              "      <td>Generation X</td>\n",
              "    </tr>\n",
              "    <tr>\n",
              "      <th>Albania</th>\n",
              "      <td>1987</td>\n",
              "      <td>male</td>\n",
              "      <td>75+ years</td>\n",
              "      <td>1</td>\n",
              "      <td>21800</td>\n",
              "      <td>4.59</td>\n",
              "      <td>Albania1987</td>\n",
              "      <td>NaN</td>\n",
              "      <td>2,156,624,900</td>\n",
              "      <td>796</td>\n",
              "      <td>G.I. Generation</td>\n",
              "    </tr>\n",
              "    <tr>\n",
              "      <th>Albania</th>\n",
              "      <td>1987</td>\n",
              "      <td>male</td>\n",
              "      <td>25-34 years</td>\n",
              "      <td>9</td>\n",
              "      <td>274300</td>\n",
              "      <td>3.28</td>\n",
              "      <td>Albania1987</td>\n",
              "      <td>NaN</td>\n",
              "      <td>2,156,624,900</td>\n",
              "      <td>796</td>\n",
              "      <td>Boomers</td>\n",
              "    </tr>\n",
              "  </tbody>\n",
              "</table>\n",
              "</div>\n",
              "    <div class=\"colab-df-buttons\">\n",
              "\n",
              "  <div class=\"colab-df-container\">\n",
              "    <button class=\"colab-df-convert\" onclick=\"convertToInteractive('df-16b39198-eb6d-47e0-a25e-c2d4735e0573')\"\n",
              "            title=\"Convert this dataframe to an interactive table.\"\n",
              "            style=\"display:none;\">\n",
              "\n",
              "  <svg xmlns=\"http://www.w3.org/2000/svg\" height=\"24px\" viewBox=\"0 -960 960 960\">\n",
              "    <path d=\"M120-120v-720h720v720H120Zm60-500h600v-160H180v160Zm220 220h160v-160H400v160Zm0 220h160v-160H400v160ZM180-400h160v-160H180v160Zm440 0h160v-160H620v160ZM180-180h160v-160H180v160Zm440 0h160v-160H620v160Z\"/>\n",
              "  </svg>\n",
              "    </button>\n",
              "\n",
              "  <style>\n",
              "    .colab-df-container {\n",
              "      display:flex;\n",
              "      gap: 12px;\n",
              "    }\n",
              "\n",
              "    .colab-df-convert {\n",
              "      background-color: #E8F0FE;\n",
              "      border: none;\n",
              "      border-radius: 50%;\n",
              "      cursor: pointer;\n",
              "      display: none;\n",
              "      fill: #1967D2;\n",
              "      height: 32px;\n",
              "      padding: 0 0 0 0;\n",
              "      width: 32px;\n",
              "    }\n",
              "\n",
              "    .colab-df-convert:hover {\n",
              "      background-color: #E2EBFA;\n",
              "      box-shadow: 0px 1px 2px rgba(60, 64, 67, 0.3), 0px 1px 3px 1px rgba(60, 64, 67, 0.15);\n",
              "      fill: #174EA6;\n",
              "    }\n",
              "\n",
              "    .colab-df-buttons div {\n",
              "      margin-bottom: 4px;\n",
              "    }\n",
              "\n",
              "    [theme=dark] .colab-df-convert {\n",
              "      background-color: #3B4455;\n",
              "      fill: #D2E3FC;\n",
              "    }\n",
              "\n",
              "    [theme=dark] .colab-df-convert:hover {\n",
              "      background-color: #434B5C;\n",
              "      box-shadow: 0px 1px 3px 1px rgba(0, 0, 0, 0.15);\n",
              "      filter: drop-shadow(0px 1px 2px rgba(0, 0, 0, 0.3));\n",
              "      fill: #FFFFFF;\n",
              "    }\n",
              "  </style>\n",
              "\n",
              "    <script>\n",
              "      const buttonEl =\n",
              "        document.querySelector('#df-16b39198-eb6d-47e0-a25e-c2d4735e0573 button.colab-df-convert');\n",
              "      buttonEl.style.display =\n",
              "        google.colab.kernel.accessAllowed ? 'block' : 'none';\n",
              "\n",
              "      async function convertToInteractive(key) {\n",
              "        const element = document.querySelector('#df-16b39198-eb6d-47e0-a25e-c2d4735e0573');\n",
              "        const dataTable =\n",
              "          await google.colab.kernel.invokeFunction('convertToInteractive',\n",
              "                                                    [key], {});\n",
              "        if (!dataTable) return;\n",
              "\n",
              "        const docLinkHtml = 'Like what you see? Visit the ' +\n",
              "          '<a target=\"_blank\" href=https://colab.research.google.com/notebooks/data_table.ipynb>data table notebook</a>'\n",
              "          + ' to learn more about interactive tables.';\n",
              "        element.innerHTML = '';\n",
              "        dataTable['output_type'] = 'display_data';\n",
              "        await google.colab.output.renderOutput(dataTable, element);\n",
              "        const docLink = document.createElement('div');\n",
              "        docLink.innerHTML = docLinkHtml;\n",
              "        element.appendChild(docLink);\n",
              "      }\n",
              "    </script>\n",
              "  </div>\n",
              "\n",
              "\n",
              "<div id=\"df-984c21ca-81c1-4519-a56b-6a355045e8be\">\n",
              "  <button class=\"colab-df-quickchart\" onclick=\"quickchart('df-984c21ca-81c1-4519-a56b-6a355045e8be')\"\n",
              "            title=\"Suggest charts\"\n",
              "            style=\"display:none;\">\n",
              "\n",
              "<svg xmlns=\"http://www.w3.org/2000/svg\" height=\"24px\"viewBox=\"0 0 24 24\"\n",
              "     width=\"24px\">\n",
              "    <g>\n",
              "        <path d=\"M19 3H5c-1.1 0-2 .9-2 2v14c0 1.1.9 2 2 2h14c1.1 0 2-.9 2-2V5c0-1.1-.9-2-2-2zM9 17H7v-7h2v7zm4 0h-2V7h2v10zm4 0h-2v-4h2v4z\"/>\n",
              "    </g>\n",
              "</svg>\n",
              "  </button>\n",
              "\n",
              "<style>\n",
              "  .colab-df-quickchart {\n",
              "      --bg-color: #E8F0FE;\n",
              "      --fill-color: #1967D2;\n",
              "      --hover-bg-color: #E2EBFA;\n",
              "      --hover-fill-color: #174EA6;\n",
              "      --disabled-fill-color: #AAA;\n",
              "      --disabled-bg-color: #DDD;\n",
              "  }\n",
              "\n",
              "  [theme=dark] .colab-df-quickchart {\n",
              "      --bg-color: #3B4455;\n",
              "      --fill-color: #D2E3FC;\n",
              "      --hover-bg-color: #434B5C;\n",
              "      --hover-fill-color: #FFFFFF;\n",
              "      --disabled-bg-color: #3B4455;\n",
              "      --disabled-fill-color: #666;\n",
              "  }\n",
              "\n",
              "  .colab-df-quickchart {\n",
              "    background-color: var(--bg-color);\n",
              "    border: none;\n",
              "    border-radius: 50%;\n",
              "    cursor: pointer;\n",
              "    display: none;\n",
              "    fill: var(--fill-color);\n",
              "    height: 32px;\n",
              "    padding: 0;\n",
              "    width: 32px;\n",
              "  }\n",
              "\n",
              "  .colab-df-quickchart:hover {\n",
              "    background-color: var(--hover-bg-color);\n",
              "    box-shadow: 0 1px 2px rgba(60, 64, 67, 0.3), 0 1px 3px 1px rgba(60, 64, 67, 0.15);\n",
              "    fill: var(--button-hover-fill-color);\n",
              "  }\n",
              "\n",
              "  .colab-df-quickchart-complete:disabled,\n",
              "  .colab-df-quickchart-complete:disabled:hover {\n",
              "    background-color: var(--disabled-bg-color);\n",
              "    fill: var(--disabled-fill-color);\n",
              "    box-shadow: none;\n",
              "  }\n",
              "\n",
              "  .colab-df-spinner {\n",
              "    border: 2px solid var(--fill-color);\n",
              "    border-color: transparent;\n",
              "    border-bottom-color: var(--fill-color);\n",
              "    animation:\n",
              "      spin 1s steps(1) infinite;\n",
              "  }\n",
              "\n",
              "  @keyframes spin {\n",
              "    0% {\n",
              "      border-color: transparent;\n",
              "      border-bottom-color: var(--fill-color);\n",
              "      border-left-color: var(--fill-color);\n",
              "    }\n",
              "    20% {\n",
              "      border-color: transparent;\n",
              "      border-left-color: var(--fill-color);\n",
              "      border-top-color: var(--fill-color);\n",
              "    }\n",
              "    30% {\n",
              "      border-color: transparent;\n",
              "      border-left-color: var(--fill-color);\n",
              "      border-top-color: var(--fill-color);\n",
              "      border-right-color: var(--fill-color);\n",
              "    }\n",
              "    40% {\n",
              "      border-color: transparent;\n",
              "      border-right-color: var(--fill-color);\n",
              "      border-top-color: var(--fill-color);\n",
              "    }\n",
              "    60% {\n",
              "      border-color: transparent;\n",
              "      border-right-color: var(--fill-color);\n",
              "    }\n",
              "    80% {\n",
              "      border-color: transparent;\n",
              "      border-right-color: var(--fill-color);\n",
              "      border-bottom-color: var(--fill-color);\n",
              "    }\n",
              "    90% {\n",
              "      border-color: transparent;\n",
              "      border-bottom-color: var(--fill-color);\n",
              "    }\n",
              "  }\n",
              "</style>\n",
              "\n",
              "  <script>\n",
              "    async function quickchart(key) {\n",
              "      const quickchartButtonEl =\n",
              "        document.querySelector('#' + key + ' button');\n",
              "      quickchartButtonEl.disabled = true;  // To prevent multiple clicks.\n",
              "      quickchartButtonEl.classList.add('colab-df-spinner');\n",
              "      try {\n",
              "        const charts = await google.colab.kernel.invokeFunction(\n",
              "            'suggestCharts', [key], {});\n",
              "      } catch (error) {\n",
              "        console.error('Error during call to suggestCharts:', error);\n",
              "      }\n",
              "      quickchartButtonEl.classList.remove('colab-df-spinner');\n",
              "      quickchartButtonEl.classList.add('colab-df-quickchart-complete');\n",
              "    }\n",
              "    (() => {\n",
              "      let quickchartButtonEl =\n",
              "        document.querySelector('#df-984c21ca-81c1-4519-a56b-6a355045e8be button');\n",
              "      quickchartButtonEl.style.display =\n",
              "        google.colab.kernel.accessAllowed ? 'block' : 'none';\n",
              "    })();\n",
              "  </script>\n",
              "</div>\n",
              "\n",
              "    </div>\n",
              "  </div>\n"
            ]
          },
          "metadata": {},
          "execution_count": 5
        }
      ]
    },
    {
      "cell_type": "code",
      "source": [
        "df.info()"
      ],
      "metadata": {
        "colab": {
          "base_uri": "https://localhost:8080/"
        },
        "id": "SWjwXAfwemGN",
        "outputId": "61c806fe-7d0e-4207-ac7a-2269f1a61da3"
      },
      "execution_count": null,
      "outputs": [
        {
          "output_type": "stream",
          "name": "stdout",
          "text": [
            "<class 'pandas.core.frame.DataFrame'>\n",
            "Index: 27820 entries, Albania to Uzbekistan\n",
            "Data columns (total 11 columns):\n",
            " #   Column              Non-Null Count  Dtype  \n",
            "---  ------              --------------  -----  \n",
            " 0   year                27820 non-null  int64  \n",
            " 1   sex                 27820 non-null  object \n",
            " 2   age                 27820 non-null  object \n",
            " 3   suicides_no         27820 non-null  int64  \n",
            " 4   population          27820 non-null  int64  \n",
            " 5   suicides/100k pop   27820 non-null  float64\n",
            " 6   country-year        27820 non-null  object \n",
            " 7   HDI for year        8364 non-null   float64\n",
            " 8    gdp_for_year ($)   27820 non-null  object \n",
            " 9   gdp_per_capita ($)  27820 non-null  int64  \n",
            " 10  generation          27820 non-null  object \n",
            "dtypes: float64(2), int64(4), object(5)\n",
            "memory usage: 2.5+ MB\n"
          ]
        }
      ]
    },
    {
      "cell_type": "markdown",
      "source": [
        "Revisamos el nombre de las columnas que tenemos en nuestro dataset, para verificar mejor si tenemos espacios vacios entre los nombres de las columnas:"
      ],
      "metadata": {
        "id": "KlpDnBEVidIn"
      }
    },
    {
      "cell_type": "code",
      "source": [
        " # Para ver las columnas que contiene el dataset\n",
        "df.columns"
      ],
      "metadata": {
        "colab": {
          "base_uri": "https://localhost:8080/"
        },
        "id": "gIiujw8cihe6",
        "outputId": "125fade7-7845-4562-f805-df456575f88d"
      },
      "execution_count": null,
      "outputs": [
        {
          "output_type": "execute_result",
          "data": {
            "text/plain": [
              "Index(['year', 'sex', 'age', 'suicides_no', 'population', 'suicides/100k pop',\n",
              "       'country-year', 'HDI for year', ' gdp_for_year ($) ',\n",
              "       'gdp_per_capita ($)', 'generation'],\n",
              "      dtype='object')"
            ]
          },
          "metadata": {},
          "execution_count": 7
        }
      ]
    },
    {
      "cell_type": "markdown",
      "source": [
        "Desde este momento, podemos observar que la columna **country**, el dataset la está considerando como nuestro index, por lo que hay que cambiar de indice para analizar los datos que contiene:"
      ],
      "metadata": {
        "id": "oNoxf3OFj-84"
      }
    },
    {
      "cell_type": "code",
      "source": [
        "# Convertir el índice en una columna\n",
        "df = df.reset_index()\n",
        "df.head()"
      ],
      "metadata": {
        "id": "KlW2hPasvPVt",
        "colab": {
          "base_uri": "https://localhost:8080/",
          "height": 417
        },
        "outputId": "ef168293-7f51-414a-aff4-312e83001f93"
      },
      "execution_count": null,
      "outputs": [
        {
          "output_type": "execute_result",
          "data": {
            "text/plain": [
              "   country  year     sex          age  suicides_no  population  \\\n",
              "0  Albania  1987    male  15-24 years           21      312900   \n",
              "1  Albania  1987    male  35-54 years           16      308000   \n",
              "2  Albania  1987  female  15-24 years           14      289700   \n",
              "3  Albania  1987    male    75+ years            1       21800   \n",
              "4  Albania  1987    male  25-34 years            9      274300   \n",
              "\n",
              "   suicides/100k pop country-year  HDI for year  gdp_for_year ($)   \\\n",
              "0               6.71  Albania1987           NaN      2,156,624,900   \n",
              "1               5.19  Albania1987           NaN      2,156,624,900   \n",
              "2               4.83  Albania1987           NaN      2,156,624,900   \n",
              "3               4.59  Albania1987           NaN      2,156,624,900   \n",
              "4               3.28  Albania1987           NaN      2,156,624,900   \n",
              "\n",
              "   gdp_per_capita ($)       generation  \n",
              "0                 796     Generation X  \n",
              "1                 796           Silent  \n",
              "2                 796     Generation X  \n",
              "3                 796  G.I. Generation  \n",
              "4                 796          Boomers  "
            ],
            "text/html": [
              "\n",
              "  <div id=\"df-9d57e5ee-8a9d-4294-83a2-b4fe97d8516f\" class=\"colab-df-container\">\n",
              "    <div>\n",
              "<style scoped>\n",
              "    .dataframe tbody tr th:only-of-type {\n",
              "        vertical-align: middle;\n",
              "    }\n",
              "\n",
              "    .dataframe tbody tr th {\n",
              "        vertical-align: top;\n",
              "    }\n",
              "\n",
              "    .dataframe thead th {\n",
              "        text-align: right;\n",
              "    }\n",
              "</style>\n",
              "<table border=\"1\" class=\"dataframe\">\n",
              "  <thead>\n",
              "    <tr style=\"text-align: right;\">\n",
              "      <th></th>\n",
              "      <th>country</th>\n",
              "      <th>year</th>\n",
              "      <th>sex</th>\n",
              "      <th>age</th>\n",
              "      <th>suicides_no</th>\n",
              "      <th>population</th>\n",
              "      <th>suicides/100k pop</th>\n",
              "      <th>country-year</th>\n",
              "      <th>HDI for year</th>\n",
              "      <th>gdp_for_year ($)</th>\n",
              "      <th>gdp_per_capita ($)</th>\n",
              "      <th>generation</th>\n",
              "    </tr>\n",
              "  </thead>\n",
              "  <tbody>\n",
              "    <tr>\n",
              "      <th>0</th>\n",
              "      <td>Albania</td>\n",
              "      <td>1987</td>\n",
              "      <td>male</td>\n",
              "      <td>15-24 years</td>\n",
              "      <td>21</td>\n",
              "      <td>312900</td>\n",
              "      <td>6.71</td>\n",
              "      <td>Albania1987</td>\n",
              "      <td>NaN</td>\n",
              "      <td>2,156,624,900</td>\n",
              "      <td>796</td>\n",
              "      <td>Generation X</td>\n",
              "    </tr>\n",
              "    <tr>\n",
              "      <th>1</th>\n",
              "      <td>Albania</td>\n",
              "      <td>1987</td>\n",
              "      <td>male</td>\n",
              "      <td>35-54 years</td>\n",
              "      <td>16</td>\n",
              "      <td>308000</td>\n",
              "      <td>5.19</td>\n",
              "      <td>Albania1987</td>\n",
              "      <td>NaN</td>\n",
              "      <td>2,156,624,900</td>\n",
              "      <td>796</td>\n",
              "      <td>Silent</td>\n",
              "    </tr>\n",
              "    <tr>\n",
              "      <th>2</th>\n",
              "      <td>Albania</td>\n",
              "      <td>1987</td>\n",
              "      <td>female</td>\n",
              "      <td>15-24 years</td>\n",
              "      <td>14</td>\n",
              "      <td>289700</td>\n",
              "      <td>4.83</td>\n",
              "      <td>Albania1987</td>\n",
              "      <td>NaN</td>\n",
              "      <td>2,156,624,900</td>\n",
              "      <td>796</td>\n",
              "      <td>Generation X</td>\n",
              "    </tr>\n",
              "    <tr>\n",
              "      <th>3</th>\n",
              "      <td>Albania</td>\n",
              "      <td>1987</td>\n",
              "      <td>male</td>\n",
              "      <td>75+ years</td>\n",
              "      <td>1</td>\n",
              "      <td>21800</td>\n",
              "      <td>4.59</td>\n",
              "      <td>Albania1987</td>\n",
              "      <td>NaN</td>\n",
              "      <td>2,156,624,900</td>\n",
              "      <td>796</td>\n",
              "      <td>G.I. Generation</td>\n",
              "    </tr>\n",
              "    <tr>\n",
              "      <th>4</th>\n",
              "      <td>Albania</td>\n",
              "      <td>1987</td>\n",
              "      <td>male</td>\n",
              "      <td>25-34 years</td>\n",
              "      <td>9</td>\n",
              "      <td>274300</td>\n",
              "      <td>3.28</td>\n",
              "      <td>Albania1987</td>\n",
              "      <td>NaN</td>\n",
              "      <td>2,156,624,900</td>\n",
              "      <td>796</td>\n",
              "      <td>Boomers</td>\n",
              "    </tr>\n",
              "  </tbody>\n",
              "</table>\n",
              "</div>\n",
              "    <div class=\"colab-df-buttons\">\n",
              "\n",
              "  <div class=\"colab-df-container\">\n",
              "    <button class=\"colab-df-convert\" onclick=\"convertToInteractive('df-9d57e5ee-8a9d-4294-83a2-b4fe97d8516f')\"\n",
              "            title=\"Convert this dataframe to an interactive table.\"\n",
              "            style=\"display:none;\">\n",
              "\n",
              "  <svg xmlns=\"http://www.w3.org/2000/svg\" height=\"24px\" viewBox=\"0 -960 960 960\">\n",
              "    <path d=\"M120-120v-720h720v720H120Zm60-500h600v-160H180v160Zm220 220h160v-160H400v160Zm0 220h160v-160H400v160ZM180-400h160v-160H180v160Zm440 0h160v-160H620v160ZM180-180h160v-160H180v160Zm440 0h160v-160H620v160Z\"/>\n",
              "  </svg>\n",
              "    </button>\n",
              "\n",
              "  <style>\n",
              "    .colab-df-container {\n",
              "      display:flex;\n",
              "      gap: 12px;\n",
              "    }\n",
              "\n",
              "    .colab-df-convert {\n",
              "      background-color: #E8F0FE;\n",
              "      border: none;\n",
              "      border-radius: 50%;\n",
              "      cursor: pointer;\n",
              "      display: none;\n",
              "      fill: #1967D2;\n",
              "      height: 32px;\n",
              "      padding: 0 0 0 0;\n",
              "      width: 32px;\n",
              "    }\n",
              "\n",
              "    .colab-df-convert:hover {\n",
              "      background-color: #E2EBFA;\n",
              "      box-shadow: 0px 1px 2px rgba(60, 64, 67, 0.3), 0px 1px 3px 1px rgba(60, 64, 67, 0.15);\n",
              "      fill: #174EA6;\n",
              "    }\n",
              "\n",
              "    .colab-df-buttons div {\n",
              "      margin-bottom: 4px;\n",
              "    }\n",
              "\n",
              "    [theme=dark] .colab-df-convert {\n",
              "      background-color: #3B4455;\n",
              "      fill: #D2E3FC;\n",
              "    }\n",
              "\n",
              "    [theme=dark] .colab-df-convert:hover {\n",
              "      background-color: #434B5C;\n",
              "      box-shadow: 0px 1px 3px 1px rgba(0, 0, 0, 0.15);\n",
              "      filter: drop-shadow(0px 1px 2px rgba(0, 0, 0, 0.3));\n",
              "      fill: #FFFFFF;\n",
              "    }\n",
              "  </style>\n",
              "\n",
              "    <script>\n",
              "      const buttonEl =\n",
              "        document.querySelector('#df-9d57e5ee-8a9d-4294-83a2-b4fe97d8516f button.colab-df-convert');\n",
              "      buttonEl.style.display =\n",
              "        google.colab.kernel.accessAllowed ? 'block' : 'none';\n",
              "\n",
              "      async function convertToInteractive(key) {\n",
              "        const element = document.querySelector('#df-9d57e5ee-8a9d-4294-83a2-b4fe97d8516f');\n",
              "        const dataTable =\n",
              "          await google.colab.kernel.invokeFunction('convertToInteractive',\n",
              "                                                    [key], {});\n",
              "        if (!dataTable) return;\n",
              "\n",
              "        const docLinkHtml = 'Like what you see? Visit the ' +\n",
              "          '<a target=\"_blank\" href=https://colab.research.google.com/notebooks/data_table.ipynb>data table notebook</a>'\n",
              "          + ' to learn more about interactive tables.';\n",
              "        element.innerHTML = '';\n",
              "        dataTable['output_type'] = 'display_data';\n",
              "        await google.colab.output.renderOutput(dataTable, element);\n",
              "        const docLink = document.createElement('div');\n",
              "        docLink.innerHTML = docLinkHtml;\n",
              "        element.appendChild(docLink);\n",
              "      }\n",
              "    </script>\n",
              "  </div>\n",
              "\n",
              "\n",
              "<div id=\"df-b7707a68-d3bd-45c0-99af-b2503d2b4684\">\n",
              "  <button class=\"colab-df-quickchart\" onclick=\"quickchart('df-b7707a68-d3bd-45c0-99af-b2503d2b4684')\"\n",
              "            title=\"Suggest charts\"\n",
              "            style=\"display:none;\">\n",
              "\n",
              "<svg xmlns=\"http://www.w3.org/2000/svg\" height=\"24px\"viewBox=\"0 0 24 24\"\n",
              "     width=\"24px\">\n",
              "    <g>\n",
              "        <path d=\"M19 3H5c-1.1 0-2 .9-2 2v14c0 1.1.9 2 2 2h14c1.1 0 2-.9 2-2V5c0-1.1-.9-2-2-2zM9 17H7v-7h2v7zm4 0h-2V7h2v10zm4 0h-2v-4h2v4z\"/>\n",
              "    </g>\n",
              "</svg>\n",
              "  </button>\n",
              "\n",
              "<style>\n",
              "  .colab-df-quickchart {\n",
              "      --bg-color: #E8F0FE;\n",
              "      --fill-color: #1967D2;\n",
              "      --hover-bg-color: #E2EBFA;\n",
              "      --hover-fill-color: #174EA6;\n",
              "      --disabled-fill-color: #AAA;\n",
              "      --disabled-bg-color: #DDD;\n",
              "  }\n",
              "\n",
              "  [theme=dark] .colab-df-quickchart {\n",
              "      --bg-color: #3B4455;\n",
              "      --fill-color: #D2E3FC;\n",
              "      --hover-bg-color: #434B5C;\n",
              "      --hover-fill-color: #FFFFFF;\n",
              "      --disabled-bg-color: #3B4455;\n",
              "      --disabled-fill-color: #666;\n",
              "  }\n",
              "\n",
              "  .colab-df-quickchart {\n",
              "    background-color: var(--bg-color);\n",
              "    border: none;\n",
              "    border-radius: 50%;\n",
              "    cursor: pointer;\n",
              "    display: none;\n",
              "    fill: var(--fill-color);\n",
              "    height: 32px;\n",
              "    padding: 0;\n",
              "    width: 32px;\n",
              "  }\n",
              "\n",
              "  .colab-df-quickchart:hover {\n",
              "    background-color: var(--hover-bg-color);\n",
              "    box-shadow: 0 1px 2px rgba(60, 64, 67, 0.3), 0 1px 3px 1px rgba(60, 64, 67, 0.15);\n",
              "    fill: var(--button-hover-fill-color);\n",
              "  }\n",
              "\n",
              "  .colab-df-quickchart-complete:disabled,\n",
              "  .colab-df-quickchart-complete:disabled:hover {\n",
              "    background-color: var(--disabled-bg-color);\n",
              "    fill: var(--disabled-fill-color);\n",
              "    box-shadow: none;\n",
              "  }\n",
              "\n",
              "  .colab-df-spinner {\n",
              "    border: 2px solid var(--fill-color);\n",
              "    border-color: transparent;\n",
              "    border-bottom-color: var(--fill-color);\n",
              "    animation:\n",
              "      spin 1s steps(1) infinite;\n",
              "  }\n",
              "\n",
              "  @keyframes spin {\n",
              "    0% {\n",
              "      border-color: transparent;\n",
              "      border-bottom-color: var(--fill-color);\n",
              "      border-left-color: var(--fill-color);\n",
              "    }\n",
              "    20% {\n",
              "      border-color: transparent;\n",
              "      border-left-color: var(--fill-color);\n",
              "      border-top-color: var(--fill-color);\n",
              "    }\n",
              "    30% {\n",
              "      border-color: transparent;\n",
              "      border-left-color: var(--fill-color);\n",
              "      border-top-color: var(--fill-color);\n",
              "      border-right-color: var(--fill-color);\n",
              "    }\n",
              "    40% {\n",
              "      border-color: transparent;\n",
              "      border-right-color: var(--fill-color);\n",
              "      border-top-color: var(--fill-color);\n",
              "    }\n",
              "    60% {\n",
              "      border-color: transparent;\n",
              "      border-right-color: var(--fill-color);\n",
              "    }\n",
              "    80% {\n",
              "      border-color: transparent;\n",
              "      border-right-color: var(--fill-color);\n",
              "      border-bottom-color: var(--fill-color);\n",
              "    }\n",
              "    90% {\n",
              "      border-color: transparent;\n",
              "      border-bottom-color: var(--fill-color);\n",
              "    }\n",
              "  }\n",
              "</style>\n",
              "\n",
              "  <script>\n",
              "    async function quickchart(key) {\n",
              "      const quickchartButtonEl =\n",
              "        document.querySelector('#' + key + ' button');\n",
              "      quickchartButtonEl.disabled = true;  // To prevent multiple clicks.\n",
              "      quickchartButtonEl.classList.add('colab-df-spinner');\n",
              "      try {\n",
              "        const charts = await google.colab.kernel.invokeFunction(\n",
              "            'suggestCharts', [key], {});\n",
              "      } catch (error) {\n",
              "        console.error('Error during call to suggestCharts:', error);\n",
              "      }\n",
              "      quickchartButtonEl.classList.remove('colab-df-spinner');\n",
              "      quickchartButtonEl.classList.add('colab-df-quickchart-complete');\n",
              "    }\n",
              "    (() => {\n",
              "      let quickchartButtonEl =\n",
              "        document.querySelector('#df-b7707a68-d3bd-45c0-99af-b2503d2b4684 button');\n",
              "      quickchartButtonEl.style.display =\n",
              "        google.colab.kernel.accessAllowed ? 'block' : 'none';\n",
              "    })();\n",
              "  </script>\n",
              "</div>\n",
              "\n",
              "    </div>\n",
              "  </div>\n"
            ]
          },
          "metadata": {},
          "execution_count": 8
        }
      ]
    },
    {
      "cell_type": "markdown",
      "source": [
        "Nuevamente, volvemos a checar todos los datos y verificamos que ya no se este considerando la columna \"country\" como el indice"
      ],
      "metadata": {
        "id": "xJX-4lU2koCH"
      }
    },
    {
      "cell_type": "code",
      "source": [
        "df.shape"
      ],
      "metadata": {
        "colab": {
          "base_uri": "https://localhost:8080/"
        },
        "id": "dsBoIALEmlvH",
        "outputId": "343a185e-71d6-4396-d962-b9cade9d866c"
      },
      "execution_count": null,
      "outputs": [
        {
          "output_type": "execute_result",
          "data": {
            "text/plain": [
              "(27820, 12)"
            ]
          },
          "metadata": {},
          "execution_count": 9
        }
      ]
    },
    {
      "cell_type": "code",
      "source": [
        "df.info()"
      ],
      "metadata": {
        "colab": {
          "base_uri": "https://localhost:8080/"
        },
        "id": "txa3_tjPkyhO",
        "outputId": "bc59eff6-c02a-4eba-b484-bc9400168615"
      },
      "execution_count": null,
      "outputs": [
        {
          "output_type": "stream",
          "name": "stdout",
          "text": [
            "<class 'pandas.core.frame.DataFrame'>\n",
            "RangeIndex: 27820 entries, 0 to 27819\n",
            "Data columns (total 12 columns):\n",
            " #   Column              Non-Null Count  Dtype  \n",
            "---  ------              --------------  -----  \n",
            " 0   country             27820 non-null  object \n",
            " 1   year                27820 non-null  int64  \n",
            " 2   sex                 27820 non-null  object \n",
            " 3   age                 27820 non-null  object \n",
            " 4   suicides_no         27820 non-null  int64  \n",
            " 5   population          27820 non-null  int64  \n",
            " 6   suicides/100k pop   27820 non-null  float64\n",
            " 7   country-year        27820 non-null  object \n",
            " 8   HDI for year        8364 non-null   float64\n",
            " 9    gdp_for_year ($)   27820 non-null  object \n",
            " 10  gdp_per_capita ($)  27820 non-null  int64  \n",
            " 11  generation          27820 non-null  object \n",
            "dtypes: float64(2), int64(4), object(6)\n",
            "memory usage: 2.5+ MB\n"
          ]
        }
      ]
    },
    {
      "cell_type": "markdown",
      "source": [
        "En el dataset nos encontramos con 27,820 filas u observaciones y 12 columnas que contienen la siguiente información:\n",
        "* country: Indica el país en el que se registraron los datos sobre suicidios\n",
        "* year: Indica el año en el que se registraron los datos sobre suicidios.\n",
        "* sex: Refleja el género de las personas para las que se informan los datos (hombre o mujer).\n",
        "* age: Representa los grupos de edad en los que se dividen los datos (por ejemplo, \"15-24 años\").\n",
        "* suicidies_no: Indica el número total de suicidios reportados para la combinación de año, género y grupo de edad específicos.\n",
        "* population: Muestra la población total para la combinación de año, género y grupo de edad específicos\n",
        "* country-year: Combina la información sobre el país y el año para el cual se informan los datos.\n",
        "* HDI for year: Representa el Índice de Desarrollo Humano (HDI) para el año correspondiente.\n",
        "* gdp for year ($): Indica el Producto Interno Bruto (PIB) total para el año correspondiente.\n",
        "* gdp per capita ($): Muestra el PIB per cápita para el año correspondiente.\n",
        "* generation: ndica la generación de las personas para las que se informan los datos (por ejemplo, \"Boomers\", \"Generation X\").\n",
        "\n",
        "\n",
        "\n"
      ],
      "metadata": {
        "id": "cQ8HkmkknLgT"
      }
    },
    {
      "cell_type": "markdown",
      "source": [
        "Obervamos que la columna \"HDI for year\" se encuentra como tipo float, es correcto que pertenezca a ese tipo, pero encontramos que tiene información incompleta y además, información que no vamos a ocupar ya no está dentro de nuestros objetivos analizar como se comporta el indice de desarrollo humano, por eso directamente, procedemos a eliminar esa columna"
      ],
      "metadata": {
        "id": "I9l28hudqGDL"
      }
    },
    {
      "cell_type": "code",
      "source": [
        "# Eliminar la columna \"HDI for year\"\n",
        "columna_a_eliminar = 'HDI for year'\n",
        "df = df.drop(columna_a_eliminar, axis=1)"
      ],
      "metadata": {
        "id": "jopqYLdQpsBE"
      },
      "execution_count": null,
      "outputs": []
    },
    {
      "cell_type": "markdown",
      "source": [
        "No obstante, también observamos que la columna **country-year** es de tipo objecto, ya que tiene información como una cadena y números enteros, pero esa información también se encuentran en las columnas **country** y **year**, con los tipos de datos correctos, por lo que también eliminamos la columna **country-year**, porque no es correcto que venga así la información sino que se trate por separado esa información."
      ],
      "metadata": {
        "id": "NcjZlIhmr51R"
      }
    },
    {
      "cell_type": "code",
      "source": [
        "# Elimina la columna \"country-year\"\n",
        "columna_a_eliminar = 'country-year'\n",
        "df = df.drop(columna_a_eliminar, axis=1)"
      ],
      "metadata": {
        "id": "U7AIsZh4thO7"
      },
      "execution_count": null,
      "outputs": []
    },
    {
      "cell_type": "code",
      "source": [
        "df.columns"
      ],
      "metadata": {
        "colab": {
          "base_uri": "https://localhost:8080/"
        },
        "id": "wNzm9ZYhzOik",
        "outputId": "bc6692ad-d24d-4ece-bfef-d33afb28df73"
      },
      "execution_count": null,
      "outputs": [
        {
          "output_type": "execute_result",
          "data": {
            "text/plain": [
              "Index(['country', 'year', 'sex', 'age', 'suicides_no', 'population',\n",
              "       'suicides/100k pop', ' gdp_for_year ($) ', 'gdp_per_capita ($)',\n",
              "       'generation'],\n",
              "      dtype='object')"
            ]
          },
          "metadata": {},
          "execution_count": 13
        }
      ]
    },
    {
      "cell_type": "code",
      "source": [
        "# Elimina la columna \"gdp_for_year ($)\"\n",
        "columna_a_eliminar = ' gdp_for_year ($) '\n",
        "df = df.drop(columna_a_eliminar, axis=1)"
      ],
      "metadata": {
        "id": "YvXS4mEwyeh0"
      },
      "execution_count": null,
      "outputs": []
    },
    {
      "cell_type": "code",
      "source": [
        "# Elimina la columna \"population\"\n",
        "columna_a_eliminar = 'population'\n",
        "df = df.drop(columna_a_eliminar, axis=1)"
      ],
      "metadata": {
        "id": "CkKXtQqu1EHf"
      },
      "execution_count": null,
      "outputs": []
    },
    {
      "cell_type": "code",
      "source": [
        "# Elimina la columna \"suicides/100k pop\"\n",
        "columna_a_eliminar = 'suicides/100k pop'\n",
        "df = df.drop(columna_a_eliminar, axis=1)"
      ],
      "metadata": {
        "id": "dSZ76Yk23NaA"
      },
      "execution_count": null,
      "outputs": []
    },
    {
      "cell_type": "code",
      "source": [
        "df.info()"
      ],
      "metadata": {
        "colab": {
          "base_uri": "https://localhost:8080/"
        },
        "id": "cUGOgaTc1yx6",
        "outputId": "e0b7c5c0-0ffe-4bb4-95cb-754eea562481"
      },
      "execution_count": null,
      "outputs": [
        {
          "output_type": "stream",
          "name": "stdout",
          "text": [
            "<class 'pandas.core.frame.DataFrame'>\n",
            "RangeIndex: 27820 entries, 0 to 27819\n",
            "Data columns (total 7 columns):\n",
            " #   Column              Non-Null Count  Dtype \n",
            "---  ------              --------------  ----- \n",
            " 0   country             27820 non-null  object\n",
            " 1   year                27820 non-null  int64 \n",
            " 2   sex                 27820 non-null  object\n",
            " 3   age                 27820 non-null  object\n",
            " 4   suicides_no         27820 non-null  int64 \n",
            " 5   gdp_per_capita ($)  27820 non-null  int64 \n",
            " 6   generation          27820 non-null  object\n",
            "dtypes: int64(3), object(4)\n",
            "memory usage: 1.5+ MB\n"
          ]
        }
      ]
    },
    {
      "cell_type": "markdown",
      "source": [
        "Las columnas están en inglés, no es tan relevante, pero nosotras cambiaremos el nombre de las columnas, para analizar los datos con nuestro lenguaje natural. Además, quitaremos los espacios en blanco y simbolos que podrían causar ruido, que tienen algunas columnas como: **suicides/100k pop**, ** gdp for year ($)** y **gdp per capita ($)**:"
      ],
      "metadata": {
        "id": "yLZd8wtFp6Go"
      }
    },
    {
      "cell_type": "code",
      "source": [
        "# Renombramiento de columnas\n",
        "column_name_mapping ={\n",
        "    'country':'pais',\n",
        "    'year':'año',\n",
        "    'sex':'sexo',\n",
        "    'age':'edad',\n",
        "    'suicides_no':'no_suicidios',\n",
        "    'gdp_per_capita ($)':'pib_per_capita',\n",
        "    'generation':'generacion'\n",
        "}"
      ],
      "metadata": {
        "id": "ffFfomgKxZ-z"
      },
      "execution_count": null,
      "outputs": []
    },
    {
      "cell_type": "code",
      "source": [
        "# Cambio de nombres\n",
        "df = df.rename(columns=column_name_mapping)\n",
        "df.head()"
      ],
      "metadata": {
        "colab": {
          "base_uri": "https://localhost:8080/",
          "height": 206
        },
        "id": "GaqonbSQp6yL",
        "outputId": "5ec58624-7749-47d5-9763-4a42aa943e40"
      },
      "execution_count": null,
      "outputs": [
        {
          "output_type": "execute_result",
          "data": {
            "text/plain": [
              "      pais   año    sexo         edad  no_suicidios  pib_per_capita  \\\n",
              "0  Albania  1987    male  15-24 years            21             796   \n",
              "1  Albania  1987    male  35-54 years            16             796   \n",
              "2  Albania  1987  female  15-24 years            14             796   \n",
              "3  Albania  1987    male    75+ years             1             796   \n",
              "4  Albania  1987    male  25-34 years             9             796   \n",
              "\n",
              "        generacion  \n",
              "0     Generation X  \n",
              "1           Silent  \n",
              "2     Generation X  \n",
              "3  G.I. Generation  \n",
              "4          Boomers  "
            ],
            "text/html": [
              "\n",
              "  <div id=\"df-39211f30-5d64-431b-a931-c0907e8aa251\" class=\"colab-df-container\">\n",
              "    <div>\n",
              "<style scoped>\n",
              "    .dataframe tbody tr th:only-of-type {\n",
              "        vertical-align: middle;\n",
              "    }\n",
              "\n",
              "    .dataframe tbody tr th {\n",
              "        vertical-align: top;\n",
              "    }\n",
              "\n",
              "    .dataframe thead th {\n",
              "        text-align: right;\n",
              "    }\n",
              "</style>\n",
              "<table border=\"1\" class=\"dataframe\">\n",
              "  <thead>\n",
              "    <tr style=\"text-align: right;\">\n",
              "      <th></th>\n",
              "      <th>pais</th>\n",
              "      <th>año</th>\n",
              "      <th>sexo</th>\n",
              "      <th>edad</th>\n",
              "      <th>no_suicidios</th>\n",
              "      <th>pib_per_capita</th>\n",
              "      <th>generacion</th>\n",
              "    </tr>\n",
              "  </thead>\n",
              "  <tbody>\n",
              "    <tr>\n",
              "      <th>0</th>\n",
              "      <td>Albania</td>\n",
              "      <td>1987</td>\n",
              "      <td>male</td>\n",
              "      <td>15-24 years</td>\n",
              "      <td>21</td>\n",
              "      <td>796</td>\n",
              "      <td>Generation X</td>\n",
              "    </tr>\n",
              "    <tr>\n",
              "      <th>1</th>\n",
              "      <td>Albania</td>\n",
              "      <td>1987</td>\n",
              "      <td>male</td>\n",
              "      <td>35-54 years</td>\n",
              "      <td>16</td>\n",
              "      <td>796</td>\n",
              "      <td>Silent</td>\n",
              "    </tr>\n",
              "    <tr>\n",
              "      <th>2</th>\n",
              "      <td>Albania</td>\n",
              "      <td>1987</td>\n",
              "      <td>female</td>\n",
              "      <td>15-24 years</td>\n",
              "      <td>14</td>\n",
              "      <td>796</td>\n",
              "      <td>Generation X</td>\n",
              "    </tr>\n",
              "    <tr>\n",
              "      <th>3</th>\n",
              "      <td>Albania</td>\n",
              "      <td>1987</td>\n",
              "      <td>male</td>\n",
              "      <td>75+ years</td>\n",
              "      <td>1</td>\n",
              "      <td>796</td>\n",
              "      <td>G.I. Generation</td>\n",
              "    </tr>\n",
              "    <tr>\n",
              "      <th>4</th>\n",
              "      <td>Albania</td>\n",
              "      <td>1987</td>\n",
              "      <td>male</td>\n",
              "      <td>25-34 years</td>\n",
              "      <td>9</td>\n",
              "      <td>796</td>\n",
              "      <td>Boomers</td>\n",
              "    </tr>\n",
              "  </tbody>\n",
              "</table>\n",
              "</div>\n",
              "    <div class=\"colab-df-buttons\">\n",
              "\n",
              "  <div class=\"colab-df-container\">\n",
              "    <button class=\"colab-df-convert\" onclick=\"convertToInteractive('df-39211f30-5d64-431b-a931-c0907e8aa251')\"\n",
              "            title=\"Convert this dataframe to an interactive table.\"\n",
              "            style=\"display:none;\">\n",
              "\n",
              "  <svg xmlns=\"http://www.w3.org/2000/svg\" height=\"24px\" viewBox=\"0 -960 960 960\">\n",
              "    <path d=\"M120-120v-720h720v720H120Zm60-500h600v-160H180v160Zm220 220h160v-160H400v160Zm0 220h160v-160H400v160ZM180-400h160v-160H180v160Zm440 0h160v-160H620v160ZM180-180h160v-160H180v160Zm440 0h160v-160H620v160Z\"/>\n",
              "  </svg>\n",
              "    </button>\n",
              "\n",
              "  <style>\n",
              "    .colab-df-container {\n",
              "      display:flex;\n",
              "      gap: 12px;\n",
              "    }\n",
              "\n",
              "    .colab-df-convert {\n",
              "      background-color: #E8F0FE;\n",
              "      border: none;\n",
              "      border-radius: 50%;\n",
              "      cursor: pointer;\n",
              "      display: none;\n",
              "      fill: #1967D2;\n",
              "      height: 32px;\n",
              "      padding: 0 0 0 0;\n",
              "      width: 32px;\n",
              "    }\n",
              "\n",
              "    .colab-df-convert:hover {\n",
              "      background-color: #E2EBFA;\n",
              "      box-shadow: 0px 1px 2px rgba(60, 64, 67, 0.3), 0px 1px 3px 1px rgba(60, 64, 67, 0.15);\n",
              "      fill: #174EA6;\n",
              "    }\n",
              "\n",
              "    .colab-df-buttons div {\n",
              "      margin-bottom: 4px;\n",
              "    }\n",
              "\n",
              "    [theme=dark] .colab-df-convert {\n",
              "      background-color: #3B4455;\n",
              "      fill: #D2E3FC;\n",
              "    }\n",
              "\n",
              "    [theme=dark] .colab-df-convert:hover {\n",
              "      background-color: #434B5C;\n",
              "      box-shadow: 0px 1px 3px 1px rgba(0, 0, 0, 0.15);\n",
              "      filter: drop-shadow(0px 1px 2px rgba(0, 0, 0, 0.3));\n",
              "      fill: #FFFFFF;\n",
              "    }\n",
              "  </style>\n",
              "\n",
              "    <script>\n",
              "      const buttonEl =\n",
              "        document.querySelector('#df-39211f30-5d64-431b-a931-c0907e8aa251 button.colab-df-convert');\n",
              "      buttonEl.style.display =\n",
              "        google.colab.kernel.accessAllowed ? 'block' : 'none';\n",
              "\n",
              "      async function convertToInteractive(key) {\n",
              "        const element = document.querySelector('#df-39211f30-5d64-431b-a931-c0907e8aa251');\n",
              "        const dataTable =\n",
              "          await google.colab.kernel.invokeFunction('convertToInteractive',\n",
              "                                                    [key], {});\n",
              "        if (!dataTable) return;\n",
              "\n",
              "        const docLinkHtml = 'Like what you see? Visit the ' +\n",
              "          '<a target=\"_blank\" href=https://colab.research.google.com/notebooks/data_table.ipynb>data table notebook</a>'\n",
              "          + ' to learn more about interactive tables.';\n",
              "        element.innerHTML = '';\n",
              "        dataTable['output_type'] = 'display_data';\n",
              "        await google.colab.output.renderOutput(dataTable, element);\n",
              "        const docLink = document.createElement('div');\n",
              "        docLink.innerHTML = docLinkHtml;\n",
              "        element.appendChild(docLink);\n",
              "      }\n",
              "    </script>\n",
              "  </div>\n",
              "\n",
              "\n",
              "<div id=\"df-44c8de23-1423-4696-8505-61591956b94e\">\n",
              "  <button class=\"colab-df-quickchart\" onclick=\"quickchart('df-44c8de23-1423-4696-8505-61591956b94e')\"\n",
              "            title=\"Suggest charts\"\n",
              "            style=\"display:none;\">\n",
              "\n",
              "<svg xmlns=\"http://www.w3.org/2000/svg\" height=\"24px\"viewBox=\"0 0 24 24\"\n",
              "     width=\"24px\">\n",
              "    <g>\n",
              "        <path d=\"M19 3H5c-1.1 0-2 .9-2 2v14c0 1.1.9 2 2 2h14c1.1 0 2-.9 2-2V5c0-1.1-.9-2-2-2zM9 17H7v-7h2v7zm4 0h-2V7h2v10zm4 0h-2v-4h2v4z\"/>\n",
              "    </g>\n",
              "</svg>\n",
              "  </button>\n",
              "\n",
              "<style>\n",
              "  .colab-df-quickchart {\n",
              "      --bg-color: #E8F0FE;\n",
              "      --fill-color: #1967D2;\n",
              "      --hover-bg-color: #E2EBFA;\n",
              "      --hover-fill-color: #174EA6;\n",
              "      --disabled-fill-color: #AAA;\n",
              "      --disabled-bg-color: #DDD;\n",
              "  }\n",
              "\n",
              "  [theme=dark] .colab-df-quickchart {\n",
              "      --bg-color: #3B4455;\n",
              "      --fill-color: #D2E3FC;\n",
              "      --hover-bg-color: #434B5C;\n",
              "      --hover-fill-color: #FFFFFF;\n",
              "      --disabled-bg-color: #3B4455;\n",
              "      --disabled-fill-color: #666;\n",
              "  }\n",
              "\n",
              "  .colab-df-quickchart {\n",
              "    background-color: var(--bg-color);\n",
              "    border: none;\n",
              "    border-radius: 50%;\n",
              "    cursor: pointer;\n",
              "    display: none;\n",
              "    fill: var(--fill-color);\n",
              "    height: 32px;\n",
              "    padding: 0;\n",
              "    width: 32px;\n",
              "  }\n",
              "\n",
              "  .colab-df-quickchart:hover {\n",
              "    background-color: var(--hover-bg-color);\n",
              "    box-shadow: 0 1px 2px rgba(60, 64, 67, 0.3), 0 1px 3px 1px rgba(60, 64, 67, 0.15);\n",
              "    fill: var(--button-hover-fill-color);\n",
              "  }\n",
              "\n",
              "  .colab-df-quickchart-complete:disabled,\n",
              "  .colab-df-quickchart-complete:disabled:hover {\n",
              "    background-color: var(--disabled-bg-color);\n",
              "    fill: var(--disabled-fill-color);\n",
              "    box-shadow: none;\n",
              "  }\n",
              "\n",
              "  .colab-df-spinner {\n",
              "    border: 2px solid var(--fill-color);\n",
              "    border-color: transparent;\n",
              "    border-bottom-color: var(--fill-color);\n",
              "    animation:\n",
              "      spin 1s steps(1) infinite;\n",
              "  }\n",
              "\n",
              "  @keyframes spin {\n",
              "    0% {\n",
              "      border-color: transparent;\n",
              "      border-bottom-color: var(--fill-color);\n",
              "      border-left-color: var(--fill-color);\n",
              "    }\n",
              "    20% {\n",
              "      border-color: transparent;\n",
              "      border-left-color: var(--fill-color);\n",
              "      border-top-color: var(--fill-color);\n",
              "    }\n",
              "    30% {\n",
              "      border-color: transparent;\n",
              "      border-left-color: var(--fill-color);\n",
              "      border-top-color: var(--fill-color);\n",
              "      border-right-color: var(--fill-color);\n",
              "    }\n",
              "    40% {\n",
              "      border-color: transparent;\n",
              "      border-right-color: var(--fill-color);\n",
              "      border-top-color: var(--fill-color);\n",
              "    }\n",
              "    60% {\n",
              "      border-color: transparent;\n",
              "      border-right-color: var(--fill-color);\n",
              "    }\n",
              "    80% {\n",
              "      border-color: transparent;\n",
              "      border-right-color: var(--fill-color);\n",
              "      border-bottom-color: var(--fill-color);\n",
              "    }\n",
              "    90% {\n",
              "      border-color: transparent;\n",
              "      border-bottom-color: var(--fill-color);\n",
              "    }\n",
              "  }\n",
              "</style>\n",
              "\n",
              "  <script>\n",
              "    async function quickchart(key) {\n",
              "      const quickchartButtonEl =\n",
              "        document.querySelector('#' + key + ' button');\n",
              "      quickchartButtonEl.disabled = true;  // To prevent multiple clicks.\n",
              "      quickchartButtonEl.classList.add('colab-df-spinner');\n",
              "      try {\n",
              "        const charts = await google.colab.kernel.invokeFunction(\n",
              "            'suggestCharts', [key], {});\n",
              "      } catch (error) {\n",
              "        console.error('Error during call to suggestCharts:', error);\n",
              "      }\n",
              "      quickchartButtonEl.classList.remove('colab-df-spinner');\n",
              "      quickchartButtonEl.classList.add('colab-df-quickchart-complete');\n",
              "    }\n",
              "    (() => {\n",
              "      let quickchartButtonEl =\n",
              "        document.querySelector('#df-44c8de23-1423-4696-8505-61591956b94e button');\n",
              "      quickchartButtonEl.style.display =\n",
              "        google.colab.kernel.accessAllowed ? 'block' : 'none';\n",
              "    })();\n",
              "  </script>\n",
              "</div>\n",
              "\n",
              "    </div>\n",
              "  </div>\n"
            ]
          },
          "metadata": {},
          "execution_count": 20
        }
      ]
    },
    {
      "cell_type": "markdown",
      "source": [
        "Dentro de la información de la columna **generacion**, observamos que la palabra \"Generación\" se repite constantemente, entonces procedemos a eliminar esa palabra repetida, ya que el nombre de la columna indica que se habla de las generaciones."
      ],
      "metadata": {
        "id": "b0A_PDw-yCH6"
      }
    },
    {
      "cell_type": "code",
      "source": [
        "#Eliminar la palabra \"Generation\" de la columna 'generacion'\n",
        "df['generacion']=df['generacion'].str.replace('Generation', '')\n",
        "\n",
        "df.head()"
      ],
      "metadata": {
        "colab": {
          "base_uri": "https://localhost:8080/",
          "height": 206
        },
        "id": "XUW-t__JznGH",
        "outputId": "2527612e-e771-4762-df5e-cdb08b32c5fd"
      },
      "execution_count": null,
      "outputs": [
        {
          "output_type": "execute_result",
          "data": {
            "text/plain": [
              "      pais   año    sexo         edad  no_suicidios  pib_per_capita generacion\n",
              "0  Albania  1987    male  15-24 years            21             796          X\n",
              "1  Albania  1987    male  35-54 years            16             796     Silent\n",
              "2  Albania  1987  female  15-24 years            14             796          X\n",
              "3  Albania  1987    male    75+ years             1             796      G.I. \n",
              "4  Albania  1987    male  25-34 years             9             796    Boomers"
            ],
            "text/html": [
              "\n",
              "  <div id=\"df-1b9f9064-b545-4779-83c1-5eae5139a533\" class=\"colab-df-container\">\n",
              "    <div>\n",
              "<style scoped>\n",
              "    .dataframe tbody tr th:only-of-type {\n",
              "        vertical-align: middle;\n",
              "    }\n",
              "\n",
              "    .dataframe tbody tr th {\n",
              "        vertical-align: top;\n",
              "    }\n",
              "\n",
              "    .dataframe thead th {\n",
              "        text-align: right;\n",
              "    }\n",
              "</style>\n",
              "<table border=\"1\" class=\"dataframe\">\n",
              "  <thead>\n",
              "    <tr style=\"text-align: right;\">\n",
              "      <th></th>\n",
              "      <th>pais</th>\n",
              "      <th>año</th>\n",
              "      <th>sexo</th>\n",
              "      <th>edad</th>\n",
              "      <th>no_suicidios</th>\n",
              "      <th>pib_per_capita</th>\n",
              "      <th>generacion</th>\n",
              "    </tr>\n",
              "  </thead>\n",
              "  <tbody>\n",
              "    <tr>\n",
              "      <th>0</th>\n",
              "      <td>Albania</td>\n",
              "      <td>1987</td>\n",
              "      <td>male</td>\n",
              "      <td>15-24 years</td>\n",
              "      <td>21</td>\n",
              "      <td>796</td>\n",
              "      <td>X</td>\n",
              "    </tr>\n",
              "    <tr>\n",
              "      <th>1</th>\n",
              "      <td>Albania</td>\n",
              "      <td>1987</td>\n",
              "      <td>male</td>\n",
              "      <td>35-54 years</td>\n",
              "      <td>16</td>\n",
              "      <td>796</td>\n",
              "      <td>Silent</td>\n",
              "    </tr>\n",
              "    <tr>\n",
              "      <th>2</th>\n",
              "      <td>Albania</td>\n",
              "      <td>1987</td>\n",
              "      <td>female</td>\n",
              "      <td>15-24 years</td>\n",
              "      <td>14</td>\n",
              "      <td>796</td>\n",
              "      <td>X</td>\n",
              "    </tr>\n",
              "    <tr>\n",
              "      <th>3</th>\n",
              "      <td>Albania</td>\n",
              "      <td>1987</td>\n",
              "      <td>male</td>\n",
              "      <td>75+ years</td>\n",
              "      <td>1</td>\n",
              "      <td>796</td>\n",
              "      <td>G.I.</td>\n",
              "    </tr>\n",
              "    <tr>\n",
              "      <th>4</th>\n",
              "      <td>Albania</td>\n",
              "      <td>1987</td>\n",
              "      <td>male</td>\n",
              "      <td>25-34 years</td>\n",
              "      <td>9</td>\n",
              "      <td>796</td>\n",
              "      <td>Boomers</td>\n",
              "    </tr>\n",
              "  </tbody>\n",
              "</table>\n",
              "</div>\n",
              "    <div class=\"colab-df-buttons\">\n",
              "\n",
              "  <div class=\"colab-df-container\">\n",
              "    <button class=\"colab-df-convert\" onclick=\"convertToInteractive('df-1b9f9064-b545-4779-83c1-5eae5139a533')\"\n",
              "            title=\"Convert this dataframe to an interactive table.\"\n",
              "            style=\"display:none;\">\n",
              "\n",
              "  <svg xmlns=\"http://www.w3.org/2000/svg\" height=\"24px\" viewBox=\"0 -960 960 960\">\n",
              "    <path d=\"M120-120v-720h720v720H120Zm60-500h600v-160H180v160Zm220 220h160v-160H400v160Zm0 220h160v-160H400v160ZM180-400h160v-160H180v160Zm440 0h160v-160H620v160ZM180-180h160v-160H180v160Zm440 0h160v-160H620v160Z\"/>\n",
              "  </svg>\n",
              "    </button>\n",
              "\n",
              "  <style>\n",
              "    .colab-df-container {\n",
              "      display:flex;\n",
              "      gap: 12px;\n",
              "    }\n",
              "\n",
              "    .colab-df-convert {\n",
              "      background-color: #E8F0FE;\n",
              "      border: none;\n",
              "      border-radius: 50%;\n",
              "      cursor: pointer;\n",
              "      display: none;\n",
              "      fill: #1967D2;\n",
              "      height: 32px;\n",
              "      padding: 0 0 0 0;\n",
              "      width: 32px;\n",
              "    }\n",
              "\n",
              "    .colab-df-convert:hover {\n",
              "      background-color: #E2EBFA;\n",
              "      box-shadow: 0px 1px 2px rgba(60, 64, 67, 0.3), 0px 1px 3px 1px rgba(60, 64, 67, 0.15);\n",
              "      fill: #174EA6;\n",
              "    }\n",
              "\n",
              "    .colab-df-buttons div {\n",
              "      margin-bottom: 4px;\n",
              "    }\n",
              "\n",
              "    [theme=dark] .colab-df-convert {\n",
              "      background-color: #3B4455;\n",
              "      fill: #D2E3FC;\n",
              "    }\n",
              "\n",
              "    [theme=dark] .colab-df-convert:hover {\n",
              "      background-color: #434B5C;\n",
              "      box-shadow: 0px 1px 3px 1px rgba(0, 0, 0, 0.15);\n",
              "      filter: drop-shadow(0px 1px 2px rgba(0, 0, 0, 0.3));\n",
              "      fill: #FFFFFF;\n",
              "    }\n",
              "  </style>\n",
              "\n",
              "    <script>\n",
              "      const buttonEl =\n",
              "        document.querySelector('#df-1b9f9064-b545-4779-83c1-5eae5139a533 button.colab-df-convert');\n",
              "      buttonEl.style.display =\n",
              "        google.colab.kernel.accessAllowed ? 'block' : 'none';\n",
              "\n",
              "      async function convertToInteractive(key) {\n",
              "        const element = document.querySelector('#df-1b9f9064-b545-4779-83c1-5eae5139a533');\n",
              "        const dataTable =\n",
              "          await google.colab.kernel.invokeFunction('convertToInteractive',\n",
              "                                                    [key], {});\n",
              "        if (!dataTable) return;\n",
              "\n",
              "        const docLinkHtml = 'Like what you see? Visit the ' +\n",
              "          '<a target=\"_blank\" href=https://colab.research.google.com/notebooks/data_table.ipynb>data table notebook</a>'\n",
              "          + ' to learn more about interactive tables.';\n",
              "        element.innerHTML = '';\n",
              "        dataTable['output_type'] = 'display_data';\n",
              "        await google.colab.output.renderOutput(dataTable, element);\n",
              "        const docLink = document.createElement('div');\n",
              "        docLink.innerHTML = docLinkHtml;\n",
              "        element.appendChild(docLink);\n",
              "      }\n",
              "    </script>\n",
              "  </div>\n",
              "\n",
              "\n",
              "<div id=\"df-a313631c-c200-4a59-9007-b568a4fc2095\">\n",
              "  <button class=\"colab-df-quickchart\" onclick=\"quickchart('df-a313631c-c200-4a59-9007-b568a4fc2095')\"\n",
              "            title=\"Suggest charts\"\n",
              "            style=\"display:none;\">\n",
              "\n",
              "<svg xmlns=\"http://www.w3.org/2000/svg\" height=\"24px\"viewBox=\"0 0 24 24\"\n",
              "     width=\"24px\">\n",
              "    <g>\n",
              "        <path d=\"M19 3H5c-1.1 0-2 .9-2 2v14c0 1.1.9 2 2 2h14c1.1 0 2-.9 2-2V5c0-1.1-.9-2-2-2zM9 17H7v-7h2v7zm4 0h-2V7h2v10zm4 0h-2v-4h2v4z\"/>\n",
              "    </g>\n",
              "</svg>\n",
              "  </button>\n",
              "\n",
              "<style>\n",
              "  .colab-df-quickchart {\n",
              "      --bg-color: #E8F0FE;\n",
              "      --fill-color: #1967D2;\n",
              "      --hover-bg-color: #E2EBFA;\n",
              "      --hover-fill-color: #174EA6;\n",
              "      --disabled-fill-color: #AAA;\n",
              "      --disabled-bg-color: #DDD;\n",
              "  }\n",
              "\n",
              "  [theme=dark] .colab-df-quickchart {\n",
              "      --bg-color: #3B4455;\n",
              "      --fill-color: #D2E3FC;\n",
              "      --hover-bg-color: #434B5C;\n",
              "      --hover-fill-color: #FFFFFF;\n",
              "      --disabled-bg-color: #3B4455;\n",
              "      --disabled-fill-color: #666;\n",
              "  }\n",
              "\n",
              "  .colab-df-quickchart {\n",
              "    background-color: var(--bg-color);\n",
              "    border: none;\n",
              "    border-radius: 50%;\n",
              "    cursor: pointer;\n",
              "    display: none;\n",
              "    fill: var(--fill-color);\n",
              "    height: 32px;\n",
              "    padding: 0;\n",
              "    width: 32px;\n",
              "  }\n",
              "\n",
              "  .colab-df-quickchart:hover {\n",
              "    background-color: var(--hover-bg-color);\n",
              "    box-shadow: 0 1px 2px rgba(60, 64, 67, 0.3), 0 1px 3px 1px rgba(60, 64, 67, 0.15);\n",
              "    fill: var(--button-hover-fill-color);\n",
              "  }\n",
              "\n",
              "  .colab-df-quickchart-complete:disabled,\n",
              "  .colab-df-quickchart-complete:disabled:hover {\n",
              "    background-color: var(--disabled-bg-color);\n",
              "    fill: var(--disabled-fill-color);\n",
              "    box-shadow: none;\n",
              "  }\n",
              "\n",
              "  .colab-df-spinner {\n",
              "    border: 2px solid var(--fill-color);\n",
              "    border-color: transparent;\n",
              "    border-bottom-color: var(--fill-color);\n",
              "    animation:\n",
              "      spin 1s steps(1) infinite;\n",
              "  }\n",
              "\n",
              "  @keyframes spin {\n",
              "    0% {\n",
              "      border-color: transparent;\n",
              "      border-bottom-color: var(--fill-color);\n",
              "      border-left-color: var(--fill-color);\n",
              "    }\n",
              "    20% {\n",
              "      border-color: transparent;\n",
              "      border-left-color: var(--fill-color);\n",
              "      border-top-color: var(--fill-color);\n",
              "    }\n",
              "    30% {\n",
              "      border-color: transparent;\n",
              "      border-left-color: var(--fill-color);\n",
              "      border-top-color: var(--fill-color);\n",
              "      border-right-color: var(--fill-color);\n",
              "    }\n",
              "    40% {\n",
              "      border-color: transparent;\n",
              "      border-right-color: var(--fill-color);\n",
              "      border-top-color: var(--fill-color);\n",
              "    }\n",
              "    60% {\n",
              "      border-color: transparent;\n",
              "      border-right-color: var(--fill-color);\n",
              "    }\n",
              "    80% {\n",
              "      border-color: transparent;\n",
              "      border-right-color: var(--fill-color);\n",
              "      border-bottom-color: var(--fill-color);\n",
              "    }\n",
              "    90% {\n",
              "      border-color: transparent;\n",
              "      border-bottom-color: var(--fill-color);\n",
              "    }\n",
              "  }\n",
              "</style>\n",
              "\n",
              "  <script>\n",
              "    async function quickchart(key) {\n",
              "      const quickchartButtonEl =\n",
              "        document.querySelector('#' + key + ' button');\n",
              "      quickchartButtonEl.disabled = true;  // To prevent multiple clicks.\n",
              "      quickchartButtonEl.classList.add('colab-df-spinner');\n",
              "      try {\n",
              "        const charts = await google.colab.kernel.invokeFunction(\n",
              "            'suggestCharts', [key], {});\n",
              "      } catch (error) {\n",
              "        console.error('Error during call to suggestCharts:', error);\n",
              "      }\n",
              "      quickchartButtonEl.classList.remove('colab-df-spinner');\n",
              "      quickchartButtonEl.classList.add('colab-df-quickchart-complete');\n",
              "    }\n",
              "    (() => {\n",
              "      let quickchartButtonEl =\n",
              "        document.querySelector('#df-a313631c-c200-4a59-9007-b568a4fc2095 button');\n",
              "      quickchartButtonEl.style.display =\n",
              "        google.colab.kernel.accessAllowed ? 'block' : 'none';\n",
              "    })();\n",
              "  </script>\n",
              "</div>\n",
              "\n",
              "    </div>\n",
              "  </div>\n"
            ]
          },
          "metadata": {},
          "execution_count": 21
        }
      ]
    },
    {
      "cell_type": "code",
      "source": [
        "df.dtypes"
      ],
      "metadata": {
        "colab": {
          "base_uri": "https://localhost:8080/"
        },
        "id": "fZyE0Xgz1YJ2",
        "outputId": "105edab4-1258-43c6-c814-3890d3255a90"
      },
      "execution_count": null,
      "outputs": [
        {
          "output_type": "execute_result",
          "data": {
            "text/plain": [
              "pais              object\n",
              "año                int64\n",
              "sexo              object\n",
              "edad              object\n",
              "no_suicidios       int64\n",
              "pib_per_capita     int64\n",
              "generacion        object\n",
              "dtype: object"
            ]
          },
          "metadata": {},
          "execution_count": 22
        }
      ]
    },
    {
      "cell_type": "markdown",
      "source": [
        "Luego, observamos que la columna **age** es de tipo objeto, y debería de ser de tipo entero ya que la edad es numérica, pero esto se debe a que en la información que tiene la columna, tiene la palabra **years**, entonces también procedemos a eliminarla."
      ],
      "metadata": {
        "id": "8kinzVpQ2nMh"
      }
    },
    {
      "cell_type": "code",
      "source": [
        "#Eliminar \"years\" de la columna edad\n",
        "\n",
        "df['edad']=df['edad'].str.replace(' years', '')\n",
        "\n",
        "df.head()"
      ],
      "metadata": {
        "id": "p0h1c40hbv5l",
        "colab": {
          "base_uri": "https://localhost:8080/",
          "height": 206
        },
        "outputId": "d17c6b1f-3f12-4c19-8cf1-a80ac065e35d"
      },
      "execution_count": null,
      "outputs": [
        {
          "output_type": "execute_result",
          "data": {
            "text/plain": [
              "      pais   año    sexo   edad  no_suicidios  pib_per_capita generacion\n",
              "0  Albania  1987    male  15-24            21             796          X\n",
              "1  Albania  1987    male  35-54            16             796     Silent\n",
              "2  Albania  1987  female  15-24            14             796          X\n",
              "3  Albania  1987    male    75+             1             796      G.I. \n",
              "4  Albania  1987    male  25-34             9             796    Boomers"
            ],
            "text/html": [
              "\n",
              "  <div id=\"df-c0bdbf1d-b4c3-4644-8065-5524e3c42edf\" class=\"colab-df-container\">\n",
              "    <div>\n",
              "<style scoped>\n",
              "    .dataframe tbody tr th:only-of-type {\n",
              "        vertical-align: middle;\n",
              "    }\n",
              "\n",
              "    .dataframe tbody tr th {\n",
              "        vertical-align: top;\n",
              "    }\n",
              "\n",
              "    .dataframe thead th {\n",
              "        text-align: right;\n",
              "    }\n",
              "</style>\n",
              "<table border=\"1\" class=\"dataframe\">\n",
              "  <thead>\n",
              "    <tr style=\"text-align: right;\">\n",
              "      <th></th>\n",
              "      <th>pais</th>\n",
              "      <th>año</th>\n",
              "      <th>sexo</th>\n",
              "      <th>edad</th>\n",
              "      <th>no_suicidios</th>\n",
              "      <th>pib_per_capita</th>\n",
              "      <th>generacion</th>\n",
              "    </tr>\n",
              "  </thead>\n",
              "  <tbody>\n",
              "    <tr>\n",
              "      <th>0</th>\n",
              "      <td>Albania</td>\n",
              "      <td>1987</td>\n",
              "      <td>male</td>\n",
              "      <td>15-24</td>\n",
              "      <td>21</td>\n",
              "      <td>796</td>\n",
              "      <td>X</td>\n",
              "    </tr>\n",
              "    <tr>\n",
              "      <th>1</th>\n",
              "      <td>Albania</td>\n",
              "      <td>1987</td>\n",
              "      <td>male</td>\n",
              "      <td>35-54</td>\n",
              "      <td>16</td>\n",
              "      <td>796</td>\n",
              "      <td>Silent</td>\n",
              "    </tr>\n",
              "    <tr>\n",
              "      <th>2</th>\n",
              "      <td>Albania</td>\n",
              "      <td>1987</td>\n",
              "      <td>female</td>\n",
              "      <td>15-24</td>\n",
              "      <td>14</td>\n",
              "      <td>796</td>\n",
              "      <td>X</td>\n",
              "    </tr>\n",
              "    <tr>\n",
              "      <th>3</th>\n",
              "      <td>Albania</td>\n",
              "      <td>1987</td>\n",
              "      <td>male</td>\n",
              "      <td>75+</td>\n",
              "      <td>1</td>\n",
              "      <td>796</td>\n",
              "      <td>G.I.</td>\n",
              "    </tr>\n",
              "    <tr>\n",
              "      <th>4</th>\n",
              "      <td>Albania</td>\n",
              "      <td>1987</td>\n",
              "      <td>male</td>\n",
              "      <td>25-34</td>\n",
              "      <td>9</td>\n",
              "      <td>796</td>\n",
              "      <td>Boomers</td>\n",
              "    </tr>\n",
              "  </tbody>\n",
              "</table>\n",
              "</div>\n",
              "    <div class=\"colab-df-buttons\">\n",
              "\n",
              "  <div class=\"colab-df-container\">\n",
              "    <button class=\"colab-df-convert\" onclick=\"convertToInteractive('df-c0bdbf1d-b4c3-4644-8065-5524e3c42edf')\"\n",
              "            title=\"Convert this dataframe to an interactive table.\"\n",
              "            style=\"display:none;\">\n",
              "\n",
              "  <svg xmlns=\"http://www.w3.org/2000/svg\" height=\"24px\" viewBox=\"0 -960 960 960\">\n",
              "    <path d=\"M120-120v-720h720v720H120Zm60-500h600v-160H180v160Zm220 220h160v-160H400v160Zm0 220h160v-160H400v160ZM180-400h160v-160H180v160Zm440 0h160v-160H620v160ZM180-180h160v-160H180v160Zm440 0h160v-160H620v160Z\"/>\n",
              "  </svg>\n",
              "    </button>\n",
              "\n",
              "  <style>\n",
              "    .colab-df-container {\n",
              "      display:flex;\n",
              "      gap: 12px;\n",
              "    }\n",
              "\n",
              "    .colab-df-convert {\n",
              "      background-color: #E8F0FE;\n",
              "      border: none;\n",
              "      border-radius: 50%;\n",
              "      cursor: pointer;\n",
              "      display: none;\n",
              "      fill: #1967D2;\n",
              "      height: 32px;\n",
              "      padding: 0 0 0 0;\n",
              "      width: 32px;\n",
              "    }\n",
              "\n",
              "    .colab-df-convert:hover {\n",
              "      background-color: #E2EBFA;\n",
              "      box-shadow: 0px 1px 2px rgba(60, 64, 67, 0.3), 0px 1px 3px 1px rgba(60, 64, 67, 0.15);\n",
              "      fill: #174EA6;\n",
              "    }\n",
              "\n",
              "    .colab-df-buttons div {\n",
              "      margin-bottom: 4px;\n",
              "    }\n",
              "\n",
              "    [theme=dark] .colab-df-convert {\n",
              "      background-color: #3B4455;\n",
              "      fill: #D2E3FC;\n",
              "    }\n",
              "\n",
              "    [theme=dark] .colab-df-convert:hover {\n",
              "      background-color: #434B5C;\n",
              "      box-shadow: 0px 1px 3px 1px rgba(0, 0, 0, 0.15);\n",
              "      filter: drop-shadow(0px 1px 2px rgba(0, 0, 0, 0.3));\n",
              "      fill: #FFFFFF;\n",
              "    }\n",
              "  </style>\n",
              "\n",
              "    <script>\n",
              "      const buttonEl =\n",
              "        document.querySelector('#df-c0bdbf1d-b4c3-4644-8065-5524e3c42edf button.colab-df-convert');\n",
              "      buttonEl.style.display =\n",
              "        google.colab.kernel.accessAllowed ? 'block' : 'none';\n",
              "\n",
              "      async function convertToInteractive(key) {\n",
              "        const element = document.querySelector('#df-c0bdbf1d-b4c3-4644-8065-5524e3c42edf');\n",
              "        const dataTable =\n",
              "          await google.colab.kernel.invokeFunction('convertToInteractive',\n",
              "                                                    [key], {});\n",
              "        if (!dataTable) return;\n",
              "\n",
              "        const docLinkHtml = 'Like what you see? Visit the ' +\n",
              "          '<a target=\"_blank\" href=https://colab.research.google.com/notebooks/data_table.ipynb>data table notebook</a>'\n",
              "          + ' to learn more about interactive tables.';\n",
              "        element.innerHTML = '';\n",
              "        dataTable['output_type'] = 'display_data';\n",
              "        await google.colab.output.renderOutput(dataTable, element);\n",
              "        const docLink = document.createElement('div');\n",
              "        docLink.innerHTML = docLinkHtml;\n",
              "        element.appendChild(docLink);\n",
              "      }\n",
              "    </script>\n",
              "  </div>\n",
              "\n",
              "\n",
              "<div id=\"df-82c794cd-3d14-4d27-86bf-0be0a152202b\">\n",
              "  <button class=\"colab-df-quickchart\" onclick=\"quickchart('df-82c794cd-3d14-4d27-86bf-0be0a152202b')\"\n",
              "            title=\"Suggest charts\"\n",
              "            style=\"display:none;\">\n",
              "\n",
              "<svg xmlns=\"http://www.w3.org/2000/svg\" height=\"24px\"viewBox=\"0 0 24 24\"\n",
              "     width=\"24px\">\n",
              "    <g>\n",
              "        <path d=\"M19 3H5c-1.1 0-2 .9-2 2v14c0 1.1.9 2 2 2h14c1.1 0 2-.9 2-2V5c0-1.1-.9-2-2-2zM9 17H7v-7h2v7zm4 0h-2V7h2v10zm4 0h-2v-4h2v4z\"/>\n",
              "    </g>\n",
              "</svg>\n",
              "  </button>\n",
              "\n",
              "<style>\n",
              "  .colab-df-quickchart {\n",
              "      --bg-color: #E8F0FE;\n",
              "      --fill-color: #1967D2;\n",
              "      --hover-bg-color: #E2EBFA;\n",
              "      --hover-fill-color: #174EA6;\n",
              "      --disabled-fill-color: #AAA;\n",
              "      --disabled-bg-color: #DDD;\n",
              "  }\n",
              "\n",
              "  [theme=dark] .colab-df-quickchart {\n",
              "      --bg-color: #3B4455;\n",
              "      --fill-color: #D2E3FC;\n",
              "      --hover-bg-color: #434B5C;\n",
              "      --hover-fill-color: #FFFFFF;\n",
              "      --disabled-bg-color: #3B4455;\n",
              "      --disabled-fill-color: #666;\n",
              "  }\n",
              "\n",
              "  .colab-df-quickchart {\n",
              "    background-color: var(--bg-color);\n",
              "    border: none;\n",
              "    border-radius: 50%;\n",
              "    cursor: pointer;\n",
              "    display: none;\n",
              "    fill: var(--fill-color);\n",
              "    height: 32px;\n",
              "    padding: 0;\n",
              "    width: 32px;\n",
              "  }\n",
              "\n",
              "  .colab-df-quickchart:hover {\n",
              "    background-color: var(--hover-bg-color);\n",
              "    box-shadow: 0 1px 2px rgba(60, 64, 67, 0.3), 0 1px 3px 1px rgba(60, 64, 67, 0.15);\n",
              "    fill: var(--button-hover-fill-color);\n",
              "  }\n",
              "\n",
              "  .colab-df-quickchart-complete:disabled,\n",
              "  .colab-df-quickchart-complete:disabled:hover {\n",
              "    background-color: var(--disabled-bg-color);\n",
              "    fill: var(--disabled-fill-color);\n",
              "    box-shadow: none;\n",
              "  }\n",
              "\n",
              "  .colab-df-spinner {\n",
              "    border: 2px solid var(--fill-color);\n",
              "    border-color: transparent;\n",
              "    border-bottom-color: var(--fill-color);\n",
              "    animation:\n",
              "      spin 1s steps(1) infinite;\n",
              "  }\n",
              "\n",
              "  @keyframes spin {\n",
              "    0% {\n",
              "      border-color: transparent;\n",
              "      border-bottom-color: var(--fill-color);\n",
              "      border-left-color: var(--fill-color);\n",
              "    }\n",
              "    20% {\n",
              "      border-color: transparent;\n",
              "      border-left-color: var(--fill-color);\n",
              "      border-top-color: var(--fill-color);\n",
              "    }\n",
              "    30% {\n",
              "      border-color: transparent;\n",
              "      border-left-color: var(--fill-color);\n",
              "      border-top-color: var(--fill-color);\n",
              "      border-right-color: var(--fill-color);\n",
              "    }\n",
              "    40% {\n",
              "      border-color: transparent;\n",
              "      border-right-color: var(--fill-color);\n",
              "      border-top-color: var(--fill-color);\n",
              "    }\n",
              "    60% {\n",
              "      border-color: transparent;\n",
              "      border-right-color: var(--fill-color);\n",
              "    }\n",
              "    80% {\n",
              "      border-color: transparent;\n",
              "      border-right-color: var(--fill-color);\n",
              "      border-bottom-color: var(--fill-color);\n",
              "    }\n",
              "    90% {\n",
              "      border-color: transparent;\n",
              "      border-bottom-color: var(--fill-color);\n",
              "    }\n",
              "  }\n",
              "</style>\n",
              "\n",
              "  <script>\n",
              "    async function quickchart(key) {\n",
              "      const quickchartButtonEl =\n",
              "        document.querySelector('#' + key + ' button');\n",
              "      quickchartButtonEl.disabled = true;  // To prevent multiple clicks.\n",
              "      quickchartButtonEl.classList.add('colab-df-spinner');\n",
              "      try {\n",
              "        const charts = await google.colab.kernel.invokeFunction(\n",
              "            'suggestCharts', [key], {});\n",
              "      } catch (error) {\n",
              "        console.error('Error during call to suggestCharts:', error);\n",
              "      }\n",
              "      quickchartButtonEl.classList.remove('colab-df-spinner');\n",
              "      quickchartButtonEl.classList.add('colab-df-quickchart-complete');\n",
              "    }\n",
              "    (() => {\n",
              "      let quickchartButtonEl =\n",
              "        document.querySelector('#df-82c794cd-3d14-4d27-86bf-0be0a152202b button');\n",
              "      quickchartButtonEl.style.display =\n",
              "        google.colab.kernel.accessAllowed ? 'block' : 'none';\n",
              "    })();\n",
              "  </script>\n",
              "</div>\n",
              "\n",
              "    </div>\n",
              "  </div>\n"
            ]
          },
          "metadata": {},
          "execution_count": 23
        }
      ]
    },
    {
      "cell_type": "code",
      "source": [
        "df.dtypes"
      ],
      "metadata": {
        "id": "TG1qIhvo6QT9",
        "outputId": "5be8e836-b349-4757-8855-65c639cdba9a",
        "colab": {
          "base_uri": "https://localhost:8080/"
        }
      },
      "execution_count": null,
      "outputs": [
        {
          "output_type": "execute_result",
          "data": {
            "text/plain": [
              "pais              object\n",
              "año                int64\n",
              "sexo              object\n",
              "edad              object\n",
              "no_suicidios       int64\n",
              "pib_per_capita     int64\n",
              "generacion        object\n",
              "dtype: object"
            ]
          },
          "metadata": {},
          "execution_count": 24
        }
      ]
    },
    {
      "cell_type": "markdown",
      "source": [
        "Notamos que apesar de que ya se eliminó la palabra \"years\", sigue considerando la columna \"edad\" como objeto, ya que también contiene símbolos como **+** y **-**. Para lidiar con este problema, lo vamos a dejar como objeto y lo vamos a considerar como si fuera una variable categórica"
      ],
      "metadata": {
        "id": "Q-8DQ2KY4SKz"
      }
    },
    {
      "cell_type": "markdown",
      "source": [
        "Luego, vamos a cambiar \"male\" y \"female\" de la columna sexo a una abreviatura más cómoda."
      ],
      "metadata": {
        "id": "s13vjiUC8LFL"
      }
    },
    {
      "cell_type": "code",
      "source": [
        "#Cambiar \"male\" y \"female\" de la columna sexo\n",
        "# \\b para representar límites de palabras\n",
        "df['sexo']=df['sexo'].str.replace(r'\\bmale\\b', 'M', case= False)\n",
        "df['sexo']=df['sexo'].str.replace(r'\\bfemale\\b', 'F', case= False)\n",
        "df.head()"
      ],
      "metadata": {
        "id": "DLDxco7J7wkk",
        "colab": {
          "base_uri": "https://localhost:8080/",
          "height": 276
        },
        "outputId": "d2b3a114-4c8f-4db4-de34-d658e62c714e"
      },
      "execution_count": null,
      "outputs": [
        {
          "output_type": "stream",
          "name": "stderr",
          "text": [
            "<ipython-input-25-1c2770f12575>:3: FutureWarning: The default value of regex will change from True to False in a future version.\n",
            "  df['sexo']=df['sexo'].str.replace(r'\\bmale\\b', 'M', case= False)\n",
            "<ipython-input-25-1c2770f12575>:4: FutureWarning: The default value of regex will change from True to False in a future version.\n",
            "  df['sexo']=df['sexo'].str.replace(r'\\bfemale\\b', 'F', case= False)\n"
          ]
        },
        {
          "output_type": "execute_result",
          "data": {
            "text/plain": [
              "      pais   año sexo   edad  no_suicidios  pib_per_capita generacion\n",
              "0  Albania  1987    M  15-24            21             796          X\n",
              "1  Albania  1987    M  35-54            16             796     Silent\n",
              "2  Albania  1987    F  15-24            14             796          X\n",
              "3  Albania  1987    M    75+             1             796      G.I. \n",
              "4  Albania  1987    M  25-34             9             796    Boomers"
            ],
            "text/html": [
              "\n",
              "  <div id=\"df-d36ea2a6-7189-4329-85d4-a740407f147e\" class=\"colab-df-container\">\n",
              "    <div>\n",
              "<style scoped>\n",
              "    .dataframe tbody tr th:only-of-type {\n",
              "        vertical-align: middle;\n",
              "    }\n",
              "\n",
              "    .dataframe tbody tr th {\n",
              "        vertical-align: top;\n",
              "    }\n",
              "\n",
              "    .dataframe thead th {\n",
              "        text-align: right;\n",
              "    }\n",
              "</style>\n",
              "<table border=\"1\" class=\"dataframe\">\n",
              "  <thead>\n",
              "    <tr style=\"text-align: right;\">\n",
              "      <th></th>\n",
              "      <th>pais</th>\n",
              "      <th>año</th>\n",
              "      <th>sexo</th>\n",
              "      <th>edad</th>\n",
              "      <th>no_suicidios</th>\n",
              "      <th>pib_per_capita</th>\n",
              "      <th>generacion</th>\n",
              "    </tr>\n",
              "  </thead>\n",
              "  <tbody>\n",
              "    <tr>\n",
              "      <th>0</th>\n",
              "      <td>Albania</td>\n",
              "      <td>1987</td>\n",
              "      <td>M</td>\n",
              "      <td>15-24</td>\n",
              "      <td>21</td>\n",
              "      <td>796</td>\n",
              "      <td>X</td>\n",
              "    </tr>\n",
              "    <tr>\n",
              "      <th>1</th>\n",
              "      <td>Albania</td>\n",
              "      <td>1987</td>\n",
              "      <td>M</td>\n",
              "      <td>35-54</td>\n",
              "      <td>16</td>\n",
              "      <td>796</td>\n",
              "      <td>Silent</td>\n",
              "    </tr>\n",
              "    <tr>\n",
              "      <th>2</th>\n",
              "      <td>Albania</td>\n",
              "      <td>1987</td>\n",
              "      <td>F</td>\n",
              "      <td>15-24</td>\n",
              "      <td>14</td>\n",
              "      <td>796</td>\n",
              "      <td>X</td>\n",
              "    </tr>\n",
              "    <tr>\n",
              "      <th>3</th>\n",
              "      <td>Albania</td>\n",
              "      <td>1987</td>\n",
              "      <td>M</td>\n",
              "      <td>75+</td>\n",
              "      <td>1</td>\n",
              "      <td>796</td>\n",
              "      <td>G.I.</td>\n",
              "    </tr>\n",
              "    <tr>\n",
              "      <th>4</th>\n",
              "      <td>Albania</td>\n",
              "      <td>1987</td>\n",
              "      <td>M</td>\n",
              "      <td>25-34</td>\n",
              "      <td>9</td>\n",
              "      <td>796</td>\n",
              "      <td>Boomers</td>\n",
              "    </tr>\n",
              "  </tbody>\n",
              "</table>\n",
              "</div>\n",
              "    <div class=\"colab-df-buttons\">\n",
              "\n",
              "  <div class=\"colab-df-container\">\n",
              "    <button class=\"colab-df-convert\" onclick=\"convertToInteractive('df-d36ea2a6-7189-4329-85d4-a740407f147e')\"\n",
              "            title=\"Convert this dataframe to an interactive table.\"\n",
              "            style=\"display:none;\">\n",
              "\n",
              "  <svg xmlns=\"http://www.w3.org/2000/svg\" height=\"24px\" viewBox=\"0 -960 960 960\">\n",
              "    <path d=\"M120-120v-720h720v720H120Zm60-500h600v-160H180v160Zm220 220h160v-160H400v160Zm0 220h160v-160H400v160ZM180-400h160v-160H180v160Zm440 0h160v-160H620v160ZM180-180h160v-160H180v160Zm440 0h160v-160H620v160Z\"/>\n",
              "  </svg>\n",
              "    </button>\n",
              "\n",
              "  <style>\n",
              "    .colab-df-container {\n",
              "      display:flex;\n",
              "      gap: 12px;\n",
              "    }\n",
              "\n",
              "    .colab-df-convert {\n",
              "      background-color: #E8F0FE;\n",
              "      border: none;\n",
              "      border-radius: 50%;\n",
              "      cursor: pointer;\n",
              "      display: none;\n",
              "      fill: #1967D2;\n",
              "      height: 32px;\n",
              "      padding: 0 0 0 0;\n",
              "      width: 32px;\n",
              "    }\n",
              "\n",
              "    .colab-df-convert:hover {\n",
              "      background-color: #E2EBFA;\n",
              "      box-shadow: 0px 1px 2px rgba(60, 64, 67, 0.3), 0px 1px 3px 1px rgba(60, 64, 67, 0.15);\n",
              "      fill: #174EA6;\n",
              "    }\n",
              "\n",
              "    .colab-df-buttons div {\n",
              "      margin-bottom: 4px;\n",
              "    }\n",
              "\n",
              "    [theme=dark] .colab-df-convert {\n",
              "      background-color: #3B4455;\n",
              "      fill: #D2E3FC;\n",
              "    }\n",
              "\n",
              "    [theme=dark] .colab-df-convert:hover {\n",
              "      background-color: #434B5C;\n",
              "      box-shadow: 0px 1px 3px 1px rgba(0, 0, 0, 0.15);\n",
              "      filter: drop-shadow(0px 1px 2px rgba(0, 0, 0, 0.3));\n",
              "      fill: #FFFFFF;\n",
              "    }\n",
              "  </style>\n",
              "\n",
              "    <script>\n",
              "      const buttonEl =\n",
              "        document.querySelector('#df-d36ea2a6-7189-4329-85d4-a740407f147e button.colab-df-convert');\n",
              "      buttonEl.style.display =\n",
              "        google.colab.kernel.accessAllowed ? 'block' : 'none';\n",
              "\n",
              "      async function convertToInteractive(key) {\n",
              "        const element = document.querySelector('#df-d36ea2a6-7189-4329-85d4-a740407f147e');\n",
              "        const dataTable =\n",
              "          await google.colab.kernel.invokeFunction('convertToInteractive',\n",
              "                                                    [key], {});\n",
              "        if (!dataTable) return;\n",
              "\n",
              "        const docLinkHtml = 'Like what you see? Visit the ' +\n",
              "          '<a target=\"_blank\" href=https://colab.research.google.com/notebooks/data_table.ipynb>data table notebook</a>'\n",
              "          + ' to learn more about interactive tables.';\n",
              "        element.innerHTML = '';\n",
              "        dataTable['output_type'] = 'display_data';\n",
              "        await google.colab.output.renderOutput(dataTable, element);\n",
              "        const docLink = document.createElement('div');\n",
              "        docLink.innerHTML = docLinkHtml;\n",
              "        element.appendChild(docLink);\n",
              "      }\n",
              "    </script>\n",
              "  </div>\n",
              "\n",
              "\n",
              "<div id=\"df-6ccfb16f-6f03-4141-a2dd-c6ab2098eddd\">\n",
              "  <button class=\"colab-df-quickchart\" onclick=\"quickchart('df-6ccfb16f-6f03-4141-a2dd-c6ab2098eddd')\"\n",
              "            title=\"Suggest charts\"\n",
              "            style=\"display:none;\">\n",
              "\n",
              "<svg xmlns=\"http://www.w3.org/2000/svg\" height=\"24px\"viewBox=\"0 0 24 24\"\n",
              "     width=\"24px\">\n",
              "    <g>\n",
              "        <path d=\"M19 3H5c-1.1 0-2 .9-2 2v14c0 1.1.9 2 2 2h14c1.1 0 2-.9 2-2V5c0-1.1-.9-2-2-2zM9 17H7v-7h2v7zm4 0h-2V7h2v10zm4 0h-2v-4h2v4z\"/>\n",
              "    </g>\n",
              "</svg>\n",
              "  </button>\n",
              "\n",
              "<style>\n",
              "  .colab-df-quickchart {\n",
              "      --bg-color: #E8F0FE;\n",
              "      --fill-color: #1967D2;\n",
              "      --hover-bg-color: #E2EBFA;\n",
              "      --hover-fill-color: #174EA6;\n",
              "      --disabled-fill-color: #AAA;\n",
              "      --disabled-bg-color: #DDD;\n",
              "  }\n",
              "\n",
              "  [theme=dark] .colab-df-quickchart {\n",
              "      --bg-color: #3B4455;\n",
              "      --fill-color: #D2E3FC;\n",
              "      --hover-bg-color: #434B5C;\n",
              "      --hover-fill-color: #FFFFFF;\n",
              "      --disabled-bg-color: #3B4455;\n",
              "      --disabled-fill-color: #666;\n",
              "  }\n",
              "\n",
              "  .colab-df-quickchart {\n",
              "    background-color: var(--bg-color);\n",
              "    border: none;\n",
              "    border-radius: 50%;\n",
              "    cursor: pointer;\n",
              "    display: none;\n",
              "    fill: var(--fill-color);\n",
              "    height: 32px;\n",
              "    padding: 0;\n",
              "    width: 32px;\n",
              "  }\n",
              "\n",
              "  .colab-df-quickchart:hover {\n",
              "    background-color: var(--hover-bg-color);\n",
              "    box-shadow: 0 1px 2px rgba(60, 64, 67, 0.3), 0 1px 3px 1px rgba(60, 64, 67, 0.15);\n",
              "    fill: var(--button-hover-fill-color);\n",
              "  }\n",
              "\n",
              "  .colab-df-quickchart-complete:disabled,\n",
              "  .colab-df-quickchart-complete:disabled:hover {\n",
              "    background-color: var(--disabled-bg-color);\n",
              "    fill: var(--disabled-fill-color);\n",
              "    box-shadow: none;\n",
              "  }\n",
              "\n",
              "  .colab-df-spinner {\n",
              "    border: 2px solid var(--fill-color);\n",
              "    border-color: transparent;\n",
              "    border-bottom-color: var(--fill-color);\n",
              "    animation:\n",
              "      spin 1s steps(1) infinite;\n",
              "  }\n",
              "\n",
              "  @keyframes spin {\n",
              "    0% {\n",
              "      border-color: transparent;\n",
              "      border-bottom-color: var(--fill-color);\n",
              "      border-left-color: var(--fill-color);\n",
              "    }\n",
              "    20% {\n",
              "      border-color: transparent;\n",
              "      border-left-color: var(--fill-color);\n",
              "      border-top-color: var(--fill-color);\n",
              "    }\n",
              "    30% {\n",
              "      border-color: transparent;\n",
              "      border-left-color: var(--fill-color);\n",
              "      border-top-color: var(--fill-color);\n",
              "      border-right-color: var(--fill-color);\n",
              "    }\n",
              "    40% {\n",
              "      border-color: transparent;\n",
              "      border-right-color: var(--fill-color);\n",
              "      border-top-color: var(--fill-color);\n",
              "    }\n",
              "    60% {\n",
              "      border-color: transparent;\n",
              "      border-right-color: var(--fill-color);\n",
              "    }\n",
              "    80% {\n",
              "      border-color: transparent;\n",
              "      border-right-color: var(--fill-color);\n",
              "      border-bottom-color: var(--fill-color);\n",
              "    }\n",
              "    90% {\n",
              "      border-color: transparent;\n",
              "      border-bottom-color: var(--fill-color);\n",
              "    }\n",
              "  }\n",
              "</style>\n",
              "\n",
              "  <script>\n",
              "    async function quickchart(key) {\n",
              "      const quickchartButtonEl =\n",
              "        document.querySelector('#' + key + ' button');\n",
              "      quickchartButtonEl.disabled = true;  // To prevent multiple clicks.\n",
              "      quickchartButtonEl.classList.add('colab-df-spinner');\n",
              "      try {\n",
              "        const charts = await google.colab.kernel.invokeFunction(\n",
              "            'suggestCharts', [key], {});\n",
              "      } catch (error) {\n",
              "        console.error('Error during call to suggestCharts:', error);\n",
              "      }\n",
              "      quickchartButtonEl.classList.remove('colab-df-spinner');\n",
              "      quickchartButtonEl.classList.add('colab-df-quickchart-complete');\n",
              "    }\n",
              "    (() => {\n",
              "      let quickchartButtonEl =\n",
              "        document.querySelector('#df-6ccfb16f-6f03-4141-a2dd-c6ab2098eddd button');\n",
              "      quickchartButtonEl.style.display =\n",
              "        google.colab.kernel.accessAllowed ? 'block' : 'none';\n",
              "    })();\n",
              "  </script>\n",
              "</div>\n",
              "\n",
              "    </div>\n",
              "  </div>\n"
            ]
          },
          "metadata": {},
          "execution_count": 25
        }
      ]
    },
    {
      "cell_type": "markdown",
      "source": [
        "Por último en nuestra limpieza de datos, verificamos que no haya NANs en nuestro dataset con `isna()` y `sum()` para contabilizarlos:"
      ],
      "metadata": {
        "id": "wZTL4Vlx8fvV"
      }
    },
    {
      "cell_type": "code",
      "source": [
        "#Contabiliza las NANs\n",
        "df.isna().sum(axis=0)"
      ],
      "metadata": {
        "colab": {
          "base_uri": "https://localhost:8080/"
        },
        "id": "Y4LwH4C3q019",
        "outputId": "ade653ad-3a41-40f3-e19e-da421e3a06ac"
      },
      "execution_count": null,
      "outputs": [
        {
          "output_type": "execute_result",
          "data": {
            "text/plain": [
              "pais              0\n",
              "año               0\n",
              "sexo              0\n",
              "edad              0\n",
              "no_suicidios      0\n",
              "pib_per_capita    0\n",
              "generacion        0\n",
              "dtype: int64"
            ]
          },
          "metadata": {},
          "execution_count": 26
        }
      ]
    },
    {
      "cell_type": "markdown",
      "source": [
        "Por lo que notamos que no hay NANs en nuestro dataset en cada una de las columnas, por lo que ya podemos graficar y hacer uso de los datos."
      ],
      "metadata": {
        "id": "NxTADCHd-ITn"
      }
    },
    {
      "cell_type": "code",
      "source": [
        "df.dtypes"
      ],
      "metadata": {
        "colab": {
          "base_uri": "https://localhost:8080/"
        },
        "id": "JZI3Dsd-jFD8",
        "outputId": "da27fde4-3858-4a07-89cb-fd5d861b402b"
      },
      "execution_count": null,
      "outputs": [
        {
          "output_type": "execute_result",
          "data": {
            "text/plain": [
              "pais              object\n",
              "año                int64\n",
              "sexo              object\n",
              "edad              object\n",
              "no_suicidios       int64\n",
              "pib_per_capita     int64\n",
              "generacion        object\n",
              "dtype: object"
            ]
          },
          "metadata": {},
          "execution_count": 27
        }
      ]
    },
    {
      "cell_type": "markdown",
      "source": [
        "Datos numéricos:\n",
        "- año\n",
        "- no_suicidios\n",
        "- población (No es tan relevante)\n",
        "- pib anual\n",
        "- pib_per_capita  (No es tan relevante)"
      ],
      "metadata": {
        "id": "MH1gnuCxwIPq"
      }
    },
    {
      "cell_type": "markdown",
      "source": [
        "# Análisis de datos con Python"
      ],
      "metadata": {
        "id": "4uQ0NkY7Bm7T"
      }
    },
    {
      "cell_type": "markdown",
      "source": [
        "## Estimados de locación y Variabilidad"
      ],
      "metadata": {
        "id": "_G-_Kn_aBzJB"
      }
    },
    {
      "cell_type": "markdown",
      "source": [
        "Para utilizar los estimados de locaclión y variabilidad, lo que hacemos es utilizar `info()` para identificar los datos númericos"
      ],
      "metadata": {
        "id": "oUwKrDEM-0yk"
      }
    },
    {
      "cell_type": "code",
      "source": [
        "df.info()"
      ],
      "metadata": {
        "colab": {
          "base_uri": "https://localhost:8080/"
        },
        "id": "YpGhVgyi_R7T",
        "outputId": "b661a4ca-ce68-4e60-a9e7-255a9db14a65"
      },
      "execution_count": null,
      "outputs": [
        {
          "output_type": "stream",
          "name": "stdout",
          "text": [
            "<class 'pandas.core.frame.DataFrame'>\n",
            "RangeIndex: 27820 entries, 0 to 27819\n",
            "Data columns (total 7 columns):\n",
            " #   Column          Non-Null Count  Dtype \n",
            "---  ------          --------------  ----- \n",
            " 0   pais            27820 non-null  object\n",
            " 1   año             27820 non-null  int64 \n",
            " 2   sexo            27820 non-null  object\n",
            " 3   edad            27820 non-null  object\n",
            " 4   no_suicidios    27820 non-null  int64 \n",
            " 5   pib_per_capita  27820 non-null  int64 \n",
            " 6   generacion      27820 non-null  object\n",
            "dtypes: int64(3), object(4)\n",
            "memory usage: 1.5+ MB\n"
          ]
        }
      ]
    },
    {
      "cell_type": "markdown",
      "source": [
        "Observamos que las columnas que tienen datos númericos son:\n",
        "\n",
        "* año\n",
        "* no_suicidios\n",
        "* pib_per_capita\n",
        "\n",
        "Pero las columnas que nos van ayudar a responder las preguntas van hacer:\n",
        "* año\n",
        "* no_suicidios\n",
        "* pib_per_capita\n",
        "\n",
        "Por lo que vamos a obtener los siguientes estimados de tus columnas numéricas:\n",
        "* Promedio\n",
        "* Mediana\n",
        "* Media Truncada\n",
        "* Desviación estándar\n",
        "* Rango\n",
        "* Percentiles 25 y 75 (por lo menos)\n",
        "* Rango intercuartil"
      ],
      "metadata": {
        "id": "6MKr48MT_XsU"
      }
    },
    {
      "cell_type": "code",
      "source": [],
      "metadata": {
        "id": "xfCqHqbg4sMF"
      },
      "execution_count": null,
      "outputs": []
    },
    {
      "cell_type": "markdown",
      "source": [
        "## Año (Lesly)"
      ],
      "metadata": {
        "id": "UvZEiB-xz2nH"
      }
    },
    {
      "cell_type": "markdown",
      "source": [
        "Promedio"
      ],
      "metadata": {
        "id": "mfp74TnlXrEA"
      }
    },
    {
      "cell_type": "code",
      "source": [
        "#para imprimir el promedio con formato:\n",
        "formatted_año = \"{:.0f}\".format(df['año'].mean())\n",
        "print(formatted_año)"
      ],
      "metadata": {
        "id": "aEuw7crRBICh",
        "outputId": "1c1d351f-3d35-4431-c1f3-a87002383963",
        "colab": {
          "base_uri": "https://localhost:8080/"
        }
      },
      "execution_count": null,
      "outputs": [
        {
          "output_type": "stream",
          "name": "stdout",
          "text": [
            "2001\n"
          ]
        }
      ]
    },
    {
      "cell_type": "markdown",
      "source": [
        "Media"
      ],
      "metadata": {
        "id": "fv1AVoEmXu2-"
      }
    },
    {
      "cell_type": "code",
      "source": [
        "formatted_año = \"{:.0f}\".format(df['año'].median())\n",
        "print(formatted_año)"
      ],
      "metadata": {
        "id": "RYmfXyx2Xxk1",
        "colab": {
          "base_uri": "https://localhost:8080/"
        },
        "outputId": "7d0aaff0-0ae1-4d60-8c6a-01d937859ed5"
      },
      "execution_count": null,
      "outputs": [
        {
          "output_type": "stream",
          "name": "stdout",
          "text": [
            "2002\n"
          ]
        }
      ]
    },
    {
      "cell_type": "markdown",
      "source": [
        "Media Truncada"
      ],
      "metadata": {
        "id": "1yHpsXWXXyPY"
      }
    },
    {
      "cell_type": "code",
      "source": [
        "from scipy import stats #funcionalidad de estadisticas"
      ],
      "metadata": {
        "id": "DmN3Q59c-0dE"
      },
      "execution_count": null,
      "outputs": []
    },
    {
      "cell_type": "code",
      "source": [
        "#truncar el valor promedio de la columna de año  con el porcentaje, 5% a la izquierda y 5% a la dereha, es decir el 10% en total\n",
        "media_truncada = stats.trim_mean(df['año'], 0.1)\n",
        "print(f'Media Recortada: {media_truncada:.0f}')"
      ],
      "metadata": {
        "id": "vyUKChNez3qs",
        "colab": {
          "base_uri": "https://localhost:8080/"
        },
        "outputId": "4ad08ad2-5bce-4d88-e62c-752b531564f2"
      },
      "execution_count": null,
      "outputs": [
        {
          "output_type": "stream",
          "name": "stdout",
          "text": [
            "Media Recortada: 2001\n"
          ]
        }
      ]
    },
    {
      "cell_type": "code",
      "source": [
        "correct_año_mean = df['año'].mean() #Promedio\n",
        "correct_año_median = df['año'].median() #Mediana\n",
        "correct_año_mode = df['año'].mode()[0] #Moda\n",
        "\n",
        "print(\"Media: {:.0f}, \\nMediana: {:.0f}, \\nModa: {:.0f}\".format(correct_año_mean, correct_año_median, correct_año_mode))"
      ],
      "metadata": {
        "id": "T_c9jrnwBSnT",
        "colab": {
          "base_uri": "https://localhost:8080/"
        },
        "outputId": "d6e4579e-60b1-441e-8e9f-d74b30dec93b"
      },
      "execution_count": null,
      "outputs": [
        {
          "output_type": "stream",
          "name": "stdout",
          "text": [
            "Media: 2001, \n",
            "Mediana: 2002, \n",
            "Moda: 2009\n"
          ]
        }
      ]
    },
    {
      "cell_type": "code",
      "source": [
        "import matplotlib.pyplot as plt\n",
        "import seaborn as sns\n",
        "\n",
        "# Set the style of seaborn plot\n",
        "sns.set(style=\"whitegrid\")\n",
        "\n",
        "# Plotting the distribution of the 'año' column\n",
        "plt.figure(figsize=(8, 6))\n",
        "sns.histplot(df['año'], kde=True, bins=25, color='orange')\n",
        "\n",
        "# Plotting the mean, median, and mode\n",
        "plt.axvline(correct_año_mean, color='red', linestyle='--', label=f'Mean: {correct_año_mean:.0f}')\n",
        "plt.axvline(correct_año_median, color='green', linestyle='-', label=f'Median: {correct_año_median:.0f}')\n",
        "plt.axvline(correct_año_mode, color='pink', linestyle='-.', label=f'Mode: {correct_año_mode:.0f}')\n",
        "\n",
        "# Adding title and labels\n",
        "plt.title('Años que se registraron los datos sobre suicidios')\n",
        "plt.xlabel('Años registrados')\n",
        "plt.ylabel('Frecuencia')\n",
        "plt.legend()\n",
        "\n",
        "# Show the plot\n",
        "plt.show()"
      ],
      "metadata": {
        "id": "U_8aIoNrBboo",
        "outputId": "faf2eb60-c9a8-42a5-e6d3-c3c5d08f653f",
        "colab": {
          "base_uri": "https://localhost:8080/",
          "height": 573
        }
      },
      "execution_count": null,
      "outputs": [
        {
          "output_type": "display_data",
          "data": {
            "text/plain": [
              "<Figure size 800x600 with 1 Axes>"
            ],
            "image/png": "[encoded data removed]"
          },
          "metadata": {}
        }
      ]
    },
    {
      "cell_type": "markdown",
      "source": [
        "# Desviación estandar"
      ],
      "metadata": {
        "id": "bFCHyFLn4CGd"
      }
    },
    {
      "cell_type": "code",
      "source": [
        "standar_deviation=df['año'].std()"
      ],
      "metadata": {
        "id": "6JIV7yFZ4BBT"
      },
      "execution_count": null,
      "outputs": []
    },
    {
      "cell_type": "code",
      "source": [
        "print(\"Media: {:.0f}, \\nMediana: {:.0f}, \\nModa: {:.0f}\".format(correct_año_mean, correct_año_median, correct_año_mode))\n",
        "print(\"Des Est: {:,.0f}\".format(standar_deviation))"
      ],
      "metadata": {
        "id": "ayadkqtT4QtI"
      },
      "execution_count": null,
      "outputs": []
    },
    {
      "cell_type": "markdown",
      "source": [
        "# Rango"
      ],
      "metadata": {
        "id": "_WCwLr6L4_dF"
      }
    },
    {
      "cell_type": "code",
      "source": [
        "año_range = df['año'].max() - df['año'].min()\n",
        "formatted_año_range = f'{año_range:,.0f}'\n",
        "print(formatted_año_range)"
      ],
      "metadata": {
        "id": "ownTcG5z5EqJ"
      },
      "execution_count": null,
      "outputs": []
    },
    {
      "cell_type": "markdown",
      "source": [
        "Percentiles 25 y 75"
      ],
      "metadata": {
        "id": "5WK_s11L5vB4"
      }
    },
    {
      "cell_type": "markdown",
      "source": [
        "## no_suicidios (Miriam)"
      ],
      "metadata": {
        "id": "ct04VOjnz5Ns"
      }
    },
    {
      "cell_type": "code",
      "source": [
        "# Eliminar filas donde 'no_suicidios' es igual a 0\n",
        "df = df.loc[df['no_suicidios'] != 0]"
      ],
      "metadata": {
        "id": "ZGIPaa84SdU-"
      },
      "execution_count": null,
      "outputs": []
    },
    {
      "cell_type": "markdown",
      "source": [
        "#### Promedio:"
      ],
      "metadata": {
        "id": "xiPxLs5r7Fxn"
      }
    },
    {
      "cell_type": "code",
      "source": [
        "no_suicidios = \"{:,.0f}\".format(df['no_suicidios'].mean())\n",
        "print(no_suicidios)"
      ],
      "metadata": {
        "id": "82HkXym8z8oP",
        "outputId": "bb890b74-9224-4049-ba45-6afdf15b71aa",
        "colab": {
          "base_uri": "https://localhost:8080/"
        }
      },
      "execution_count": null,
      "outputs": [
        {
          "output_type": "stream",
          "name": "stdout",
          "text": [
            "287\n"
          ]
        }
      ]
    },
    {
      "cell_type": "markdown",
      "source": [
        "#### Mediana"
      ],
      "metadata": {
        "id": "8wyGgViB_uHs"
      }
    },
    {
      "cell_type": "code",
      "source": [
        "no_suicidios = \"{:,.0f}\".format(df['no_suicidios'].median())\n",
        "print(no_suicidios)"
      ],
      "metadata": {
        "id": "q1yOvQyK_yk1",
        "colab": {
          "base_uri": "https://localhost:8080/"
        },
        "outputId": "b5d36146-b84f-4fbe-dfcf-7efcd0986eb9"
      },
      "execution_count": null,
      "outputs": [
        {
          "output_type": "stream",
          "name": "stdout",
          "text": [
            "42\n"
          ]
        }
      ]
    },
    {
      "cell_type": "markdown",
      "source": [
        "#### Media Truncada"
      ],
      "metadata": {
        "id": "c6QsyKfMEiBW"
      }
    },
    {
      "cell_type": "code",
      "source": [
        "from scipy import stats #funcionalidad de estadisticas"
      ],
      "metadata": {
        "id": "5rZK8lk_EnaH"
      },
      "execution_count": null,
      "outputs": []
    },
    {
      "cell_type": "code",
      "source": [
        "#truncar el valor promedio de la columna no_suicidios con el porcentaje, 5% a la izquierda y 5% a la dereha, es decir el 10% en total\n",
        "media_truncada = stats.trim_mean(df['no_suicidios'], 0.1)\n",
        "print(f'Media Truncada: {media_truncada:,.0f}')"
      ],
      "metadata": {
        "id": "aEtkMvdWEsYn",
        "outputId": "6bb1933e-2092-4467-c5e9-b60c5fb10725",
        "colab": {
          "base_uri": "https://localhost:8080/"
        }
      },
      "execution_count": null,
      "outputs": [
        {
          "output_type": "stream",
          "name": "stdout",
          "text": [
            "Media Truncada: 98\n"
          ]
        }
      ]
    },
    {
      "cell_type": "code",
      "source": [
        "correct_no_suicidios_mean = df['no_suicidios'].mean() #Promedio\n",
        "correct_no_suicidios_median = df['no_suicidios'].median() #Mediana\n",
        "correct_no_suicidios_mode = df['no_suicidios'].mode()[0] #Moda\n",
        "\n",
        "print(\"Media: {:,.0f}, \\nMediana: {:,.0f}, \\nModa: {:,.0f}\".format(correct_no_suicidios_mean, correct_no_suicidios_median, correct_no_suicidios_mode))"
      ],
      "metadata": {
        "id": "v7aQBEoqGlZd",
        "colab": {
          "base_uri": "https://localhost:8080/"
        },
        "outputId": "28ac6abe-d3c8-4d38-fbc4-bfb734274266"
      },
      "execution_count": null,
      "outputs": [
        {
          "output_type": "stream",
          "name": "stdout",
          "text": [
            "Media: 287, \n",
            "Mediana: 42, \n",
            "Moda: 1\n"
          ]
        }
      ]
    },
    {
      "cell_type": "code",
      "source": [
        "import matplotlib.pyplot as plt\n",
        "import seaborn as sns\n",
        "\n",
        "# Set the style of seaborn plot\n",
        "sns.set(style=\"whitegrid\")\n",
        "\n",
        "# Plotting the distribution of the 'price' column\n",
        "plt.figure(figsize=(6, 6))\n",
        "sns.histplot(df['no_suicidios'], kde=True, bins=50, color='blue')\n",
        "\n",
        "# Plotting the mean, median, and mode\n",
        "plt.axvline(correct_no_suicidios_mean, color='red', linestyle='--', label=f'Mean: {correct_no_suicidios_mean:,.0f}')\n",
        "plt.axvline(correct_no_suicidios_median, color='green', linestyle='-', label=f'Median: {correct_no_suicidios_median:,.0f}')\n",
        "plt.axvline(correct_no_suicidios_mode, color='purple', linestyle='-.', label=f'Mode: {correct_no_suicidios_mode:,.0f}')\n",
        "\n",
        "# Adding title and labels\n",
        "plt.title('No DE SUICIDIOS')\n",
        "plt.xlabel('')\n",
        "plt.ylabel('Frecuencia')\n",
        "plt.legend()\n",
        "\n",
        "# Show the plot\n",
        "plt.show()"
      ],
      "metadata": {
        "id": "vKwGLlgFHTNS",
        "colab": {
          "base_uri": "https://localhost:8080/",
          "height": 549
        },
        "outputId": "40c6ff53-fd51-41f6-dbea-a5589d9396fe"
      },
      "execution_count": null,
      "outputs": [
        {
          "output_type": "display_data",
          "data": {
            "text/plain": [
              "<Figure size 600x600 with 1 Axes>"
            ],
            "image/png": "[encoded data removed]"
          },
          "metadata": {}
        }
      ]
    },
    {
      "cell_type": "markdown",
      "source": [
        "#### Desviación estándar"
      ],
      "metadata": {
        "id": "N2gqmCQ2M2_Q"
      }
    },
    {
      "cell_type": "code",
      "source": [
        "standar_deviation=df['no_suicidios'].std()"
      ],
      "metadata": {
        "id": "PiVh9vtKM9Ku"
      },
      "execution_count": null,
      "outputs": []
    },
    {
      "cell_type": "code",
      "source": [
        "print(\"Media: {:,.0f}, \\nMediana: {:,.0f}, \\nModa: {:,.0f}\".format(correct_no_suicidios_mean, correct_no_suicidios_median, correct_no_suicidios_mode))\n",
        "print(\"Des Est: {:,.0f}\".format(standar_deviation))"
      ],
      "metadata": {
        "id": "P7TcFxbZNFNT",
        "colab": {
          "base_uri": "https://localhost:8080/"
        },
        "outputId": "449cb579-d643-4c8b-cada-e1938296c073"
      },
      "execution_count": null,
      "outputs": [
        {
          "output_type": "stream",
          "name": "stdout",
          "text": [
            "Media: 287, \n",
            "Mediana: 42, \n",
            "Moda: 1\n",
            "Des Est: 974\n"
          ]
        }
      ]
    },
    {
      "cell_type": "markdown",
      "source": [
        "#### Rango"
      ],
      "metadata": {
        "id": "JXlBy-jONRXa"
      }
    },
    {
      "cell_type": "code",
      "source": [
        "no_suicidios_range = df['no_suicidios'].max() - df['no_suicidios'].min()\n",
        "formatted_no_suicidios_range = f'{no_suicidios_range:,.0f}'\n",
        "print(formatted_no_suicidios_range)"
      ],
      "metadata": {
        "id": "FGRK77glNSos",
        "colab": {
          "base_uri": "https://localhost:8080/"
        },
        "outputId": "c6190733-b7ba-43e2-ad02-0fd385c0c98e"
      },
      "execution_count": null,
      "outputs": [
        {
          "output_type": "stream",
          "name": "stdout",
          "text": [
            "22,337\n"
          ]
        }
      ]
    },
    {
      "cell_type": "markdown",
      "source": [
        "#### Percentiles 25 y 75"
      ],
      "metadata": {
        "id": "QXraPZ51Nv0c"
      }
    },
    {
      "cell_type": "code",
      "source": [
        "print(f'Valor mínimo: {df[\"no_suicidios\"].min():,.0f}')\n",
        "print(f'Percentil 10: {df[\"no_suicidios\"].quantile(0.1):,.0f}')\n",
        "print(f'Percentil 25: {df[\"no_suicidios\"].quantile(0.25):,.0f}')\n",
        "print(f'Percentil 50: {df[\"no_suicidios\"].median():,.0f}')\n",
        "print(f'Percentil 75: {df[\"no_suicidios\"].quantile(0.75):,.0f}')\n",
        "print(f'Percentil 90: {df[\"no_suicidios\"].quantile(0.9):,.0f}')\n",
        "print(f'Valor máximo: {df[\"no_suicidios\"].max():,.0f}')"
      ],
      "metadata": {
        "id": "VdyaJk_pN1vU",
        "colab": {
          "base_uri": "https://localhost:8080/"
        },
        "outputId": "411b25e1-7379-4d12-8a01-0d6387784d02"
      },
      "execution_count": null,
      "outputs": [
        {
          "output_type": "stream",
          "name": "stdout",
          "text": [
            "Valor mínimo: 1\n",
            "Percentil 10: 2\n",
            "Percentil 25: 8\n",
            "Percentil 50: 42\n",
            "Percentil 75: 175\n",
            "Percentil 90: 607\n",
            "Valor máximo: 22,338\n"
          ]
        }
      ]
    },
    {
      "cell_type": "markdown",
      "source": [
        "#### Rango intercuartil"
      ],
      "metadata": {
        "id": "PqpYqWD3ODah"
      }
    },
    {
      "cell_type": "code",
      "source": [
        "interquartile_range = df[\"no_suicidios\"].quantile(0.75) - df[\"no_suicidios\"].quantile(0.25)\n",
        "formatted_interquartile_range = f'{interquartile_range:,.0f}'\n",
        "print(formatted_interquartile_range)"
      ],
      "metadata": {
        "id": "mVmA8PN1OKIw",
        "colab": {
          "base_uri": "https://localhost:8080/"
        },
        "outputId": "ccfe6758-56bd-4c48-d07d-8f4eab806766"
      },
      "execution_count": null,
      "outputs": [
        {
          "output_type": "stream",
          "name": "stdout",
          "text": [
            "167\n"
          ]
        }
      ]
    },
    {
      "cell_type": "markdown",
      "source": [
        "## pib anual (Gisell)"
      ],
      "metadata": {
        "id": "am0csTMIz91M"
      }
    },
    {
      "cell_type": "markdown",
      "source": [
        "#### Promedio:"
      ],
      "metadata": {
        "id": "YIMDlmLqBG2Y"
      }
    },
    {
      "cell_type": "code",
      "source": [
        "#Para imprimir el promedio con formato:\n",
        "formatted_pib_per_capita = \"$ {:,.3f}\".format(df['pib_per_capita'].mean())\n",
        "print(formatted_pib_per_capita)"
      ],
      "metadata": {
        "colab": {
          "base_uri": "https://localhost:8080/"
        },
        "id": "kX8_t9rCBRyo",
        "outputId": "3e098baa-dda8-44c0-80ca-2e953a66b7ea"
      },
      "execution_count": null,
      "outputs": [
        {
          "output_type": "stream",
          "name": "stdout",
          "text": [
            "$ 17,229.712\n"
          ]
        }
      ]
    },
    {
      "cell_type": "markdown",
      "source": [
        "#### Mediana"
      ],
      "metadata": {
        "id": "nwgfne89BkqW"
      }
    },
    {
      "cell_type": "code",
      "source": [
        "formatted_pib_per_capita = \"$ {:,.3f}\".format(df['pib_per_capita'].median())\n",
        "print(formatted_pib_per_capita)"
      ],
      "metadata": {
        "colab": {
          "base_uri": "https://localhost:8080/"
        },
        "id": "5Uxc-PkaBmSP",
        "outputId": "6e321661-6558-49e0-8829-53b869c5f792"
      },
      "execution_count": null,
      "outputs": [
        {
          "output_type": "stream",
          "name": "stdout",
          "text": [
            "$ 9,667.000\n"
          ]
        }
      ]
    },
    {
      "cell_type": "markdown",
      "source": [
        "#### Mediana truncada"
      ],
      "metadata": {
        "id": "dyRp0yC8B3pt"
      }
    },
    {
      "cell_type": "code",
      "source": [
        "from scipy import stats #funcionalidad de estadisticas"
      ],
      "metadata": {
        "id": "_K-XshdiCgvr"
      },
      "execution_count": null,
      "outputs": []
    },
    {
      "cell_type": "code",
      "source": [
        "#truncar el valor promedio de la columna de price con el porcentaje, 5% a la izquierda y 5% a la dereha, es decir el 10% en total\n",
        "media_truncada = stats.trim_mean(df['pib_per_capita'], 0.1)\n",
        "print(f'Media Recortada: ${media_truncada:,.3f}')"
      ],
      "metadata": {
        "colab": {
          "base_uri": "https://localhost:8080/"
        },
        "id": "WzqHW2wCB5sf",
        "outputId": "0c7bd0ea-65f2-4e72-9b87-1790739a0815"
      },
      "execution_count": null,
      "outputs": [
        {
          "output_type": "stream",
          "name": "stdout",
          "text": [
            "Media Recortada: $13,813.279\n"
          ]
        }
      ]
    },
    {
      "cell_type": "code",
      "source": [
        "correct_pib_per_capita_mean = df['pib_per_capita'].mean() #Promedio\n",
        "correct_pib_per_capita_median = df['pib_per_capita'].median() #Mediana\n",
        "correct_pib_per_capita_mode = df['pib_per_capita'].mode()[0] #Moda\n",
        "\n",
        "print(\"Media: ${:,.3f}, \\nMediana: ${:,.3f}, \\nModa: ${:,.3f}\".format(correct_pib_per_capita_mean, correct_pib_per_capita_median, correct_pib_per_capita_mode))"
      ],
      "metadata": {
        "colab": {
          "base_uri": "https://localhost:8080/"
        },
        "id": "WF7_W3GND67U",
        "outputId": "c6deb7e2-f990-4e1e-b2eb-b835bcca3c04"
      },
      "execution_count": null,
      "outputs": [
        {
          "output_type": "stream",
          "name": "stdout",
          "text": [
            "Media: $17,229.712, \n",
            "Mediana: $9,667.000, \n",
            "Moda: $2,303.000\n"
          ]
        }
      ]
    },
    {
      "cell_type": "code",
      "source": [
        "import matplotlib.pyplot as plt\n",
        "import seaborn as sns\n",
        "\n",
        "# Set the style of seaborn plot\n",
        "sns.set(style=\"whitegrid\")\n",
        "\n",
        "# Plotting the distribution of the 'price' column\n",
        "plt.figure(figsize=(6, 6))\n",
        "sns.histplot(df['pib_per_capita'], kde=True, bins=25, color='blue')\n",
        "\n",
        "# Plotting the mean, median, and mode\n",
        "plt.axvline(correct_pib_per_capita_mean, color='red', linestyle='--', label=f'Mean: ${correct_pib_per_capita_mean:,.2f}')\n",
        "plt.axvline(correct_pib_per_capita_median, color='green', linestyle='-', label=f'Median: ${correct_pib_per_capita_median:,.2f}')\n",
        "plt.axvline(correct_pib_per_capita_mode, color='purple', linestyle='-.', label=f'Mode: ${correct_pib_per_capita_mode:,.2f}')\n",
        "\n",
        "# Adding title and labels\n",
        "plt.title('PIB PER CAPITA')\n",
        "plt.xlabel('')\n",
        "plt.ylabel('Frecuencia')\n",
        "plt.legend()\n",
        "\n",
        "# Show the plot\n",
        "plt.show()"
      ],
      "metadata": {
        "colab": {
          "base_uri": "https://localhost:8080/",
          "height": 549
        },
        "id": "KQvtiwyUDEgv",
        "outputId": "6b34f7a2-8b3b-4a21-edeb-d6679984ac40"
      },
      "execution_count": null,
      "outputs": [
        {
          "output_type": "display_data",
          "data": {
            "text/plain": [
              "<Figure size 600x600 with 1 Axes>"
            ],
            "image/png": "[encoded data removed]"
          },
          "metadata": {}
        }
      ]
    },
    {
      "cell_type": "markdown",
      "source": [
        "#### Desviación estandar"
      ],
      "metadata": {
        "id": "PEzkUKnSB6Y8"
      }
    },
    {
      "cell_type": "code",
      "source": [
        "standar_deviation=df['pib_per_capita'].std()"
      ],
      "metadata": {
        "id": "iPhYG1GNFtek"
      },
      "execution_count": null,
      "outputs": []
    },
    {
      "cell_type": "code",
      "source": [
        "print(\"Media: ${:,.3f}, \\nMediana: ${:,.3f}, \\nModa: ${:,.3f}\".format(correct_pib_per_capita_mean, correct_pib_per_capita_median, correct_pib_per_capita_mode))\n",
        "print(\"Des Est: ${:,.3f}\".format(standar_deviation))"
      ],
      "metadata": {
        "colab": {
          "base_uri": "https://localhost:8080/"
        },
        "id": "kBonqJjhB-gu",
        "outputId": "a5227b18-7021-4bc5-a8a4-c81b1d385c36"
      },
      "execution_count": null,
      "outputs": [
        {
          "output_type": "stream",
          "name": "stdout",
          "text": [
            "Media: $17,229.712, \n",
            "Mediana: $9,667.000, \n",
            "Moda: $2,303.000\n",
            "Des Est: $19,107.378\n"
          ]
        }
      ]
    },
    {
      "cell_type": "markdown",
      "source": [
        "#### Rango"
      ],
      "metadata": {
        "id": "DgMXBVWWCBrk"
      }
    },
    {
      "cell_type": "code",
      "source": [
        "pib_per_capita_range = df['pib_per_capita'].max() - df['pib_per_capita'].min()\n",
        "formatted_pib_per_capita_range = f'${pib_per_capita_range:,.2f}'\n",
        "print(formatted_pib_per_capita_range)"
      ],
      "metadata": {
        "colab": {
          "base_uri": "https://localhost:8080/"
        },
        "id": "cDYYJcOgCCzF",
        "outputId": "9cc99530-f409-4295-c51c-76a383bc3d61"
      },
      "execution_count": null,
      "outputs": [
        {
          "output_type": "stream",
          "name": "stdout",
          "text": [
            "$126,101.00\n"
          ]
        }
      ]
    },
    {
      "cell_type": "markdown",
      "source": [
        "#### Percentiles 25 y 75"
      ],
      "metadata": {
        "id": "Gk0nnu0LCDWw"
      }
    },
    {
      "cell_type": "code",
      "source": [
        "print(f'Valor mínimo: ${df[\"pib_per_capita\"].min():,.2f}')\n",
        "print(f'Percentil 10: ${df[\"pib_per_capita\"].quantile(0.1):,.2f}')\n",
        "print(f'Percentil 25: ${df[\"pib_per_capita\"].quantile(0.25):,.2f}')\n",
        "print(f'Percentil 50: ${df[\"pib_per_capita\"].median():,.2f}')\n",
        "print(f'Percentil 75: ${df[\"pib_per_capita\"].quantile(0.75):,.2f}')\n",
        "print(f'Percentil 90: ${df[\"pib_per_capita\"].quantile(0.9):,.2f}')\n",
        "print(f'Valor máximo: ${df[\"pib_per_capita\"].max():,.2f}')"
      ],
      "metadata": {
        "colab": {
          "base_uri": "https://localhost:8080/"
        },
        "id": "0LbMW3m8CFt2",
        "outputId": "7e849839-2d3d-4b2c-8a70-cf2fb053bf02"
      },
      "execution_count": null,
      "outputs": [
        {
          "output_type": "stream",
          "name": "stdout",
          "text": [
            "Valor mínimo: $251.00\n",
            "Percentil 10: $1,423.00\n",
            "Percentil 25: $3,293.00\n",
            "Percentil 50: $9,667.00\n",
            "Percentil 75: $25,735.00\n",
            "Percentil 90: $44,491.00\n",
            "Valor máximo: $126,352.00\n"
          ]
        }
      ]
    },
    {
      "cell_type": "markdown",
      "source": [
        "#### Rango intercuartil"
      ],
      "metadata": {
        "id": "2TJ6WWWCCITc"
      }
    },
    {
      "cell_type": "code",
      "source": [
        "interquartile_range = df[\"pib_per_capita\"].quantile(0.75) - df[\"pib_per_capita\"].quantile(0.25)\n",
        "formatted_interquartile_range = f'${interquartile_range:,.2f}'\n",
        "print(formatted_interquartile_range)"
      ],
      "metadata": {
        "colab": {
          "base_uri": "https://localhost:8080/"
        },
        "id": "mk13eaygCK7m",
        "outputId": "438cb481-93ee-49d8-f75f-524193f8a3b5"
      },
      "execution_count": null,
      "outputs": [
        {
          "output_type": "stream",
          "name": "stdout",
          "text": [
            "$22,442.00\n"
          ]
        }
      ]
    },
    {
      "cell_type": "markdown",
      "source": [
        "## Introducción a la visualización de datos: Distribuciones"
      ],
      "metadata": {
        "id": "PchUdLoECPXR"
      }
    },
    {
      "cell_type": "markdown",
      "source": [
        "* Utiliza boxplots para analizar la distribución de tus variables numéricas. Piensa acerca de cuáles son los valores típicos y atípicos y dónde están concentrados el grueso de tus datos.\n",
        "* Utiliza el Score de Rango Intercuartílico para filtrar tus valores atípicos. Compara tus medianas, medias y desviaciones estándares antes y después de realizar la filtración y ve cuánto cambiaron.\n",
        "* Utiliza tablas de frecuencia e histogramas para observar la distribución de tus variables. Caracteriza cada una de las distribuciones usando los términos que aprendiste durante la sesión. Obtén medidas de asimetría y curtosis para ver qué tan alejadas de la distribución normal están tus variables.\n",
        "* Utiliza gráficas de densidad para comparar una variable numérica que pueda ser segmentada en dos o más categorías. Usa esta técnica para entender mejor cómo están distribuidos tus datos en cada uno de los grupos presentes."
      ],
      "metadata": {
        "id": "J06b3u-LCY2z"
      }
    },
    {
      "cell_type": "markdown",
      "source": [
        "## Año (Lesly)"
      ],
      "metadata": {
        "id": "J_OZokny0Qr4"
      }
    },
    {
      "cell_type": "code",
      "source": [
        "sns.set(style=\"whitegrid\") #estilo de la grafica\n",
        "sns.boxplot(x=df['año']) #Ponemos la grafica y escogemos la columna año\n",
        "plt.title(\"años\") #Agregamos un titulo"
      ],
      "metadata": {
        "id": "QenjCioO0T-2",
        "colab": {
          "base_uri": "https://localhost:8080/",
          "height": 497
        },
        "outputId": "9929c2de-c0f1-465b-a7be-93f91ff7ff1f"
      },
      "execution_count": null,
      "outputs": [
        {
          "output_type": "execute_result",
          "data": {
            "text/plain": [
              "Text(0.5, 1.0, 'años')"
            ]
          },
          "metadata": {},
          "execution_count": 65
        },
        {
          "output_type": "display_data",
          "data": {
            "text/plain": [
              "<Figure size 640x480 with 1 Axes>"
            ],
            "image/png": "[encoded data removed]"
          },
          "metadata": {}
        }
      ]
    },
    {
      "cell_type": "markdown",
      "source": [
        "#no_suicidios (Miriam)"
      ],
      "metadata": {
        "id": "H5cj4gZ30Ugo"
      }
    },
    {
      "cell_type": "markdown",
      "source": [
        "#### Boxplots"
      ],
      "metadata": {
        "id": "H4185Mx8O5My"
      }
    },
    {
      "cell_type": "code",
      "source": [
        "sns.set(style=\"whitegrid\") #estilo de la grafica\n",
        "sns.boxplot(x=df['no_suicidios']) #Ponemos la grafica y escogemos la columna no_suicidios\n",
        "plt.title(\"No DE SUICIDIOS\") #Agregamos un titulo"
      ],
      "metadata": {
        "id": "kbo0wWUB0XK_",
        "colab": {
          "base_uri": "https://localhost:8080/",
          "height": 497
        },
        "outputId": "8802e8d4-ee37-4a8e-eed7-022c966d3f18"
      },
      "execution_count": null,
      "outputs": [
        {
          "output_type": "execute_result",
          "data": {
            "text/plain": [
              "Text(0.5, 1.0, 'No DE SUICIDIOS')"
            ]
          },
          "metadata": {},
          "execution_count": 66
        },
        {
          "output_type": "display_data",
          "data": {
            "text/plain": [
              "<Figure size 640x480 with 1 Axes>"
            ],
            "image/png": "[encoded data removed]"
          },
          "metadata": {}
        }
      ]
    },
    {
      "cell_type": "code",
      "source": [
        "#Se calcula el rango intercuartílico:\n",
        "# que es la diferencia del percentil 75 y percentil 25\n",
        "iqr = df['no_suicidios'].quantile(0.75) - df['no_suicidios'].quantile(0.25)\n",
        "\n",
        "#se hace un filtrado de los datos para eliminar los valores atipicos considerando los limites inferiores y superiores\n",
        "filtro_inferior = df['no_suicidios'] > df['no_suicidios'].quantile(0.25) - (iqr * 1.5)\n",
        "filtro_superior = df['no_suicidios'] < df['no_suicidios'].quantile(0.75) + (iqr * 1.5)\n",
        "\n",
        "df2_filtrado = df[filtro_inferior & filtro_superior]"
      ],
      "metadata": {
        "id": "D_PeNjIWSP6g"
      },
      "execution_count": null,
      "outputs": []
    },
    {
      "cell_type": "code",
      "source": [
        "sns.set(style=\"whitegrid\") #estilo de la grafica\n",
        "sns.boxplot(x=df2_filtrado['no_suicidios']) #Ponemos la grafica y escogemos la columna no_suicidios\n",
        "plt.title(\"No DE SUICIDIOS\") #Agregamos un titulo"
      ],
      "metadata": {
        "colab": {
          "base_uri": "https://localhost:8080/",
          "height": 497
        },
        "id": "m4Z53fLLh9de",
        "outputId": "eb1d158f-1c00-43eb-a406-8ef909b6e971"
      },
      "execution_count": null,
      "outputs": [
        {
          "output_type": "execute_result",
          "data": {
            "text/plain": [
              "Text(0.5, 1.0, 'No DE SUICIDIOS')"
            ]
          },
          "metadata": {},
          "execution_count": 73
        },
        {
          "output_type": "display_data",
          "data": {
            "text/plain": [
              "<Figure size 640x480 with 1 Axes>"
            ],
            "image/png": "[encoded data removed]"
          },
          "metadata": {}
        }
      ]
    },
    {
      "cell_type": "markdown",
      "source": [
        "## pib anual (Gisell)"
      ],
      "metadata": {
        "id": "b7E3crzZ0Xu8"
      }
    },
    {
      "cell_type": "markdown",
      "source": [
        "#### Boxplots"
      ],
      "metadata": {
        "id": "oVkmKyYGHW1-"
      }
    },
    {
      "cell_type": "code",
      "source": [
        "sns.set(style=\"whitegrid\") #estilo de la grafica\n",
        "sns.boxplot(x=df['pib_per_capita']) #Ponemos la grafica y escogemos la columna price\n",
        "plt.title(\"PIB PER CAPITA\") #Agregamos un titulo"
      ],
      "metadata": {
        "id": "apMIK7VOHYU9",
        "colab": {
          "base_uri": "https://localhost:8080/",
          "height": 497
        },
        "outputId": "f1dcb027-17fd-407e-b2db-d9343f4c7e99"
      },
      "execution_count": null,
      "outputs": [
        {
          "output_type": "execute_result",
          "data": {
            "text/plain": [
              "Text(0.5, 1.0, 'PIB PER CAPITA')"
            ]
          },
          "metadata": {},
          "execution_count": 67
        },
        {
          "output_type": "display_data",
          "data": {
            "text/plain": [
              "<Figure size 640x480 with 1 Axes>"
            ],
            "image/png": "[encoded data removed]"
          },
          "metadata": {}
        }
      ]
    },
    {
      "cell_type": "markdown",
      "source": [
        "Observamos que tenemos valores atípicos, los cuales nos están estorbando en nuestro análisis. Por lo que proceedemos a eliminarlos usando el Score de Rango Intercuartílico."
      ],
      "metadata": {
        "id": "JvtIABxFeyYY"
      }
    },
    {
      "cell_type": "code",
      "source": [
        "#Se calcula el rango intercuartílico:\n",
        "# que es la diferencia del percentil 75 y percentil 25\n",
        "iqr = df['pib_per_capita'].quantile(0.75) - df['pib_per_capita'].quantile(0.25)\n",
        "\n",
        "#se hace un filtrado de los datos para eliminar los valores atipicos considerando los limites inferiores y superiores\n",
        "filtro_inferior = df['pib_per_capita'] > df['pib_per_capita'].quantile(0.25) - (iqr * 1.5)\n",
        "filtro_superior = df['pib_per_capita'] < df['pib_per_capita'].quantile(0.75) + (iqr * 1.5)\n",
        "\n",
        "df3_filtrado = df[filtro_inferior & filtro_superior]"
      ],
      "metadata": {
        "id": "b1EPl3PCfNym"
      },
      "execution_count": null,
      "outputs": []
    },
    {
      "cell_type": "code",
      "source": [
        "sns.set(style=\"whitegrid\") #estilo de la grafica\n",
        "sns.boxplot(x=df3_filtrado['pib_per_capita']) #Ponemos la grafica y escogemos la columna price\n",
        "plt.title(\"PIB PER CAPITA\") #Agregamos un titulo"
      ],
      "metadata": {
        "id": "iHf_yqfuHc_9",
        "colab": {
          "base_uri": "https://localhost:8080/",
          "height": 497
        },
        "outputId": "d232b07b-726c-4adf-de90-a73545520a51"
      },
      "execution_count": null,
      "outputs": [
        {
          "output_type": "execute_result",
          "data": {
            "text/plain": [
              "Text(0.5, 1.0, 'PIB PER CAPITA')"
            ]
          },
          "metadata": {},
          "execution_count": 69
        },
        {
          "output_type": "display_data",
          "data": {
            "text/plain": [
              "<Figure size 640x480 with 1 Axes>"
            ],
            "image/png": "[encoded data removed]"
          },
          "metadata": {}
        }
      ]
    },
    {
      "cell_type": "code",
      "source": [],
      "metadata": {
        "id": "j92l0Awq0aeG"
      },
      "execution_count": null,
      "outputs": []
    },
    {
      "cell_type": "markdown",
      "source": [
        "## Exploración de Variables Categóricas y Análisis Multivariable"
      ],
      "metadata": {
        "id": "WhDz20DYClBc"
      }
    },
    {
      "cell_type": "code",
      "source": [],
      "metadata": {
        "id": "lajysf7SFeJI"
      },
      "execution_count": null,
      "outputs": []
    },
    {
      "cell_type": "markdown",
      "source": [
        "* Si ya tienes gráficas realizadas en Postworks anteriores, agrega títulos, anotaciones y leyendas donde sea necesario. También cambia el tamaño de las gráficas donde tenga sentido hacerlo.\n",
        "* Identifica todas las variables categóricas en tu dataset.\n",
        "* Utiliza gráficas de barras para explorar la distribución de tus variables categóricas.\n",
        "* Planea tu análisis multivariable: ¿qué combinaciones de variables categóricas podrían darme información útil acerca de la distribución de mis datos? ¿qué combinaciones de una variable numérica con una variable categórica podrían ser interesantes?\n",
        "* Utiliza tablas de contingencia y múltiples gráficas en la misma figure para explorar combinaciones de variables categóricas.\n",
        "* Utiliza boxplots y violinplots para explorar combinaciones de variables numéricas con variables categóricas.\n",
        "* De preferencia ve registrando por escrito (ahí mismo en tu Notebook) todos tus hallazgos. Describe qué vas descubriendo y qué podría significar."
      ],
      "metadata": {
        "id": "V7EfeL3yEmYx"
      }
    },
    {
      "cell_type": "markdown",
      "source": [
        "## Correlaciones y Regresión Linear Simple"
      ],
      "metadata": {
        "id": "VZkDLwTAFBim"
      }
    },
    {
      "cell_type": "code",
      "source": [],
      "metadata": {
        "id": "WhjO6vPBFcLJ"
      },
      "execution_count": null,
      "outputs": []
    },
    {
      "cell_type": "markdown",
      "source": [
        "* Identifica cuáles son las variables numéricas en tu dataset.\n",
        "* Asegúrate de que tengan el tipo de dato correcto y que no haya NaNs por ahí escondidos.\n",
        "* Genera una matriz de correlaciones y un pairplot para visualizar de manera general las relaciones entre tus variables numéricas.\n",
        "* Utilizando gráficas de dispersión y tus medidas de locación y dispersión, identifica dónde hay valores atípicos y decide qué hacer con ellos.\n",
        "* Revisa si tu revisión de valores atípicos cambió de alguna manera las relaciones existentes.\n",
        "* Donde consideres necesario, entrena modelos de Regresión Lineal con un o más pares de variables. Incluso si no te parece que realizar predicciones entre pares de variables tiene sentido para tu proyecto, prueba realizar un par de regresiones para que practiques el procedimiento."
      ],
      "metadata": {
        "id": "Xx8-mRf5FJxQ"
      }
    },
    {
      "cell_type": "code",
      "source": [],
      "metadata": {
        "id": "cGpVNi2tFQJ5"
      },
      "execution_count": null,
      "outputs": []
    },
    {
      "cell_type": "markdown",
      "source": [
        "## Distribuciones muestrales y técnicas de evaluación de modelos"
      ],
      "metadata": {
        "id": "8_Ax-ez7FSjT"
      }
    },
    {
      "cell_type": "code",
      "source": [],
      "metadata": {
        "id": "KF6RM38xGbWw"
      },
      "execution_count": null,
      "outputs": []
    },
    {
      "cell_type": "markdown",
      "source": [
        "* Identifica las variables numéricas en tu dataset y revisa las medidas de locación y dispersión que ya has realizado de ellas.\n",
        "* Utilizando la técnica de bootstrap, explora las distribuciones muestrales de las estadísticas que obtuviste anteriormente y reporta:\n",
        "** La distribución, su asimetría y curtosis\n",
        "** El error estándar\n",
        "** El intervalo de confianza que te parezca más apropiado\n",
        "* Si tiene sentido, elige algunas de tus variables numéricas para entrenar uno o más modelos de Regresión Lineal Múltiple. Utiliza las técnicas de división de dataset y validación cruzada de K-iteraciones para asegurarte de que tu modelo generalice.\n"
      ],
      "metadata": {
        "id": "Dxyd6xNUFq_D"
      }
    },
    {
      "cell_type": "code",
      "source": [],
      "metadata": {
        "id": "dXnLsSB1F0me"
      },
      "execution_count": null,
      "outputs": []
    },
    {
      "cell_type": "markdown",
      "source": [
        "## Visualización de datos avanzada"
      ],
      "metadata": {
        "id": "EJqs4x3FGH0B"
      }
    },
    {
      "cell_type": "markdown",
      "source": [
        "* Si hay relaciones jerárquicas que quieras hacer claras o si quieres explorar las proporciones de una variable numérica agrupada en múltiples niveles utiliza un treemap.\n",
        "* Si quieres explorar la relación entre dos variables numéricas divididas por una variable categórica, utiliza scatterplots por categorías o scatterplots con variables condicionantes.\n",
        "* Si quieres explorar la relación entre dos variables numéricas pero tu dataset es tan grande que es imposible definir las densidades de tus datos, utiliza un binning hexagonal.\n",
        "* Si quieres explorar datos geográficos, como definir regiones o puntos en un mapa o visualizar una variable numérica que puede segmentarse por regiones geográficas, utiliza un mapa cloroplético.\n",
        "* Si quieres explorar una variable numérica agrupada en dos niveles por variables categóricas, utiliza una gráfica de barras apiladas."
      ],
      "metadata": {
        "id": "St1NYcGNF4Xh"
      }
    },
    {
      "cell_type": "code",
      "source": [],
      "metadata": {
        "id": "p5Xaht4RGFzK"
      },
      "execution_count": null,
      "outputs": []
    }
  ]
}