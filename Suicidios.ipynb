{
  "cells": [
    {
      "cell_type": "markdown",
      "metadata": {
        "id": "view-in-github",
        "colab_type": "text"
      },
      "source": [
        "<a href=\"https://colab.research.google.com/github/Gisellrom/ProyectoBEDU/blob/main/Suicidios.ipynb\" target=\"_parent\"><img src=\"https://colab.research.google.com/assets/colab-badge.svg\" alt=\"Open In Colab\"/></a>"
      ]
    },
    {
      "cell_type": "markdown",
      "metadata": {
        "id": "hx_r-d5NdpIf"
      },
      "source": [
        "# PROYECTO: EL SUICIDIO EN EL SIGLO XXI"
      ]
    },
    {
      "cell_type": "markdown",
      "metadata": {
        "id": "yKpihGX2d1N2"
      },
      "source": [
        "En 2017, un hombre a quien consideraba uno de los mejores músicos de todos los tiempos y autor, o coautor, de varias canciones que se habían convertido en la banda sonora de mi vida, se suicidó. Muchos se sorprendieron y muchos lo extrañan hoy.\n",
        "En 2018, un hombre cuyos programas de televisión me mantuvieron repetidamente en un estado de respeto y fascinación por la diversidad del mundo, se suicidó. Muchos se sorprendieron y muchos lo extrañan hoy.\n",
        "\n",
        "Según la OMS, cerca de 800.000 personas menos famosas mueren cada año por suicidio. Miré las Estadísticas de suicidio de la OMS para ver hacia dónde se dirige el mundo en su conjunto.\n",
        "\n",
        "¿Está mejorando o empeorando? Verás mi respuesta a continuación.\n",
        "\n",
        "Nota: haga lo que haga con los datos y las conclusiones que saque, nada de eso está aprobado ni respaldado por la OMS."
      ]
    },
    {
      "cell_type": "markdown",
      "metadata": {
        "id": "5iOxQ2uu3ngv"
      },
      "source": [
        "# Objetivo General"
      ]
    },
    {
      "cell_type": "markdown",
      "metadata": {
        "id": "1g-OaqJq33Gd"
      },
      "source": [
        "Analizar exhaustivamente la recopilación de índices de suicidios dentro de los 22 país, con el fin de comprender y visualizar patrones y posibles factores de riesgo asociados con el suicidio. Esto se logrará mediante el análisis y la representación gráfica de variables como edades, género y generación. Además, se buscará identificar los años en los que se registraron más suicidios y se relacionarán las tasas de suicidio con el per capital l de los países para comprender mejor su posible influencia en este fenómeno."
      ]
    },
    {
      "cell_type": "markdown",
      "metadata": {
        "id": "Vlfj5kMp5uNo"
      },
      "source": [
        "# Objetivos específicos\n",
        "Nuestro colab busca responder las siguientes preguntas:\n",
        "\n",
        "* ¿Cuál es el país con más indices de suicidio y en qué año se presentó el mayor número de muertes?\n",
        "\n",
        "* ¿A qué edad se presentó el mayor número de suicidios y cuál es la generación más afectada?. Está incidencia es mayor ¿en hombres o mujeres?\n",
        "\n",
        "* ¿El factor económico juega un papel importante de acuerdo con el número de suicidos registrados?\n",
        "\n"
      ]
    },
    {
      "cell_type": "code",
      "execution_count": null,
      "metadata": {
        "id": "0HcRPeD0d9fY"
      },
      "outputs": [],
      "source": [
        "# Link original:\n",
        "# https://www.kaggle.com/code/szamil/suicide-in-the-twenty-first-century/input"
      ]
    },
    {
      "cell_type": "markdown",
      "metadata": {
        "id": "WZ-wgJcspGBD"
      },
      "source": [
        "# Inicialización"
      ]
    },
    {
      "cell_type": "markdown",
      "metadata": {
        "id": "Uwz-_nH1pJgk"
      },
      "source": [
        "Para comenzar, vamos a importar todas las librerías necesarias para la construcción correcta de las gráficas. En este caso, trabajaremos con las librerías `Pandas`, `Numpy` y `Seaborn` , que permiten leer correctamente los archivos, trabajar con bases de datos, trazar gráficos."
      ]
    },
    {
      "cell_type": "code",
      "execution_count": 148,
      "metadata": {
        "id": "qNBtktsCaZ3z"
      },
      "outputs": [],
      "source": [
        "import pandas as pd\n",
        "import matplotlib.pyplot as plt\n",
        "import seaborn as sns\n"
      ]
    },
    {
      "cell_type": "markdown",
      "metadata": {
        "id": "IWzgPD-Pp2lr"
      },
      "source": [
        "# Cargar datos"
      ]
    },
    {
      "cell_type": "markdown",
      "metadata": {
        "id": "oVLpdb55qFIO"
      },
      "source": [
        "En segundo lugar, importamos los datasets con la información de los suicidios del siglo XXI. Para esto utilizaremos la función `read_csv` de pandas y pasaremos como argumento la ubicación del archivo. Guardaremos los datos en la variable `df`"
      ]
    },
    {
      "cell_type": "code",
      "execution_count": 155,
      "metadata": {
        "id": "fQ2n-TCgp3aB"
      },
      "outputs": [],
      "source": [
        "# Leemos los datos\n",
        "url = 'https://raw.githubusercontent.com/Gisellrom/ProyectoBEDU/main/Dataset/suicidiosXXI.csv'\n",
        "df = pd.read_csv(url)"
      ]
    },
    {
      "cell_type": "markdown",
      "metadata": {
        "id": "uA_g10YLGQ0x"
      },
      "source": [
        "# Procesamiento de datos"
      ]
    },
    {
      "cell_type": "markdown",
      "metadata": {
        "id": "Gt_X0FFjruS6"
      },
      "source": [
        "## Explorar datos iniciales"
      ]
    },
    {
      "cell_type": "markdown",
      "metadata": {
        "id": "535gwdAVr-Q1"
      },
      "source": [
        "Con los datasets correctamente importados, ahora procedemos a realizar una exploración inicial de los datos. En este caso llamaremos al atributo `shape`, y los métodos `head` e `info` para el dataset."
      ]
    },
    {
      "cell_type": "code",
      "execution_count": null,
      "metadata": {
        "colab": {
          "base_uri": "https://localhost:8080/"
        },
        "id": "YWhhtcy2rzqU",
        "outputId": "3d4a5665-93cd-4c1e-f908-41e7ac50de13"
      },
      "outputs": [
        {
          "data": {
            "text/plain": [
              "(27820, 11)"
            ]
          },
          "execution_count": 4,
          "metadata": {},
          "output_type": "execute_result"
        }
      ],
      "source": [
        "#Tamaño del dataset\n",
        "df.shape"
      ]
    },
    {
      "cell_type": "code",
      "execution_count": null,
      "metadata": {
        "colab": {
          "base_uri": "https://localhost:8080/",
          "height": 448
        },
        "id": "6U615_oTa4O-",
        "outputId": "96c38557-8c98-4fed-db34-750e115d0ba7"
      },
      "outputs": [
        {
          "data": {
            "text/html": [
              "\n",
              "  <div id=\"df-0f9589e4-3a35-4e9b-a822-bdcdf96c9407\" class=\"colab-df-container\">\n",
              "    <div>\n",
              "<style scoped>\n",
              "    .dataframe tbody tr th:only-of-type {\n",
              "        vertical-align: middle;\n",
              "    }\n",
              "\n",
              "    .dataframe tbody tr th {\n",
              "        vertical-align: top;\n",
              "    }\n",
              "\n",
              "    .dataframe thead th {\n",
              "        text-align: right;\n",
              "    }\n",
              "</style>\n",
              "<table border=\"1\" class=\"dataframe\">\n",
              "  <thead>\n",
              "    <tr style=\"text-align: right;\">\n",
              "      <th></th>\n",
              "      <th>year</th>\n",
              "      <th>sex</th>\n",
              "      <th>age</th>\n",
              "      <th>suicides_no</th>\n",
              "      <th>population</th>\n",
              "      <th>suicides/100k pop</th>\n",
              "      <th>country-year</th>\n",
              "      <th>HDI for year</th>\n",
              "      <th>gdp_for_year ($)</th>\n",
              "      <th>gdp_per_capita ($)</th>\n",
              "      <th>generation</th>\n",
              "    </tr>\n",
              "    <tr>\n",
              "      <th>country</th>\n",
              "      <th></th>\n",
              "      <th></th>\n",
              "      <th></th>\n",
              "      <th></th>\n",
              "      <th></th>\n",
              "      <th></th>\n",
              "      <th></th>\n",
              "      <th></th>\n",
              "      <th></th>\n",
              "      <th></th>\n",
              "      <th></th>\n",
              "    </tr>\n",
              "  </thead>\n",
              "  <tbody>\n",
              "    <tr>\n",
              "      <th>Albania</th>\n",
              "      <td>1987</td>\n",
              "      <td>male</td>\n",
              "      <td>15-24 years</td>\n",
              "      <td>21</td>\n",
              "      <td>312900</td>\n",
              "      <td>6.71</td>\n",
              "      <td>Albania1987</td>\n",
              "      <td>NaN</td>\n",
              "      <td>2,156,624,900</td>\n",
              "      <td>796</td>\n",
              "      <td>Generation X</td>\n",
              "    </tr>\n",
              "    <tr>\n",
              "      <th>Albania</th>\n",
              "      <td>1987</td>\n",
              "      <td>male</td>\n",
              "      <td>35-54 years</td>\n",
              "      <td>16</td>\n",
              "      <td>308000</td>\n",
              "      <td>5.19</td>\n",
              "      <td>Albania1987</td>\n",
              "      <td>NaN</td>\n",
              "      <td>2,156,624,900</td>\n",
              "      <td>796</td>\n",
              "      <td>Silent</td>\n",
              "    </tr>\n",
              "    <tr>\n",
              "      <th>Albania</th>\n",
              "      <td>1987</td>\n",
              "      <td>female</td>\n",
              "      <td>15-24 years</td>\n",
              "      <td>14</td>\n",
              "      <td>289700</td>\n",
              "      <td>4.83</td>\n",
              "      <td>Albania1987</td>\n",
              "      <td>NaN</td>\n",
              "      <td>2,156,624,900</td>\n",
              "      <td>796</td>\n",
              "      <td>Generation X</td>\n",
              "    </tr>\n",
              "    <tr>\n",
              "      <th>Albania</th>\n",
              "      <td>1987</td>\n",
              "      <td>male</td>\n",
              "      <td>75+ years</td>\n",
              "      <td>1</td>\n",
              "      <td>21800</td>\n",
              "      <td>4.59</td>\n",
              "      <td>Albania1987</td>\n",
              "      <td>NaN</td>\n",
              "      <td>2,156,624,900</td>\n",
              "      <td>796</td>\n",
              "      <td>G.I. Generation</td>\n",
              "    </tr>\n",
              "    <tr>\n",
              "      <th>Albania</th>\n",
              "      <td>1987</td>\n",
              "      <td>male</td>\n",
              "      <td>25-34 years</td>\n",
              "      <td>9</td>\n",
              "      <td>274300</td>\n",
              "      <td>3.28</td>\n",
              "      <td>Albania1987</td>\n",
              "      <td>NaN</td>\n",
              "      <td>2,156,624,900</td>\n",
              "      <td>796</td>\n",
              "      <td>Boomers</td>\n",
              "    </tr>\n",
              "  </tbody>\n",
              "</table>\n",
              "</div>\n",
              "    <div class=\"colab-df-buttons\">\n",
              "\n",
              "  <div class=\"colab-df-container\">\n",
              "    <button class=\"colab-df-convert\" onclick=\"convertToInteractive('df-0f9589e4-3a35-4e9b-a822-bdcdf96c9407')\"\n",
              "            title=\"Convert this dataframe to an interactive table.\"\n",
              "            style=\"display:none;\">\n",
              "\n",
              "  <svg xmlns=\"http://www.w3.org/2000/svg\" height=\"24px\" viewBox=\"0 -960 960 960\">\n",
              "    <path d=\"M120-120v-720h720v720H120Zm60-500h600v-160H180v160Zm220 220h160v-160H400v160Zm0 220h160v-160H400v160ZM180-400h160v-160H180v160Zm440 0h160v-160H620v160ZM180-180h160v-160H180v160Zm440 0h160v-160H620v160Z\"/>\n",
              "  </svg>\n",
              "    </button>\n",
              "\n",
              "  <style>\n",
              "    .colab-df-container {\n",
              "      display:flex;\n",
              "      gap: 12px;\n",
              "    }\n",
              "\n",
              "    .colab-df-convert {\n",
              "      background-color: #E8F0FE;\n",
              "      border: none;\n",
              "      border-radius: 50%;\n",
              "      cursor: pointer;\n",
              "      display: none;\n",
              "      fill: #1967D2;\n",
              "      height: 32px;\n",
              "      padding: 0 0 0 0;\n",
              "      width: 32px;\n",
              "    }\n",
              "\n",
              "    .colab-df-convert:hover {\n",
              "      background-color: #E2EBFA;\n",
              "      box-shadow: 0px 1px 2px rgba(60, 64, 67, 0.3), 0px 1px 3px 1px rgba(60, 64, 67, 0.15);\n",
              "      fill: #174EA6;\n",
              "    }\n",
              "\n",
              "    .colab-df-buttons div {\n",
              "      margin-bottom: 4px;\n",
              "    }\n",
              "\n",
              "    [theme=dark] .colab-df-convert {\n",
              "      background-color: #3B4455;\n",
              "      fill: #D2E3FC;\n",
              "    }\n",
              "\n",
              "    [theme=dark] .colab-df-convert:hover {\n",
              "      background-color: #434B5C;\n",
              "      box-shadow: 0px 1px 3px 1px rgba(0, 0, 0, 0.15);\n",
              "      filter: drop-shadow(0px 1px 2px rgba(0, 0, 0, 0.3));\n",
              "      fill: #FFFFFF;\n",
              "    }\n",
              "  </style>\n",
              "\n",
              "    <script>\n",
              "      const buttonEl =\n",
              "        document.querySelector('#df-0f9589e4-3a35-4e9b-a822-bdcdf96c9407 button.colab-df-convert');\n",
              "      buttonEl.style.display =\n",
              "        google.colab.kernel.accessAllowed ? 'block' : 'none';\n",
              "\n",
              "      async function convertToInteractive(key) {\n",
              "        const element = document.querySelector('#df-0f9589e4-3a35-4e9b-a822-bdcdf96c9407');\n",
              "        const dataTable =\n",
              "          await google.colab.kernel.invokeFunction('convertToInteractive',\n",
              "                                                    [key], {});\n",
              "        if (!dataTable) return;\n",
              "\n",
              "        const docLinkHtml = 'Like what you see? Visit the ' +\n",
              "          '<a target=\"_blank\" href=https://colab.research.google.com/notebooks/data_table.ipynb>data table notebook</a>'\n",
              "          + ' to learn more about interactive tables.';\n",
              "        element.innerHTML = '';\n",
              "        dataTable['output_type'] = 'display_data';\n",
              "        await google.colab.output.renderOutput(dataTable, element);\n",
              "        const docLink = document.createElement('div');\n",
              "        docLink.innerHTML = docLinkHtml;\n",
              "        element.appendChild(docLink);\n",
              "      }\n",
              "    </script>\n",
              "  </div>\n",
              "\n",
              "\n",
              "<div id=\"df-d3cede6f-a8c8-4fb6-b055-90b5227cc516\">\n",
              "  <button class=\"colab-df-quickchart\" onclick=\"quickchart('df-d3cede6f-a8c8-4fb6-b055-90b5227cc516')\"\n",
              "            title=\"Suggest charts\"\n",
              "            style=\"display:none;\">\n",
              "\n",
              "<svg xmlns=\"http://www.w3.org/2000/svg\" height=\"24px\"viewBox=\"0 0 24 24\"\n",
              "     width=\"24px\">\n",
              "    <g>\n",
              "        <path d=\"M19 3H5c-1.1 0-2 .9-2 2v14c0 1.1.9 2 2 2h14c1.1 0 2-.9 2-2V5c0-1.1-.9-2-2-2zM9 17H7v-7h2v7zm4 0h-2V7h2v10zm4 0h-2v-4h2v4z\"/>\n",
              "    </g>\n",
              "</svg>\n",
              "  </button>\n",
              "\n",
              "<style>\n",
              "  .colab-df-quickchart {\n",
              "      --bg-color: #E8F0FE;\n",
              "      --fill-color: #1967D2;\n",
              "      --hover-bg-color: #E2EBFA;\n",
              "      --hover-fill-color: #174EA6;\n",
              "      --disabled-fill-color: #AAA;\n",
              "      --disabled-bg-color: #DDD;\n",
              "  }\n",
              "\n",
              "  [theme=dark] .colab-df-quickchart {\n",
              "      --bg-color: #3B4455;\n",
              "      --fill-color: #D2E3FC;\n",
              "      --hover-bg-color: #434B5C;\n",
              "      --hover-fill-color: #FFFFFF;\n",
              "      --disabled-bg-color: #3B4455;\n",
              "      --disabled-fill-color: #666;\n",
              "  }\n",
              "\n",
              "  .colab-df-quickchart {\n",
              "    background-color: var(--bg-color);\n",
              "    border: none;\n",
              "    border-radius: 50%;\n",
              "    cursor: pointer;\n",
              "    display: none;\n",
              "    fill: var(--fill-color);\n",
              "    height: 32px;\n",
              "    padding: 0;\n",
              "    width: 32px;\n",
              "  }\n",
              "\n",
              "  .colab-df-quickchart:hover {\n",
              "    background-color: var(--hover-bg-color);\n",
              "    box-shadow: 0 1px 2px rgba(60, 64, 67, 0.3), 0 1px 3px 1px rgba(60, 64, 67, 0.15);\n",
              "    fill: var(--button-hover-fill-color);\n",
              "  }\n",
              "\n",
              "  .colab-df-quickchart-complete:disabled,\n",
              "  .colab-df-quickchart-complete:disabled:hover {\n",
              "    background-color: var(--disabled-bg-color);\n",
              "    fill: var(--disabled-fill-color);\n",
              "    box-shadow: none;\n",
              "  }\n",
              "\n",
              "  .colab-df-spinner {\n",
              "    border: 2px solid var(--fill-color);\n",
              "    border-color: transparent;\n",
              "    border-bottom-color: var(--fill-color);\n",
              "    animation:\n",
              "      spin 1s steps(1) infinite;\n",
              "  }\n",
              "\n",
              "  @keyframes spin {\n",
              "    0% {\n",
              "      border-color: transparent;\n",
              "      border-bottom-color: var(--fill-color);\n",
              "      border-left-color: var(--fill-color);\n",
              "    }\n",
              "    20% {\n",
              "      border-color: transparent;\n",
              "      border-left-color: var(--fill-color);\n",
              "      border-top-color: var(--fill-color);\n",
              "    }\n",
              "    30% {\n",
              "      border-color: transparent;\n",
              "      border-left-color: var(--fill-color);\n",
              "      border-top-color: var(--fill-color);\n",
              "      border-right-color: var(--fill-color);\n",
              "    }\n",
              "    40% {\n",
              "      border-color: transparent;\n",
              "      border-right-color: var(--fill-color);\n",
              "      border-top-color: var(--fill-color);\n",
              "    }\n",
              "    60% {\n",
              "      border-color: transparent;\n",
              "      border-right-color: var(--fill-color);\n",
              "    }\n",
              "    80% {\n",
              "      border-color: transparent;\n",
              "      border-right-color: var(--fill-color);\n",
              "      border-bottom-color: var(--fill-color);\n",
              "    }\n",
              "    90% {\n",
              "      border-color: transparent;\n",
              "      border-bottom-color: var(--fill-color);\n",
              "    }\n",
              "  }\n",
              "</style>\n",
              "\n",
              "  <script>\n",
              "    async function quickchart(key) {\n",
              "      const quickchartButtonEl =\n",
              "        document.querySelector('#' + key + ' button');\n",
              "      quickchartButtonEl.disabled = true;  // To prevent multiple clicks.\n",
              "      quickchartButtonEl.classList.add('colab-df-spinner');\n",
              "      try {\n",
              "        const charts = await google.colab.kernel.invokeFunction(\n",
              "            'suggestCharts', [key], {});\n",
              "      } catch (error) {\n",
              "        console.error('Error during call to suggestCharts:', error);\n",
              "      }\n",
              "      quickchartButtonEl.classList.remove('colab-df-spinner');\n",
              "      quickchartButtonEl.classList.add('colab-df-quickchart-complete');\n",
              "    }\n",
              "    (() => {\n",
              "      let quickchartButtonEl =\n",
              "        document.querySelector('#df-d3cede6f-a8c8-4fb6-b055-90b5227cc516 button');\n",
              "      quickchartButtonEl.style.display =\n",
              "        google.colab.kernel.accessAllowed ? 'block' : 'none';\n",
              "    })();\n",
              "  </script>\n",
              "</div>\n",
              "\n",
              "    </div>\n",
              "  </div>\n"
            ],
            "text/plain": [
              "         year     sex          age  suicides_no  population  \\\n",
              "country                                                       \n",
              "Albania  1987    male  15-24 years           21      312900   \n",
              "Albania  1987    male  35-54 years           16      308000   \n",
              "Albania  1987  female  15-24 years           14      289700   \n",
              "Albania  1987    male    75+ years            1       21800   \n",
              "Albania  1987    male  25-34 years            9      274300   \n",
              "\n",
              "         suicides/100k pop country-year  HDI for year  gdp_for_year ($)   \\\n",
              "country                                                                    \n",
              "Albania               6.71  Albania1987           NaN      2,156,624,900   \n",
              "Albania               5.19  Albania1987           NaN      2,156,624,900   \n",
              "Albania               4.83  Albania1987           NaN      2,156,624,900   \n",
              "Albania               4.59  Albania1987           NaN      2,156,624,900   \n",
              "Albania               3.28  Albania1987           NaN      2,156,624,900   \n",
              "\n",
              "         gdp_per_capita ($)       generation  \n",
              "country                                       \n",
              "Albania                 796     Generation X  \n",
              "Albania                 796           Silent  \n",
              "Albania                 796     Generation X  \n",
              "Albania                 796  G.I. Generation  \n",
              "Albania                 796          Boomers  "
            ]
          },
          "execution_count": 5,
          "metadata": {},
          "output_type": "execute_result"
        }
      ],
      "source": [
        "#Verificamos que los datos esten cargados\n",
        "df.head()"
      ]
    },
    {
      "cell_type": "code",
      "execution_count": null,
      "metadata": {
        "colab": {
          "base_uri": "https://localhost:8080/"
        },
        "id": "SWjwXAfwemGN",
        "outputId": "5001981b-b6e9-4c07-a5e1-7ccfb6ae2798"
      },
      "outputs": [
        {
          "name": "stdout",
          "output_type": "stream",
          "text": [
            "<class 'pandas.core.frame.DataFrame'>\n",
            "Index: 27820 entries, Albania to Uzbekistan\n",
            "Data columns (total 11 columns):\n",
            " #   Column              Non-Null Count  Dtype  \n",
            "---  ------              --------------  -----  \n",
            " 0   year                27820 non-null  int64  \n",
            " 1   sex                 27820 non-null  object \n",
            " 2   age                 27820 non-null  object \n",
            " 3   suicides_no         27820 non-null  int64  \n",
            " 4   population          27820 non-null  int64  \n",
            " 5   suicides/100k pop   27820 non-null  float64\n",
            " 6   country-year        27820 non-null  object \n",
            " 7   HDI for year        8364 non-null   float64\n",
            " 8    gdp_for_year ($)   27820 non-null  object \n",
            " 9   gdp_per_capita ($)  27820 non-null  int64  \n",
            " 10  generation          27820 non-null  object \n",
            "dtypes: float64(2), int64(4), object(5)\n",
            "memory usage: 2.5+ MB\n"
          ]
        }
      ],
      "source": [
        "df.info()"
      ]
    },
    {
      "cell_type": "markdown",
      "metadata": {
        "id": "KlpDnBEVidIn"
      },
      "source": [
        "Revisamos el nombre de las columnas que tenemos en nuestro dataset, para verificar mejor si tenemos espacios vacios entre los nombres de las columnas:"
      ]
    },
    {
      "cell_type": "code",
      "execution_count": null,
      "metadata": {
        "colab": {
          "base_uri": "https://localhost:8080/"
        },
        "id": "gIiujw8cihe6",
        "outputId": "dd648aa8-082f-4e50-d330-87f6a052d133"
      },
      "outputs": [
        {
          "data": {
            "text/plain": [
              "Index(['year', 'sex', 'age', 'suicides_no', 'population', 'suicides/100k pop',\n",
              "       'country-year', 'HDI for year', ' gdp_for_year ($) ',\n",
              "       'gdp_per_capita ($)', 'generation'],\n",
              "      dtype='object')"
            ]
          },
          "execution_count": 7,
          "metadata": {},
          "output_type": "execute_result"
        }
      ],
      "source": [
        " # Para ver las columnas que contiene el dataset\n",
        "df.columns"
      ]
    },
    {
      "cell_type": "markdown",
      "metadata": {
        "id": "oNoxf3OFj-84"
      },
      "source": [
        "Desde este momento, podemos observar que la columna **country**, el dataset la está considerando como nuestro index, por lo que hay que cambiar de indice para analizar los datos que contiene:"
      ]
    },
    {
      "cell_type": "code",
      "execution_count": null,
      "metadata": {
        "colab": {
          "base_uri": "https://localhost:8080/",
          "height": 417
        },
        "id": "KlW2hPasvPVt",
        "outputId": "63a83d21-12c8-4a29-8ddd-b12949908e6d"
      },
      "outputs": [
        {
          "data": {
            "text/html": [
              "\n",
              "  <div id=\"df-3c146c86-c797-4ec7-a80a-4b9b4f8edd82\" class=\"colab-df-container\">\n",
              "    <div>\n",
              "<style scoped>\n",
              "    .dataframe tbody tr th:only-of-type {\n",
              "        vertical-align: middle;\n",
              "    }\n",
              "\n",
              "    .dataframe tbody tr th {\n",
              "        vertical-align: top;\n",
              "    }\n",
              "\n",
              "    .dataframe thead th {\n",
              "        text-align: right;\n",
              "    }\n",
              "</style>\n",
              "<table border=\"1\" class=\"dataframe\">\n",
              "  <thead>\n",
              "    <tr style=\"text-align: right;\">\n",
              "      <th></th>\n",
              "      <th>country</th>\n",
              "      <th>year</th>\n",
              "      <th>sex</th>\n",
              "      <th>age</th>\n",
              "      <th>suicides_no</th>\n",
              "      <th>population</th>\n",
              "      <th>suicides/100k pop</th>\n",
              "      <th>country-year</th>\n",
              "      <th>HDI for year</th>\n",
              "      <th>gdp_for_year ($)</th>\n",
              "      <th>gdp_per_capita ($)</th>\n",
              "      <th>generation</th>\n",
              "    </tr>\n",
              "  </thead>\n",
              "  <tbody>\n",
              "    <tr>\n",
              "      <th>0</th>\n",
              "      <td>Albania</td>\n",
              "      <td>1987</td>\n",
              "      <td>male</td>\n",
              "      <td>15-24 years</td>\n",
              "      <td>21</td>\n",
              "      <td>312900</td>\n",
              "      <td>6.71</td>\n",
              "      <td>Albania1987</td>\n",
              "      <td>NaN</td>\n",
              "      <td>2,156,624,900</td>\n",
              "      <td>796</td>\n",
              "      <td>Generation X</td>\n",
              "    </tr>\n",
              "    <tr>\n",
              "      <th>1</th>\n",
              "      <td>Albania</td>\n",
              "      <td>1987</td>\n",
              "      <td>male</td>\n",
              "      <td>35-54 years</td>\n",
              "      <td>16</td>\n",
              "      <td>308000</td>\n",
              "      <td>5.19</td>\n",
              "      <td>Albania1987</td>\n",
              "      <td>NaN</td>\n",
              "      <td>2,156,624,900</td>\n",
              "      <td>796</td>\n",
              "      <td>Silent</td>\n",
              "    </tr>\n",
              "    <tr>\n",
              "      <th>2</th>\n",
              "      <td>Albania</td>\n",
              "      <td>1987</td>\n",
              "      <td>female</td>\n",
              "      <td>15-24 years</td>\n",
              "      <td>14</td>\n",
              "      <td>289700</td>\n",
              "      <td>4.83</td>\n",
              "      <td>Albania1987</td>\n",
              "      <td>NaN</td>\n",
              "      <td>2,156,624,900</td>\n",
              "      <td>796</td>\n",
              "      <td>Generation X</td>\n",
              "    </tr>\n",
              "    <tr>\n",
              "      <th>3</th>\n",
              "      <td>Albania</td>\n",
              "      <td>1987</td>\n",
              "      <td>male</td>\n",
              "      <td>75+ years</td>\n",
              "      <td>1</td>\n",
              "      <td>21800</td>\n",
              "      <td>4.59</td>\n",
              "      <td>Albania1987</td>\n",
              "      <td>NaN</td>\n",
              "      <td>2,156,624,900</td>\n",
              "      <td>796</td>\n",
              "      <td>G.I. Generation</td>\n",
              "    </tr>\n",
              "    <tr>\n",
              "      <th>4</th>\n",
              "      <td>Albania</td>\n",
              "      <td>1987</td>\n",
              "      <td>male</td>\n",
              "      <td>25-34 years</td>\n",
              "      <td>9</td>\n",
              "      <td>274300</td>\n",
              "      <td>3.28</td>\n",
              "      <td>Albania1987</td>\n",
              "      <td>NaN</td>\n",
              "      <td>2,156,624,900</td>\n",
              "      <td>796</td>\n",
              "      <td>Boomers</td>\n",
              "    </tr>\n",
              "  </tbody>\n",
              "</table>\n",
              "</div>\n",
              "    <div class=\"colab-df-buttons\">\n",
              "\n",
              "  <div class=\"colab-df-container\">\n",
              "    <button class=\"colab-df-convert\" onclick=\"convertToInteractive('df-3c146c86-c797-4ec7-a80a-4b9b4f8edd82')\"\n",
              "            title=\"Convert this dataframe to an interactive table.\"\n",
              "            style=\"display:none;\">\n",
              "\n",
              "  <svg xmlns=\"http://www.w3.org/2000/svg\" height=\"24px\" viewBox=\"0 -960 960 960\">\n",
              "    <path d=\"M120-120v-720h720v720H120Zm60-500h600v-160H180v160Zm220 220h160v-160H400v160Zm0 220h160v-160H400v160ZM180-400h160v-160H180v160Zm440 0h160v-160H620v160ZM180-180h160v-160H180v160Zm440 0h160v-160H620v160Z\"/>\n",
              "  </svg>\n",
              "    </button>\n",
              "\n",
              "  <style>\n",
              "    .colab-df-container {\n",
              "      display:flex;\n",
              "      gap: 12px;\n",
              "    }\n",
              "\n",
              "    .colab-df-convert {\n",
              "      background-color: #E8F0FE;\n",
              "      border: none;\n",
              "      border-radius: 50%;\n",
              "      cursor: pointer;\n",
              "      display: none;\n",
              "      fill: #1967D2;\n",
              "      height: 32px;\n",
              "      padding: 0 0 0 0;\n",
              "      width: 32px;\n",
              "    }\n",
              "\n",
              "    .colab-df-convert:hover {\n",
              "      background-color: #E2EBFA;\n",
              "      box-shadow: 0px 1px 2px rgba(60, 64, 67, 0.3), 0px 1px 3px 1px rgba(60, 64, 67, 0.15);\n",
              "      fill: #174EA6;\n",
              "    }\n",
              "\n",
              "    .colab-df-buttons div {\n",
              "      margin-bottom: 4px;\n",
              "    }\n",
              "\n",
              "    [theme=dark] .colab-df-convert {\n",
              "      background-color: #3B4455;\n",
              "      fill: #D2E3FC;\n",
              "    }\n",
              "\n",
              "    [theme=dark] .colab-df-convert:hover {\n",
              "      background-color: #434B5C;\n",
              "      box-shadow: 0px 1px 3px 1px rgba(0, 0, 0, 0.15);\n",
              "      filter: drop-shadow(0px 1px 2px rgba(0, 0, 0, 0.3));\n",
              "      fill: #FFFFFF;\n",
              "    }\n",
              "  </style>\n",
              "\n",
              "    <script>\n",
              "      const buttonEl =\n",
              "        document.querySelector('#df-3c146c86-c797-4ec7-a80a-4b9b4f8edd82 button.colab-df-convert');\n",
              "      buttonEl.style.display =\n",
              "        google.colab.kernel.accessAllowed ? 'block' : 'none';\n",
              "\n",
              "      async function convertToInteractive(key) {\n",
              "        const element = document.querySelector('#df-3c146c86-c797-4ec7-a80a-4b9b4f8edd82');\n",
              "        const dataTable =\n",
              "          await google.colab.kernel.invokeFunction('convertToInteractive',\n",
              "                                                    [key], {});\n",
              "        if (!dataTable) return;\n",
              "\n",
              "        const docLinkHtml = 'Like what you see? Visit the ' +\n",
              "          '<a target=\"_blank\" href=https://colab.research.google.com/notebooks/data_table.ipynb>data table notebook</a>'\n",
              "          + ' to learn more about interactive tables.';\n",
              "        element.innerHTML = '';\n",
              "        dataTable['output_type'] = 'display_data';\n",
              "        await google.colab.output.renderOutput(dataTable, element);\n",
              "        const docLink = document.createElement('div');\n",
              "        docLink.innerHTML = docLinkHtml;\n",
              "        element.appendChild(docLink);\n",
              "      }\n",
              "    </script>\n",
              "  </div>\n",
              "\n",
              "\n",
              "<div id=\"df-28d7b45e-5239-4cb8-b8ac-4a701a101911\">\n",
              "  <button class=\"colab-df-quickchart\" onclick=\"quickchart('df-28d7b45e-5239-4cb8-b8ac-4a701a101911')\"\n",
              "            title=\"Suggest charts\"\n",
              "            style=\"display:none;\">\n",
              "\n",
              "<svg xmlns=\"http://www.w3.org/2000/svg\" height=\"24px\"viewBox=\"0 0 24 24\"\n",
              "     width=\"24px\">\n",
              "    <g>\n",
              "        <path d=\"M19 3H5c-1.1 0-2 .9-2 2v14c0 1.1.9 2 2 2h14c1.1 0 2-.9 2-2V5c0-1.1-.9-2-2-2zM9 17H7v-7h2v7zm4 0h-2V7h2v10zm4 0h-2v-4h2v4z\"/>\n",
              "    </g>\n",
              "</svg>\n",
              "  </button>\n",
              "\n",
              "<style>\n",
              "  .colab-df-quickchart {\n",
              "      --bg-color: #E8F0FE;\n",
              "      --fill-color: #1967D2;\n",
              "      --hover-bg-color: #E2EBFA;\n",
              "      --hover-fill-color: #174EA6;\n",
              "      --disabled-fill-color: #AAA;\n",
              "      --disabled-bg-color: #DDD;\n",
              "  }\n",
              "\n",
              "  [theme=dark] .colab-df-quickchart {\n",
              "      --bg-color: #3B4455;\n",
              "      --fill-color: #D2E3FC;\n",
              "      --hover-bg-color: #434B5C;\n",
              "      --hover-fill-color: #FFFFFF;\n",
              "      --disabled-bg-color: #3B4455;\n",
              "      --disabled-fill-color: #666;\n",
              "  }\n",
              "\n",
              "  .colab-df-quickchart {\n",
              "    background-color: var(--bg-color);\n",
              "    border: none;\n",
              "    border-radius: 50%;\n",
              "    cursor: pointer;\n",
              "    display: none;\n",
              "    fill: var(--fill-color);\n",
              "    height: 32px;\n",
              "    padding: 0;\n",
              "    width: 32px;\n",
              "  }\n",
              "\n",
              "  .colab-df-quickchart:hover {\n",
              "    background-color: var(--hover-bg-color);\n",
              "    box-shadow: 0 1px 2px rgba(60, 64, 67, 0.3), 0 1px 3px 1px rgba(60, 64, 67, 0.15);\n",
              "    fill: var(--button-hover-fill-color);\n",
              "  }\n",
              "\n",
              "  .colab-df-quickchart-complete:disabled,\n",
              "  .colab-df-quickchart-complete:disabled:hover {\n",
              "    background-color: var(--disabled-bg-color);\n",
              "    fill: var(--disabled-fill-color);\n",
              "    box-shadow: none;\n",
              "  }\n",
              "\n",
              "  .colab-df-spinner {\n",
              "    border: 2px solid var(--fill-color);\n",
              "    border-color: transparent;\n",
              "    border-bottom-color: var(--fill-color);\n",
              "    animation:\n",
              "      spin 1s steps(1) infinite;\n",
              "  }\n",
              "\n",
              "  @keyframes spin {\n",
              "    0% {\n",
              "      border-color: transparent;\n",
              "      border-bottom-color: var(--fill-color);\n",
              "      border-left-color: var(--fill-color);\n",
              "    }\n",
              "    20% {\n",
              "      border-color: transparent;\n",
              "      border-left-color: var(--fill-color);\n",
              "      border-top-color: var(--fill-color);\n",
              "    }\n",
              "    30% {\n",
              "      border-color: transparent;\n",
              "      border-left-color: var(--fill-color);\n",
              "      border-top-color: var(--fill-color);\n",
              "      border-right-color: var(--fill-color);\n",
              "    }\n",
              "    40% {\n",
              "      border-color: transparent;\n",
              "      border-right-color: var(--fill-color);\n",
              "      border-top-color: var(--fill-color);\n",
              "    }\n",
              "    60% {\n",
              "      border-color: transparent;\n",
              "      border-right-color: var(--fill-color);\n",
              "    }\n",
              "    80% {\n",
              "      border-color: transparent;\n",
              "      border-right-color: var(--fill-color);\n",
              "      border-bottom-color: var(--fill-color);\n",
              "    }\n",
              "    90% {\n",
              "      border-color: transparent;\n",
              "      border-bottom-color: var(--fill-color);\n",
              "    }\n",
              "  }\n",
              "</style>\n",
              "\n",
              "  <script>\n",
              "    async function quickchart(key) {\n",
              "      const quickchartButtonEl =\n",
              "        document.querySelector('#' + key + ' button');\n",
              "      quickchartButtonEl.disabled = true;  // To prevent multiple clicks.\n",
              "      quickchartButtonEl.classList.add('colab-df-spinner');\n",
              "      try {\n",
              "        const charts = await google.colab.kernel.invokeFunction(\n",
              "            'suggestCharts', [key], {});\n",
              "      } catch (error) {\n",
              "        console.error('Error during call to suggestCharts:', error);\n",
              "      }\n",
              "      quickchartButtonEl.classList.remove('colab-df-spinner');\n",
              "      quickchartButtonEl.classList.add('colab-df-quickchart-complete');\n",
              "    }\n",
              "    (() => {\n",
              "      let quickchartButtonEl =\n",
              "        document.querySelector('#df-28d7b45e-5239-4cb8-b8ac-4a701a101911 button');\n",
              "      quickchartButtonEl.style.display =\n",
              "        google.colab.kernel.accessAllowed ? 'block' : 'none';\n",
              "    })();\n",
              "  </script>\n",
              "</div>\n",
              "\n",
              "    </div>\n",
              "  </div>\n"
            ],
            "text/plain": [
              "   country  year     sex          age  suicides_no  population  \\\n",
              "0  Albania  1987    male  15-24 years           21      312900   \n",
              "1  Albania  1987    male  35-54 years           16      308000   \n",
              "2  Albania  1987  female  15-24 years           14      289700   \n",
              "3  Albania  1987    male    75+ years            1       21800   \n",
              "4  Albania  1987    male  25-34 years            9      274300   \n",
              "\n",
              "   suicides/100k pop country-year  HDI for year  gdp_for_year ($)   \\\n",
              "0               6.71  Albania1987           NaN      2,156,624,900   \n",
              "1               5.19  Albania1987           NaN      2,156,624,900   \n",
              "2               4.83  Albania1987           NaN      2,156,624,900   \n",
              "3               4.59  Albania1987           NaN      2,156,624,900   \n",
              "4               3.28  Albania1987           NaN      2,156,624,900   \n",
              "\n",
              "   gdp_per_capita ($)       generation  \n",
              "0                 796     Generation X  \n",
              "1                 796           Silent  \n",
              "2                 796     Generation X  \n",
              "3                 796  G.I. Generation  \n",
              "4                 796          Boomers  "
            ]
          },
          "execution_count": 8,
          "metadata": {},
          "output_type": "execute_result"
        }
      ],
      "source": [
        "# Convertir el índice en una columna\n",
        "df = df.reset_index()\n",
        "df.head()"
      ]
    },
    {
      "cell_type": "markdown",
      "metadata": {
        "id": "xJX-4lU2koCH"
      },
      "source": [
        "Nuevamente, volvemos a checar todos los datos y verificamos que ya no se este considerando la columna \"country\" como el indice"
      ]
    },
    {
      "cell_type": "code",
      "execution_count": null,
      "metadata": {
        "colab": {
          "base_uri": "https://localhost:8080/"
        },
        "id": "dsBoIALEmlvH",
        "outputId": "011a4ec5-f68a-48e0-8991-444cbe0c1f1e"
      },
      "outputs": [
        {
          "data": {
            "text/plain": [
              "(27820, 12)"
            ]
          },
          "execution_count": 9,
          "metadata": {},
          "output_type": "execute_result"
        }
      ],
      "source": [
        "df.shape"
      ]
    },
    {
      "cell_type": "code",
      "execution_count": null,
      "metadata": {
        "colab": {
          "base_uri": "https://localhost:8080/"
        },
        "id": "txa3_tjPkyhO",
        "outputId": "40d2f026-57b0-401c-9a5c-44035041713c"
      },
      "outputs": [
        {
          "name": "stdout",
          "output_type": "stream",
          "text": [
            "<class 'pandas.core.frame.DataFrame'>\n",
            "RangeIndex: 27820 entries, 0 to 27819\n",
            "Data columns (total 12 columns):\n",
            " #   Column              Non-Null Count  Dtype  \n",
            "---  ------              --------------  -----  \n",
            " 0   country             27820 non-null  object \n",
            " 1   year                27820 non-null  int64  \n",
            " 2   sex                 27820 non-null  object \n",
            " 3   age                 27820 non-null  object \n",
            " 4   suicides_no         27820 non-null  int64  \n",
            " 5   population          27820 non-null  int64  \n",
            " 6   suicides/100k pop   27820 non-null  float64\n",
            " 7   country-year        27820 non-null  object \n",
            " 8   HDI for year        8364 non-null   float64\n",
            " 9    gdp_for_year ($)   27820 non-null  object \n",
            " 10  gdp_per_capita ($)  27820 non-null  int64  \n",
            " 11  generation          27820 non-null  object \n",
            "dtypes: float64(2), int64(4), object(6)\n",
            "memory usage: 2.5+ MB\n"
          ]
        }
      ],
      "source": [
        "df.info()"
      ]
    },
    {
      "cell_type": "markdown",
      "metadata": {
        "id": "cQ8HkmkknLgT"
      },
      "source": [
        "En el dataset nos encontramos con 27,820 filas u observaciones y 12 columnas que contienen la siguiente información:\n",
        "* country: Indica el país en el que se registraron los datos sobre suicidios\n",
        "* year: Indica el año en el que se registraron los datos sobre suicidios.\n",
        "* sex: Refleja el género de las personas para las que se informan los datos (hombre o mujer).\n",
        "* age: Representa los grupos de edad en los que se dividen los datos (por ejemplo, \"15-24 años\").\n",
        "* suicidies_no: Indica el número total de suicidios reportados para la combinación de año, género y grupo de edad específicos.\n",
        "* population: Muestra la población total para la combinación de año, género y grupo de edad específicos\n",
        "* country-year: Combina la información sobre el país y el año para el cual se informan los datos.\n",
        "* HDI for year: Representa el Índice de Desarrollo Humano (HDI) para el año correspondiente.\n",
        "* gdp for year ($): Indica el Producto Interno Bruto (PIB) total para el año correspondiente.\n",
        "* gdp per capita ($): Muestra el PIB per cápita para el año correspondiente.\n",
        "* generation: ndica la generación de las personas para las que se informan los datos (por ejemplo, \"Boomers\", \"Generation X\").\n",
        "\n",
        "\n",
        "\n"
      ]
    },
    {
      "cell_type": "markdown",
      "metadata": {
        "id": "I9l28hudqGDL"
      },
      "source": [
        "Obervamos que la columna \"HDI for year\" se encuentra como tipo float, es correcto que pertenezca a ese tipo, pero encontramos que tiene información incompleta y además, información que no vamos a ocupar ya que no está dentro de nuestros objetivos analizar como se comporta el indice de desarrollo humano, por eso directamente, procedemos a eliminar esa columna"
      ]
    },
    {
      "cell_type": "code",
      "execution_count": null,
      "metadata": {
        "id": "jopqYLdQpsBE"
      },
      "outputs": [],
      "source": [
        "# Eliminar la columna \"HDI for year\"\n",
        "columna_a_eliminar = 'HDI for year'\n",
        "df = df.drop(columna_a_eliminar, axis=1)"
      ]
    },
    {
      "cell_type": "markdown",
      "metadata": {
        "id": "NcjZlIhmr51R"
      },
      "source": [
        "No obstante, también observamos que la columna **country-year** es de tipo objecto, ya que tiene información como una cadena y números enteros, pero esa información también se encuentran en las columnas **country** y **year**, con los tipos de datos correctos, por lo que también eliminamos la columna **country-year**."
      ]
    },
    {
      "cell_type": "code",
      "execution_count": null,
      "metadata": {
        "id": "U7AIsZh4thO7"
      },
      "outputs": [],
      "source": [
        "# Elimina la columna \"country-year\"\n",
        "columna_a_eliminar = 'country-year'\n",
        "df = df.drop(columna_a_eliminar, axis=1)"
      ]
    },
    {
      "cell_type": "code",
      "execution_count": null,
      "metadata": {
        "colab": {
          "base_uri": "https://localhost:8080/"
        },
        "id": "wNzm9ZYhzOik",
        "outputId": "498562c5-ceeb-41ff-bbd3-1b31f1686d29"
      },
      "outputs": [
        {
          "data": {
            "text/plain": [
              "Index(['country', 'year', 'sex', 'age', 'suicides_no', 'population',\n",
              "       'suicides/100k pop', ' gdp_for_year ($) ', 'gdp_per_capita ($)',\n",
              "       'generation'],\n",
              "      dtype='object')"
            ]
          },
          "execution_count": 13,
          "metadata": {},
          "output_type": "execute_result"
        }
      ],
      "source": [
        "df.columns"
      ]
    },
    {
      "cell_type": "markdown",
      "metadata": {
        "id": "17R1FUzCa8pX"
      },
      "source": [
        "También, procedemos a eliminar la columna \"gdp_for_year ($)\" ya que no está dentro de nuestros objetivos saber como se comporta el PIB anual con los suicidios"
      ]
    },
    {
      "cell_type": "code",
      "execution_count": null,
      "metadata": {
        "id": "YvXS4mEwyeh0"
      },
      "outputs": [],
      "source": [
        "# Elimina la columna \"gdp_for_year ($)\"\n",
        "columna_a_eliminar = ' gdp_for_year ($) '\n",
        "df = df.drop(columna_a_eliminar, axis=1)"
      ]
    },
    {
      "cell_type": "markdown",
      "metadata": {
        "id": "u1_wPIG-b1uc"
      },
      "source": [
        "No obstante, eliminamos las columnas de \"population\" y \"suicides/100k pop\" ya que no se encuentra dentro de nuestros objetivos analizar como se comporta la población con los suicidios que se han registrado."
      ]
    },
    {
      "cell_type": "code",
      "execution_count": null,
      "metadata": {
        "id": "CkKXtQqu1EHf"
      },
      "outputs": [],
      "source": [
        "# Elimina la columna \"population\"\n",
        "columna_a_eliminar = 'population'\n",
        "df = df.drop(columna_a_eliminar, axis=1)"
      ]
    },
    {
      "cell_type": "code",
      "execution_count": null,
      "metadata": {
        "id": "dSZ76Yk23NaA"
      },
      "outputs": [],
      "source": [
        "# Elimina la columna \"suicides/100k pop\"\n",
        "columna_a_eliminar = 'suicides/100k pop'\n",
        "df = df.drop(columna_a_eliminar, axis=1)"
      ]
    },
    {
      "cell_type": "markdown",
      "metadata": {
        "id": "vQ0eOLUOdNno"
      },
      "source": [
        "Una vez eliminado toda la información que no vamos a ocupar, entonces volvemos a ver las caracteristicas con `info` y observamos ahora cuales son las columnas que se quedaron y analizamos los tipos de datos que tienen actualmente:"
      ]
    },
    {
      "cell_type": "code",
      "execution_count": null,
      "metadata": {
        "colab": {
          "base_uri": "https://localhost:8080/"
        },
        "id": "cUGOgaTc1yx6",
        "outputId": "bc42852d-9905-420f-9341-12c94d4afefd"
      },
      "outputs": [
        {
          "name": "stdout",
          "output_type": "stream",
          "text": [
            "<class 'pandas.core.frame.DataFrame'>\n",
            "RangeIndex: 27820 entries, 0 to 27819\n",
            "Data columns (total 7 columns):\n",
            " #   Column              Non-Null Count  Dtype \n",
            "---  ------              --------------  ----- \n",
            " 0   country             27820 non-null  object\n",
            " 1   year                27820 non-null  int64 \n",
            " 2   sex                 27820 non-null  object\n",
            " 3   age                 27820 non-null  object\n",
            " 4   suicides_no         27820 non-null  int64 \n",
            " 5   gdp_per_capita ($)  27820 non-null  int64 \n",
            " 6   generation          27820 non-null  object\n",
            "dtypes: int64(3), object(4)\n",
            "memory usage: 1.5+ MB\n"
          ]
        }
      ],
      "source": [
        "df.info()"
      ]
    },
    {
      "cell_type": "markdown",
      "metadata": {
        "id": "yLZd8wtFp6Go"
      },
      "source": [
        "Las columnas están en inglés, no es tan relevante, pero nosotras cambiaremos el nombre de las columnas, para analizar los datos con nuestro lenguaje natural. Además, quitaremos los espacios en blanco y simbolos que podrían causar ruido al momento de analizar nuestros datos."
      ]
    },
    {
      "cell_type": "code",
      "execution_count": null,
      "metadata": {
        "id": "ffFfomgKxZ-z"
      },
      "outputs": [],
      "source": [
        "# Renombramiento de columnas\n",
        "column_name_mapping ={\n",
        "    'country':'pais',\n",
        "    'year':'año',\n",
        "    'sex':'sexo',\n",
        "    'age':'edad',\n",
        "    'suicides_no':'no_suicidios',\n",
        "    'gdp_per_capita ($)':'pib_per_capita',\n",
        "    'generation':'generacion'\n",
        "}"
      ]
    },
    {
      "cell_type": "code",
      "execution_count": null,
      "metadata": {
        "colab": {
          "base_uri": "https://localhost:8080/",
          "height": 206
        },
        "id": "GaqonbSQp6yL",
        "outputId": "8f04959b-569d-492b-affc-81b164ff20c5"
      },
      "outputs": [
        {
          "data": {
            "text/html": [
              "\n",
              "  <div id=\"df-e3422031-ebac-4137-8ca2-4f7815be7b5e\" class=\"colab-df-container\">\n",
              "    <div>\n",
              "<style scoped>\n",
              "    .dataframe tbody tr th:only-of-type {\n",
              "        vertical-align: middle;\n",
              "    }\n",
              "\n",
              "    .dataframe tbody tr th {\n",
              "        vertical-align: top;\n",
              "    }\n",
              "\n",
              "    .dataframe thead th {\n",
              "        text-align: right;\n",
              "    }\n",
              "</style>\n",
              "<table border=\"1\" class=\"dataframe\">\n",
              "  <thead>\n",
              "    <tr style=\"text-align: right;\">\n",
              "      <th></th>\n",
              "      <th>pais</th>\n",
              "      <th>año</th>\n",
              "      <th>sexo</th>\n",
              "      <th>edad</th>\n",
              "      <th>no_suicidios</th>\n",
              "      <th>pib_per_capita</th>\n",
              "      <th>generacion</th>\n",
              "    </tr>\n",
              "  </thead>\n",
              "  <tbody>\n",
              "    <tr>\n",
              "      <th>0</th>\n",
              "      <td>Albania</td>\n",
              "      <td>1987</td>\n",
              "      <td>male</td>\n",
              "      <td>15-24 years</td>\n",
              "      <td>21</td>\n",
              "      <td>796</td>\n",
              "      <td>Generation X</td>\n",
              "    </tr>\n",
              "    <tr>\n",
              "      <th>1</th>\n",
              "      <td>Albania</td>\n",
              "      <td>1987</td>\n",
              "      <td>male</td>\n",
              "      <td>35-54 years</td>\n",
              "      <td>16</td>\n",
              "      <td>796</td>\n",
              "      <td>Silent</td>\n",
              "    </tr>\n",
              "    <tr>\n",
              "      <th>2</th>\n",
              "      <td>Albania</td>\n",
              "      <td>1987</td>\n",
              "      <td>female</td>\n",
              "      <td>15-24 years</td>\n",
              "      <td>14</td>\n",
              "      <td>796</td>\n",
              "      <td>Generation X</td>\n",
              "    </tr>\n",
              "    <tr>\n",
              "      <th>3</th>\n",
              "      <td>Albania</td>\n",
              "      <td>1987</td>\n",
              "      <td>male</td>\n",
              "      <td>75+ years</td>\n",
              "      <td>1</td>\n",
              "      <td>796</td>\n",
              "      <td>G.I. Generation</td>\n",
              "    </tr>\n",
              "    <tr>\n",
              "      <th>4</th>\n",
              "      <td>Albania</td>\n",
              "      <td>1987</td>\n",
              "      <td>male</td>\n",
              "      <td>25-34 years</td>\n",
              "      <td>9</td>\n",
              "      <td>796</td>\n",
              "      <td>Boomers</td>\n",
              "    </tr>\n",
              "  </tbody>\n",
              "</table>\n",
              "</div>\n",
              "    <div class=\"colab-df-buttons\">\n",
              "\n",
              "  <div class=\"colab-df-container\">\n",
              "    <button class=\"colab-df-convert\" onclick=\"convertToInteractive('df-e3422031-ebac-4137-8ca2-4f7815be7b5e')\"\n",
              "            title=\"Convert this dataframe to an interactive table.\"\n",
              "            style=\"display:none;\">\n",
              "\n",
              "  <svg xmlns=\"http://www.w3.org/2000/svg\" height=\"24px\" viewBox=\"0 -960 960 960\">\n",
              "    <path d=\"M120-120v-720h720v720H120Zm60-500h600v-160H180v160Zm220 220h160v-160H400v160Zm0 220h160v-160H400v160ZM180-400h160v-160H180v160Zm440 0h160v-160H620v160ZM180-180h160v-160H180v160Zm440 0h160v-160H620v160Z\"/>\n",
              "  </svg>\n",
              "    </button>\n",
              "\n",
              "  <style>\n",
              "    .colab-df-container {\n",
              "      display:flex;\n",
              "      gap: 12px;\n",
              "    }\n",
              "\n",
              "    .colab-df-convert {\n",
              "      background-color: #E8F0FE;\n",
              "      border: none;\n",
              "      border-radius: 50%;\n",
              "      cursor: pointer;\n",
              "      display: none;\n",
              "      fill: #1967D2;\n",
              "      height: 32px;\n",
              "      padding: 0 0 0 0;\n",
              "      width: 32px;\n",
              "    }\n",
              "\n",
              "    .colab-df-convert:hover {\n",
              "      background-color: #E2EBFA;\n",
              "      box-shadow: 0px 1px 2px rgba(60, 64, 67, 0.3), 0px 1px 3px 1px rgba(60, 64, 67, 0.15);\n",
              "      fill: #174EA6;\n",
              "    }\n",
              "\n",
              "    .colab-df-buttons div {\n",
              "      margin-bottom: 4px;\n",
              "    }\n",
              "\n",
              "    [theme=dark] .colab-df-convert {\n",
              "      background-color: #3B4455;\n",
              "      fill: #D2E3FC;\n",
              "    }\n",
              "\n",
              "    [theme=dark] .colab-df-convert:hover {\n",
              "      background-color: #434B5C;\n",
              "      box-shadow: 0px 1px 3px 1px rgba(0, 0, 0, 0.15);\n",
              "      filter: drop-shadow(0px 1px 2px rgba(0, 0, 0, 0.3));\n",
              "      fill: #FFFFFF;\n",
              "    }\n",
              "  </style>\n",
              "\n",
              "    <script>\n",
              "      const buttonEl =\n",
              "        document.querySelector('#df-e3422031-ebac-4137-8ca2-4f7815be7b5e button.colab-df-convert');\n",
              "      buttonEl.style.display =\n",
              "        google.colab.kernel.accessAllowed ? 'block' : 'none';\n",
              "\n",
              "      async function convertToInteractive(key) {\n",
              "        const element = document.querySelector('#df-e3422031-ebac-4137-8ca2-4f7815be7b5e');\n",
              "        const dataTable =\n",
              "          await google.colab.kernel.invokeFunction('convertToInteractive',\n",
              "                                                    [key], {});\n",
              "        if (!dataTable) return;\n",
              "\n",
              "        const docLinkHtml = 'Like what you see? Visit the ' +\n",
              "          '<a target=\"_blank\" href=https://colab.research.google.com/notebooks/data_table.ipynb>data table notebook</a>'\n",
              "          + ' to learn more about interactive tables.';\n",
              "        element.innerHTML = '';\n",
              "        dataTable['output_type'] = 'display_data';\n",
              "        await google.colab.output.renderOutput(dataTable, element);\n",
              "        const docLink = document.createElement('div');\n",
              "        docLink.innerHTML = docLinkHtml;\n",
              "        element.appendChild(docLink);\n",
              "      }\n",
              "    </script>\n",
              "  </div>\n",
              "\n",
              "\n",
              "<div id=\"df-e6e94956-7b53-4f0a-ad54-06986d355e57\">\n",
              "  <button class=\"colab-df-quickchart\" onclick=\"quickchart('df-e6e94956-7b53-4f0a-ad54-06986d355e57')\"\n",
              "            title=\"Suggest charts\"\n",
              "            style=\"display:none;\">\n",
              "\n",
              "<svg xmlns=\"http://www.w3.org/2000/svg\" height=\"24px\"viewBox=\"0 0 24 24\"\n",
              "     width=\"24px\">\n",
              "    <g>\n",
              "        <path d=\"M19 3H5c-1.1 0-2 .9-2 2v14c0 1.1.9 2 2 2h14c1.1 0 2-.9 2-2V5c0-1.1-.9-2-2-2zM9 17H7v-7h2v7zm4 0h-2V7h2v10zm4 0h-2v-4h2v4z\"/>\n",
              "    </g>\n",
              "</svg>\n",
              "  </button>\n",
              "\n",
              "<style>\n",
              "  .colab-df-quickchart {\n",
              "      --bg-color: #E8F0FE;\n",
              "      --fill-color: #1967D2;\n",
              "      --hover-bg-color: #E2EBFA;\n",
              "      --hover-fill-color: #174EA6;\n",
              "      --disabled-fill-color: #AAA;\n",
              "      --disabled-bg-color: #DDD;\n",
              "  }\n",
              "\n",
              "  [theme=dark] .colab-df-quickchart {\n",
              "      --bg-color: #3B4455;\n",
              "      --fill-color: #D2E3FC;\n",
              "      --hover-bg-color: #434B5C;\n",
              "      --hover-fill-color: #FFFFFF;\n",
              "      --disabled-bg-color: #3B4455;\n",
              "      --disabled-fill-color: #666;\n",
              "  }\n",
              "\n",
              "  .colab-df-quickchart {\n",
              "    background-color: var(--bg-color);\n",
              "    border: none;\n",
              "    border-radius: 50%;\n",
              "    cursor: pointer;\n",
              "    display: none;\n",
              "    fill: var(--fill-color);\n",
              "    height: 32px;\n",
              "    padding: 0;\n",
              "    width: 32px;\n",
              "  }\n",
              "\n",
              "  .colab-df-quickchart:hover {\n",
              "    background-color: var(--hover-bg-color);\n",
              "    box-shadow: 0 1px 2px rgba(60, 64, 67, 0.3), 0 1px 3px 1px rgba(60, 64, 67, 0.15);\n",
              "    fill: var(--button-hover-fill-color);\n",
              "  }\n",
              "\n",
              "  .colab-df-quickchart-complete:disabled,\n",
              "  .colab-df-quickchart-complete:disabled:hover {\n",
              "    background-color: var(--disabled-bg-color);\n",
              "    fill: var(--disabled-fill-color);\n",
              "    box-shadow: none;\n",
              "  }\n",
              "\n",
              "  .colab-df-spinner {\n",
              "    border: 2px solid var(--fill-color);\n",
              "    border-color: transparent;\n",
              "    border-bottom-color: var(--fill-color);\n",
              "    animation:\n",
              "      spin 1s steps(1) infinite;\n",
              "  }\n",
              "\n",
              "  @keyframes spin {\n",
              "    0% {\n",
              "      border-color: transparent;\n",
              "      border-bottom-color: var(--fill-color);\n",
              "      border-left-color: var(--fill-color);\n",
              "    }\n",
              "    20% {\n",
              "      border-color: transparent;\n",
              "      border-left-color: var(--fill-color);\n",
              "      border-top-color: var(--fill-color);\n",
              "    }\n",
              "    30% {\n",
              "      border-color: transparent;\n",
              "      border-left-color: var(--fill-color);\n",
              "      border-top-color: var(--fill-color);\n",
              "      border-right-color: var(--fill-color);\n",
              "    }\n",
              "    40% {\n",
              "      border-color: transparent;\n",
              "      border-right-color: var(--fill-color);\n",
              "      border-top-color: var(--fill-color);\n",
              "    }\n",
              "    60% {\n",
              "      border-color: transparent;\n",
              "      border-right-color: var(--fill-color);\n",
              "    }\n",
              "    80% {\n",
              "      border-color: transparent;\n",
              "      border-right-color: var(--fill-color);\n",
              "      border-bottom-color: var(--fill-color);\n",
              "    }\n",
              "    90% {\n",
              "      border-color: transparent;\n",
              "      border-bottom-color: var(--fill-color);\n",
              "    }\n",
              "  }\n",
              "</style>\n",
              "\n",
              "  <script>\n",
              "    async function quickchart(key) {\n",
              "      const quickchartButtonEl =\n",
              "        document.querySelector('#' + key + ' button');\n",
              "      quickchartButtonEl.disabled = true;  // To prevent multiple clicks.\n",
              "      quickchartButtonEl.classList.add('colab-df-spinner');\n",
              "      try {\n",
              "        const charts = await google.colab.kernel.invokeFunction(\n",
              "            'suggestCharts', [key], {});\n",
              "      } catch (error) {\n",
              "        console.error('Error during call to suggestCharts:', error);\n",
              "      }\n",
              "      quickchartButtonEl.classList.remove('colab-df-spinner');\n",
              "      quickchartButtonEl.classList.add('colab-df-quickchart-complete');\n",
              "    }\n",
              "    (() => {\n",
              "      let quickchartButtonEl =\n",
              "        document.querySelector('#df-e6e94956-7b53-4f0a-ad54-06986d355e57 button');\n",
              "      quickchartButtonEl.style.display =\n",
              "        google.colab.kernel.accessAllowed ? 'block' : 'none';\n",
              "    })();\n",
              "  </script>\n",
              "</div>\n",
              "\n",
              "    </div>\n",
              "  </div>\n"
            ],
            "text/plain": [
              "      pais   año    sexo         edad  no_suicidios  pib_per_capita  \\\n",
              "0  Albania  1987    male  15-24 years            21             796   \n",
              "1  Albania  1987    male  35-54 years            16             796   \n",
              "2  Albania  1987  female  15-24 years            14             796   \n",
              "3  Albania  1987    male    75+ years             1             796   \n",
              "4  Albania  1987    male  25-34 years             9             796   \n",
              "\n",
              "        generacion  \n",
              "0     Generation X  \n",
              "1           Silent  \n",
              "2     Generation X  \n",
              "3  G.I. Generation  \n",
              "4          Boomers  "
            ]
          },
          "execution_count": 19,
          "metadata": {},
          "output_type": "execute_result"
        }
      ],
      "source": [
        "# Cambio de nombres\n",
        "df = df.rename(columns=column_name_mapping)\n",
        "df.head()"
      ]
    },
    {
      "cell_type": "markdown",
      "metadata": {
        "id": "b0A_PDw-yCH6"
      },
      "source": [
        "Dentro de la información de la columna **generacion**, observamos que la palabra \"Generation\" se repite constantemente, entonces procedemos a eliminar esa palabra repetida, ya que el nombre de la columna indica que se habla de las generaciones."
      ]
    },
    {
      "cell_type": "code",
      "execution_count": null,
      "metadata": {
        "colab": {
          "base_uri": "https://localhost:8080/",
          "height": 206
        },
        "id": "XUW-t__JznGH",
        "outputId": "c61b47b1-dda1-4595-ce8a-299f7414af9a"
      },
      "outputs": [
        {
          "data": {
            "text/html": [
              "\n",
              "  <div id=\"df-97c9b987-0eff-4a63-bbba-629754f1e360\" class=\"colab-df-container\">\n",
              "    <div>\n",
              "<style scoped>\n",
              "    .dataframe tbody tr th:only-of-type {\n",
              "        vertical-align: middle;\n",
              "    }\n",
              "\n",
              "    .dataframe tbody tr th {\n",
              "        vertical-align: top;\n",
              "    }\n",
              "\n",
              "    .dataframe thead th {\n",
              "        text-align: right;\n",
              "    }\n",
              "</style>\n",
              "<table border=\"1\" class=\"dataframe\">\n",
              "  <thead>\n",
              "    <tr style=\"text-align: right;\">\n",
              "      <th></th>\n",
              "      <th>pais</th>\n",
              "      <th>año</th>\n",
              "      <th>sexo</th>\n",
              "      <th>edad</th>\n",
              "      <th>no_suicidios</th>\n",
              "      <th>pib_per_capita</th>\n",
              "      <th>generacion</th>\n",
              "    </tr>\n",
              "  </thead>\n",
              "  <tbody>\n",
              "    <tr>\n",
              "      <th>0</th>\n",
              "      <td>Albania</td>\n",
              "      <td>1987</td>\n",
              "      <td>male</td>\n",
              "      <td>15-24 years</td>\n",
              "      <td>21</td>\n",
              "      <td>796</td>\n",
              "      <td>X</td>\n",
              "    </tr>\n",
              "    <tr>\n",
              "      <th>1</th>\n",
              "      <td>Albania</td>\n",
              "      <td>1987</td>\n",
              "      <td>male</td>\n",
              "      <td>35-54 years</td>\n",
              "      <td>16</td>\n",
              "      <td>796</td>\n",
              "      <td>Silent</td>\n",
              "    </tr>\n",
              "    <tr>\n",
              "      <th>2</th>\n",
              "      <td>Albania</td>\n",
              "      <td>1987</td>\n",
              "      <td>female</td>\n",
              "      <td>15-24 years</td>\n",
              "      <td>14</td>\n",
              "      <td>796</td>\n",
              "      <td>X</td>\n",
              "    </tr>\n",
              "    <tr>\n",
              "      <th>3</th>\n",
              "      <td>Albania</td>\n",
              "      <td>1987</td>\n",
              "      <td>male</td>\n",
              "      <td>75+ years</td>\n",
              "      <td>1</td>\n",
              "      <td>796</td>\n",
              "      <td>G.I.</td>\n",
              "    </tr>\n",
              "    <tr>\n",
              "      <th>4</th>\n",
              "      <td>Albania</td>\n",
              "      <td>1987</td>\n",
              "      <td>male</td>\n",
              "      <td>25-34 years</td>\n",
              "      <td>9</td>\n",
              "      <td>796</td>\n",
              "      <td>Boomers</td>\n",
              "    </tr>\n",
              "  </tbody>\n",
              "</table>\n",
              "</div>\n",
              "    <div class=\"colab-df-buttons\">\n",
              "\n",
              "  <div class=\"colab-df-container\">\n",
              "    <button class=\"colab-df-convert\" onclick=\"convertToInteractive('df-97c9b987-0eff-4a63-bbba-629754f1e360')\"\n",
              "            title=\"Convert this dataframe to an interactive table.\"\n",
              "            style=\"display:none;\">\n",
              "\n",
              "  <svg xmlns=\"http://www.w3.org/2000/svg\" height=\"24px\" viewBox=\"0 -960 960 960\">\n",
              "    <path d=\"M120-120v-720h720v720H120Zm60-500h600v-160H180v160Zm220 220h160v-160H400v160Zm0 220h160v-160H400v160ZM180-400h160v-160H180v160Zm440 0h160v-160H620v160ZM180-180h160v-160H180v160Zm440 0h160v-160H620v160Z\"/>\n",
              "  </svg>\n",
              "    </button>\n",
              "\n",
              "  <style>\n",
              "    .colab-df-container {\n",
              "      display:flex;\n",
              "      gap: 12px;\n",
              "    }\n",
              "\n",
              "    .colab-df-convert {\n",
              "      background-color: #E8F0FE;\n",
              "      border: none;\n",
              "      border-radius: 50%;\n",
              "      cursor: pointer;\n",
              "      display: none;\n",
              "      fill: #1967D2;\n",
              "      height: 32px;\n",
              "      padding: 0 0 0 0;\n",
              "      width: 32px;\n",
              "    }\n",
              "\n",
              "    .colab-df-convert:hover {\n",
              "      background-color: #E2EBFA;\n",
              "      box-shadow: 0px 1px 2px rgba(60, 64, 67, 0.3), 0px 1px 3px 1px rgba(60, 64, 67, 0.15);\n",
              "      fill: #174EA6;\n",
              "    }\n",
              "\n",
              "    .colab-df-buttons div {\n",
              "      margin-bottom: 4px;\n",
              "    }\n",
              "\n",
              "    [theme=dark] .colab-df-convert {\n",
              "      background-color: #3B4455;\n",
              "      fill: #D2E3FC;\n",
              "    }\n",
              "\n",
              "    [theme=dark] .colab-df-convert:hover {\n",
              "      background-color: #434B5C;\n",
              "      box-shadow: 0px 1px 3px 1px rgba(0, 0, 0, 0.15);\n",
              "      filter: drop-shadow(0px 1px 2px rgba(0, 0, 0, 0.3));\n",
              "      fill: #FFFFFF;\n",
              "    }\n",
              "  </style>\n",
              "\n",
              "    <script>\n",
              "      const buttonEl =\n",
              "        document.querySelector('#df-97c9b987-0eff-4a63-bbba-629754f1e360 button.colab-df-convert');\n",
              "      buttonEl.style.display =\n",
              "        google.colab.kernel.accessAllowed ? 'block' : 'none';\n",
              "\n",
              "      async function convertToInteractive(key) {\n",
              "        const element = document.querySelector('#df-97c9b987-0eff-4a63-bbba-629754f1e360');\n",
              "        const dataTable =\n",
              "          await google.colab.kernel.invokeFunction('convertToInteractive',\n",
              "                                                    [key], {});\n",
              "        if (!dataTable) return;\n",
              "\n",
              "        const docLinkHtml = 'Like what you see? Visit the ' +\n",
              "          '<a target=\"_blank\" href=https://colab.research.google.com/notebooks/data_table.ipynb>data table notebook</a>'\n",
              "          + ' to learn more about interactive tables.';\n",
              "        element.innerHTML = '';\n",
              "        dataTable['output_type'] = 'display_data';\n",
              "        await google.colab.output.renderOutput(dataTable, element);\n",
              "        const docLink = document.createElement('div');\n",
              "        docLink.innerHTML = docLinkHtml;\n",
              "        element.appendChild(docLink);\n",
              "      }\n",
              "    </script>\n",
              "  </div>\n",
              "\n",
              "\n",
              "<div id=\"df-88a95e49-d1de-4e9d-82f4-506e11f0f1eb\">\n",
              "  <button class=\"colab-df-quickchart\" onclick=\"quickchart('df-88a95e49-d1de-4e9d-82f4-506e11f0f1eb')\"\n",
              "            title=\"Suggest charts\"\n",
              "            style=\"display:none;\">\n",
              "\n",
              "<svg xmlns=\"http://www.w3.org/2000/svg\" height=\"24px\"viewBox=\"0 0 24 24\"\n",
              "     width=\"24px\">\n",
              "    <g>\n",
              "        <path d=\"M19 3H5c-1.1 0-2 .9-2 2v14c0 1.1.9 2 2 2h14c1.1 0 2-.9 2-2V5c0-1.1-.9-2-2-2zM9 17H7v-7h2v7zm4 0h-2V7h2v10zm4 0h-2v-4h2v4z\"/>\n",
              "    </g>\n",
              "</svg>\n",
              "  </button>\n",
              "\n",
              "<style>\n",
              "  .colab-df-quickchart {\n",
              "      --bg-color: #E8F0FE;\n",
              "      --fill-color: #1967D2;\n",
              "      --hover-bg-color: #E2EBFA;\n",
              "      --hover-fill-color: #174EA6;\n",
              "      --disabled-fill-color: #AAA;\n",
              "      --disabled-bg-color: #DDD;\n",
              "  }\n",
              "\n",
              "  [theme=dark] .colab-df-quickchart {\n",
              "      --bg-color: #3B4455;\n",
              "      --fill-color: #D2E3FC;\n",
              "      --hover-bg-color: #434B5C;\n",
              "      --hover-fill-color: #FFFFFF;\n",
              "      --disabled-bg-color: #3B4455;\n",
              "      --disabled-fill-color: #666;\n",
              "  }\n",
              "\n",
              "  .colab-df-quickchart {\n",
              "    background-color: var(--bg-color);\n",
              "    border: none;\n",
              "    border-radius: 50%;\n",
              "    cursor: pointer;\n",
              "    display: none;\n",
              "    fill: var(--fill-color);\n",
              "    height: 32px;\n",
              "    padding: 0;\n",
              "    width: 32px;\n",
              "  }\n",
              "\n",
              "  .colab-df-quickchart:hover {\n",
              "    background-color: var(--hover-bg-color);\n",
              "    box-shadow: 0 1px 2px rgba(60, 64, 67, 0.3), 0 1px 3px 1px rgba(60, 64, 67, 0.15);\n",
              "    fill: var(--button-hover-fill-color);\n",
              "  }\n",
              "\n",
              "  .colab-df-quickchart-complete:disabled,\n",
              "  .colab-df-quickchart-complete:disabled:hover {\n",
              "    background-color: var(--disabled-bg-color);\n",
              "    fill: var(--disabled-fill-color);\n",
              "    box-shadow: none;\n",
              "  }\n",
              "\n",
              "  .colab-df-spinner {\n",
              "    border: 2px solid var(--fill-color);\n",
              "    border-color: transparent;\n",
              "    border-bottom-color: var(--fill-color);\n",
              "    animation:\n",
              "      spin 1s steps(1) infinite;\n",
              "  }\n",
              "\n",
              "  @keyframes spin {\n",
              "    0% {\n",
              "      border-color: transparent;\n",
              "      border-bottom-color: var(--fill-color);\n",
              "      border-left-color: var(--fill-color);\n",
              "    }\n",
              "    20% {\n",
              "      border-color: transparent;\n",
              "      border-left-color: var(--fill-color);\n",
              "      border-top-color: var(--fill-color);\n",
              "    }\n",
              "    30% {\n",
              "      border-color: transparent;\n",
              "      border-left-color: var(--fill-color);\n",
              "      border-top-color: var(--fill-color);\n",
              "      border-right-color: var(--fill-color);\n",
              "    }\n",
              "    40% {\n",
              "      border-color: transparent;\n",
              "      border-right-color: var(--fill-color);\n",
              "      border-top-color: var(--fill-color);\n",
              "    }\n",
              "    60% {\n",
              "      border-color: transparent;\n",
              "      border-right-color: var(--fill-color);\n",
              "    }\n",
              "    80% {\n",
              "      border-color: transparent;\n",
              "      border-right-color: var(--fill-color);\n",
              "      border-bottom-color: var(--fill-color);\n",
              "    }\n",
              "    90% {\n",
              "      border-color: transparent;\n",
              "      border-bottom-color: var(--fill-color);\n",
              "    }\n",
              "  }\n",
              "</style>\n",
              "\n",
              "  <script>\n",
              "    async function quickchart(key) {\n",
              "      const quickchartButtonEl =\n",
              "        document.querySelector('#' + key + ' button');\n",
              "      quickchartButtonEl.disabled = true;  // To prevent multiple clicks.\n",
              "      quickchartButtonEl.classList.add('colab-df-spinner');\n",
              "      try {\n",
              "        const charts = await google.colab.kernel.invokeFunction(\n",
              "            'suggestCharts', [key], {});\n",
              "      } catch (error) {\n",
              "        console.error('Error during call to suggestCharts:', error);\n",
              "      }\n",
              "      quickchartButtonEl.classList.remove('colab-df-spinner');\n",
              "      quickchartButtonEl.classList.add('colab-df-quickchart-complete');\n",
              "    }\n",
              "    (() => {\n",
              "      let quickchartButtonEl =\n",
              "        document.querySelector('#df-88a95e49-d1de-4e9d-82f4-506e11f0f1eb button');\n",
              "      quickchartButtonEl.style.display =\n",
              "        google.colab.kernel.accessAllowed ? 'block' : 'none';\n",
              "    })();\n",
              "  </script>\n",
              "</div>\n",
              "\n",
              "    </div>\n",
              "  </div>\n"
            ],
            "text/plain": [
              "      pais   año    sexo         edad  no_suicidios  pib_per_capita generacion\n",
              "0  Albania  1987    male  15-24 years            21             796          X\n",
              "1  Albania  1987    male  35-54 years            16             796     Silent\n",
              "2  Albania  1987  female  15-24 years            14             796          X\n",
              "3  Albania  1987    male    75+ years             1             796      G.I. \n",
              "4  Albania  1987    male  25-34 years             9             796    Boomers"
            ]
          },
          "execution_count": 20,
          "metadata": {},
          "output_type": "execute_result"
        }
      ],
      "source": [
        "#Eliminar la palabra \"Generation\" de la columna 'generacion'\n",
        "df['generacion']=df['generacion'].str.replace('Generation', '')\n",
        "\n",
        "df.head()"
      ]
    },
    {
      "cell_type": "markdown",
      "metadata": {
        "id": "8kinzVpQ2nMh"
      },
      "source": [
        "Luego, observamos que la columna **age** es de tipo objeto, y debería de ser de tipo entero ya que la edad es numérica, pero esto se debe a que en la información que tiene la columna, tiene la palabra **years**, entonces también procedemos a eliminar esa palabra repetida."
      ]
    },
    {
      "cell_type": "code",
      "execution_count": null,
      "metadata": {
        "colab": {
          "base_uri": "https://localhost:8080/",
          "height": 206
        },
        "id": "p0h1c40hbv5l",
        "outputId": "a2d9e360-8964-43cb-b450-451b71dd604f"
      },
      "outputs": [
        {
          "data": {
            "text/html": [
              "\n",
              "  <div id=\"df-69f3bd09-1f83-47d5-b3b0-95bbe42f90e8\" class=\"colab-df-container\">\n",
              "    <div>\n",
              "<style scoped>\n",
              "    .dataframe tbody tr th:only-of-type {\n",
              "        vertical-align: middle;\n",
              "    }\n",
              "\n",
              "    .dataframe tbody tr th {\n",
              "        vertical-align: top;\n",
              "    }\n",
              "\n",
              "    .dataframe thead th {\n",
              "        text-align: right;\n",
              "    }\n",
              "</style>\n",
              "<table border=\"1\" class=\"dataframe\">\n",
              "  <thead>\n",
              "    <tr style=\"text-align: right;\">\n",
              "      <th></th>\n",
              "      <th>pais</th>\n",
              "      <th>año</th>\n",
              "      <th>sexo</th>\n",
              "      <th>edad</th>\n",
              "      <th>no_suicidios</th>\n",
              "      <th>pib_per_capita</th>\n",
              "      <th>generacion</th>\n",
              "    </tr>\n",
              "  </thead>\n",
              "  <tbody>\n",
              "    <tr>\n",
              "      <th>0</th>\n",
              "      <td>Albania</td>\n",
              "      <td>1987</td>\n",
              "      <td>male</td>\n",
              "      <td>15-24</td>\n",
              "      <td>21</td>\n",
              "      <td>796</td>\n",
              "      <td>X</td>\n",
              "    </tr>\n",
              "    <tr>\n",
              "      <th>1</th>\n",
              "      <td>Albania</td>\n",
              "      <td>1987</td>\n",
              "      <td>male</td>\n",
              "      <td>35-54</td>\n",
              "      <td>16</td>\n",
              "      <td>796</td>\n",
              "      <td>Silent</td>\n",
              "    </tr>\n",
              "    <tr>\n",
              "      <th>2</th>\n",
              "      <td>Albania</td>\n",
              "      <td>1987</td>\n",
              "      <td>female</td>\n",
              "      <td>15-24</td>\n",
              "      <td>14</td>\n",
              "      <td>796</td>\n",
              "      <td>X</td>\n",
              "    </tr>\n",
              "    <tr>\n",
              "      <th>3</th>\n",
              "      <td>Albania</td>\n",
              "      <td>1987</td>\n",
              "      <td>male</td>\n",
              "      <td>75+</td>\n",
              "      <td>1</td>\n",
              "      <td>796</td>\n",
              "      <td>G.I.</td>\n",
              "    </tr>\n",
              "    <tr>\n",
              "      <th>4</th>\n",
              "      <td>Albania</td>\n",
              "      <td>1987</td>\n",
              "      <td>male</td>\n",
              "      <td>25-34</td>\n",
              "      <td>9</td>\n",
              "      <td>796</td>\n",
              "      <td>Boomers</td>\n",
              "    </tr>\n",
              "  </tbody>\n",
              "</table>\n",
              "</div>\n",
              "    <div class=\"colab-df-buttons\">\n",
              "\n",
              "  <div class=\"colab-df-container\">\n",
              "    <button class=\"colab-df-convert\" onclick=\"convertToInteractive('df-69f3bd09-1f83-47d5-b3b0-95bbe42f90e8')\"\n",
              "            title=\"Convert this dataframe to an interactive table.\"\n",
              "            style=\"display:none;\">\n",
              "\n",
              "  <svg xmlns=\"http://www.w3.org/2000/svg\" height=\"24px\" viewBox=\"0 -960 960 960\">\n",
              "    <path d=\"M120-120v-720h720v720H120Zm60-500h600v-160H180v160Zm220 220h160v-160H400v160Zm0 220h160v-160H400v160ZM180-400h160v-160H180v160Zm440 0h160v-160H620v160ZM180-180h160v-160H180v160Zm440 0h160v-160H620v160Z\"/>\n",
              "  </svg>\n",
              "    </button>\n",
              "\n",
              "  <style>\n",
              "    .colab-df-container {\n",
              "      display:flex;\n",
              "      gap: 12px;\n",
              "    }\n",
              "\n",
              "    .colab-df-convert {\n",
              "      background-color: #E8F0FE;\n",
              "      border: none;\n",
              "      border-radius: 50%;\n",
              "      cursor: pointer;\n",
              "      display: none;\n",
              "      fill: #1967D2;\n",
              "      height: 32px;\n",
              "      padding: 0 0 0 0;\n",
              "      width: 32px;\n",
              "    }\n",
              "\n",
              "    .colab-df-convert:hover {\n",
              "      background-color: #E2EBFA;\n",
              "      box-shadow: 0px 1px 2px rgba(60, 64, 67, 0.3), 0px 1px 3px 1px rgba(60, 64, 67, 0.15);\n",
              "      fill: #174EA6;\n",
              "    }\n",
              "\n",
              "    .colab-df-buttons div {\n",
              "      margin-bottom: 4px;\n",
              "    }\n",
              "\n",
              "    [theme=dark] .colab-df-convert {\n",
              "      background-color: #3B4455;\n",
              "      fill: #D2E3FC;\n",
              "    }\n",
              "\n",
              "    [theme=dark] .colab-df-convert:hover {\n",
              "      background-color: #434B5C;\n",
              "      box-shadow: 0px 1px 3px 1px rgba(0, 0, 0, 0.15);\n",
              "      filter: drop-shadow(0px 1px 2px rgba(0, 0, 0, 0.3));\n",
              "      fill: #FFFFFF;\n",
              "    }\n",
              "  </style>\n",
              "\n",
              "    <script>\n",
              "      const buttonEl =\n",
              "        document.querySelector('#df-69f3bd09-1f83-47d5-b3b0-95bbe42f90e8 button.colab-df-convert');\n",
              "      buttonEl.style.display =\n",
              "        google.colab.kernel.accessAllowed ? 'block' : 'none';\n",
              "\n",
              "      async function convertToInteractive(key) {\n",
              "        const element = document.querySelector('#df-69f3bd09-1f83-47d5-b3b0-95bbe42f90e8');\n",
              "        const dataTable =\n",
              "          await google.colab.kernel.invokeFunction('convertToInteractive',\n",
              "                                                    [key], {});\n",
              "        if (!dataTable) return;\n",
              "\n",
              "        const docLinkHtml = 'Like what you see? Visit the ' +\n",
              "          '<a target=\"_blank\" href=https://colab.research.google.com/notebooks/data_table.ipynb>data table notebook</a>'\n",
              "          + ' to learn more about interactive tables.';\n",
              "        element.innerHTML = '';\n",
              "        dataTable['output_type'] = 'display_data';\n",
              "        await google.colab.output.renderOutput(dataTable, element);\n",
              "        const docLink = document.createElement('div');\n",
              "        docLink.innerHTML = docLinkHtml;\n",
              "        element.appendChild(docLink);\n",
              "      }\n",
              "    </script>\n",
              "  </div>\n",
              "\n",
              "\n",
              "<div id=\"df-d9dca9bc-d387-431c-a8de-3e728805065c\">\n",
              "  <button class=\"colab-df-quickchart\" onclick=\"quickchart('df-d9dca9bc-d387-431c-a8de-3e728805065c')\"\n",
              "            title=\"Suggest charts\"\n",
              "            style=\"display:none;\">\n",
              "\n",
              "<svg xmlns=\"http://www.w3.org/2000/svg\" height=\"24px\"viewBox=\"0 0 24 24\"\n",
              "     width=\"24px\">\n",
              "    <g>\n",
              "        <path d=\"M19 3H5c-1.1 0-2 .9-2 2v14c0 1.1.9 2 2 2h14c1.1 0 2-.9 2-2V5c0-1.1-.9-2-2-2zM9 17H7v-7h2v7zm4 0h-2V7h2v10zm4 0h-2v-4h2v4z\"/>\n",
              "    </g>\n",
              "</svg>\n",
              "  </button>\n",
              "\n",
              "<style>\n",
              "  .colab-df-quickchart {\n",
              "      --bg-color: #E8F0FE;\n",
              "      --fill-color: #1967D2;\n",
              "      --hover-bg-color: #E2EBFA;\n",
              "      --hover-fill-color: #174EA6;\n",
              "      --disabled-fill-color: #AAA;\n",
              "      --disabled-bg-color: #DDD;\n",
              "  }\n",
              "\n",
              "  [theme=dark] .colab-df-quickchart {\n",
              "      --bg-color: #3B4455;\n",
              "      --fill-color: #D2E3FC;\n",
              "      --hover-bg-color: #434B5C;\n",
              "      --hover-fill-color: #FFFFFF;\n",
              "      --disabled-bg-color: #3B4455;\n",
              "      --disabled-fill-color: #666;\n",
              "  }\n",
              "\n",
              "  .colab-df-quickchart {\n",
              "    background-color: var(--bg-color);\n",
              "    border: none;\n",
              "    border-radius: 50%;\n",
              "    cursor: pointer;\n",
              "    display: none;\n",
              "    fill: var(--fill-color);\n",
              "    height: 32px;\n",
              "    padding: 0;\n",
              "    width: 32px;\n",
              "  }\n",
              "\n",
              "  .colab-df-quickchart:hover {\n",
              "    background-color: var(--hover-bg-color);\n",
              "    box-shadow: 0 1px 2px rgba(60, 64, 67, 0.3), 0 1px 3px 1px rgba(60, 64, 67, 0.15);\n",
              "    fill: var(--button-hover-fill-color);\n",
              "  }\n",
              "\n",
              "  .colab-df-quickchart-complete:disabled,\n",
              "  .colab-df-quickchart-complete:disabled:hover {\n",
              "    background-color: var(--disabled-bg-color);\n",
              "    fill: var(--disabled-fill-color);\n",
              "    box-shadow: none;\n",
              "  }\n",
              "\n",
              "  .colab-df-spinner {\n",
              "    border: 2px solid var(--fill-color);\n",
              "    border-color: transparent;\n",
              "    border-bottom-color: var(--fill-color);\n",
              "    animation:\n",
              "      spin 1s steps(1) infinite;\n",
              "  }\n",
              "\n",
              "  @keyframes spin {\n",
              "    0% {\n",
              "      border-color: transparent;\n",
              "      border-bottom-color: var(--fill-color);\n",
              "      border-left-color: var(--fill-color);\n",
              "    }\n",
              "    20% {\n",
              "      border-color: transparent;\n",
              "      border-left-color: var(--fill-color);\n",
              "      border-top-color: var(--fill-color);\n",
              "    }\n",
              "    30% {\n",
              "      border-color: transparent;\n",
              "      border-left-color: var(--fill-color);\n",
              "      border-top-color: var(--fill-color);\n",
              "      border-right-color: var(--fill-color);\n",
              "    }\n",
              "    40% {\n",
              "      border-color: transparent;\n",
              "      border-right-color: var(--fill-color);\n",
              "      border-top-color: var(--fill-color);\n",
              "    }\n",
              "    60% {\n",
              "      border-color: transparent;\n",
              "      border-right-color: var(--fill-color);\n",
              "    }\n",
              "    80% {\n",
              "      border-color: transparent;\n",
              "      border-right-color: var(--fill-color);\n",
              "      border-bottom-color: var(--fill-color);\n",
              "    }\n",
              "    90% {\n",
              "      border-color: transparent;\n",
              "      border-bottom-color: var(--fill-color);\n",
              "    }\n",
              "  }\n",
              "</style>\n",
              "\n",
              "  <script>\n",
              "    async function quickchart(key) {\n",
              "      const quickchartButtonEl =\n",
              "        document.querySelector('#' + key + ' button');\n",
              "      quickchartButtonEl.disabled = true;  // To prevent multiple clicks.\n",
              "      quickchartButtonEl.classList.add('colab-df-spinner');\n",
              "      try {\n",
              "        const charts = await google.colab.kernel.invokeFunction(\n",
              "            'suggestCharts', [key], {});\n",
              "      } catch (error) {\n",
              "        console.error('Error during call to suggestCharts:', error);\n",
              "      }\n",
              "      quickchartButtonEl.classList.remove('colab-df-spinner');\n",
              "      quickchartButtonEl.classList.add('colab-df-quickchart-complete');\n",
              "    }\n",
              "    (() => {\n",
              "      let quickchartButtonEl =\n",
              "        document.querySelector('#df-d9dca9bc-d387-431c-a8de-3e728805065c button');\n",
              "      quickchartButtonEl.style.display =\n",
              "        google.colab.kernel.accessAllowed ? 'block' : 'none';\n",
              "    })();\n",
              "  </script>\n",
              "</div>\n",
              "\n",
              "    </div>\n",
              "  </div>\n"
            ],
            "text/plain": [
              "      pais   año    sexo   edad  no_suicidios  pib_per_capita generacion\n",
              "0  Albania  1987    male  15-24            21             796          X\n",
              "1  Albania  1987    male  35-54            16             796     Silent\n",
              "2  Albania  1987  female  15-24            14             796          X\n",
              "3  Albania  1987    male    75+             1             796      G.I. \n",
              "4  Albania  1987    male  25-34             9             796    Boomers"
            ]
          },
          "execution_count": 21,
          "metadata": {},
          "output_type": "execute_result"
        }
      ],
      "source": [
        "#Eliminar \"years\" de la columna edad\n",
        "\n",
        "df['edad']=df['edad'].str.replace(' years', '')\n",
        "\n",
        "df.head()"
      ]
    },
    {
      "cell_type": "code",
      "execution_count": null,
      "metadata": {
        "colab": {
          "base_uri": "https://localhost:8080/"
        },
        "id": "TG1qIhvo6QT9",
        "outputId": "abe5a3af-e245-499f-8375-e4591cae8862"
      },
      "outputs": [
        {
          "data": {
            "text/plain": [
              "pais              object\n",
              "año                int64\n",
              "sexo              object\n",
              "edad              object\n",
              "no_suicidios       int64\n",
              "pib_per_capita     int64\n",
              "generacion        object\n",
              "dtype: object"
            ]
          },
          "execution_count": 22,
          "metadata": {},
          "output_type": "execute_result"
        }
      ],
      "source": [
        "df.dtypes"
      ]
    },
    {
      "cell_type": "markdown",
      "metadata": {
        "id": "Q-8DQ2KY4SKz"
      },
      "source": [
        "Notamos que apesar de que ya se eliminó la palabra \"years\", sigue considerando la columna \"edad\" como objeto, ya que también contiene símbolos como **+** y **-**. Para lidiar con este problema, lo vamos a dejar como objeto y lo vamos a considerar como si fuera una variable categórica"
      ]
    },
    {
      "cell_type": "markdown",
      "metadata": {
        "id": "s13vjiUC8LFL"
      },
      "source": [
        "Luego, vamos a cambiar \"male\" y \"female\" de la columna sexo a una abreviatura más cómoda."
      ]
    },
    {
      "cell_type": "code",
      "execution_count": null,
      "metadata": {
        "colab": {
          "base_uri": "https://localhost:8080/",
          "height": 296
        },
        "id": "DLDxco7J7wkk",
        "outputId": "b8369e67-0b6d-478e-c116-223e8fd162cb"
      },
      "outputs": [
        {
          "name": "stderr",
          "output_type": "stream",
          "text": [
            "<ipython-input-23-1c2770f12575>:3: FutureWarning: The default value of regex will change from True to False in a future version.\n",
            "  df['sexo']=df['sexo'].str.replace(r'\\bmale\\b', 'M', case= False)\n",
            "<ipython-input-23-1c2770f12575>:4: FutureWarning: The default value of regex will change from True to False in a future version.\n",
            "  df['sexo']=df['sexo'].str.replace(r'\\bfemale\\b', 'F', case= False)\n"
          ]
        },
        {
          "data": {
            "text/html": [
              "\n",
              "  <div id=\"df-555179ff-78ae-4b91-8054-2d9f7dc705ff\" class=\"colab-df-container\">\n",
              "    <div>\n",
              "<style scoped>\n",
              "    .dataframe tbody tr th:only-of-type {\n",
              "        vertical-align: middle;\n",
              "    }\n",
              "\n",
              "    .dataframe tbody tr th {\n",
              "        vertical-align: top;\n",
              "    }\n",
              "\n",
              "    .dataframe thead th {\n",
              "        text-align: right;\n",
              "    }\n",
              "</style>\n",
              "<table border=\"1\" class=\"dataframe\">\n",
              "  <thead>\n",
              "    <tr style=\"text-align: right;\">\n",
              "      <th></th>\n",
              "      <th>pais</th>\n",
              "      <th>año</th>\n",
              "      <th>sexo</th>\n",
              "      <th>edad</th>\n",
              "      <th>no_suicidios</th>\n",
              "      <th>pib_per_capita</th>\n",
              "      <th>generacion</th>\n",
              "    </tr>\n",
              "  </thead>\n",
              "  <tbody>\n",
              "    <tr>\n",
              "      <th>0</th>\n",
              "      <td>Albania</td>\n",
              "      <td>1987</td>\n",
              "      <td>M</td>\n",
              "      <td>15-24</td>\n",
              "      <td>21</td>\n",
              "      <td>796</td>\n",
              "      <td>X</td>\n",
              "    </tr>\n",
              "    <tr>\n",
              "      <th>1</th>\n",
              "      <td>Albania</td>\n",
              "      <td>1987</td>\n",
              "      <td>M</td>\n",
              "      <td>35-54</td>\n",
              "      <td>16</td>\n",
              "      <td>796</td>\n",
              "      <td>Silent</td>\n",
              "    </tr>\n",
              "    <tr>\n",
              "      <th>2</th>\n",
              "      <td>Albania</td>\n",
              "      <td>1987</td>\n",
              "      <td>F</td>\n",
              "      <td>15-24</td>\n",
              "      <td>14</td>\n",
              "      <td>796</td>\n",
              "      <td>X</td>\n",
              "    </tr>\n",
              "    <tr>\n",
              "      <th>3</th>\n",
              "      <td>Albania</td>\n",
              "      <td>1987</td>\n",
              "      <td>M</td>\n",
              "      <td>75+</td>\n",
              "      <td>1</td>\n",
              "      <td>796</td>\n",
              "      <td>G.I.</td>\n",
              "    </tr>\n",
              "    <tr>\n",
              "      <th>4</th>\n",
              "      <td>Albania</td>\n",
              "      <td>1987</td>\n",
              "      <td>M</td>\n",
              "      <td>25-34</td>\n",
              "      <td>9</td>\n",
              "      <td>796</td>\n",
              "      <td>Boomers</td>\n",
              "    </tr>\n",
              "  </tbody>\n",
              "</table>\n",
              "</div>\n",
              "    <div class=\"colab-df-buttons\">\n",
              "\n",
              "  <div class=\"colab-df-container\">\n",
              "    <button class=\"colab-df-convert\" onclick=\"convertToInteractive('df-555179ff-78ae-4b91-8054-2d9f7dc705ff')\"\n",
              "            title=\"Convert this dataframe to an interactive table.\"\n",
              "            style=\"display:none;\">\n",
              "\n",
              "  <svg xmlns=\"http://www.w3.org/2000/svg\" height=\"24px\" viewBox=\"0 -960 960 960\">\n",
              "    <path d=\"M120-120v-720h720v720H120Zm60-500h600v-160H180v160Zm220 220h160v-160H400v160Zm0 220h160v-160H400v160ZM180-400h160v-160H180v160Zm440 0h160v-160H620v160ZM180-180h160v-160H180v160Zm440 0h160v-160H620v160Z\"/>\n",
              "  </svg>\n",
              "    </button>\n",
              "\n",
              "  <style>\n",
              "    .colab-df-container {\n",
              "      display:flex;\n",
              "      gap: 12px;\n",
              "    }\n",
              "\n",
              "    .colab-df-convert {\n",
              "      background-color: #E8F0FE;\n",
              "      border: none;\n",
              "      border-radius: 50%;\n",
              "      cursor: pointer;\n",
              "      display: none;\n",
              "      fill: #1967D2;\n",
              "      height: 32px;\n",
              "      padding: 0 0 0 0;\n",
              "      width: 32px;\n",
              "    }\n",
              "\n",
              "    .colab-df-convert:hover {\n",
              "      background-color: #E2EBFA;\n",
              "      box-shadow: 0px 1px 2px rgba(60, 64, 67, 0.3), 0px 1px 3px 1px rgba(60, 64, 67, 0.15);\n",
              "      fill: #174EA6;\n",
              "    }\n",
              "\n",
              "    .colab-df-buttons div {\n",
              "      margin-bottom: 4px;\n",
              "    }\n",
              "\n",
              "    [theme=dark] .colab-df-convert {\n",
              "      background-color: #3B4455;\n",
              "      fill: #D2E3FC;\n",
              "    }\n",
              "\n",
              "    [theme=dark] .colab-df-convert:hover {\n",
              "      background-color: #434B5C;\n",
              "      box-shadow: 0px 1px 3px 1px rgba(0, 0, 0, 0.15);\n",
              "      filter: drop-shadow(0px 1px 2px rgba(0, 0, 0, 0.3));\n",
              "      fill: #FFFFFF;\n",
              "    }\n",
              "  </style>\n",
              "\n",
              "    <script>\n",
              "      const buttonEl =\n",
              "        document.querySelector('#df-555179ff-78ae-4b91-8054-2d9f7dc705ff button.colab-df-convert');\n",
              "      buttonEl.style.display =\n",
              "        google.colab.kernel.accessAllowed ? 'block' : 'none';\n",
              "\n",
              "      async function convertToInteractive(key) {\n",
              "        const element = document.querySelector('#df-555179ff-78ae-4b91-8054-2d9f7dc705ff');\n",
              "        const dataTable =\n",
              "          await google.colab.kernel.invokeFunction('convertToInteractive',\n",
              "                                                    [key], {});\n",
              "        if (!dataTable) return;\n",
              "\n",
              "        const docLinkHtml = 'Like what you see? Visit the ' +\n",
              "          '<a target=\"_blank\" href=https://colab.research.google.com/notebooks/data_table.ipynb>data table notebook</a>'\n",
              "          + ' to learn more about interactive tables.';\n",
              "        element.innerHTML = '';\n",
              "        dataTable['output_type'] = 'display_data';\n",
              "        await google.colab.output.renderOutput(dataTable, element);\n",
              "        const docLink = document.createElement('div');\n",
              "        docLink.innerHTML = docLinkHtml;\n",
              "        element.appendChild(docLink);\n",
              "      }\n",
              "    </script>\n",
              "  </div>\n",
              "\n",
              "\n",
              "<div id=\"df-37a68f0e-088f-4cb6-a839-e7293070199a\">\n",
              "  <button class=\"colab-df-quickchart\" onclick=\"quickchart('df-37a68f0e-088f-4cb6-a839-e7293070199a')\"\n",
              "            title=\"Suggest charts\"\n",
              "            style=\"display:none;\">\n",
              "\n",
              "<svg xmlns=\"http://www.w3.org/2000/svg\" height=\"24px\"viewBox=\"0 0 24 24\"\n",
              "     width=\"24px\">\n",
              "    <g>\n",
              "        <path d=\"M19 3H5c-1.1 0-2 .9-2 2v14c0 1.1.9 2 2 2h14c1.1 0 2-.9 2-2V5c0-1.1-.9-2-2-2zM9 17H7v-7h2v7zm4 0h-2V7h2v10zm4 0h-2v-4h2v4z\"/>\n",
              "    </g>\n",
              "</svg>\n",
              "  </button>\n",
              "\n",
              "<style>\n",
              "  .colab-df-quickchart {\n",
              "      --bg-color: #E8F0FE;\n",
              "      --fill-color: #1967D2;\n",
              "      --hover-bg-color: #E2EBFA;\n",
              "      --hover-fill-color: #174EA6;\n",
              "      --disabled-fill-color: #AAA;\n",
              "      --disabled-bg-color: #DDD;\n",
              "  }\n",
              "\n",
              "  [theme=dark] .colab-df-quickchart {\n",
              "      --bg-color: #3B4455;\n",
              "      --fill-color: #D2E3FC;\n",
              "      --hover-bg-color: #434B5C;\n",
              "      --hover-fill-color: #FFFFFF;\n",
              "      --disabled-bg-color: #3B4455;\n",
              "      --disabled-fill-color: #666;\n",
              "  }\n",
              "\n",
              "  .colab-df-quickchart {\n",
              "    background-color: var(--bg-color);\n",
              "    border: none;\n",
              "    border-radius: 50%;\n",
              "    cursor: pointer;\n",
              "    display: none;\n",
              "    fill: var(--fill-color);\n",
              "    height: 32px;\n",
              "    padding: 0;\n",
              "    width: 32px;\n",
              "  }\n",
              "\n",
              "  .colab-df-quickchart:hover {\n",
              "    background-color: var(--hover-bg-color);\n",
              "    box-shadow: 0 1px 2px rgba(60, 64, 67, 0.3), 0 1px 3px 1px rgba(60, 64, 67, 0.15);\n",
              "    fill: var(--button-hover-fill-color);\n",
              "  }\n",
              "\n",
              "  .colab-df-quickchart-complete:disabled,\n",
              "  .colab-df-quickchart-complete:disabled:hover {\n",
              "    background-color: var(--disabled-bg-color);\n",
              "    fill: var(--disabled-fill-color);\n",
              "    box-shadow: none;\n",
              "  }\n",
              "\n",
              "  .colab-df-spinner {\n",
              "    border: 2px solid var(--fill-color);\n",
              "    border-color: transparent;\n",
              "    border-bottom-color: var(--fill-color);\n",
              "    animation:\n",
              "      spin 1s steps(1) infinite;\n",
              "  }\n",
              "\n",
              "  @keyframes spin {\n",
              "    0% {\n",
              "      border-color: transparent;\n",
              "      border-bottom-color: var(--fill-color);\n",
              "      border-left-color: var(--fill-color);\n",
              "    }\n",
              "    20% {\n",
              "      border-color: transparent;\n",
              "      border-left-color: var(--fill-color);\n",
              "      border-top-color: var(--fill-color);\n",
              "    }\n",
              "    30% {\n",
              "      border-color: transparent;\n",
              "      border-left-color: var(--fill-color);\n",
              "      border-top-color: var(--fill-color);\n",
              "      border-right-color: var(--fill-color);\n",
              "    }\n",
              "    40% {\n",
              "      border-color: transparent;\n",
              "      border-right-color: var(--fill-color);\n",
              "      border-top-color: var(--fill-color);\n",
              "    }\n",
              "    60% {\n",
              "      border-color: transparent;\n",
              "      border-right-color: var(--fill-color);\n",
              "    }\n",
              "    80% {\n",
              "      border-color: transparent;\n",
              "      border-right-color: var(--fill-color);\n",
              "      border-bottom-color: var(--fill-color);\n",
              "    }\n",
              "    90% {\n",
              "      border-color: transparent;\n",
              "      border-bottom-color: var(--fill-color);\n",
              "    }\n",
              "  }\n",
              "</style>\n",
              "\n",
              "  <script>\n",
              "    async function quickchart(key) {\n",
              "      const quickchartButtonEl =\n",
              "        document.querySelector('#' + key + ' button');\n",
              "      quickchartButtonEl.disabled = true;  // To prevent multiple clicks.\n",
              "      quickchartButtonEl.classList.add('colab-df-spinner');\n",
              "      try {\n",
              "        const charts = await google.colab.kernel.invokeFunction(\n",
              "            'suggestCharts', [key], {});\n",
              "      } catch (error) {\n",
              "        console.error('Error during call to suggestCharts:', error);\n",
              "      }\n",
              "      quickchartButtonEl.classList.remove('colab-df-spinner');\n",
              "      quickchartButtonEl.classList.add('colab-df-quickchart-complete');\n",
              "    }\n",
              "    (() => {\n",
              "      let quickchartButtonEl =\n",
              "        document.querySelector('#df-37a68f0e-088f-4cb6-a839-e7293070199a button');\n",
              "      quickchartButtonEl.style.display =\n",
              "        google.colab.kernel.accessAllowed ? 'block' : 'none';\n",
              "    })();\n",
              "  </script>\n",
              "</div>\n",
              "\n",
              "    </div>\n",
              "  </div>\n"
            ],
            "text/plain": [
              "      pais   año sexo   edad  no_suicidios  pib_per_capita generacion\n",
              "0  Albania  1987    M  15-24            21             796          X\n",
              "1  Albania  1987    M  35-54            16             796     Silent\n",
              "2  Albania  1987    F  15-24            14             796          X\n",
              "3  Albania  1987    M    75+             1             796      G.I. \n",
              "4  Albania  1987    M  25-34             9             796    Boomers"
            ]
          },
          "execution_count": 23,
          "metadata": {},
          "output_type": "execute_result"
        }
      ],
      "source": [
        "#Cambiar \"male\" y \"female\" de la columna sexo\n",
        "# \\b para representar límites de palabras\n",
        "df['sexo']=df['sexo'].str.replace(r'\\bmale\\b', 'M', case= False)\n",
        "df['sexo']=df['sexo'].str.replace(r'\\bfemale\\b', 'F', case= False)\n",
        "df.head()"
      ]
    },
    {
      "cell_type": "markdown",
      "metadata": {
        "id": "wZTL4Vlx8fvV"
      },
      "source": [
        "Por último en nuestra limpieza de datos, verificamos que no haya NANs en nuestro dataset con `isna()` y `sum()` para contabilizarlos:"
      ]
    },
    {
      "cell_type": "code",
      "execution_count": null,
      "metadata": {
        "colab": {
          "base_uri": "https://localhost:8080/"
        },
        "id": "Y4LwH4C3q019",
        "outputId": "90d153d3-e402-4fe9-d383-4df4750acfa7"
      },
      "outputs": [
        {
          "data": {
            "text/plain": [
              "pais              0\n",
              "año               0\n",
              "sexo              0\n",
              "edad              0\n",
              "no_suicidios      0\n",
              "pib_per_capita    0\n",
              "generacion        0\n",
              "dtype: int64"
            ]
          },
          "execution_count": 24,
          "metadata": {},
          "output_type": "execute_result"
        }
      ],
      "source": [
        "#Contabiliza las NANs\n",
        "df.isna().sum(axis=0)"
      ]
    },
    {
      "cell_type": "markdown",
      "metadata": {
        "id": "NxTADCHd-ITn"
      },
      "source": [
        "Por lo que notamos que no hay NANs en nuestro dataset en cada una de las columnas y también, estamos de acuerdo con los tipos de datos que tiene cada variable. Por lo que ya podemos graficar y hacer uso de los datos."
      ]
    },
    {
      "cell_type": "markdown",
      "metadata": {
        "id": "h686ceTlgU_8"
      },
      "source": [
        "Y por último, llamaremos al atributo `shape` e `info` para saber con cuantos datos nos quedamos al final de nuestra limplieza"
      ]
    },
    {
      "cell_type": "code",
      "execution_count": null,
      "metadata": {
        "colab": {
          "base_uri": "https://localhost:8080/"
        },
        "id": "dkmrdRshgxmA",
        "outputId": "039efecf-7460-4f43-cc7c-4104fc7f347e"
      },
      "outputs": [
        {
          "data": {
            "text/plain": [
              "(27820, 7)"
            ]
          },
          "execution_count": 26,
          "metadata": {},
          "output_type": "execute_result"
        }
      ],
      "source": [
        "df.shape"
      ]
    },
    {
      "cell_type": "code",
      "execution_count": null,
      "metadata": {
        "colab": {
          "base_uri": "https://localhost:8080/"
        },
        "id": "QRrwvqN8gyxT",
        "outputId": "4c5c00de-c7dd-47a7-bddd-9aeacaf281e9"
      },
      "outputs": [
        {
          "name": "stdout",
          "output_type": "stream",
          "text": [
            "<class 'pandas.core.frame.DataFrame'>\n",
            "RangeIndex: 27820 entries, 0 to 27819\n",
            "Data columns (total 7 columns):\n",
            " #   Column          Non-Null Count  Dtype \n",
            "---  ------          --------------  ----- \n",
            " 0   pais            27820 non-null  object\n",
            " 1   año             27820 non-null  int64 \n",
            " 2   sexo            27820 non-null  object\n",
            " 3   edad            27820 non-null  object\n",
            " 4   no_suicidios    27820 non-null  int64 \n",
            " 5   pib_per_capita  27820 non-null  int64 \n",
            " 6   generacion      27820 non-null  object\n",
            "dtypes: int64(3), object(4)\n",
            "memory usage: 1.5+ MB\n"
          ]
        }
      ],
      "source": [
        "df.info()"
      ]
    },
    {
      "cell_type": "markdown",
      "metadata": {
        "id": "WC6lTkQNg4MB"
      },
      "source": [
        "Por lo que nos quedamos con 7 columnas y 27,820 observaciones. Donde las columnas son las siguientes:\n",
        "\n",
        "* pais: Indica el país en el que se registraron los datos sobre suicidios\n",
        "* año: Indica el año en el que ocurrieron los suicidios.\n",
        "* sexo: Refleja el género de las personas para las que se informan los datos, Donde: M significa Masculino y F significa Femenino.\n",
        "* edad: Representa los grupos de edad en los que se dividen los datos.\n",
        "no_suicidios: Indica el número total de suicidios reportados.\n",
        "* pip_per_capita: Muestra el PIB per cápita para el año correspondiente.\n",
        "* generacion: Indica la generación de las personas para las que se informan los datos.\n",
        "\n"
      ]
    },
    {
      "cell_type": "markdown",
      "metadata": {
        "id": "4uQ0NkY7Bm7T"
      },
      "source": [
        "# Análisis de datos con Python"
      ]
    },
    {
      "cell_type": "markdown",
      "metadata": {
        "id": "_G-_Kn_aBzJB"
      },
      "source": [
        "## Estimados de locación y Variabilidad"
      ]
    },
    {
      "cell_type": "code",
      "execution_count": null,
      "metadata": {
        "id": "-tix4oBQkxr3"
      },
      "outputs": [],
      "source": []
    },
    {
      "cell_type": "markdown",
      "metadata": {
        "id": "oUwKrDEM-0yk"
      },
      "source": [
        "Para utilizar los estimados de locaclión y variabilidad, lo que hacemos es utilizar `info()` para identificar los datos númericos"
      ]
    },
    {
      "cell_type": "code",
      "execution_count": null,
      "metadata": {
        "colab": {
          "base_uri": "https://localhost:8080/"
        },
        "id": "YpGhVgyi_R7T",
        "outputId": "5fb0eb32-75fb-4200-a9ae-e1dd138f2398"
      },
      "outputs": [
        {
          "name": "stdout",
          "output_type": "stream",
          "text": [
            "<class 'pandas.core.frame.DataFrame'>\n",
            "RangeIndex: 27820 entries, 0 to 27819\n",
            "Data columns (total 7 columns):\n",
            " #   Column          Non-Null Count  Dtype \n",
            "---  ------          --------------  ----- \n",
            " 0   pais            27820 non-null  object\n",
            " 1   año             27820 non-null  int64 \n",
            " 2   sexo            27820 non-null  object\n",
            " 3   edad            27820 non-null  object\n",
            " 4   no_suicidios    27820 non-null  int64 \n",
            " 5   pib_per_capita  27820 non-null  int64 \n",
            " 6   generacion      27820 non-null  object\n",
            "dtypes: int64(3), object(4)\n",
            "memory usage: 1.5+ MB\n"
          ]
        }
      ],
      "source": [
        "df.info()"
      ]
    },
    {
      "cell_type": "markdown",
      "metadata": {
        "id": "6MKr48MT_XsU"
      },
      "source": [
        "Observamos que las columnas que tienen datos númericos son:\n",
        "\n",
        "* año\n",
        "* no_suicidios\n",
        "* pib_per_capita\n",
        "\n",
        "Por lo que vamos a obtener los siguientes estimados de las columnas numéricas:\n",
        "* Promedio\n",
        "* Mediana\n",
        "* Media Truncada\n",
        "* Desviación estándar\n",
        "* Rango\n",
        "* Percentiles 25 y 75 (por lo menos)\n",
        "* Rango intercuartil"
      ]
    },
    {
      "cell_type": "markdown",
      "metadata": {
        "id": "UvZEiB-xz2nH"
      },
      "source": [
        "### Año (Lesly)"
      ]
    },
    {
      "cell_type": "markdown",
      "metadata": {
        "id": "mfp74TnlXrEA"
      },
      "source": [
        "#### Promedio"
      ]
    },
    {
      "cell_type": "code",
      "execution_count": null,
      "metadata": {
        "colab": {
          "base_uri": "https://localhost:8080/"
        },
        "id": "aEuw7crRBICh",
        "outputId": "18023b6d-dca8-43d2-e28a-412242fe16f7"
      },
      "outputs": [
        {
          "name": "stdout",
          "output_type": "stream",
          "text": [
            "2001\n"
          ]
        }
      ],
      "source": [
        "#para imprimir el año con formato:\n",
        "formatted_año = \"{:.0f}\".format(df['año'].mean())\n",
        "print(formatted_año)"
      ]
    },
    {
      "cell_type": "markdown",
      "metadata": {
        "id": "fv1AVoEmXu2-"
      },
      "source": [
        "#### Media"
      ]
    },
    {
      "cell_type": "code",
      "execution_count": null,
      "metadata": {
        "colab": {
          "base_uri": "https://localhost:8080/"
        },
        "id": "RYmfXyx2Xxk1",
        "outputId": "adaabb4c-6f8c-4495-c71e-68fa947f8dc5"
      },
      "outputs": [
        {
          "name": "stdout",
          "output_type": "stream",
          "text": [
            "2002\n"
          ]
        }
      ],
      "source": [
        "formatted_año = \"{:.0f}\".format(df['año'].median())\n",
        "print(formatted_año)"
      ]
    },
    {
      "cell_type": "markdown",
      "metadata": {
        "id": "1yHpsXWXXyPY"
      },
      "source": [
        "#### Media Truncada"
      ]
    },
    {
      "cell_type": "code",
      "execution_count": null,
      "metadata": {
        "id": "DmN3Q59c-0dE"
      },
      "outputs": [],
      "source": [
        "from scipy import stats #funcionalidad de estadisticas"
      ]
    },
    {
      "cell_type": "code",
      "execution_count": null,
      "metadata": {
        "colab": {
          "base_uri": "https://localhost:8080/"
        },
        "id": "vyUKChNez3qs",
        "outputId": "c5050530-31e6-4798-8143-51ed1dfcce31"
      },
      "outputs": [
        {
          "name": "stdout",
          "output_type": "stream",
          "text": [
            "Media Recortada: 2001\n"
          ]
        }
      ],
      "source": [
        "#truncar el valor promedio de la columna de año  con el porcentaje, 5% a la izquierda y 5% a la dereha, es decir el 10% en total\n",
        "media_truncada = stats.trim_mean(df['año'], 0.1)\n",
        "print(f'Media Recortada: {media_truncada:.0f}')"
      ]
    },
    {
      "cell_type": "code",
      "execution_count": null,
      "metadata": {
        "colab": {
          "base_uri": "https://localhost:8080/"
        },
        "id": "T_c9jrnwBSnT",
        "outputId": "3da31a72-08d5-4966-c161-7488d10ba09f"
      },
      "outputs": [
        {
          "name": "stdout",
          "output_type": "stream",
          "text": [
            "Media: 2001, \n",
            "Mediana: 2002, \n",
            "Moda: 2009\n"
          ]
        }
      ],
      "source": [
        "correct_año_mean = df['año'].mean() #Promedio\n",
        "correct_año_median = df['año'].median() #Mediana\n",
        "correct_año_mode = df['año'].mode()[0] #Moda\n",
        "\n",
        "print(\"Media: {:.0f}, \\nMediana: {:.0f}, \\nModa: {:.0f}\".format(correct_año_mean, correct_año_median, correct_año_mode))"
      ]
    },
    {
      "cell_type": "code",
      "execution_count": null,
      "metadata": {
        "colab": {
          "base_uri": "https://localhost:8080/",
          "height": 573
        },
        "id": "U_8aIoNrBboo",
        "outputId": "2c4e0aab-8c02-4e4f-9c84-2ff5f3b5a95d"
      },
      "outputs": [
        {
          "data": {
            "image/png": "[encoded data removed]",
            "text/plain": [
              "<Figure size 800x600 with 1 Axes>"
            ]
          },
          "metadata": {},
          "output_type": "display_data"
        }
      ],
      "source": [
        "import matplotlib.pyplot as plt\n",
        "import seaborn as sns\n",
        "\n",
        "# Set the style of seaborn plot\n",
        "sns.set(style=\"whitegrid\")\n",
        "\n",
        "# Plotting the distribution of the 'año' column\n",
        "plt.figure(figsize=(8, 6))\n",
        "sns.histplot(df['año'], kde=True, bins=25, color='orange')\n",
        "\n",
        "# Plotting the mean, median, and mode\n",
        "plt.axvline(correct_año_mean, color='red', linestyle='--', label=f'Mean: {correct_año_mean:.0f}')\n",
        "plt.axvline(correct_año_median, color='green', linestyle='-', label=f'Median: {correct_año_median:.0f}')\n",
        "plt.axvline(correct_año_mode, color='pink', linestyle='-.', label=f'Mode: {correct_año_mode:.0f}')\n",
        "\n",
        "# Adding title and labels\n",
        "plt.title('Años que se registraron los datos sobre suicidios')\n",
        "plt.xlabel('Años registrados')\n",
        "plt.ylabel('Frecuencia')\n",
        "plt.legend()\n",
        "\n",
        "# Show the plot\n",
        "plt.show()"
      ]
    },
    {
      "cell_type": "markdown",
      "metadata": {
        "id": "bFCHyFLn4CGd"
      },
      "source": [
        "#### Desviación estandar"
      ]
    },
    {
      "cell_type": "code",
      "execution_count": null,
      "metadata": {
        "id": "6JIV7yFZ4BBT"
      },
      "outputs": [],
      "source": [
        "standar_deviation=df['año'].std()"
      ]
    },
    {
      "cell_type": "code",
      "execution_count": null,
      "metadata": {
        "colab": {
          "base_uri": "https://localhost:8080/"
        },
        "id": "ayadkqtT4QtI",
        "outputId": "49913b28-dc16-418d-f88b-3d149a40aa10"
      },
      "outputs": [
        {
          "name": "stdout",
          "output_type": "stream",
          "text": [
            "Media: 2001, \n",
            "Mediana: 2002, \n",
            "Moda: 2009\n",
            "Des Est: 8\n"
          ]
        }
      ],
      "source": [
        "print(\"Media: {:.0f}, \\nMediana: {:.0f}, \\nModa: {:.0f}\".format(correct_año_mean, correct_año_median, correct_año_mode))\n",
        "print(\"Des Est: {:,.0f}\".format(standar_deviation))"
      ]
    },
    {
      "cell_type": "markdown",
      "metadata": {
        "id": "_WCwLr6L4_dF"
      },
      "source": [
        "#### Rango"
      ]
    },
    {
      "cell_type": "code",
      "execution_count": null,
      "metadata": {
        "colab": {
          "base_uri": "https://localhost:8080/"
        },
        "id": "ownTcG5z5EqJ",
        "outputId": "611a4c61-beff-4725-ff56-53b6d6524e23"
      },
      "outputs": [
        {
          "name": "stdout",
          "output_type": "stream",
          "text": [
            "31\n"
          ]
        }
      ],
      "source": [
        "año_range = df['año'].max() - df['año'].min()\n",
        "formatted_año_range = f'{año_range:,.0f}'\n",
        "print(formatted_año_range)"
      ]
    },
    {
      "cell_type": "markdown",
      "metadata": {
        "id": "5WK_s11L5vB4"
      },
      "source": [
        "#### Percentiles 25 y 75"
      ]
    },
    {
      "cell_type": "code",
      "execution_count": null,
      "metadata": {
        "colab": {
          "base_uri": "https://localhost:8080/"
        },
        "id": "Tp7-_4gI6JwR",
        "outputId": "59cb8f2c-61eb-452d-96d2-6ef087ecd698"
      },
      "outputs": [
        {
          "name": "stdout",
          "output_type": "stream",
          "text": [
            "Valor mínimo: 1985\n",
            "Percentil 10: 1989\n",
            "Percentil 25: 1995\n",
            "Percentil 50: 2002\n",
            "Percentil 75: 2008\n",
            "Percentil 90: 2013\n",
            "Valor máximo: 2016\n"
          ]
        }
      ],
      "source": [
        "print(f'Valor mínimo: {df[\"año\"].min():.0f}')\n",
        "print(f'Percentil 10: {df[\"año\"].quantile(0.1):.0f}')\n",
        "print(f'Percentil 25: {df[\"año\"].quantile(0.25):.0f}')\n",
        "print(f'Percentil 50: {df[\"año\"].median():.0f}')\n",
        "print(f'Percentil 75: {df[\"año\"].quantile(0.75):.0f}')\n",
        "print(f'Percentil 90: {df[\"año\"].quantile(0.9):.0f}')\n",
        "print(f'Valor máximo: {df[\"año\"].max():.0f}')"
      ]
    },
    {
      "cell_type": "markdown",
      "metadata": {
        "id": "BU-h2ZlZ7bJK"
      },
      "source": [
        "#### Rango intercuartil"
      ]
    },
    {
      "cell_type": "code",
      "execution_count": null,
      "metadata": {
        "colab": {
          "base_uri": "https://localhost:8080/"
        },
        "id": "ltDuj1NJ7i_c",
        "outputId": "718f882e-6806-4bee-e5a2-5635ca2cf463"
      },
      "outputs": [
        {
          "name": "stdout",
          "output_type": "stream",
          "text": [
            "13\n"
          ]
        }
      ],
      "source": [
        "interquartile_range = df[\"año\"].quantile(0.75) - df[\"año\"].quantile(0.25)\n",
        "formatted_interquartile_range = f'{interquartile_range:.0f}'\n",
        "print(formatted_interquartile_range)"
      ]
    },
    {
      "cell_type": "markdown",
      "metadata": {
        "id": "ct04VOjnz5Ns"
      },
      "source": [
        "### no_suicidios (Miriam)"
      ]
    },
    {
      "cell_type": "code",
      "execution_count": null,
      "metadata": {
        "id": "ZGIPaa84SdU-"
      },
      "outputs": [],
      "source": [
        "# Eliminar filas donde 'no_suicidios' es igual a 0\n",
        "#df = df.loc[df['no_suicidios'] != 0]"
      ]
    },
    {
      "cell_type": "markdown",
      "metadata": {
        "id": "xiPxLs5r7Fxn"
      },
      "source": [
        "#### Promedio:"
      ]
    },
    {
      "cell_type": "code",
      "execution_count": null,
      "metadata": {
        "colab": {
          "base_uri": "https://localhost:8080/"
        },
        "id": "82HkXym8z8oP",
        "outputId": "549bde15-aa0d-4410-e4ee-082277de775f"
      },
      "outputs": [
        {
          "name": "stdout",
          "output_type": "stream",
          "text": [
            "287\n"
          ]
        }
      ],
      "source": [
        "no_suicidios = \"{:,.0f}\".format(df['no_suicidios'].mean())\n",
        "print(no_suicidios)"
      ]
    },
    {
      "cell_type": "markdown",
      "metadata": {
        "id": "8wyGgViB_uHs"
      },
      "source": [
        "#### Mediana"
      ]
    },
    {
      "cell_type": "code",
      "execution_count": null,
      "metadata": {
        "colab": {
          "base_uri": "https://localhost:8080/"
        },
        "id": "q1yOvQyK_yk1",
        "outputId": "ad4a3800-e225-4e27-9126-56e227760744"
      },
      "outputs": [
        {
          "name": "stdout",
          "output_type": "stream",
          "text": [
            "42\n"
          ]
        }
      ],
      "source": [
        "no_suicidios = \"{:,.0f}\".format(df['no_suicidios'].median())\n",
        "print(no_suicidios)"
      ]
    },
    {
      "cell_type": "markdown",
      "metadata": {
        "id": "c6QsyKfMEiBW"
      },
      "source": [
        "#### Media Truncada"
      ]
    },
    {
      "cell_type": "code",
      "execution_count": null,
      "metadata": {
        "id": "5rZK8lk_EnaH"
      },
      "outputs": [],
      "source": [
        "from scipy import stats #funcionalidad de estadisticas"
      ]
    },
    {
      "cell_type": "code",
      "execution_count": null,
      "metadata": {
        "colab": {
          "base_uri": "https://localhost:8080/"
        },
        "id": "aEtkMvdWEsYn",
        "outputId": "93529dc8-69b6-4fb2-c678-309b168e828d"
      },
      "outputs": [
        {
          "name": "stdout",
          "output_type": "stream",
          "text": [
            "Media Truncada: 98\n"
          ]
        }
      ],
      "source": [
        "#truncar el valor promedio de la columna no_suicidios con el porcentaje, 5% a la izquierda y 5% a la dereha, es decir el 10% en total\n",
        "media_truncada = stats.trim_mean(df['no_suicidios'], 0.1)\n",
        "print(f'Media Truncada: {media_truncada:,.0f}')"
      ]
    },
    {
      "cell_type": "code",
      "execution_count": null,
      "metadata": {
        "colab": {
          "base_uri": "https://localhost:8080/"
        },
        "id": "v7aQBEoqGlZd",
        "outputId": "5bc6e106-24b5-4380-c2b1-aefe31a68d53"
      },
      "outputs": [
        {
          "name": "stdout",
          "output_type": "stream",
          "text": [
            "Media: 287, \n",
            "Mediana: 42, \n",
            "Moda: 1\n"
          ]
        }
      ],
      "source": [
        "correct_no_suicidios_mean = df['no_suicidios'].mean() #Promedio\n",
        "correct_no_suicidios_median = df['no_suicidios'].median() #Mediana\n",
        "correct_no_suicidios_mode = df['no_suicidios'].mode()[0] #Moda\n",
        "\n",
        "print(\"Media: {:,.0f}, \\nMediana: {:,.0f}, \\nModa: {:,.0f}\".format(correct_no_suicidios_mean, correct_no_suicidios_median, correct_no_suicidios_mode))"
      ]
    },
    {
      "cell_type": "code",
      "execution_count": null,
      "metadata": {
        "colab": {
          "base_uri": "https://localhost:8080/",
          "height": 549
        },
        "id": "vKwGLlgFHTNS",
        "outputId": "48c516dc-31e1-4a43-c7e8-cdc8d5bcb972"
      },
      "outputs": [
        {
          "data": {
            "image/png": "[encoded data removed]",
            "text/plain": [
              "<Figure size 600x600 with 1 Axes>"
            ]
          },
          "metadata": {},
          "output_type": "display_data"
        }
      ],
      "source": [
        "import matplotlib.pyplot as plt\n",
        "import seaborn as sns\n",
        "\n",
        "# Set the style of seaborn plot\n",
        "sns.set(style=\"whitegrid\")\n",
        "\n",
        "# Plotting the distribution of the 'price' column\n",
        "plt.figure(figsize=(6, 6))\n",
        "sns.histplot(df['no_suicidios'], kde=True, bins=50, color='blue')\n",
        "\n",
        "# Plotting the mean, median, and mode\n",
        "plt.axvline(correct_no_suicidios_mean, color='red', linestyle='--', label=f'Mean: {correct_no_suicidios_mean:,.0f}')\n",
        "plt.axvline(correct_no_suicidios_median, color='green', linestyle='-', label=f'Median: {correct_no_suicidios_median:,.0f}')\n",
        "plt.axvline(correct_no_suicidios_mode, color='purple', linestyle='-.', label=f'Mode: {correct_no_suicidios_mode:,.0f}')\n",
        "\n",
        "# Adding title and labels\n",
        "plt.title('No DE SUICIDIOS')\n",
        "plt.xlabel('')\n",
        "plt.ylabel('Frecuencia')\n",
        "plt.legend()\n",
        "\n",
        "# Show the plot\n",
        "plt.show()"
      ]
    },
    {
      "cell_type": "markdown",
      "metadata": {
        "id": "N2gqmCQ2M2_Q"
      },
      "source": [
        "#### Desviación estándar"
      ]
    },
    {
      "cell_type": "code",
      "execution_count": null,
      "metadata": {
        "id": "PiVh9vtKM9Ku"
      },
      "outputs": [],
      "source": [
        "standar_deviation=df['no_suicidios'].std()"
      ]
    },
    {
      "cell_type": "code",
      "execution_count": null,
      "metadata": {
        "colab": {
          "base_uri": "https://localhost:8080/"
        },
        "id": "P7TcFxbZNFNT",
        "outputId": "762b7e3b-82e7-477c-ccac-06993a288216"
      },
      "outputs": [
        {
          "name": "stdout",
          "output_type": "stream",
          "text": [
            "Media: 287, \n",
            "Mediana: 42, \n",
            "Moda: 1\n",
            "Des Est: 974\n"
          ]
        }
      ],
      "source": [
        "print(\"Media: {:,.0f}, \\nMediana: {:,.0f}, \\nModa: {:,.0f}\".format(correct_no_suicidios_mean, correct_no_suicidios_median, correct_no_suicidios_mode))\n",
        "print(\"Des Est: {:,.0f}\".format(standar_deviation))"
      ]
    },
    {
      "cell_type": "markdown",
      "metadata": {
        "id": "JXlBy-jONRXa"
      },
      "source": [
        "#### Rango"
      ]
    },
    {
      "cell_type": "code",
      "execution_count": null,
      "metadata": {
        "colab": {
          "base_uri": "https://localhost:8080/"
        },
        "id": "FGRK77glNSos",
        "outputId": "03909477-f399-4000-b78e-dc1c63e815ab"
      },
      "outputs": [
        {
          "name": "stdout",
          "output_type": "stream",
          "text": [
            "22,337\n"
          ]
        }
      ],
      "source": [
        "no_suicidios_range = df['no_suicidios'].max() - df['no_suicidios'].min()\n",
        "formatted_no_suicidios_range = f'{no_suicidios_range:,.0f}'\n",
        "print(formatted_no_suicidios_range)"
      ]
    },
    {
      "cell_type": "markdown",
      "metadata": {
        "id": "QXraPZ51Nv0c"
      },
      "source": [
        "#### Percentiles 25 y 75"
      ]
    },
    {
      "cell_type": "code",
      "execution_count": null,
      "metadata": {
        "colab": {
          "base_uri": "https://localhost:8080/"
        },
        "id": "VdyaJk_pN1vU",
        "outputId": "48d9700b-144d-4cc5-d2a8-56186b5b8964"
      },
      "outputs": [
        {
          "name": "stdout",
          "output_type": "stream",
          "text": [
            "Valor mínimo: 1\n",
            "Percentil 10: 2\n",
            "Percentil 25: 8\n",
            "Percentil 50: 42\n",
            "Percentil 75: 175\n",
            "Percentil 90: 607\n",
            "Valor máximo: 22,338\n"
          ]
        }
      ],
      "source": [
        "print(f'Valor mínimo: {df[\"no_suicidios\"].min():,.0f}')\n",
        "print(f'Percentil 10: {df[\"no_suicidios\"].quantile(0.1):,.0f}')\n",
        "print(f'Percentil 25: {df[\"no_suicidios\"].quantile(0.25):,.0f}')\n",
        "print(f'Percentil 50: {df[\"no_suicidios\"].median():,.0f}')\n",
        "print(f'Percentil 75: {df[\"no_suicidios\"].quantile(0.75):,.0f}')\n",
        "print(f'Percentil 90: {df[\"no_suicidios\"].quantile(0.9):,.0f}')\n",
        "print(f'Valor máximo: {df[\"no_suicidios\"].max():,.0f}')"
      ]
    },
    {
      "cell_type": "markdown",
      "metadata": {
        "id": "PqpYqWD3ODah"
      },
      "source": [
        "#### Rango intercuartil"
      ]
    },
    {
      "cell_type": "code",
      "execution_count": null,
      "metadata": {
        "colab": {
          "base_uri": "https://localhost:8080/"
        },
        "id": "mVmA8PN1OKIw",
        "outputId": "5d45b5ba-8b49-411e-ff23-de2ae15c38ed"
      },
      "outputs": [
        {
          "name": "stdout",
          "output_type": "stream",
          "text": [
            "167\n"
          ]
        }
      ],
      "source": [
        "interquartile_range = df[\"no_suicidios\"].quantile(0.75) - df[\"no_suicidios\"].quantile(0.25)\n",
        "formatted_interquartile_range = f'{interquartile_range:,.0f}'\n",
        "print(formatted_interquartile_range)"
      ]
    },
    {
      "cell_type": "markdown",
      "metadata": {
        "id": "am0csTMIz91M"
      },
      "source": [
        "### PIB Per Capita (Gisell)"
      ]
    },
    {
      "cell_type": "markdown",
      "metadata": {
        "id": "YIMDlmLqBG2Y"
      },
      "source": [
        "#### Promedio:"
      ]
    },
    {
      "cell_type": "code",
      "execution_count": null,
      "metadata": {
        "colab": {
          "base_uri": "https://localhost:8080/"
        },
        "id": "kX8_t9rCBRyo",
        "outputId": "09a36493-285e-414c-d9ab-7bb72dfb1210"
      },
      "outputs": [
        {
          "name": "stdout",
          "output_type": "stream",
          "text": [
            "$ 17,229.712\n"
          ]
        }
      ],
      "source": [
        "#Para imprimir el promedio con formato:\n",
        "formatted_pib_per_capita = \"$ {:,.3f}\".format(df['pib_per_capita'].mean())\n",
        "print(formatted_pib_per_capita)"
      ]
    },
    {
      "cell_type": "markdown",
      "metadata": {
        "id": "nwgfne89BkqW"
      },
      "source": [
        "#### Mediana"
      ]
    },
    {
      "cell_type": "code",
      "execution_count": null,
      "metadata": {
        "colab": {
          "base_uri": "https://localhost:8080/"
        },
        "id": "5Uxc-PkaBmSP",
        "outputId": "08de4cd1-6b2f-4ddd-c2c6-f2a56c2e3a63"
      },
      "outputs": [
        {
          "name": "stdout",
          "output_type": "stream",
          "text": [
            "$ 9,667.000\n"
          ]
        }
      ],
      "source": [
        "formatted_pib_per_capita = \"$ {:,.3f}\".format(df['pib_per_capita'].median())\n",
        "print(formatted_pib_per_capita)"
      ]
    },
    {
      "cell_type": "markdown",
      "metadata": {
        "id": "dyRp0yC8B3pt"
      },
      "source": [
        "#### Mediana truncada"
      ]
    },
    {
      "cell_type": "code",
      "execution_count": null,
      "metadata": {
        "id": "_K-XshdiCgvr"
      },
      "outputs": [],
      "source": [
        "from scipy import stats #funcionalidad de estadisticas"
      ]
    },
    {
      "cell_type": "code",
      "execution_count": null,
      "metadata": {
        "colab": {
          "base_uri": "https://localhost:8080/"
        },
        "id": "WzqHW2wCB5sf",
        "outputId": "24043495-25ef-40c5-bc23-76679c86339c"
      },
      "outputs": [
        {
          "name": "stdout",
          "output_type": "stream",
          "text": [
            "Media Recortada: $13,813.279\n"
          ]
        }
      ],
      "source": [
        "#truncar el valor promedio de la columna de price con el porcentaje, 5% a la izquierda y 5% a la dereha, es decir el 10% en total\n",
        "media_truncada = stats.trim_mean(df['pib_per_capita'], 0.1)\n",
        "print(f'Media Recortada: ${media_truncada:,.3f}')"
      ]
    },
    {
      "cell_type": "code",
      "execution_count": null,
      "metadata": {
        "colab": {
          "base_uri": "https://localhost:8080/"
        },
        "id": "WF7_W3GND67U",
        "outputId": "3890aa1a-9e01-4c3c-b29d-cf5e24447e8e"
      },
      "outputs": [
        {
          "name": "stdout",
          "output_type": "stream",
          "text": [
            "Media: $17,229.712, \n",
            "Mediana: $9,667.000, \n",
            "Moda: $2,303.000\n"
          ]
        }
      ],
      "source": [
        "correct_pib_per_capita_mean = df['pib_per_capita'].mean() #Promedio\n",
        "correct_pib_per_capita_median = df['pib_per_capita'].median() #Mediana\n",
        "correct_pib_per_capita_mode = df['pib_per_capita'].mode()[0] #Moda\n",
        "\n",
        "print(\"Media: ${:,.3f}, \\nMediana: ${:,.3f}, \\nModa: ${:,.3f}\".format(correct_pib_per_capita_mean, correct_pib_per_capita_median, correct_pib_per_capita_mode))"
      ]
    },
    {
      "cell_type": "code",
      "execution_count": null,
      "metadata": {
        "colab": {
          "base_uri": "https://localhost:8080/",
          "height": 549
        },
        "id": "KQvtiwyUDEgv",
        "outputId": "803cf9a4-42cd-4b91-eac0-6f40567defd6"
      },
      "outputs": [
        {
          "data": {
            "image/png": "[encoded data removed]",
            "text/plain": [
              "<Figure size 600x600 with 1 Axes>"
            ]
          },
          "metadata": {},
          "output_type": "display_data"
        }
      ],
      "source": [
        "import matplotlib.pyplot as plt\n",
        "import seaborn as sns\n",
        "\n",
        "# Set the style of seaborn plot\n",
        "sns.set(style=\"whitegrid\")\n",
        "\n",
        "# Plotting the distribution of the 'price' column\n",
        "plt.figure(figsize=(6, 6))\n",
        "sns.histplot(df['pib_per_capita'], kde=True, bins=25, color='blue')\n",
        "\n",
        "# Plotting the mean, median, and mode\n",
        "plt.axvline(correct_pib_per_capita_mean, color='red', linestyle='--', label=f'Mean: ${correct_pib_per_capita_mean:,.2f}')\n",
        "plt.axvline(correct_pib_per_capita_median, color='green', linestyle='-', label=f'Median: ${correct_pib_per_capita_median:,.2f}')\n",
        "plt.axvline(correct_pib_per_capita_mode, color='purple', linestyle='-.', label=f'Mode: ${correct_pib_per_capita_mode:,.2f}')\n",
        "\n",
        "# Adding title and labels\n",
        "plt.title('PIB PER CAPITA')\n",
        "plt.xlabel('')\n",
        "plt.ylabel('Frecuencia')\n",
        "plt.legend()\n",
        "\n",
        "# Show the plot\n",
        "plt.show()"
      ]
    },
    {
      "cell_type": "markdown",
      "metadata": {
        "id": "PEzkUKnSB6Y8"
      },
      "source": [
        "#### Desviación estandar"
      ]
    },
    {
      "cell_type": "code",
      "execution_count": null,
      "metadata": {
        "id": "iPhYG1GNFtek"
      },
      "outputs": [],
      "source": [
        "standar_deviation=df['pib_per_capita'].std()"
      ]
    },
    {
      "cell_type": "code",
      "execution_count": null,
      "metadata": {
        "colab": {
          "base_uri": "https://localhost:8080/"
        },
        "id": "kBonqJjhB-gu",
        "outputId": "a3f8517a-1f49-4e93-e895-6b2e12719eab"
      },
      "outputs": [
        {
          "name": "stdout",
          "output_type": "stream",
          "text": [
            "Media: $17,229.712, \n",
            "Mediana: $9,667.000, \n",
            "Moda: $2,303.000\n",
            "Des Est: $19,107.378\n"
          ]
        }
      ],
      "source": [
        "print(\"Media: ${:,.3f}, \\nMediana: ${:,.3f}, \\nModa: ${:,.3f}\".format(correct_pib_per_capita_mean, correct_pib_per_capita_median, correct_pib_per_capita_mode))\n",
        "print(\"Des Est: ${:,.3f}\".format(standar_deviation))"
      ]
    },
    {
      "cell_type": "markdown",
      "metadata": {
        "id": "DgMXBVWWCBrk"
      },
      "source": [
        "#### Rango"
      ]
    },
    {
      "cell_type": "code",
      "execution_count": null,
      "metadata": {
        "colab": {
          "base_uri": "https://localhost:8080/"
        },
        "id": "cDYYJcOgCCzF",
        "outputId": "9733bf3c-17f6-4e29-e4be-b8d6195a840e"
      },
      "outputs": [
        {
          "name": "stdout",
          "output_type": "stream",
          "text": [
            "$126,101.00\n"
          ]
        }
      ],
      "source": [
        "pib_per_capita_range = df['pib_per_capita'].max() - df['pib_per_capita'].min()\n",
        "formatted_pib_per_capita_range = f'${pib_per_capita_range:,.2f}'\n",
        "print(formatted_pib_per_capita_range)"
      ]
    },
    {
      "cell_type": "markdown",
      "metadata": {
        "id": "Gk0nnu0LCDWw"
      },
      "source": [
        "#### Percentiles 25 y 75"
      ]
    },
    {
      "cell_type": "code",
      "execution_count": null,
      "metadata": {
        "colab": {
          "base_uri": "https://localhost:8080/"
        },
        "id": "0LbMW3m8CFt2",
        "outputId": "37fdbf98-784f-4cf0-f632-9044ab082803"
      },
      "outputs": [
        {
          "name": "stdout",
          "output_type": "stream",
          "text": [
            "Valor mínimo: $251.00\n",
            "Percentil 10: $1,423.00\n",
            "Percentil 25: $3,293.00\n",
            "Percentil 50: $9,667.00\n",
            "Percentil 75: $25,735.00\n",
            "Percentil 90: $44,491.00\n",
            "Valor máximo: $126,352.00\n"
          ]
        }
      ],
      "source": [
        "print(f'Valor mínimo: ${df[\"pib_per_capita\"].min():,.2f}')\n",
        "print(f'Percentil 10: ${df[\"pib_per_capita\"].quantile(0.1):,.2f}')\n",
        "print(f'Percentil 25: ${df[\"pib_per_capita\"].quantile(0.25):,.2f}')\n",
        "print(f'Percentil 50: ${df[\"pib_per_capita\"].median():,.2f}')\n",
        "print(f'Percentil 75: ${df[\"pib_per_capita\"].quantile(0.75):,.2f}')\n",
        "print(f'Percentil 90: ${df[\"pib_per_capita\"].quantile(0.9):,.2f}')\n",
        "print(f'Valor máximo: ${df[\"pib_per_capita\"].max():,.2f}')"
      ]
    },
    {
      "cell_type": "markdown",
      "metadata": {
        "id": "2TJ6WWWCCITc"
      },
      "source": [
        "#### Rango intercuartil"
      ]
    },
    {
      "cell_type": "code",
      "execution_count": null,
      "metadata": {
        "colab": {
          "base_uri": "https://localhost:8080/"
        },
        "id": "mk13eaygCK7m",
        "outputId": "82547a10-54cc-4f6a-ae7b-baa7efc2146e"
      },
      "outputs": [
        {
          "name": "stdout",
          "output_type": "stream",
          "text": [
            "$22,442.00\n"
          ]
        }
      ],
      "source": [
        "interquartile_range = df[\"pib_per_capita\"].quantile(0.75) - df[\"pib_per_capita\"].quantile(0.25)\n",
        "formatted_interquartile_range = f'${interquartile_range:,.2f}'\n",
        "print(formatted_interquartile_range)"
      ]
    },
    {
      "cell_type": "markdown",
      "metadata": {
        "id": "PchUdLoECPXR"
      },
      "source": [
        "## Introducción a la visualización de datos: Distribuciones"
      ]
    },
    {
      "cell_type": "markdown",
      "metadata": {
        "id": "J06b3u-LCY2z"
      },
      "source": [
        "* Utiliza boxplots para analizar la distribución de tus variables numéricas. Piensa acerca de cuáles son los valores típicos y atípicos y dónde están concentrados el grueso de tus datos.\n",
        "* Utiliza el Score de Rango Intercuartílico para filtrar tus valores atípicos. Compara tus medianas, medias y desviaciones estándares antes y después de realizar la filtración y ve cuánto cambiaron.\n",
        "* Utiliza tablas de frecuencia e histogramas para observar la distribución de tus variables. Caracteriza cada una de las distribuciones usando los términos que aprendiste durante la sesión. Obtén medidas de asimetría y curtosis para ver qué tan alejadas de la distribución normal están tus variables.\n",
        "* Utiliza gráficas de densidad para comparar una variable numérica que pueda ser segmentada en dos o más categorías. Usa esta técnica para entender mejor cómo están distribuidos tus datos en cada uno de los grupos presentes."
      ]
    },
    {
      "cell_type": "markdown",
      "metadata": {
        "id": "J_OZokny0Qr4"
      },
      "source": [
        "### Año (Lesly)"
      ]
    },
    {
      "cell_type": "code",
      "execution_count": null,
      "metadata": {
        "colab": {
          "base_uri": "https://localhost:8080/",
          "height": 497
        },
        "id": "QenjCioO0T-2",
        "outputId": "887bb2f9-e7b5-40c8-c779-d2542588b4e8"
      },
      "outputs": [
        {
          "data": {
            "text/plain": [
              "Text(0.5, 1.0, 'años')"
            ]
          },
          "execution_count": 63,
          "metadata": {},
          "output_type": "execute_result"
        },
        {
          "data": {
            "image/png": "[encoded data removed]",
            "text/plain": [
              "<Figure size 640x480 with 1 Axes>"
            ]
          },
          "metadata": {},
          "output_type": "display_data"
        }
      ],
      "source": [
        "sns.set(style=\"whitegrid\") #estilo de la grafica\n",
        "sns.boxplot(x=df['año']) #Ponemos la grafica y escogemos la columna año\n",
        "plt.title(\"años\") #Agregamos un titulo"
      ]
    },
    {
      "cell_type": "markdown",
      "metadata": {
        "id": "H5cj4gZ30Ugo"
      },
      "source": [
        "### no_suicidios (Miriam)"
      ]
    },
    {
      "cell_type": "markdown",
      "metadata": {
        "id": "H4185Mx8O5My"
      },
      "source": [
        "#### Boxplots"
      ]
    },
    {
      "cell_type": "code",
      "execution_count": null,
      "metadata": {
        "colab": {
          "base_uri": "https://localhost:8080/",
          "height": 497
        },
        "id": "kbo0wWUB0XK_",
        "outputId": "774b0042-a3c0-494b-89cd-f81aa7f2b134"
      },
      "outputs": [
        {
          "data": {
            "text/plain": [
              "Text(0.5, 1.0, 'No DE SUICIDIOS')"
            ]
          },
          "execution_count": 65,
          "metadata": {},
          "output_type": "execute_result"
        },
        {
          "data": {
            "image/png": "[encoded data removed]",
            "text/plain": [
              "<Figure size 640x480 with 1 Axes>"
            ]
          },
          "metadata": {},
          "output_type": "display_data"
        }
      ],
      "source": [
        "sns.set(style=\"whitegrid\") #estilo de la grafica\n",
        "sns.boxplot(x=df['no_suicidios']) #Ponemos la grafica y escogemos la columna no_suicidios\n",
        "plt.title(\"No DE SUICIDIOS\") #Agregamos un titulo"
      ]
    },
    {
      "cell_type": "code",
      "execution_count": null,
      "metadata": {
        "id": "D_PeNjIWSP6g"
      },
      "outputs": [],
      "source": [
        "#Se calcula el rango intercuartílico:\n",
        "# que es la diferencia del percentil 75 y percentil 25\n",
        "iqr = df['no_suicidios'].quantile(0.75) - df['no_suicidios'].quantile(0.25)\n",
        "\n",
        "#se hace un filtrado de los datos para eliminar los valores atipicos considerando los limites inferiores y superiores\n",
        "filtro_inferior = df['no_suicidios'] > df['no_suicidios'].quantile(0.25) - (iqr * 1.5)\n",
        "filtro_superior = df['no_suicidios'] < df['no_suicidios'].quantile(0.75) + (iqr * 1.5)\n",
        "\n",
        "df2_filtrado = df[filtro_inferior & filtro_superior]"
      ]
    },
    {
      "cell_type": "code",
      "execution_count": null,
      "metadata": {
        "colab": {
          "base_uri": "https://localhost:8080/",
          "height": 497
        },
        "id": "m4Z53fLLh9de",
        "outputId": "3516b08e-f066-449d-97d5-451dbfa48b68"
      },
      "outputs": [
        {
          "data": {
            "text/plain": [
              "Text(0.5, 1.0, 'No DE SUICIDIOS')"
            ]
          },
          "execution_count": 67,
          "metadata": {},
          "output_type": "execute_result"
        },
        {
          "data": {
            "image/png": "[encoded data removed]",
            "text/plain": [
              "<Figure size 640x480 with 1 Axes>"
            ]
          },
          "metadata": {},
          "output_type": "display_data"
        }
      ],
      "source": [
        "sns.set(style=\"whitegrid\") #estilo de la grafica\n",
        "sns.boxplot(x=df2_filtrado['no_suicidios']) #Ponemos la grafica y escogemos la columna no_suicidios\n",
        "plt.title(\"No DE SUICIDIOS\") #Agregamos un titulo"
      ]
    },
    {
      "cell_type": "markdown",
      "metadata": {
        "id": "b7E3crzZ0Xu8"
      },
      "source": [
        "### pib anual (Gisell)"
      ]
    },
    {
      "cell_type": "markdown",
      "metadata": {
        "id": "oVkmKyYGHW1-"
      },
      "source": [
        "#### Boxplots"
      ]
    },
    {
      "cell_type": "code",
      "execution_count": null,
      "metadata": {
        "colab": {
          "base_uri": "https://localhost:8080/",
          "height": 497
        },
        "id": "apMIK7VOHYU9",
        "outputId": "b056c028-2344-4d0f-a5e1-8442e2aba325"
      },
      "outputs": [
        {
          "data": {
            "text/plain": [
              "Text(0.5, 1.0, 'PIB PER CAPITA')"
            ]
          },
          "execution_count": 68,
          "metadata": {},
          "output_type": "execute_result"
        },
        {
          "data": {
            "image/png": "[encoded data removed]",
            "text/plain": [
              "<Figure size 640x480 with 1 Axes>"
            ]
          },
          "metadata": {},
          "output_type": "display_data"
        }
      ],
      "source": [
        "sns.set(style=\"whitegrid\") #estilo de la grafica\n",
        "sns.boxplot(x=df['pib_per_capita']) #Ponemos la grafica y escogemos la columna price\n",
        "plt.title(\"PIB PER CAPITA\") #Agregamos un titulo"
      ]
    },
    {
      "cell_type": "markdown",
      "metadata": {
        "id": "JvtIABxFeyYY"
      },
      "source": [
        "Observamos que tenemos valores atípicos, los cuales nos están estorbando en nuestro análisis. Por lo que proceedemos a eliminarlos usando el Score de Rango Intercuartílico."
      ]
    },
    {
      "cell_type": "code",
      "execution_count": null,
      "metadata": {
        "id": "b1EPl3PCfNym"
      },
      "outputs": [],
      "source": [
        "#Se calcula el rango intercuartílico:\n",
        "# que es la diferencia del percentil 75 y percentil 25\n",
        "iqr = df['pib_per_capita'].quantile(0.75) - df['pib_per_capita'].quantile(0.25)\n",
        "\n",
        "#se hace un filtrado de los datos para eliminar los valores atipicos considerando los limites inferiores y superiores\n",
        "filtro_inferior = df['pib_per_capita'] > df['pib_per_capita'].quantile(0.25) - (iqr * 1.5)\n",
        "filtro_superior = df['pib_per_capita'] < df['pib_per_capita'].quantile(0.75) + (iqr * 1.5)\n",
        "\n",
        "df3_filtrado = df[filtro_inferior & filtro_superior]"
      ]
    },
    {
      "cell_type": "code",
      "execution_count": null,
      "metadata": {
        "colab": {
          "base_uri": "https://localhost:8080/",
          "height": 497
        },
        "id": "iHf_yqfuHc_9",
        "outputId": "f6a16c0e-286c-4906-fb27-9c9c069ab428"
      },
      "outputs": [
        {
          "data": {
            "text/plain": [
              "Text(0.5, 1.0, 'PIB PER CAPITA')"
            ]
          },
          "execution_count": 70,
          "metadata": {},
          "output_type": "execute_result"
        },
        {
          "data": {
            "image/png": "[encoded data removed]",
            "text/plain": [
              "<Figure size 640x480 with 1 Axes>"
            ]
          },
          "metadata": {},
          "output_type": "display_data"
        }
      ],
      "source": [
        "sns.set(style=\"whitegrid\") #estilo de la grafica\n",
        "sns.boxplot(x=df3_filtrado['pib_per_capita']) #Ponemos la grafica y escogemos la columna price\n",
        "plt.title(\"PIB PER CAPITA\") #Agregamos un titulo"
      ]
    },
    {
      "cell_type": "markdown",
      "metadata": {
        "id": "WhDz20DYClBc"
      },
      "source": [
        "## Exploración de Variables Categóricas y Análisis Multivariable"
      ]
    },
    {
      "cell_type": "markdown",
      "metadata": {
        "id": "V7EfeL3yEmYx"
      },
      "source": [
        "* Si ya tienes gráficas realizadas en Postworks anteriores, agrega títulos, anotaciones y leyendas donde sea necesario. También cambia el tamaño de las gráficas donde tenga sentido hacerlo.\n",
        "* Identifica todas las variables categóricas en tu dataset.\n",
        "* Utiliza gráficas de barras para explorar la distribución de tus variables categóricas.\n",
        "* Planea tu análisis multivariable: ¿qué combinaciones de variables categóricas podrían darme información útil acerca de la distribución de mis datos? ¿qué combinaciones de una variable numérica con una variable categórica podrían ser interesantes?\n",
        "* Utiliza tablas de contingencia y múltiples gráficas en la misma figure para explorar combinaciones de variables categóricas.\n",
        "* Utiliza boxplots y violinplots para explorar combinaciones de variables numéricas con variables categóricas.\n",
        "* De preferencia ve registrando por escrito (ahí mismo en tu Notebook) todos tus hallazgos. Describe qué vas descubriendo y qué podría significar."
      ]
    },
    {
      "cell_type": "markdown",
      "metadata": {
        "id": "RUv_2yB-ABy4"
      },
      "source": [
        "Para hacer la exploración de variables categóricas y análisis multivariable lo que hacemos es identificar las variables categóricas en nuestro dataset, para eso, utilizamos `dtypes`."
      ]
    },
    {
      "cell_type": "code",
      "execution_count": null,
      "metadata": {
        "colab": {
          "base_uri": "https://localhost:8080/"
        },
        "id": "kFGYnZRMACiM",
        "outputId": "0ba2864e-46bc-49ea-ca20-238485faa6d4"
      },
      "outputs": [
        {
          "data": {
            "text/plain": [
              "pais              object\n",
              "año                int64\n",
              "sexo              object\n",
              "edad              object\n",
              "no_suicidios       int64\n",
              "pib_per_capita     int64\n",
              "generacion        object\n",
              "dtype: object"
            ]
          },
          "execution_count": 73,
          "metadata": {},
          "output_type": "execute_result"
        }
      ],
      "source": [
        "df.dtypes"
      ]
    },
    {
      "cell_type": "markdown",
      "metadata": {
        "id": "_XwAwyI0AN18"
      },
      "source": [
        "Nuestras variables categóricas son:\n",
        "* pais\n",
        "* sexo\n",
        "* edad\n",
        "* generacion"
      ]
    },
    {
      "cell_type": "markdown",
      "metadata": {
        "id": "w0SDtLQhmOmi"
      },
      "source": [
        "Graficamos gráficas de barras para ver como se comportan los datos categóricos"
      ]
    },
    {
      "cell_type": "markdown",
      "metadata": {
        "id": "banYbLNqAdFd"
      },
      "source": [
        "### Grafica de barras"
      ]
    },
    {
      "cell_type": "markdown",
      "metadata": {
        "id": "gh551L0kAhWL"
      },
      "source": [
        "#### Pais (Lesly)"
      ]
    },
    {
      "cell_type": "code",
      "execution_count": null,
      "metadata": {
        "id": "A50tyR0FA3x0"
      },
      "outputs": [],
      "source": [
        "sns.set_style('white')"
      ]
    },
    {
      "cell_type": "code",
      "execution_count": null,
      "metadata": {
        "colab": {
          "base_uri": "https://localhost:8080/"
        },
        "id": "pnVLhBU7AjG5",
        "outputId": "2aa1c289-868b-4e4d-d8d0-9b5c06f15a75"
      },
      "outputs": [
        {
          "data": {
            "text/plain": [
              "array(['Albania', 'Antigua and Barbuda', 'Argentina', 'Armenia', 'Aruba',\n",
              "       'Australia', 'Austria', 'Azerbaijan', 'Bahamas', 'Bahrain',\n",
              "       'Barbados', 'Belarus', 'Belgium', 'Belize',\n",
              "       'Bosnia and Herzegovina', 'Brazil', 'Bulgaria', 'Cabo Verde',\n",
              "       'Canada', 'Chile', 'Colombia', 'Costa Rica', 'Croatia', 'Cuba',\n",
              "       'Cyprus', 'Czech Republic', 'Denmark', 'Ecuador', 'El Salvador',\n",
              "       'Estonia', 'Fiji', 'Finland', 'France', 'Georgia', 'Germany',\n",
              "       'Greece', 'Grenada', 'Guatemala', 'Guyana', 'Hungary', 'Iceland',\n",
              "       'Ireland', 'Israel', 'Italy', 'Jamaica', 'Japan', 'Kazakhstan',\n",
              "       'Kiribati', 'Kuwait', 'Kyrgyzstan', 'Latvia', 'Lithuania',\n",
              "       'Luxembourg', 'Macau', 'Maldives', 'Malta', 'Mauritius', 'Mexico',\n",
              "       'Mongolia', 'Montenegro', 'Netherlands', 'New Zealand',\n",
              "       'Nicaragua', 'Norway', 'Oman', 'Panama', 'Paraguay', 'Philippines',\n",
              "       'Poland', 'Portugal', 'Puerto Rico', 'Qatar', 'Republic of Korea',\n",
              "       'Romania', 'Russian Federation', 'Saint Lucia',\n",
              "       'Saint Vincent and Grenadines', 'San Marino', 'Serbia',\n",
              "       'Seychelles', 'Singapore', 'Slovakia', 'Slovenia', 'South Africa',\n",
              "       'Spain', 'Sri Lanka', 'Suriname', 'Sweden', 'Switzerland',\n",
              "       'Thailand', 'Trinidad and Tobago', 'Turkey', 'Turkmenistan',\n",
              "       'Ukraine', 'United Arab Emirates', 'United Kingdom',\n",
              "       'United States', 'Uruguay', 'Uzbekistan'], dtype=object)"
            ]
          },
          "execution_count": 75,
          "metadata": {},
          "output_type": "execute_result"
        }
      ],
      "source": [
        "df['pais'].unique()"
      ]
    },
    {
      "cell_type": "code",
      "execution_count": null,
      "metadata": {
        "colab": {
          "base_uri": "https://localhost:8080/"
        },
        "id": "kldTgFMJiUf2",
        "outputId": "35a28682-1710-4862-a3a8-921cf0e1be3b"
      },
      "outputs": [
        {
          "data": {
            "text/plain": [
              "Netherlands            378\n",
              "Austria                373\n",
              "Ecuador                372\n",
              "Argentina              372\n",
              "United States          372\n",
              "                      ... \n",
              "Mongolia                10\n",
              "Antigua and Barbuda     10\n",
              "Cabo Verde               9\n",
              "Macau                    9\n",
              "San Marino               4\n",
              "Name: pais, Length: 99, dtype: int64"
            ]
          },
          "execution_count": 76,
          "metadata": {},
          "output_type": "execute_result"
        }
      ],
      "source": [
        "df['pais'].value_counts()"
      ]
    },
    {
      "cell_type": "code",
      "execution_count": null,
      "metadata": {
        "colab": {
          "base_uri": "https://localhost:8080/"
        },
        "id": "vKtcHMA5HBgl",
        "outputId": "aa9e5d2f-a02e-438d-d285-894bdab819ae"
      },
      "outputs": [
        {
          "name": "stdout",
          "output_type": "stream",
          "text": [
            "Netherlands            378\n",
            "Austria                373\n",
            "Ecuador                372\n",
            "Argentina              372\n",
            "United States          372\n",
            "                      ... \n",
            "Mongolia                10\n",
            "Antigua and Barbuda     10\n",
            "Cabo Verde               9\n",
            "Macau                    9\n",
            "San Marino               4\n",
            "Name: pais, Length: 99, dtype: int64\n"
          ]
        }
      ],
      "source": [
        "# Calcular la frecuencia de cada valor único\n",
        "counts = df['pais'].value_counts()\n",
        "print(counts)"
      ]
    },
    {
      "cell_type": "code",
      "execution_count": null,
      "metadata": {
        "colab": {
          "base_uri": "https://localhost:8080/",
          "height": 480
        },
        "id": "8cAYK9tDL7du",
        "outputId": "5a0c017f-c71e-43e7-8373-b31f7d9494ea"
      },
      "outputs": [
        {
          "data": {
            "image/png": "[encoded data removed]",
            "text/plain": [
              "<Figure size 640x480 with 1 Axes>"
            ]
          },
          "metadata": {},
          "output_type": "display_data"
        }
      ],
      "source": [
        "# Crear un gráfico de barras con Seaborn\n",
        "ax = sns.barplot(x=counts.index, y=counts.values)\n",
        "\n",
        "# Configurar el título y las etiquetas\n",
        "ax.set_title('rango de paises de suicidio')\n",
        "ax.set(xlabel= \"pais\", ylabel='Conteo')\n",
        "\n",
        "# Mostrar el gráfico\n",
        "plt.show()"
      ]
    },
    {
      "cell_type": "markdown",
      "metadata": {
        "id": "LkUEsFGXAjru"
      },
      "source": [
        "#### Sexo (Miriam)"
      ]
    },
    {
      "cell_type": "code",
      "execution_count": null,
      "metadata": {
        "id": "64_4I3rkA6Kr"
      },
      "outputs": [],
      "source": [
        "sns.set_style('white')"
      ]
    },
    {
      "cell_type": "code",
      "execution_count": null,
      "metadata": {
        "colab": {
          "base_uri": "https://localhost:8080/"
        },
        "id": "d_RyRtfZAmbT",
        "outputId": "abb49fe2-29f1-45bb-aea3-65a085b4da70"
      },
      "outputs": [
        {
          "data": {
            "text/plain": [
              "array(['M', 'F'], dtype=object)"
            ]
          },
          "execution_count": 80,
          "metadata": {},
          "output_type": "execute_result"
        }
      ],
      "source": [
        "df['sexo'].unique()"
      ]
    },
    {
      "cell_type": "code",
      "execution_count": null,
      "metadata": {
        "colab": {
          "base_uri": "https://localhost:8080/"
        },
        "id": "YdRm4nD9FNaI",
        "outputId": "76da8492-c3c1-4d76-a699-924ccbb3214d"
      },
      "outputs": [
        {
          "name": "stdout",
          "output_type": "stream",
          "text": [
            "M    12286\n",
            "F    11253\n",
            "Name: sexo, dtype: int64\n"
          ]
        }
      ],
      "source": [
        "counts = df['sexo'].value_counts()\n",
        "print(counts)"
      ]
    },
    {
      "cell_type": "code",
      "execution_count": null,
      "metadata": {
        "colab": {
          "base_uri": "https://localhost:8080/"
        },
        "id": "4d5CkVWqKAfX",
        "outputId": "5669e3e7-5bee-41ac-daf6-a690eb3f38b0"
      },
      "outputs": [
        {
          "name": "stdout",
          "output_type": "stream",
          "text": [
            "M    52.194231\n",
            "F    47.805769\n",
            "Name: sexo, dtype: float64\n"
          ]
        }
      ],
      "source": [
        "#Cambio de conteos a porcentajes\n",
        "as_percentages = (counts * 100) / counts.sum() # Funcion vectorizada, Funcion de Agregacion.\n",
        "print(as_percentages)"
      ]
    },
    {
      "cell_type": "code",
      "execution_count": null,
      "metadata": {
        "colab": {
          "base_uri": "https://localhost:8080/",
          "height": 480
        },
        "id": "A77hh9aWIrGt",
        "outputId": "9b1d17ea-db21-4f94-b3bf-62601c895d0b"
      },
      "outputs": [
        {
          "data": {
            "image/png": "[encoded data removed]",
            "text/plain": [
              "<Figure size 640x480 with 1 Axes>"
            ]
          },
          "metadata": {},
          "output_type": "display_data"
        }
      ],
      "source": [
        " #Crear un gráfico de barras con Seaborn\n",
        "ax = sns.barplot(x=as_percentages.index, y=as_percentages.values, hue=as_percentages.index, palette='viridis')\n",
        "\n",
        "# Configurar el título y las etiquetas\n",
        "ax.set_title('Porcentaje de suicidio por sexo')\n",
        "ax.set(xlabel= \"sexo\", ylabel='%')\n",
        "\n",
        "# Mostrar el gráfico\n",
        "plt.show()"
      ]
    },
    {
      "cell_type": "markdown",
      "metadata": {
        "id": "d6YwuqSUAm9P"
      },
      "source": [
        "#### edad (Gisell)"
      ]
    },
    {
      "cell_type": "code",
      "execution_count": null,
      "metadata": {
        "id": "4m5pkt7mBHz6"
      },
      "outputs": [],
      "source": [
        "sns.set_style('white')"
      ]
    },
    {
      "cell_type": "markdown",
      "metadata": {
        "id": "V5SewjoKEQIL"
      },
      "source": [
        "Identificamos los valores únicos de los datos que tenemos en la columna de edades"
      ]
    },
    {
      "cell_type": "code",
      "execution_count": null,
      "metadata": {
        "colab": {
          "base_uri": "https://localhost:8080/"
        },
        "id": "lLeZg8e2AqUD",
        "outputId": "e719118c-2f27-454b-aeb3-ec3883c29722"
      },
      "outputs": [
        {
          "data": {
            "text/plain": [
              "array(['15-24', '35-54', '75+', '25-34', '55-74', '5-14'], dtype=object)"
            ]
          },
          "execution_count": 85,
          "metadata": {},
          "output_type": "execute_result"
        }
      ],
      "source": [
        "df['edad'].unique()"
      ]
    },
    {
      "cell_type": "markdown",
      "metadata": {
        "id": "h8LZmxpPEa5R"
      },
      "source": [
        "Luego, calculamos la frecuencia de cada valor único de la columna de edades"
      ]
    },
    {
      "cell_type": "code",
      "execution_count": null,
      "metadata": {
        "colab": {
          "base_uri": "https://localhost:8080/"
        },
        "id": "LYe5sIvwDE3z",
        "outputId": "eef21112-b866-4b38-babd-68f02fd800c3"
      },
      "outputs": [
        {
          "name": "stdout",
          "output_type": "stream",
          "text": [
            "35-54    4272\n",
            "25-34    4191\n",
            "15-24    4131\n",
            "55-74    4083\n",
            "75+      3720\n",
            "5-14     3142\n",
            "Name: edad, dtype: int64\n"
          ]
        }
      ],
      "source": [
        "# Calcular la frecuencia de cada valor único\n",
        "counts = df['edad'].value_counts()\n",
        "print(counts)"
      ]
    },
    {
      "cell_type": "code",
      "execution_count": null,
      "metadata": {
        "colab": {
          "base_uri": "https://localhost:8080/",
          "height": 480
        },
        "id": "i3lpjPZLDWJa",
        "outputId": "46f67c02-ca76-48bc-fa60-51a55adae48e"
      },
      "outputs": [
        {
          "data": {
            "image/png": "[encoded data removed]",
            "text/plain": [
              "<Figure size 640x480 with 1 Axes>"
            ]
          },
          "metadata": {},
          "output_type": "display_data"
        }
      ],
      "source": [
        "# Crear un gráfico de barras con Seaborn\n",
        "#ax = sns.barplot(x=counts.index, y=counts.values)\n",
        "ax = sns.barplot(x=counts.index, y=counts.values, hue=counts.index, palette='viridis')\n",
        "# Configurar el título y las etiquetas\n",
        "ax.set_title('Conteo de rango de edades')\n",
        "ax.set(xlabel= \"Rango de edades\", ylabel='Conteo')\n",
        "\n",
        "# Mostrar el gráfico\n",
        "plt.show()"
      ]
    },
    {
      "cell_type": "markdown",
      "metadata": {
        "id": "eeI4fQF4Aq07"
      },
      "source": [
        "#### generación"
      ]
    },
    {
      "cell_type": "code",
      "execution_count": null,
      "metadata": {
        "colab": {
          "base_uri": "https://localhost:8080/"
        },
        "id": "vzhe4H6BBnby",
        "outputId": "4c58fb84-8915-4b9d-e0c7-5db737019f8c"
      },
      "outputs": [
        {
          "data": {
            "text/plain": [
              "array([' X', 'Silent', 'G.I. ', 'Boomers', 'Millenials', ' Z'],\n",
              "      dtype=object)"
            ]
          },
          "execution_count": 88,
          "metadata": {},
          "output_type": "execute_result"
        }
      ],
      "source": [
        "df['generacion'].unique()"
      ]
    },
    {
      "cell_type": "code",
      "execution_count": null,
      "metadata": {
        "colab": {
          "base_uri": "https://localhost:8080/"
        },
        "id": "cKkCjXPeE0ER",
        "outputId": "6d4f6fc3-1996-41b7-e6d3-5d9d0bf887e2"
      },
      "outputs": [
        {
          "name": "stdout",
          "output_type": "stream",
          "text": [
            " X            5638\n",
            "Silent        5382\n",
            "Millenials    4716\n",
            "Boomers       4568\n",
            "G.I.          2251\n",
            " Z             984\n",
            "Name: generacion, dtype: int64\n"
          ]
        }
      ],
      "source": [
        "# Calcular la frecuencia de cada valor único\n",
        "counts = df['generacion'].value_counts()\n",
        "print(counts)"
      ]
    },
    {
      "cell_type": "code",
      "execution_count": null,
      "metadata": {
        "colab": {
          "base_uri": "https://localhost:8080/",
          "height": 480
        },
        "id": "56EAWD9SAMct",
        "outputId": "349bac17-0f4e-4931-9408-70c50acbbe76"
      },
      "outputs": [
        {
          "data": {
            "image/png": "[encoded data removed]",
            "text/plain": [
              "<Figure size 640x480 with 1 Axes>"
            ]
          },
          "metadata": {},
          "output_type": "display_data"
        }
      ],
      "source": [
        "# Crear un gráfico de barras con Seaborn\n",
        "#ax = sns.barplot(x=counts.index, y=counts.values)\n",
        "ax = sns.barplot(x=counts.index, y=counts.values, hue=counts.index, palette='viridis')\n",
        "\n",
        "# Configurar el título y las etiquetas\n",
        "ax.set_title('Conteo de generaciones')\n",
        "ax.set(xlabel= \"generaciones\", ylabel='Conteo')\n",
        "\n",
        "# Mostrar el gráfico\n",
        "plt.show()"
      ]
    },
    {
      "cell_type": "markdown",
      "metadata": {
        "id": "dhwQeAmQLC1n"
      },
      "source": [
        "Las combinaciones de variables que nos darían información sería:\n",
        "* sexo - rango de edades\n",
        "* sexo - generación\n",
        "* rango de edades - generación\n",
        "\n",
        "Realizar tablas de contingencia y múltiples gráficas"
      ]
    },
    {
      "cell_type": "markdown",
      "metadata": {
        "id": "Z9h48-0HOb_3"
      },
      "source": [
        "#### sexo - rango de edades (Lesly)"
      ]
    },
    {
      "cell_type": "code",
      "execution_count": null,
      "metadata": {
        "id": "l9rEBRaGPDHC"
      },
      "outputs": [],
      "source": [
        "crosstab_sexo_edades = pd.crosstab(df['sexo'], df['edad'], margins=False)"
      ]
    },
    {
      "cell_type": "code",
      "execution_count": null,
      "metadata": {
        "colab": {
          "base_uri": "https://localhost:8080/",
          "height": 779
        },
        "id": "_eR6xGJQDadJ",
        "outputId": "a193066b-5c79-4d06-eb8f-9a6f0a8ac3e8"
      },
      "outputs": [
        {
          "data": {
            "image/png": "[encoded data removed]",
            "text/plain": [
              "<Figure size 1000x800 with 2 Axes>"
            ]
          },
          "metadata": {},
          "output_type": "display_data"
        }
      ],
      "source": [
        "fig, axes=  plt.subplots(1,2, figsize=(10, 8), sharex=True, sharey=True)\n",
        "\n",
        "sns.barplot(x=crosstab_sexo_edades.columns, y=crosstab_sexo_edades.loc['F'], ax=axes[0], hue=crosstab_sexo_edades.columns, palette=\"coolwarm\", legend=False)\n",
        "sns.barplot(x=crosstab_sexo_edades.columns, y=crosstab_sexo_edades.loc['M'], ax=axes[1], hue=crosstab_sexo_edades.columns, palette=\"seismic\", legend=False)\n",
        "\n",
        "axes[0].set(xlabel='', ylabel='', title='Femenino')\n",
        "axes[1].set(xlabel='', ylabel='', title='Masculino')\n",
        "\n",
        "fig.suptitle('Rango de edades separadas por sexo', fontsize=15)\n",
        "plt.tight_layout(rect=[0, 0.03, 1, 0.95])  # Ajustar el layout para acomodar el título superior, tuple (left, bottom, right, top), default: (0, 0, 1, 1)\n"
      ]
    },
    {
      "cell_type": "markdown",
      "metadata": {
        "id": "SbQEJfy-Oggs"
      },
      "source": [
        "#### sexo - generación (Miriam)"
      ]
    },
    {
      "cell_type": "code",
      "execution_count": null,
      "metadata": {
        "id": "jbBkSYNCPF6S"
      },
      "outputs": [],
      "source": [
        "crosstab_sexo_generacion = pd.crosstab(df['sexo'], df['generacion'],margins=False)"
      ]
    },
    {
      "cell_type": "code",
      "execution_count": null,
      "metadata": {
        "colab": {
          "base_uri": "https://localhost:8080/",
          "height": 779
        },
        "id": "PcqfPbqbCAfD",
        "outputId": "f61f0ff9-2845-4f0e-f7aa-52ae2fc9f3c3"
      },
      "outputs": [
        {
          "data": {
            "image/png": "[encoded data removed]",
            "text/plain": [
              "<Figure size 1000x800 with 2 Axes>"
            ]
          },
          "metadata": {},
          "output_type": "display_data"
        }
      ],
      "source": [
        "fig, axes=  plt.subplots(1,2, figsize=(10, 8), sharex=True, sharey=True)\n",
        "\n",
        "sns.barplot(x=crosstab_sexo_generacion.columns, y=crosstab_sexo_generacion.loc['F'], ax=axes[0], hue=crosstab_sexo_generacion.columns, palette=\"coolwarm\", legend=False)\n",
        "sns.barplot(x=crosstab_sexo_generacion.columns, y=crosstab_sexo_generacion.loc['M'], ax=axes[1], hue=crosstab_sexo_generacion.columns, palette=\"seismic\", legend=False)\n",
        "\n",
        "axes[0].set(xlabel='', ylabel='', title='Femenino')\n",
        "axes[1].set(xlabel='', ylabel='', title='Masculino')\n",
        "\n",
        "fig.suptitle('Generaciones separadas por sexo', fontsize=15)\n",
        "plt.tight_layout(rect=[0, 0.03, 1, 0.95])  # Ajustar el layout para acomodar el título superior, tuple (left, bottom, right, top), default: (0, 0, 1, 1)\n"
      ]
    },
    {
      "cell_type": "markdown",
      "metadata": {
        "id": "h9sWv_mfOimI"
      },
      "source": [
        "#### rango de edades - generación  (Gisell)"
      ]
    },
    {
      "cell_type": "code",
      "execution_count": null,
      "metadata": {
        "colab": {
          "base_uri": "https://localhost:8080/",
          "height": 269
        },
        "id": "3vx5LS96QUmW",
        "outputId": "eb5c916d-3ae7-4fba-fbaa-2adb049af89b"
      },
      "outputs": [
        {
          "data": {
            "text/html": [
              "\n",
              "  <div id=\"df-b30ff000-183d-4e6f-8e2b-a7e1f9623544\" class=\"colab-df-container\">\n",
              "    <div>\n",
              "<style scoped>\n",
              "    .dataframe tbody tr th:only-of-type {\n",
              "        vertical-align: middle;\n",
              "    }\n",
              "\n",
              "    .dataframe tbody tr th {\n",
              "        vertical-align: top;\n",
              "    }\n",
              "\n",
              "    .dataframe thead th {\n",
              "        text-align: right;\n",
              "    }\n",
              "</style>\n",
              "<table border=\"1\" class=\"dataframe\">\n",
              "  <thead>\n",
              "    <tr style=\"text-align: right;\">\n",
              "      <th>generacion</th>\n",
              "      <th>X</th>\n",
              "      <th>Z</th>\n",
              "      <th>Boomers</th>\n",
              "      <th>G.I.</th>\n",
              "      <th>Millenials</th>\n",
              "      <th>Silent</th>\n",
              "    </tr>\n",
              "    <tr>\n",
              "      <th>edad</th>\n",
              "      <th></th>\n",
              "      <th></th>\n",
              "      <th></th>\n",
              "      <th></th>\n",
              "      <th></th>\n",
              "      <th></th>\n",
              "    </tr>\n",
              "  </thead>\n",
              "  <tbody>\n",
              "    <tr>\n",
              "      <th>15-24</th>\n",
              "      <td>1891</td>\n",
              "      <td>0</td>\n",
              "      <td>0</td>\n",
              "      <td>0</td>\n",
              "      <td>2240</td>\n",
              "      <td>0</td>\n",
              "    </tr>\n",
              "    <tr>\n",
              "      <th>25-34</th>\n",
              "      <td>2414</td>\n",
              "      <td>0</td>\n",
              "      <td>1041</td>\n",
              "      <td>0</td>\n",
              "      <td>736</td>\n",
              "      <td>0</td>\n",
              "    </tr>\n",
              "    <tr>\n",
              "      <th>35-54</th>\n",
              "      <td>915</td>\n",
              "      <td>0</td>\n",
              "      <td>2796</td>\n",
              "      <td>0</td>\n",
              "      <td>0</td>\n",
              "      <td>561</td>\n",
              "    </tr>\n",
              "    <tr>\n",
              "      <th>5-14</th>\n",
              "      <td>418</td>\n",
              "      <td>984</td>\n",
              "      <td>0</td>\n",
              "      <td>0</td>\n",
              "      <td>1740</td>\n",
              "      <td>0</td>\n",
              "    </tr>\n",
              "    <tr>\n",
              "      <th>55-74</th>\n",
              "      <td>0</td>\n",
              "      <td>0</td>\n",
              "      <td>731</td>\n",
              "      <td>532</td>\n",
              "      <td>0</td>\n",
              "      <td>2820</td>\n",
              "    </tr>\n",
              "    <tr>\n",
              "      <th>75+</th>\n",
              "      <td>0</td>\n",
              "      <td>0</td>\n",
              "      <td>0</td>\n",
              "      <td>1719</td>\n",
              "      <td>0</td>\n",
              "      <td>2001</td>\n",
              "    </tr>\n",
              "  </tbody>\n",
              "</table>\n",
              "</div>\n",
              "    <div class=\"colab-df-buttons\">\n",
              "\n",
              "  <div class=\"colab-df-container\">\n",
              "    <button class=\"colab-df-convert\" onclick=\"convertToInteractive('df-b30ff000-183d-4e6f-8e2b-a7e1f9623544')\"\n",
              "            title=\"Convert this dataframe to an interactive table.\"\n",
              "            style=\"display:none;\">\n",
              "\n",
              "  <svg xmlns=\"http://www.w3.org/2000/svg\" height=\"24px\" viewBox=\"0 -960 960 960\">\n",
              "    <path d=\"M120-120v-720h720v720H120Zm60-500h600v-160H180v160Zm220 220h160v-160H400v160Zm0 220h160v-160H400v160ZM180-400h160v-160H180v160Zm440 0h160v-160H620v160ZM180-180h160v-160H180v160Zm440 0h160v-160H620v160Z\"/>\n",
              "  </svg>\n",
              "    </button>\n",
              "\n",
              "  <style>\n",
              "    .colab-df-container {\n",
              "      display:flex;\n",
              "      gap: 12px;\n",
              "    }\n",
              "\n",
              "    .colab-df-convert {\n",
              "      background-color: #E8F0FE;\n",
              "      border: none;\n",
              "      border-radius: 50%;\n",
              "      cursor: pointer;\n",
              "      display: none;\n",
              "      fill: #1967D2;\n",
              "      height: 32px;\n",
              "      padding: 0 0 0 0;\n",
              "      width: 32px;\n",
              "    }\n",
              "\n",
              "    .colab-df-convert:hover {\n",
              "      background-color: #E2EBFA;\n",
              "      box-shadow: 0px 1px 2px rgba(60, 64, 67, 0.3), 0px 1px 3px 1px rgba(60, 64, 67, 0.15);\n",
              "      fill: #174EA6;\n",
              "    }\n",
              "\n",
              "    .colab-df-buttons div {\n",
              "      margin-bottom: 4px;\n",
              "    }\n",
              "\n",
              "    [theme=dark] .colab-df-convert {\n",
              "      background-color: #3B4455;\n",
              "      fill: #D2E3FC;\n",
              "    }\n",
              "\n",
              "    [theme=dark] .colab-df-convert:hover {\n",
              "      background-color: #434B5C;\n",
              "      box-shadow: 0px 1px 3px 1px rgba(0, 0, 0, 0.15);\n",
              "      filter: drop-shadow(0px 1px 2px rgba(0, 0, 0, 0.3));\n",
              "      fill: #FFFFFF;\n",
              "    }\n",
              "  </style>\n",
              "\n",
              "    <script>\n",
              "      const buttonEl =\n",
              "        document.querySelector('#df-b30ff000-183d-4e6f-8e2b-a7e1f9623544 button.colab-df-convert');\n",
              "      buttonEl.style.display =\n",
              "        google.colab.kernel.accessAllowed ? 'block' : 'none';\n",
              "\n",
              "      async function convertToInteractive(key) {\n",
              "        const element = document.querySelector('#df-b30ff000-183d-4e6f-8e2b-a7e1f9623544');\n",
              "        const dataTable =\n",
              "          await google.colab.kernel.invokeFunction('convertToInteractive',\n",
              "                                                    [key], {});\n",
              "        if (!dataTable) return;\n",
              "\n",
              "        const docLinkHtml = 'Like what you see? Visit the ' +\n",
              "          '<a target=\"_blank\" href=https://colab.research.google.com/notebooks/data_table.ipynb>data table notebook</a>'\n",
              "          + ' to learn more about interactive tables.';\n",
              "        element.innerHTML = '';\n",
              "        dataTable['output_type'] = 'display_data';\n",
              "        await google.colab.output.renderOutput(dataTable, element);\n",
              "        const docLink = document.createElement('div');\n",
              "        docLink.innerHTML = docLinkHtml;\n",
              "        element.appendChild(docLink);\n",
              "      }\n",
              "    </script>\n",
              "  </div>\n",
              "\n",
              "\n",
              "<div id=\"df-0d5a4efc-6aeb-46e3-8f64-d10a1018d54b\">\n",
              "  <button class=\"colab-df-quickchart\" onclick=\"quickchart('df-0d5a4efc-6aeb-46e3-8f64-d10a1018d54b')\"\n",
              "            title=\"Suggest charts\"\n",
              "            style=\"display:none;\">\n",
              "\n",
              "<svg xmlns=\"http://www.w3.org/2000/svg\" height=\"24px\"viewBox=\"0 0 24 24\"\n",
              "     width=\"24px\">\n",
              "    <g>\n",
              "        <path d=\"M19 3H5c-1.1 0-2 .9-2 2v14c0 1.1.9 2 2 2h14c1.1 0 2-.9 2-2V5c0-1.1-.9-2-2-2zM9 17H7v-7h2v7zm4 0h-2V7h2v10zm4 0h-2v-4h2v4z\"/>\n",
              "    </g>\n",
              "</svg>\n",
              "  </button>\n",
              "\n",
              "<style>\n",
              "  .colab-df-quickchart {\n",
              "      --bg-color: #E8F0FE;\n",
              "      --fill-color: #1967D2;\n",
              "      --hover-bg-color: #E2EBFA;\n",
              "      --hover-fill-color: #174EA6;\n",
              "      --disabled-fill-color: #AAA;\n",
              "      --disabled-bg-color: #DDD;\n",
              "  }\n",
              "\n",
              "  [theme=dark] .colab-df-quickchart {\n",
              "      --bg-color: #3B4455;\n",
              "      --fill-color: #D2E3FC;\n",
              "      --hover-bg-color: #434B5C;\n",
              "      --hover-fill-color: #FFFFFF;\n",
              "      --disabled-bg-color: #3B4455;\n",
              "      --disabled-fill-color: #666;\n",
              "  }\n",
              "\n",
              "  .colab-df-quickchart {\n",
              "    background-color: var(--bg-color);\n",
              "    border: none;\n",
              "    border-radius: 50%;\n",
              "    cursor: pointer;\n",
              "    display: none;\n",
              "    fill: var(--fill-color);\n",
              "    height: 32px;\n",
              "    padding: 0;\n",
              "    width: 32px;\n",
              "  }\n",
              "\n",
              "  .colab-df-quickchart:hover {\n",
              "    background-color: var(--hover-bg-color);\n",
              "    box-shadow: 0 1px 2px rgba(60, 64, 67, 0.3), 0 1px 3px 1px rgba(60, 64, 67, 0.15);\n",
              "    fill: var(--button-hover-fill-color);\n",
              "  }\n",
              "\n",
              "  .colab-df-quickchart-complete:disabled,\n",
              "  .colab-df-quickchart-complete:disabled:hover {\n",
              "    background-color: var(--disabled-bg-color);\n",
              "    fill: var(--disabled-fill-color);\n",
              "    box-shadow: none;\n",
              "  }\n",
              "\n",
              "  .colab-df-spinner {\n",
              "    border: 2px solid var(--fill-color);\n",
              "    border-color: transparent;\n",
              "    border-bottom-color: var(--fill-color);\n",
              "    animation:\n",
              "      spin 1s steps(1) infinite;\n",
              "  }\n",
              "\n",
              "  @keyframes spin {\n",
              "    0% {\n",
              "      border-color: transparent;\n",
              "      border-bottom-color: var(--fill-color);\n",
              "      border-left-color: var(--fill-color);\n",
              "    }\n",
              "    20% {\n",
              "      border-color: transparent;\n",
              "      border-left-color: var(--fill-color);\n",
              "      border-top-color: var(--fill-color);\n",
              "    }\n",
              "    30% {\n",
              "      border-color: transparent;\n",
              "      border-left-color: var(--fill-color);\n",
              "      border-top-color: var(--fill-color);\n",
              "      border-right-color: var(--fill-color);\n",
              "    }\n",
              "    40% {\n",
              "      border-color: transparent;\n",
              "      border-right-color: var(--fill-color);\n",
              "      border-top-color: var(--fill-color);\n",
              "    }\n",
              "    60% {\n",
              "      border-color: transparent;\n",
              "      border-right-color: var(--fill-color);\n",
              "    }\n",
              "    80% {\n",
              "      border-color: transparent;\n",
              "      border-right-color: var(--fill-color);\n",
              "      border-bottom-color: var(--fill-color);\n",
              "    }\n",
              "    90% {\n",
              "      border-color: transparent;\n",
              "      border-bottom-color: var(--fill-color);\n",
              "    }\n",
              "  }\n",
              "</style>\n",
              "\n",
              "  <script>\n",
              "    async function quickchart(key) {\n",
              "      const quickchartButtonEl =\n",
              "        document.querySelector('#' + key + ' button');\n",
              "      quickchartButtonEl.disabled = true;  // To prevent multiple clicks.\n",
              "      quickchartButtonEl.classList.add('colab-df-spinner');\n",
              "      try {\n",
              "        const charts = await google.colab.kernel.invokeFunction(\n",
              "            'suggestCharts', [key], {});\n",
              "      } catch (error) {\n",
              "        console.error('Error during call to suggestCharts:', error);\n",
              "      }\n",
              "      quickchartButtonEl.classList.remove('colab-df-spinner');\n",
              "      quickchartButtonEl.classList.add('colab-df-quickchart-complete');\n",
              "    }\n",
              "    (() => {\n",
              "      let quickchartButtonEl =\n",
              "        document.querySelector('#df-0d5a4efc-6aeb-46e3-8f64-d10a1018d54b button');\n",
              "      quickchartButtonEl.style.display =\n",
              "        google.colab.kernel.accessAllowed ? 'block' : 'none';\n",
              "    })();\n",
              "  </script>\n",
              "</div>\n",
              "\n",
              "  <div id=\"id_b2f31677-08f5-4b56-a854-1e579296c02d\">\n",
              "    <style>\n",
              "      .colab-df-generate {\n",
              "        background-color: #E8F0FE;\n",
              "        border: none;\n",
              "        border-radius: 50%;\n",
              "        cursor: pointer;\n",
              "        display: none;\n",
              "        fill: #1967D2;\n",
              "        height: 32px;\n",
              "        padding: 0 0 0 0;\n",
              "        width: 32px;\n",
              "      }\n",
              "\n",
              "      .colab-df-generate:hover {\n",
              "        background-color: #E2EBFA;\n",
              "        box-shadow: 0px 1px 2px rgba(60, 64, 67, 0.3), 0px 1px 3px 1px rgba(60, 64, 67, 0.15);\n",
              "        fill: #174EA6;\n",
              "      }\n",
              "\n",
              "      [theme=dark] .colab-df-generate {\n",
              "        background-color: #3B4455;\n",
              "        fill: #D2E3FC;\n",
              "      }\n",
              "\n",
              "      [theme=dark] .colab-df-generate:hover {\n",
              "        background-color: #434B5C;\n",
              "        box-shadow: 0px 1px 3px 1px rgba(0, 0, 0, 0.15);\n",
              "        filter: drop-shadow(0px 1px 2px rgba(0, 0, 0, 0.3));\n",
              "        fill: #FFFFFF;\n",
              "      }\n",
              "    </style>\n",
              "    <button class=\"colab-df-generate\" onclick=\"generateWithVariable('crosstab')\"\n",
              "            title=\"Generate code using this dataframe.\"\n",
              "            style=\"display:none;\">\n",
              "\n",
              "  <svg xmlns=\"http://www.w3.org/2000/svg\" height=\"24px\"viewBox=\"0 0 24 24\"\n",
              "       width=\"24px\">\n",
              "    <path d=\"M7,19H8.4L18.45,9,17,7.55,7,17.6ZM5,21V16.75L18.45,3.32a2,2,0,0,1,2.83,0l1.4,1.43a1.91,1.91,0,0,1,.58,1.4,1.91,1.91,0,0,1-.58,1.4L9.25,21ZM18.45,9,17,7.55Zm-12,3A5.31,5.31,0,0,0,4.9,8.1,5.31,5.31,0,0,0,1,6.5,5.31,5.31,0,0,0,4.9,4.9,5.31,5.31,0,0,0,6.5,1,5.31,5.31,0,0,0,8.1,4.9,5.31,5.31,0,0,0,12,6.5,5.46,5.46,0,0,0,6.5,12Z\"/>\n",
              "  </svg>\n",
              "    </button>\n",
              "    <script>\n",
              "      (() => {\n",
              "      const buttonEl =\n",
              "        document.querySelector('#id_b2f31677-08f5-4b56-a854-1e579296c02d button.colab-df-generate');\n",
              "      buttonEl.style.display =\n",
              "        google.colab.kernel.accessAllowed ? 'block' : 'none';\n",
              "\n",
              "      buttonEl.onclick = () => {\n",
              "        google.colab.notebook.generateWithVariable('crosstab');\n",
              "      }\n",
              "      })();\n",
              "    </script>\n",
              "  </div>\n",
              "\n",
              "    </div>\n",
              "  </div>\n"
            ],
            "text/plain": [
              "generacion     X    Z  Boomers  G.I.   Millenials  Silent\n",
              "edad                                                     \n",
              "15-24       1891    0        0      0        2240       0\n",
              "25-34       2414    0     1041      0         736       0\n",
              "35-54        915    0     2796      0           0     561\n",
              "5-14         418  984        0      0        1740       0\n",
              "55-74          0    0      731    532           0    2820\n",
              "75+            0    0        0   1719           0    2001"
            ]
          },
          "execution_count": 129,
          "metadata": {},
          "output_type": "execute_result"
        }
      ],
      "source": [
        "# Podemos obtener una columna y una fila con los totales añadiendo la bandera margins y margins_name:\n",
        "crosstab = pd.crosstab(df['edad'], df['generacion'],margins=False)\n",
        "crosstab"
      ]
    },
    {
      "cell_type": "code",
      "execution_count": null,
      "metadata": {
        "id": "UxrbENNLR1Ci"
      },
      "outputs": [],
      "source": [
        "sns.set_style('whitegrid')"
      ]
    },
    {
      "cell_type": "code",
      "execution_count": 137,
      "metadata": {
        "colab": {
          "base_uri": "https://localhost:8080/",
          "height": 734
        },
        "id": "vXH5DCifRTSb",
        "outputId": "e7f75a11-6a5f-4b96-c3e3-462acf09c608"
      },
      "outputs": [
        {
          "output_type": "display_data",
          "data": {
            "text/plain": [
              "<Figure size 1000x800 with 4 Axes>"
            ],
            "image/png": "[encoded data removed]"
          },
          "metadata": {}
        }
      ],
      "source": [
        "fig, axes=  plt.subplots(2,2, figsize=(10, 8), sharex=True, sharey=True)\n",
        "\n",
        "sns.barplot(x=crosstab.columns, y=crosstab.loc['15-24'], ax=axes[0, 0], hue=crosstab.columns, palette=\"coolwarm\", legend=False)\n",
        "sns.barplot(x=crosstab.columns, y=crosstab.loc['25-34'], ax=axes[0, 1], hue=crosstab.columns, palette=\"seismic\", legend=False)\n",
        "sns.barplot(x=crosstab.columns, y=crosstab.loc['35-54'], ax=axes[1, 0], hue=crosstab.columns, palette=\"RdYlGn\", legend=False)\n",
        "sns.barplot(x=crosstab.columns, y=crosstab.loc['5-14'], ax=axes[1, 1], hue=crosstab.columns, palette=\"BrBG\", legend=False)\n",
        "#sns.barplot(x=crosstab.columns, y=crosstab.loc['55-74'], ax=axes[0, 0], hue=crosstab.columns, palette=\"coolwarm\", legend=False)\n",
        "#sns.barplot(x=crosstab.columns, y=crosstab.loc['75+'], ax=axes[0, 1], hue=crosstab.columns, palette=\"seismic\", legend=False)\n",
        "\n",
        "axes[0, 0].set(xlabel='', ylabel='', title='Rango de edad 15-24 años')\n",
        "axes[0, 1].set(xlabel='', ylabel='', title='Rango de edad 25-34 años')\n",
        "axes[1, 0].set(xlabel='', ylabel='', title='Rango de edad 35-54 años')\n",
        "axes[1, 1].set(xlabel='', ylabel='', title='Rango de edad 5-14 años')\n",
        "#axes[0, 0].set(xlabel='', ylabel='', title='Rango de edad 55-74 años')\n",
        "#axes[0, 1].set(xlabel='', ylabel='', title='Rango de edad 75+ años')\n",
        "\n",
        "fig.suptitle('Rango de edades separados por Generaciones', fontsize=15)\n",
        "plt.tight_layout(rect=[0, 0.03, 1, 0.95])  # Ajustar el layout para acomodar el título superior, tuple (left, bottom, right, top), default: (0, 0, 1, 1)\n"
      ]
    },
    {
      "cell_type": "markdown",
      "metadata": {
        "id": "iHR6UKUhBc7f"
      },
      "source": [
        "¿qué combinaciones de una variable numérica con una variable categórica podrían ser interesantes?"
      ]
    },
    {
      "cell_type": "markdown",
      "metadata": {
        "id": "M-E1pdCXNxwS"
      },
      "source": [
        "* pais - pib per capita\n",
        "* no_suicidios - sexo\n",
        "* no_suicidios - rango de edades\n",
        "\n",
        "\n",
        "Realizar boxplots y violinplots"
      ]
    },
    {
      "cell_type": "markdown",
      "metadata": {
        "id": "VcxAiFxxOyAj"
      },
      "source": [
        "#### pais - pib per capita (Lesly)"
      ]
    },
    {
      "cell_type": "code",
      "execution_count": null,
      "metadata": {
        "id": "XH_Sd5jsPLOK"
      },
      "outputs": [],
      "source": []
    },
    {
      "cell_type": "code",
      "execution_count": null,
      "metadata": {
        "id": "BMdZCn79O0GZ"
      },
      "outputs": [],
      "source": []
    },
    {
      "cell_type": "markdown",
      "metadata": {
        "id": "_crwoS23O0x_"
      },
      "source": [
        "#### no_suicidios - sexo (Miriam)"
      ]
    },
    {
      "cell_type": "code",
      "execution_count": null,
      "metadata": {
        "id": "rP2zkpPyPM0B"
      },
      "outputs": [],
      "source": []
    },
    {
      "cell_type": "code",
      "execution_count": null,
      "metadata": {
        "id": "51MmjnEcO4Ab"
      },
      "outputs": [],
      "source": []
    },
    {
      "cell_type": "markdown",
      "metadata": {
        "id": "Fot20On-O5tr"
      },
      "source": [
        "#### no_suicidios - rango de edades (Gisell)"
      ]
    },
    {
      "cell_type": "code",
      "execution_count": null,
      "metadata": {
        "colab": {
          "base_uri": "https://localhost:8080/"
        },
        "id": "gxVCCaCVc0Dy",
        "outputId": "c912f620-6188-4b7b-eb1d-1d466161f101"
      },
      "outputs": [
        {
          "name": "stderr",
          "output_type": "stream",
          "text": [
            "<ipython-input-77-b529aace709b>:1: FutureWarning: The default value of numeric_only in DataFrameGroupBy.mean is deprecated. In a future version, numeric_only will default to False. Either specify numeric_only or select only columns which should be valid for the function.\n",
            "  by_athlete = df.groupby(level=0)[['no_suicidios', 'edad']].mean()\n"
          ]
        }
      ],
      "source": [
        "by_athlete = df.groupby(level=0)[['no_suicidios', 'edad']].mean()\n",
        "sex = df.groupby(level=0)['edad'].last()\n",
        "merged = by_athlete.merge(sex, left_index=True, right_index=True)"
      ]
    },
    {
      "cell_type": "code",
      "execution_count": null,
      "metadata": {
        "colab": {
          "base_uri": "https://localhost:8080/",
          "height": 935
        },
        "id": "bJ7hTEBDBeBy",
        "outputId": "baef4c8c-d1fb-45b0-fbbf-a1d9dc5c27e1"
      },
      "outputs": [
        {
          "name": "stderr",
          "output_type": "stream",
          "text": [
            "<ipython-input-78-102dddbb74d6>:3: UserWarning: \n",
            "The palette list has fewer values (2) than needed (2083) and will cycle, which may produce an uninterpretable plot.\n",
            "  sns.boxplot(data=merged, x='no_suicidios', y='edad', hue='no_suicidios', palette=['blue', 'red'], dodge=False)\n"
          ]
        },
        {
          "data": {
            "image/png": "[encoded data removed]",
            "text/plain": [
              "<Figure size 500x1000 with 1 Axes>"
            ]
          },
          "metadata": {},
          "output_type": "display_data"
        }
      ],
      "source": [
        "plt.figure(figsize=(5, 10))\n",
        "# Crea el boxplot con Seaborn y asigna colores\n",
        "sns.boxplot(data=merged, x='no_suicidios', y='edad', hue='no_suicidios', palette=['blue', 'red'], dodge=False)\n",
        "\n",
        "# Omitir la leyenda si no es necesaria\n",
        "plt.legend([],[], frameon=False)\n",
        "\n",
        "# Añade un título principal al gráfico\n",
        "plt.title('Distribución del peso por sexo', fontsize=14)\n",
        "\n",
        "# Añade títulos a los ejes X e Y\n",
        "plt.xlabel('Sexo', fontsize=12)\n",
        "plt.ylabel('Peso', fontsize=12)\n",
        "\n",
        "plt.show()"
      ]
    },
    {
      "cell_type": "markdown",
      "metadata": {
        "id": "VZkDLwTAFBim"
      },
      "source": [
        "## Correlaciones y Regresión Linear Simple"
      ]
    },
    {
      "cell_type": "code",
      "execution_count": null,
      "metadata": {
        "id": "WhjO6vPBFcLJ"
      },
      "outputs": [],
      "source": []
    },
    {
      "cell_type": "markdown",
      "metadata": {
        "id": "Xx8-mRf5FJxQ"
      },
      "source": [
        "* Identifica cuáles son las variables numéricas en tu dataset.\n",
        "* Asegúrate de que tengan el tipo de dato correcto y que no haya NaNs por ahí escondidos.\n",
        "* Genera una matriz de correlaciones y un pairplot para visualizar de manera general las relaciones entre tus variables numéricas.\n",
        "* Utilizando gráficas de dispersión y tus medidas de locación y dispersión, identifica dónde hay valores atípicos y decide qué hacer con ellos.\n",
        "* Revisa si tu revisión de valores atípicos cambió de alguna manera las relaciones existentes.\n",
        "* Donde consideres necesario, entrena modelos de Regresión Lineal con un o más pares de variables. Incluso si no te parece que realizar predicciones entre pares de variables tiene sentido para tu proyecto, prueba realizar un par de regresiones para que practiques el procedimiento."
      ]
    },
    {
      "cell_type": "code",
      "execution_count": null,
      "metadata": {
        "id": "cGpVNi2tFQJ5"
      },
      "outputs": [],
      "source": []
    },
    {
      "cell_type": "markdown",
      "metadata": {
        "id": "8_Ax-ez7FSjT"
      },
      "source": [
        "## Distribuciones muestrales y técnicas de evaluación de modelos"
      ]
    },
    {
      "cell_type": "code",
      "execution_count": null,
      "metadata": {
        "id": "KF6RM38xGbWw"
      },
      "outputs": [],
      "source": []
    },
    {
      "cell_type": "markdown",
      "metadata": {
        "id": "Dxyd6xNUFq_D"
      },
      "source": [
        "* Identifica las variables numéricas en tu dataset y revisa las medidas de locación y dispersión que ya has realizado de ellas.\n",
        "* Utilizando la técnica de bootstrap, explora las distribuciones muestrales de las estadísticas que obtuviste anteriormente y reporta:\n",
        "** La distribución, su asimetría y curtosis\n",
        "** El error estándar\n",
        "** El intervalo de confianza que te parezca más apropiado\n",
        "* Si tiene sentido, elige algunas de tus variables numéricas para entrenar uno o más modelos de Regresión Lineal Múltiple. Utiliza las técnicas de división de dataset y validación cruzada de K-iteraciones para asegurarte de que tu modelo generalice.\n"
      ]
    },
    {
      "cell_type": "code",
      "execution_count": null,
      "metadata": {
        "id": "dXnLsSB1F0me"
      },
      "outputs": [],
      "source": []
    },
    {
      "cell_type": "markdown",
      "metadata": {
        "id": "EJqs4x3FGH0B"
      },
      "source": [
        "## Visualización de datos avanzada"
      ]
    },
    {
      "cell_type": "markdown",
      "metadata": {
        "id": "St1NYcGNF4Xh"
      },
      "source": [
        "* Si hay relaciones jerárquicas que quieras hacer claras o si quieres explorar las proporciones de una variable numérica agrupada en múltiples niveles utiliza un treemap.\n",
        "* Si quieres explorar la relación entre dos variables numéricas divididas por una variable categórica, utiliza scatterplots por categorías o scatterplots con variables condicionantes.\n",
        "* Si quieres explorar la relación entre dos variables numéricas pero tu dataset es tan grande que es imposible definir las densidades de tus datos, utiliza un binning hexagonal.\n",
        "* Si quieres explorar datos geográficos, como definir regiones o puntos en un mapa o visualizar una variable numérica que puede segmentarse por regiones geográficas, utiliza un mapa cloroplético.\n",
        "* Si quieres explorar una variable numérica agrupada en dos niveles por variables categóricas, utiliza una gráfica de barras apiladas."
      ]
    },
    {
      "cell_type": "code",
      "execution_count": null,
      "metadata": {
        "id": "p5Xaht4RGFzK"
      },
      "outputs": [],
      "source": []
    }
  ],
  "metadata": {
    "colab": {
      "provenance": [],
      "include_colab_link": true
    },
    "kernelspec": {
      "display_name": "Python 3",
      "name": "python3"
    },
    "language_info": {
      "name": "python"
    }
  },
  "nbformat": 4,
  "nbformat_minor": 0
}