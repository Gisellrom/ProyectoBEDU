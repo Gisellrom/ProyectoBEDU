{
  "nbformat": 4,
  "nbformat_minor": 0,
  "metadata": {
    "colab": {
      "provenance": [],
      "include_colab_link": true
    },
    "kernelspec": {
      "name": "python3",
      "display_name": "Python 3"
    },
    "language_info": {
      "name": "python"
    }
  },
  "cells": [
    {
      "cell_type": "markdown",
      "metadata": {
        "id": "view-in-github",
        "colab_type": "text"
      },
      "source": [
        "<a href=\"https://colab.research.google.com/github/Gisellrom/ProyectoBEDU/blob/main/Suicidios.ipynb\" target=\"_parent\"><img src=\"https://colab.research.google.com/assets/colab-badge.svg\" alt=\"Open In Colab\"/></a>"
      ]
    },
    {
      "cell_type": "markdown",
      "source": [
        "# PROYECTO: EL SUICIDIO EN EL SIGLO XXI"
      ],
      "metadata": {
        "id": "hx_r-d5NdpIf"
      }
    },
    {
      "cell_type": "markdown",
      "source": [
        "En 2017, un hombre a quien consideraba uno de los mejores músicos de todos los tiempos y autor, o coautor, de varias canciones que se habían convertido en la banda sonora de mi vida, se suicidó. Muchos se sorprendieron y muchos lo extrañan hoy.\n",
        "En 2018, un hombre cuyos programas de televisión me mantuvieron repetidamente en un estado de respeto y fascinación por la diversidad del mundo, se suicidó. Muchos se sorprendieron y muchos lo extrañan hoy.\n",
        "\n",
        "Según la OMS, cerca de 800.000 personas menos famosas mueren cada año por suicidio. Miré las Estadísticas de suicidio de la OMS para ver hacia dónde se dirige el mundo en su conjunto.\n",
        "\n",
        "¿Está mejorando o empeorando? Verás mi respuesta a continuación.\n",
        "\n",
        "Nota: haga lo que haga con los datos y las conclusiones que saque, nada de eso está aprobado ni respaldado por la OMS."
      ],
      "metadata": {
        "id": "yKpihGX2d1N2"
      }
    },
    {
      "cell_type": "markdown",
      "source": [
        "# Objetivo General"
      ],
      "metadata": {
        "id": "5iOxQ2uu3ngv"
      }
    },
    {
      "cell_type": "markdown",
      "source": [
        "Analizar exhaustivamente la recopilación de índices de suicidios dentro de los 22 país, con el fin de comprender y visualizar patrones y posibles factores de riesgo asociados con el suicidio. Esto se logrará mediante el análisis y la representación gráfica de variables como edades, género y generación. Además, se buscará identificar los años en los que se registraron más suicidios y se relacionarán las tasas de suicidio con el per capital l de los países para comprender mejor su posible influencia en este fenómeno."
      ],
      "metadata": {
        "id": "1g-OaqJq33Gd"
      }
    },
    {
      "cell_type": "markdown",
      "source": [
        "# Objetivos específicos\n",
        "Nuestro colab busca responder las siguientes preguntas:\n",
        "\n",
        "* ¿Cuál es el país con más indices de suicidio y en qué año se presentó el mayor número de muertes?\n",
        "\n",
        "* ¿A qué edad se presentó el mayor número de suicidios y cuál es la generación más afectada?. Está incidencia es mayor ¿en hombres o mujeres?\n",
        "\n",
        "* ¿El factor económico juega un papel importante de acuerdo con el número de suicidos registrados?\n",
        "\n"
      ],
      "metadata": {
        "id": "Vlfj5kMp5uNo"
      }
    },
    {
      "cell_type": "code",
      "source": [
        "# Link original:\n",
        "# https://www.kaggle.com/code/szamil/suicide-in-the-twenty-first-century/input"
      ],
      "metadata": {
        "id": "0HcRPeD0d9fY"
      },
      "execution_count": 2,
      "outputs": []
    },
    {
      "cell_type": "code",
      "execution_count": 3,
      "metadata": {
        "colab": {
          "base_uri": "https://localhost:8080/"
        },
        "id": "CQvHNVngZxc5",
        "outputId": "ebfc9b6f-16b3-4aed-dbfb-2655950e4a22"
      },
      "outputs": [
        {
          "output_type": "stream",
          "name": "stdout",
          "text": [
            "Mounted at /content/drive\n"
          ]
        }
      ],
      "source": [
        "from google.colab import drive\n",
        "drive.mount('/content/drive')"
      ]
    },
    {
      "cell_type": "markdown",
      "source": [
        "# Inicialización"
      ],
      "metadata": {
        "id": "WZ-wgJcspGBD"
      }
    },
    {
      "cell_type": "markdown",
      "source": [
        "Para comenzar, vamos a importar todas las librerías necesarias para la construcción correcta de las gráficas. En este caso, trabajaremos con las librerías `Pandas`, `Numpy` y `Seaborn` , que permiten leer correctamente los archivos, trabajar con bases de datos, trazar gráficos."
      ],
      "metadata": {
        "id": "Uwz-_nH1pJgk"
      }
    },
    {
      "cell_type": "code",
      "source": [
        "import pandas as pd\n",
        "import matplotlib.pyplot as plt\n",
        "import seaborn as sns\n"
      ],
      "metadata": {
        "id": "qNBtktsCaZ3z"
      },
      "execution_count": 4,
      "outputs": []
    },
    {
      "cell_type": "markdown",
      "source": [
        "# Cargar datos"
      ],
      "metadata": {
        "id": "IWzgPD-Pp2lr"
      }
    },
    {
      "cell_type": "markdown",
      "source": [
        "En segundo lugar, importamos los datasets con la información de los suicidios del siglo XXI. Para esto utilizaremos la función `read_csv` de pandas y pasaremos como argumento la ubicación del archivo. Guardaremos los datos en la variable `df`"
      ],
      "metadata": {
        "id": "oVLpdb55qFIO"
      }
    },
    {
      "cell_type": "code",
      "source": [
        "# Leemos los datos\n",
        "df = pd.read_csv('/content/drive/MyDrive/Proyecto BEDU/Dataset/master.csv', index_col=0)"
      ],
      "metadata": {
        "id": "fQ2n-TCgp3aB"
      },
      "execution_count": 5,
      "outputs": []
    },
    {
      "cell_type": "markdown",
      "source": [
        "# Procesamiento de datos"
      ],
      "metadata": {
        "id": "uA_g10YLGQ0x"
      }
    },
    {
      "cell_type": "markdown",
      "source": [
        "## Explorar datos iniciales"
      ],
      "metadata": {
        "id": "Gt_X0FFjruS6"
      }
    },
    {
      "cell_type": "markdown",
      "source": [
        "Con los datasets correctamente importados, ahora procedemos a realizar una exploración inicial de los datos. En este caso llamaremos al atributo `shape`, y los métodos `head` e `info` para el dataset."
      ],
      "metadata": {
        "id": "535gwdAVr-Q1"
      }
    },
    {
      "cell_type": "code",
      "source": [
        "#Tamaño del dataset\n",
        "df.shape"
      ],
      "metadata": {
        "colab": {
          "base_uri": "https://localhost:8080/"
        },
        "id": "YWhhtcy2rzqU",
        "outputId": "75fa8ed1-afee-42dd-e4af-fa1464b67d19"
      },
      "execution_count": 6,
      "outputs": [
        {
          "output_type": "execute_result",
          "data": {
            "text/plain": [
              "(27820, 11)"
            ]
          },
          "metadata": {},
          "execution_count": 6
        }
      ]
    },
    {
      "cell_type": "code",
      "source": [
        "#Verificamos que los datos esten cargados\n",
        "df.head()"
      ],
      "metadata": {
        "id": "6U615_oTa4O-",
        "colab": {
          "base_uri": "https://localhost:8080/",
          "height": 359
        },
        "outputId": "b2dccd2d-5dad-4677-f449-9f04cb560613"
      },
      "execution_count": 7,
      "outputs": [
        {
          "output_type": "execute_result",
          "data": {
            "text/plain": [
              "         year     sex          age  suicides_no  population  \\\n",
              "country                                                       \n",
              "Albania  1987    male  15-24 years           21      312900   \n",
              "Albania  1987    male  35-54 years           16      308000   \n",
              "Albania  1987  female  15-24 years           14      289700   \n",
              "Albania  1987    male    75+ years            1       21800   \n",
              "Albania  1987    male  25-34 years            9      274300   \n",
              "\n",
              "         suicides/100k pop country-year  HDI for year  gdp_for_year ($)   \\\n",
              "country                                                                    \n",
              "Albania               6.71  Albania1987           NaN      2,156,624,900   \n",
              "Albania               5.19  Albania1987           NaN      2,156,624,900   \n",
              "Albania               4.83  Albania1987           NaN      2,156,624,900   \n",
              "Albania               4.59  Albania1987           NaN      2,156,624,900   \n",
              "Albania               3.28  Albania1987           NaN      2,156,624,900   \n",
              "\n",
              "         gdp_per_capita ($)       generation  \n",
              "country                                       \n",
              "Albania                 796     Generation X  \n",
              "Albania                 796           Silent  \n",
              "Albania                 796     Generation X  \n",
              "Albania                 796  G.I. Generation  \n",
              "Albania                 796          Boomers  "
            ],
            "text/html": [
              "\n",
              "  <div id=\"df-1a0aa940-c8b2-4b13-8109-f59f7c3c026f\" class=\"colab-df-container\">\n",
              "    <div>\n",
              "<style scoped>\n",
              "    .dataframe tbody tr th:only-of-type {\n",
              "        vertical-align: middle;\n",
              "    }\n",
              "\n",
              "    .dataframe tbody tr th {\n",
              "        vertical-align: top;\n",
              "    }\n",
              "\n",
              "    .dataframe thead th {\n",
              "        text-align: right;\n",
              "    }\n",
              "</style>\n",
              "<table border=\"1\" class=\"dataframe\">\n",
              "  <thead>\n",
              "    <tr style=\"text-align: right;\">\n",
              "      <th></th>\n",
              "      <th>year</th>\n",
              "      <th>sex</th>\n",
              "      <th>age</th>\n",
              "      <th>suicides_no</th>\n",
              "      <th>population</th>\n",
              "      <th>suicides/100k pop</th>\n",
              "      <th>country-year</th>\n",
              "      <th>HDI for year</th>\n",
              "      <th>gdp_for_year ($)</th>\n",
              "      <th>gdp_per_capita ($)</th>\n",
              "      <th>generation</th>\n",
              "    </tr>\n",
              "    <tr>\n",
              "      <th>country</th>\n",
              "      <th></th>\n",
              "      <th></th>\n",
              "      <th></th>\n",
              "      <th></th>\n",
              "      <th></th>\n",
              "      <th></th>\n",
              "      <th></th>\n",
              "      <th></th>\n",
              "      <th></th>\n",
              "      <th></th>\n",
              "      <th></th>\n",
              "    </tr>\n",
              "  </thead>\n",
              "  <tbody>\n",
              "    <tr>\n",
              "      <th>Albania</th>\n",
              "      <td>1987</td>\n",
              "      <td>male</td>\n",
              "      <td>15-24 years</td>\n",
              "      <td>21</td>\n",
              "      <td>312900</td>\n",
              "      <td>6.71</td>\n",
              "      <td>Albania1987</td>\n",
              "      <td>NaN</td>\n",
              "      <td>2,156,624,900</td>\n",
              "      <td>796</td>\n",
              "      <td>Generation X</td>\n",
              "    </tr>\n",
              "    <tr>\n",
              "      <th>Albania</th>\n",
              "      <td>1987</td>\n",
              "      <td>male</td>\n",
              "      <td>35-54 years</td>\n",
              "      <td>16</td>\n",
              "      <td>308000</td>\n",
              "      <td>5.19</td>\n",
              "      <td>Albania1987</td>\n",
              "      <td>NaN</td>\n",
              "      <td>2,156,624,900</td>\n",
              "      <td>796</td>\n",
              "      <td>Silent</td>\n",
              "    </tr>\n",
              "    <tr>\n",
              "      <th>Albania</th>\n",
              "      <td>1987</td>\n",
              "      <td>female</td>\n",
              "      <td>15-24 years</td>\n",
              "      <td>14</td>\n",
              "      <td>289700</td>\n",
              "      <td>4.83</td>\n",
              "      <td>Albania1987</td>\n",
              "      <td>NaN</td>\n",
              "      <td>2,156,624,900</td>\n",
              "      <td>796</td>\n",
              "      <td>Generation X</td>\n",
              "    </tr>\n",
              "    <tr>\n",
              "      <th>Albania</th>\n",
              "      <td>1987</td>\n",
              "      <td>male</td>\n",
              "      <td>75+ years</td>\n",
              "      <td>1</td>\n",
              "      <td>21800</td>\n",
              "      <td>4.59</td>\n",
              "      <td>Albania1987</td>\n",
              "      <td>NaN</td>\n",
              "      <td>2,156,624,900</td>\n",
              "      <td>796</td>\n",
              "      <td>G.I. Generation</td>\n",
              "    </tr>\n",
              "    <tr>\n",
              "      <th>Albania</th>\n",
              "      <td>1987</td>\n",
              "      <td>male</td>\n",
              "      <td>25-34 years</td>\n",
              "      <td>9</td>\n",
              "      <td>274300</td>\n",
              "      <td>3.28</td>\n",
              "      <td>Albania1987</td>\n",
              "      <td>NaN</td>\n",
              "      <td>2,156,624,900</td>\n",
              "      <td>796</td>\n",
              "      <td>Boomers</td>\n",
              "    </tr>\n",
              "  </tbody>\n",
              "</table>\n",
              "</div>\n",
              "    <div class=\"colab-df-buttons\">\n",
              "\n",
              "  <div class=\"colab-df-container\">\n",
              "    <button class=\"colab-df-convert\" onclick=\"convertToInteractive('df-1a0aa940-c8b2-4b13-8109-f59f7c3c026f')\"\n",
              "            title=\"Convert this dataframe to an interactive table.\"\n",
              "            style=\"display:none;\">\n",
              "\n",
              "  <svg xmlns=\"http://www.w3.org/2000/svg\" height=\"24px\" viewBox=\"0 -960 960 960\">\n",
              "    <path d=\"M120-120v-720h720v720H120Zm60-500h600v-160H180v160Zm220 220h160v-160H400v160Zm0 220h160v-160H400v160ZM180-400h160v-160H180v160Zm440 0h160v-160H620v160ZM180-180h160v-160H180v160Zm440 0h160v-160H620v160Z\"/>\n",
              "  </svg>\n",
              "    </button>\n",
              "\n",
              "  <style>\n",
              "    .colab-df-container {\n",
              "      display:flex;\n",
              "      gap: 12px;\n",
              "    }\n",
              "\n",
              "    .colab-df-convert {\n",
              "      background-color: #E8F0FE;\n",
              "      border: none;\n",
              "      border-radius: 50%;\n",
              "      cursor: pointer;\n",
              "      display: none;\n",
              "      fill: #1967D2;\n",
              "      height: 32px;\n",
              "      padding: 0 0 0 0;\n",
              "      width: 32px;\n",
              "    }\n",
              "\n",
              "    .colab-df-convert:hover {\n",
              "      background-color: #E2EBFA;\n",
              "      box-shadow: 0px 1px 2px rgba(60, 64, 67, 0.3), 0px 1px 3px 1px rgba(60, 64, 67, 0.15);\n",
              "      fill: #174EA6;\n",
              "    }\n",
              "\n",
              "    .colab-df-buttons div {\n",
              "      margin-bottom: 4px;\n",
              "    }\n",
              "\n",
              "    [theme=dark] .colab-df-convert {\n",
              "      background-color: #3B4455;\n",
              "      fill: #D2E3FC;\n",
              "    }\n",
              "\n",
              "    [theme=dark] .colab-df-convert:hover {\n",
              "      background-color: #434B5C;\n",
              "      box-shadow: 0px 1px 3px 1px rgba(0, 0, 0, 0.15);\n",
              "      filter: drop-shadow(0px 1px 2px rgba(0, 0, 0, 0.3));\n",
              "      fill: #FFFFFF;\n",
              "    }\n",
              "  </style>\n",
              "\n",
              "    <script>\n",
              "      const buttonEl =\n",
              "        document.querySelector('#df-1a0aa940-c8b2-4b13-8109-f59f7c3c026f button.colab-df-convert');\n",
              "      buttonEl.style.display =\n",
              "        google.colab.kernel.accessAllowed ? 'block' : 'none';\n",
              "\n",
              "      async function convertToInteractive(key) {\n",
              "        const element = document.querySelector('#df-1a0aa940-c8b2-4b13-8109-f59f7c3c026f');\n",
              "        const dataTable =\n",
              "          await google.colab.kernel.invokeFunction('convertToInteractive',\n",
              "                                                    [key], {});\n",
              "        if (!dataTable) return;\n",
              "\n",
              "        const docLinkHtml = 'Like what you see? Visit the ' +\n",
              "          '<a target=\"_blank\" href=https://colab.research.google.com/notebooks/data_table.ipynb>data table notebook</a>'\n",
              "          + ' to learn more about interactive tables.';\n",
              "        element.innerHTML = '';\n",
              "        dataTable['output_type'] = 'display_data';\n",
              "        await google.colab.output.renderOutput(dataTable, element);\n",
              "        const docLink = document.createElement('div');\n",
              "        docLink.innerHTML = docLinkHtml;\n",
              "        element.appendChild(docLink);\n",
              "      }\n",
              "    </script>\n",
              "  </div>\n",
              "\n",
              "\n",
              "<div id=\"df-eb954643-3d71-46c4-8436-c882f63b165e\">\n",
              "  <button class=\"colab-df-quickchart\" onclick=\"quickchart('df-eb954643-3d71-46c4-8436-c882f63b165e')\"\n",
              "            title=\"Suggest charts\"\n",
              "            style=\"display:none;\">\n",
              "\n",
              "<svg xmlns=\"http://www.w3.org/2000/svg\" height=\"24px\"viewBox=\"0 0 24 24\"\n",
              "     width=\"24px\">\n",
              "    <g>\n",
              "        <path d=\"M19 3H5c-1.1 0-2 .9-2 2v14c0 1.1.9 2 2 2h14c1.1 0 2-.9 2-2V5c0-1.1-.9-2-2-2zM9 17H7v-7h2v7zm4 0h-2V7h2v10zm4 0h-2v-4h2v4z\"/>\n",
              "    </g>\n",
              "</svg>\n",
              "  </button>\n",
              "\n",
              "<style>\n",
              "  .colab-df-quickchart {\n",
              "      --bg-color: #E8F0FE;\n",
              "      --fill-color: #1967D2;\n",
              "      --hover-bg-color: #E2EBFA;\n",
              "      --hover-fill-color: #174EA6;\n",
              "      --disabled-fill-color: #AAA;\n",
              "      --disabled-bg-color: #DDD;\n",
              "  }\n",
              "\n",
              "  [theme=dark] .colab-df-quickchart {\n",
              "      --bg-color: #3B4455;\n",
              "      --fill-color: #D2E3FC;\n",
              "      --hover-bg-color: #434B5C;\n",
              "      --hover-fill-color: #FFFFFF;\n",
              "      --disabled-bg-color: #3B4455;\n",
              "      --disabled-fill-color: #666;\n",
              "  }\n",
              "\n",
              "  .colab-df-quickchart {\n",
              "    background-color: var(--bg-color);\n",
              "    border: none;\n",
              "    border-radius: 50%;\n",
              "    cursor: pointer;\n",
              "    display: none;\n",
              "    fill: var(--fill-color);\n",
              "    height: 32px;\n",
              "    padding: 0;\n",
              "    width: 32px;\n",
              "  }\n",
              "\n",
              "  .colab-df-quickchart:hover {\n",
              "    background-color: var(--hover-bg-color);\n",
              "    box-shadow: 0 1px 2px rgba(60, 64, 67, 0.3), 0 1px 3px 1px rgba(60, 64, 67, 0.15);\n",
              "    fill: var(--button-hover-fill-color);\n",
              "  }\n",
              "\n",
              "  .colab-df-quickchart-complete:disabled,\n",
              "  .colab-df-quickchart-complete:disabled:hover {\n",
              "    background-color: var(--disabled-bg-color);\n",
              "    fill: var(--disabled-fill-color);\n",
              "    box-shadow: none;\n",
              "  }\n",
              "\n",
              "  .colab-df-spinner {\n",
              "    border: 2px solid var(--fill-color);\n",
              "    border-color: transparent;\n",
              "    border-bottom-color: var(--fill-color);\n",
              "    animation:\n",
              "      spin 1s steps(1) infinite;\n",
              "  }\n",
              "\n",
              "  @keyframes spin {\n",
              "    0% {\n",
              "      border-color: transparent;\n",
              "      border-bottom-color: var(--fill-color);\n",
              "      border-left-color: var(--fill-color);\n",
              "    }\n",
              "    20% {\n",
              "      border-color: transparent;\n",
              "      border-left-color: var(--fill-color);\n",
              "      border-top-color: var(--fill-color);\n",
              "    }\n",
              "    30% {\n",
              "      border-color: transparent;\n",
              "      border-left-color: var(--fill-color);\n",
              "      border-top-color: var(--fill-color);\n",
              "      border-right-color: var(--fill-color);\n",
              "    }\n",
              "    40% {\n",
              "      border-color: transparent;\n",
              "      border-right-color: var(--fill-color);\n",
              "      border-top-color: var(--fill-color);\n",
              "    }\n",
              "    60% {\n",
              "      border-color: transparent;\n",
              "      border-right-color: var(--fill-color);\n",
              "    }\n",
              "    80% {\n",
              "      border-color: transparent;\n",
              "      border-right-color: var(--fill-color);\n",
              "      border-bottom-color: var(--fill-color);\n",
              "    }\n",
              "    90% {\n",
              "      border-color: transparent;\n",
              "      border-bottom-color: var(--fill-color);\n",
              "    }\n",
              "  }\n",
              "</style>\n",
              "\n",
              "  <script>\n",
              "    async function quickchart(key) {\n",
              "      const quickchartButtonEl =\n",
              "        document.querySelector('#' + key + ' button');\n",
              "      quickchartButtonEl.disabled = true;  // To prevent multiple clicks.\n",
              "      quickchartButtonEl.classList.add('colab-df-spinner');\n",
              "      try {\n",
              "        const charts = await google.colab.kernel.invokeFunction(\n",
              "            'suggestCharts', [key], {});\n",
              "      } catch (error) {\n",
              "        console.error('Error during call to suggestCharts:', error);\n",
              "      }\n",
              "      quickchartButtonEl.classList.remove('colab-df-spinner');\n",
              "      quickchartButtonEl.classList.add('colab-df-quickchart-complete');\n",
              "    }\n",
              "    (() => {\n",
              "      let quickchartButtonEl =\n",
              "        document.querySelector('#df-eb954643-3d71-46c4-8436-c882f63b165e button');\n",
              "      quickchartButtonEl.style.display =\n",
              "        google.colab.kernel.accessAllowed ? 'block' : 'none';\n",
              "    })();\n",
              "  </script>\n",
              "</div>\n",
              "\n",
              "    </div>\n",
              "  </div>\n"
            ]
          },
          "metadata": {},
          "execution_count": 7
        }
      ]
    },
    {
      "cell_type": "code",
      "source": [
        "df.info()"
      ],
      "metadata": {
        "colab": {
          "base_uri": "https://localhost:8080/"
        },
        "id": "SWjwXAfwemGN",
        "outputId": "567feafe-d23d-410f-961a-fb833fc1f4d7"
      },
      "execution_count": 8,
      "outputs": [
        {
          "output_type": "stream",
          "name": "stdout",
          "text": [
            "<class 'pandas.core.frame.DataFrame'>\n",
            "Index: 27820 entries, Albania to Uzbekistan\n",
            "Data columns (total 11 columns):\n",
            " #   Column              Non-Null Count  Dtype  \n",
            "---  ------              --------------  -----  \n",
            " 0   year                27820 non-null  int64  \n",
            " 1   sex                 27820 non-null  object \n",
            " 2   age                 27820 non-null  object \n",
            " 3   suicides_no         27820 non-null  int64  \n",
            " 4   population          27820 non-null  int64  \n",
            " 5   suicides/100k pop   27820 non-null  float64\n",
            " 6   country-year        27820 non-null  object \n",
            " 7   HDI for year        8364 non-null   float64\n",
            " 8    gdp_for_year ($)   27820 non-null  object \n",
            " 9   gdp_per_capita ($)  27820 non-null  int64  \n",
            " 10  generation          27820 non-null  object \n",
            "dtypes: float64(2), int64(4), object(5)\n",
            "memory usage: 2.5+ MB\n"
          ]
        }
      ]
    },
    {
      "cell_type": "markdown",
      "source": [
        "Revisamos el nombre de las columnas que tenemos en nuestro dataset, para verificar mejor si tenemos espacios vacios entre los nombres de las columnas:"
      ],
      "metadata": {
        "id": "KlpDnBEVidIn"
      }
    },
    {
      "cell_type": "code",
      "source": [
        " # Para ver las columnas que contiene el dataset\n",
        "df.columns"
      ],
      "metadata": {
        "colab": {
          "base_uri": "https://localhost:8080/"
        },
        "id": "gIiujw8cihe6",
        "outputId": "b3805d09-2adb-498c-e860-3eeca515c786"
      },
      "execution_count": 9,
      "outputs": [
        {
          "output_type": "execute_result",
          "data": {
            "text/plain": [
              "Index(['year', 'sex', 'age', 'suicides_no', 'population', 'suicides/100k pop',\n",
              "       'country-year', 'HDI for year', ' gdp_for_year ($) ',\n",
              "       'gdp_per_capita ($)', 'generation'],\n",
              "      dtype='object')"
            ]
          },
          "metadata": {},
          "execution_count": 9
        }
      ]
    },
    {
      "cell_type": "markdown",
      "source": [
        "Desde este momento, podemos observar que la columna **country**, el dataset la está considerando como nuestro index, por lo que hay que cambiar de indice para analizar los datos que contiene:"
      ],
      "metadata": {
        "id": "oNoxf3OFj-84"
      }
    },
    {
      "cell_type": "code",
      "source": [
        "# Convertir el índice en una columna\n",
        "df = df.reset_index()\n",
        "df.head()"
      ],
      "metadata": {
        "id": "KlW2hPasvPVt",
        "colab": {
          "base_uri": "https://localhost:8080/",
          "height": 397
        },
        "outputId": "36dd9898-4ecf-45a0-a03e-3e2a75f14517"
      },
      "execution_count": 10,
      "outputs": [
        {
          "output_type": "execute_result",
          "data": {
            "text/plain": [
              "   country  year     sex          age  suicides_no  population  \\\n",
              "0  Albania  1987    male  15-24 years           21      312900   \n",
              "1  Albania  1987    male  35-54 years           16      308000   \n",
              "2  Albania  1987  female  15-24 years           14      289700   \n",
              "3  Albania  1987    male    75+ years            1       21800   \n",
              "4  Albania  1987    male  25-34 years            9      274300   \n",
              "\n",
              "   suicides/100k pop country-year  HDI for year  gdp_for_year ($)   \\\n",
              "0               6.71  Albania1987           NaN      2,156,624,900   \n",
              "1               5.19  Albania1987           NaN      2,156,624,900   \n",
              "2               4.83  Albania1987           NaN      2,156,624,900   \n",
              "3               4.59  Albania1987           NaN      2,156,624,900   \n",
              "4               3.28  Albania1987           NaN      2,156,624,900   \n",
              "\n",
              "   gdp_per_capita ($)       generation  \n",
              "0                 796     Generation X  \n",
              "1                 796           Silent  \n",
              "2                 796     Generation X  \n",
              "3                 796  G.I. Generation  \n",
              "4                 796          Boomers  "
            ],
            "text/html": [
              "\n",
              "  <div id=\"df-5c1506b5-4239-488a-a8d7-f0beafa0afd9\" class=\"colab-df-container\">\n",
              "    <div>\n",
              "<style scoped>\n",
              "    .dataframe tbody tr th:only-of-type {\n",
              "        vertical-align: middle;\n",
              "    }\n",
              "\n",
              "    .dataframe tbody tr th {\n",
              "        vertical-align: top;\n",
              "    }\n",
              "\n",
              "    .dataframe thead th {\n",
              "        text-align: right;\n",
              "    }\n",
              "</style>\n",
              "<table border=\"1\" class=\"dataframe\">\n",
              "  <thead>\n",
              "    <tr style=\"text-align: right;\">\n",
              "      <th></th>\n",
              "      <th>country</th>\n",
              "      <th>year</th>\n",
              "      <th>sex</th>\n",
              "      <th>age</th>\n",
              "      <th>suicides_no</th>\n",
              "      <th>population</th>\n",
              "      <th>suicides/100k pop</th>\n",
              "      <th>country-year</th>\n",
              "      <th>HDI for year</th>\n",
              "      <th>gdp_for_year ($)</th>\n",
              "      <th>gdp_per_capita ($)</th>\n",
              "      <th>generation</th>\n",
              "    </tr>\n",
              "  </thead>\n",
              "  <tbody>\n",
              "    <tr>\n",
              "      <th>0</th>\n",
              "      <td>Albania</td>\n",
              "      <td>1987</td>\n",
              "      <td>male</td>\n",
              "      <td>15-24 years</td>\n",
              "      <td>21</td>\n",
              "      <td>312900</td>\n",
              "      <td>6.71</td>\n",
              "      <td>Albania1987</td>\n",
              "      <td>NaN</td>\n",
              "      <td>2,156,624,900</td>\n",
              "      <td>796</td>\n",
              "      <td>Generation X</td>\n",
              "    </tr>\n",
              "    <tr>\n",
              "      <th>1</th>\n",
              "      <td>Albania</td>\n",
              "      <td>1987</td>\n",
              "      <td>male</td>\n",
              "      <td>35-54 years</td>\n",
              "      <td>16</td>\n",
              "      <td>308000</td>\n",
              "      <td>5.19</td>\n",
              "      <td>Albania1987</td>\n",
              "      <td>NaN</td>\n",
              "      <td>2,156,624,900</td>\n",
              "      <td>796</td>\n",
              "      <td>Silent</td>\n",
              "    </tr>\n",
              "    <tr>\n",
              "      <th>2</th>\n",
              "      <td>Albania</td>\n",
              "      <td>1987</td>\n",
              "      <td>female</td>\n",
              "      <td>15-24 years</td>\n",
              "      <td>14</td>\n",
              "      <td>289700</td>\n",
              "      <td>4.83</td>\n",
              "      <td>Albania1987</td>\n",
              "      <td>NaN</td>\n",
              "      <td>2,156,624,900</td>\n",
              "      <td>796</td>\n",
              "      <td>Generation X</td>\n",
              "    </tr>\n",
              "    <tr>\n",
              "      <th>3</th>\n",
              "      <td>Albania</td>\n",
              "      <td>1987</td>\n",
              "      <td>male</td>\n",
              "      <td>75+ years</td>\n",
              "      <td>1</td>\n",
              "      <td>21800</td>\n",
              "      <td>4.59</td>\n",
              "      <td>Albania1987</td>\n",
              "      <td>NaN</td>\n",
              "      <td>2,156,624,900</td>\n",
              "      <td>796</td>\n",
              "      <td>G.I. Generation</td>\n",
              "    </tr>\n",
              "    <tr>\n",
              "      <th>4</th>\n",
              "      <td>Albania</td>\n",
              "      <td>1987</td>\n",
              "      <td>male</td>\n",
              "      <td>25-34 years</td>\n",
              "      <td>9</td>\n",
              "      <td>274300</td>\n",
              "      <td>3.28</td>\n",
              "      <td>Albania1987</td>\n",
              "      <td>NaN</td>\n",
              "      <td>2,156,624,900</td>\n",
              "      <td>796</td>\n",
              "      <td>Boomers</td>\n",
              "    </tr>\n",
              "  </tbody>\n",
              "</table>\n",
              "</div>\n",
              "    <div class=\"colab-df-buttons\">\n",
              "\n",
              "  <div class=\"colab-df-container\">\n",
              "    <button class=\"colab-df-convert\" onclick=\"convertToInteractive('df-5c1506b5-4239-488a-a8d7-f0beafa0afd9')\"\n",
              "            title=\"Convert this dataframe to an interactive table.\"\n",
              "            style=\"display:none;\">\n",
              "\n",
              "  <svg xmlns=\"http://www.w3.org/2000/svg\" height=\"24px\" viewBox=\"0 -960 960 960\">\n",
              "    <path d=\"M120-120v-720h720v720H120Zm60-500h600v-160H180v160Zm220 220h160v-160H400v160Zm0 220h160v-160H400v160ZM180-400h160v-160H180v160Zm440 0h160v-160H620v160ZM180-180h160v-160H180v160Zm440 0h160v-160H620v160Z\"/>\n",
              "  </svg>\n",
              "    </button>\n",
              "\n",
              "  <style>\n",
              "    .colab-df-container {\n",
              "      display:flex;\n",
              "      gap: 12px;\n",
              "    }\n",
              "\n",
              "    .colab-df-convert {\n",
              "      background-color: #E8F0FE;\n",
              "      border: none;\n",
              "      border-radius: 50%;\n",
              "      cursor: pointer;\n",
              "      display: none;\n",
              "      fill: #1967D2;\n",
              "      height: 32px;\n",
              "      padding: 0 0 0 0;\n",
              "      width: 32px;\n",
              "    }\n",
              "\n",
              "    .colab-df-convert:hover {\n",
              "      background-color: #E2EBFA;\n",
              "      box-shadow: 0px 1px 2px rgba(60, 64, 67, 0.3), 0px 1px 3px 1px rgba(60, 64, 67, 0.15);\n",
              "      fill: #174EA6;\n",
              "    }\n",
              "\n",
              "    .colab-df-buttons div {\n",
              "      margin-bottom: 4px;\n",
              "    }\n",
              "\n",
              "    [theme=dark] .colab-df-convert {\n",
              "      background-color: #3B4455;\n",
              "      fill: #D2E3FC;\n",
              "    }\n",
              "\n",
              "    [theme=dark] .colab-df-convert:hover {\n",
              "      background-color: #434B5C;\n",
              "      box-shadow: 0px 1px 3px 1px rgba(0, 0, 0, 0.15);\n",
              "      filter: drop-shadow(0px 1px 2px rgba(0, 0, 0, 0.3));\n",
              "      fill: #FFFFFF;\n",
              "    }\n",
              "  </style>\n",
              "\n",
              "    <script>\n",
              "      const buttonEl =\n",
              "        document.querySelector('#df-5c1506b5-4239-488a-a8d7-f0beafa0afd9 button.colab-df-convert');\n",
              "      buttonEl.style.display =\n",
              "        google.colab.kernel.accessAllowed ? 'block' : 'none';\n",
              "\n",
              "      async function convertToInteractive(key) {\n",
              "        const element = document.querySelector('#df-5c1506b5-4239-488a-a8d7-f0beafa0afd9');\n",
              "        const dataTable =\n",
              "          await google.colab.kernel.invokeFunction('convertToInteractive',\n",
              "                                                    [key], {});\n",
              "        if (!dataTable) return;\n",
              "\n",
              "        const docLinkHtml = 'Like what you see? Visit the ' +\n",
              "          '<a target=\"_blank\" href=https://colab.research.google.com/notebooks/data_table.ipynb>data table notebook</a>'\n",
              "          + ' to learn more about interactive tables.';\n",
              "        element.innerHTML = '';\n",
              "        dataTable['output_type'] = 'display_data';\n",
              "        await google.colab.output.renderOutput(dataTable, element);\n",
              "        const docLink = document.createElement('div');\n",
              "        docLink.innerHTML = docLinkHtml;\n",
              "        element.appendChild(docLink);\n",
              "      }\n",
              "    </script>\n",
              "  </div>\n",
              "\n",
              "\n",
              "<div id=\"df-66c1d37c-24b7-46b5-849e-80630ff5796c\">\n",
              "  <button class=\"colab-df-quickchart\" onclick=\"quickchart('df-66c1d37c-24b7-46b5-849e-80630ff5796c')\"\n",
              "            title=\"Suggest charts\"\n",
              "            style=\"display:none;\">\n",
              "\n",
              "<svg xmlns=\"http://www.w3.org/2000/svg\" height=\"24px\"viewBox=\"0 0 24 24\"\n",
              "     width=\"24px\">\n",
              "    <g>\n",
              "        <path d=\"M19 3H5c-1.1 0-2 .9-2 2v14c0 1.1.9 2 2 2h14c1.1 0 2-.9 2-2V5c0-1.1-.9-2-2-2zM9 17H7v-7h2v7zm4 0h-2V7h2v10zm4 0h-2v-4h2v4z\"/>\n",
              "    </g>\n",
              "</svg>\n",
              "  </button>\n",
              "\n",
              "<style>\n",
              "  .colab-df-quickchart {\n",
              "      --bg-color: #E8F0FE;\n",
              "      --fill-color: #1967D2;\n",
              "      --hover-bg-color: #E2EBFA;\n",
              "      --hover-fill-color: #174EA6;\n",
              "      --disabled-fill-color: #AAA;\n",
              "      --disabled-bg-color: #DDD;\n",
              "  }\n",
              "\n",
              "  [theme=dark] .colab-df-quickchart {\n",
              "      --bg-color: #3B4455;\n",
              "      --fill-color: #D2E3FC;\n",
              "      --hover-bg-color: #434B5C;\n",
              "      --hover-fill-color: #FFFFFF;\n",
              "      --disabled-bg-color: #3B4455;\n",
              "      --disabled-fill-color: #666;\n",
              "  }\n",
              "\n",
              "  .colab-df-quickchart {\n",
              "    background-color: var(--bg-color);\n",
              "    border: none;\n",
              "    border-radius: 50%;\n",
              "    cursor: pointer;\n",
              "    display: none;\n",
              "    fill: var(--fill-color);\n",
              "    height: 32px;\n",
              "    padding: 0;\n",
              "    width: 32px;\n",
              "  }\n",
              "\n",
              "  .colab-df-quickchart:hover {\n",
              "    background-color: var(--hover-bg-color);\n",
              "    box-shadow: 0 1px 2px rgba(60, 64, 67, 0.3), 0 1px 3px 1px rgba(60, 64, 67, 0.15);\n",
              "    fill: var(--button-hover-fill-color);\n",
              "  }\n",
              "\n",
              "  .colab-df-quickchart-complete:disabled,\n",
              "  .colab-df-quickchart-complete:disabled:hover {\n",
              "    background-color: var(--disabled-bg-color);\n",
              "    fill: var(--disabled-fill-color);\n",
              "    box-shadow: none;\n",
              "  }\n",
              "\n",
              "  .colab-df-spinner {\n",
              "    border: 2px solid var(--fill-color);\n",
              "    border-color: transparent;\n",
              "    border-bottom-color: var(--fill-color);\n",
              "    animation:\n",
              "      spin 1s steps(1) infinite;\n",
              "  }\n",
              "\n",
              "  @keyframes spin {\n",
              "    0% {\n",
              "      border-color: transparent;\n",
              "      border-bottom-color: var(--fill-color);\n",
              "      border-left-color: var(--fill-color);\n",
              "    }\n",
              "    20% {\n",
              "      border-color: transparent;\n",
              "      border-left-color: var(--fill-color);\n",
              "      border-top-color: var(--fill-color);\n",
              "    }\n",
              "    30% {\n",
              "      border-color: transparent;\n",
              "      border-left-color: var(--fill-color);\n",
              "      border-top-color: var(--fill-color);\n",
              "      border-right-color: var(--fill-color);\n",
              "    }\n",
              "    40% {\n",
              "      border-color: transparent;\n",
              "      border-right-color: var(--fill-color);\n",
              "      border-top-color: var(--fill-color);\n",
              "    }\n",
              "    60% {\n",
              "      border-color: transparent;\n",
              "      border-right-color: var(--fill-color);\n",
              "    }\n",
              "    80% {\n",
              "      border-color: transparent;\n",
              "      border-right-color: var(--fill-color);\n",
              "      border-bottom-color: var(--fill-color);\n",
              "    }\n",
              "    90% {\n",
              "      border-color: transparent;\n",
              "      border-bottom-color: var(--fill-color);\n",
              "    }\n",
              "  }\n",
              "</style>\n",
              "\n",
              "  <script>\n",
              "    async function quickchart(key) {\n",
              "      const quickchartButtonEl =\n",
              "        document.querySelector('#' + key + ' button');\n",
              "      quickchartButtonEl.disabled = true;  // To prevent multiple clicks.\n",
              "      quickchartButtonEl.classList.add('colab-df-spinner');\n",
              "      try {\n",
              "        const charts = await google.colab.kernel.invokeFunction(\n",
              "            'suggestCharts', [key], {});\n",
              "      } catch (error) {\n",
              "        console.error('Error during call to suggestCharts:', error);\n",
              "      }\n",
              "      quickchartButtonEl.classList.remove('colab-df-spinner');\n",
              "      quickchartButtonEl.classList.add('colab-df-quickchart-complete');\n",
              "    }\n",
              "    (() => {\n",
              "      let quickchartButtonEl =\n",
              "        document.querySelector('#df-66c1d37c-24b7-46b5-849e-80630ff5796c button');\n",
              "      quickchartButtonEl.style.display =\n",
              "        google.colab.kernel.accessAllowed ? 'block' : 'none';\n",
              "    })();\n",
              "  </script>\n",
              "</div>\n",
              "\n",
              "    </div>\n",
              "  </div>\n"
            ]
          },
          "metadata": {},
          "execution_count": 10
        }
      ]
    },
    {
      "cell_type": "markdown",
      "source": [
        "Nuevamente, volvemos a checar todos los datos y verificamos que ya no se este considerando la columna \"country\" como el indice"
      ],
      "metadata": {
        "id": "xJX-4lU2koCH"
      }
    },
    {
      "cell_type": "code",
      "source": [
        "df.shape"
      ],
      "metadata": {
        "colab": {
          "base_uri": "https://localhost:8080/"
        },
        "id": "dsBoIALEmlvH",
        "outputId": "a938b781-80fb-49e5-88a0-50f75c1637e8"
      },
      "execution_count": 11,
      "outputs": [
        {
          "output_type": "execute_result",
          "data": {
            "text/plain": [
              "(27820, 12)"
            ]
          },
          "metadata": {},
          "execution_count": 11
        }
      ]
    },
    {
      "cell_type": "code",
      "source": [
        "df.info()"
      ],
      "metadata": {
        "colab": {
          "base_uri": "https://localhost:8080/"
        },
        "id": "txa3_tjPkyhO",
        "outputId": "161e2cab-649e-4c6c-9333-fdf3d566ff9f"
      },
      "execution_count": 12,
      "outputs": [
        {
          "output_type": "stream",
          "name": "stdout",
          "text": [
            "<class 'pandas.core.frame.DataFrame'>\n",
            "RangeIndex: 27820 entries, 0 to 27819\n",
            "Data columns (total 12 columns):\n",
            " #   Column              Non-Null Count  Dtype  \n",
            "---  ------              --------------  -----  \n",
            " 0   country             27820 non-null  object \n",
            " 1   year                27820 non-null  int64  \n",
            " 2   sex                 27820 non-null  object \n",
            " 3   age                 27820 non-null  object \n",
            " 4   suicides_no         27820 non-null  int64  \n",
            " 5   population          27820 non-null  int64  \n",
            " 6   suicides/100k pop   27820 non-null  float64\n",
            " 7   country-year        27820 non-null  object \n",
            " 8   HDI for year        8364 non-null   float64\n",
            " 9    gdp_for_year ($)   27820 non-null  object \n",
            " 10  gdp_per_capita ($)  27820 non-null  int64  \n",
            " 11  generation          27820 non-null  object \n",
            "dtypes: float64(2), int64(4), object(6)\n",
            "memory usage: 2.5+ MB\n"
          ]
        }
      ]
    },
    {
      "cell_type": "markdown",
      "source": [
        "En el dataset nos encontramos con 27,820 filas u observaciones y 12 columnas que contienen la siguiente información:\n",
        "* country: Indica el país en el que se registraron los datos sobre suicidios\n",
        "* year: Indica el año en el que se registraron los datos sobre suicidios.\n",
        "* sex: Refleja el género de las personas para las que se informan los datos (hombre o mujer).\n",
        "* age: Representa los grupos de edad en los que se dividen los datos (por ejemplo, \"15-24 años\").\n",
        "* suicidies_no: Indica el número total de suicidios reportados para la combinación de año, género y grupo de edad específicos.\n",
        "* population: Muestra la población total para la combinación de año, género y grupo de edad específicos\n",
        "* country-year: Combina la información sobre el país y el año para el cual se informan los datos.\n",
        "* HDI for year: Representa el Índice de Desarrollo Humano (HDI) para el año correspondiente.\n",
        "* gdp for year ($): Indica el Producto Interno Bruto (PIB) total para el año correspondiente.\n",
        "* gdp per capita ($): Muestra el PIB per cápita para el año correspondiente.\n",
        "* generation: ndica la generación de las personas para las que se informan los datos (por ejemplo, \"Boomers\", \"Generation X\").\n",
        "\n",
        "\n",
        "\n"
      ],
      "metadata": {
        "id": "cQ8HkmkknLgT"
      }
    },
    {
      "cell_type": "markdown",
      "source": [
        "Obervamos que la columna \"HDI for year\" se encuentra como tipo float, es correcto que pertenezca a ese tipo, pero encontramos que tiene información incompleta y además, información que no vamos a ocupar ya no está dentro de nuestros objetivos analizar como se comporta el indice de desarrollo humano, por eso directamente, procedemos a eliminar esa columna"
      ],
      "metadata": {
        "id": "I9l28hudqGDL"
      }
    },
    {
      "cell_type": "code",
      "source": [
        "# Eliminar la columna \"HDI for year\"\n",
        "columna_a_eliminar = 'HDI for year'\n",
        "df = df.drop(columna_a_eliminar, axis=1)"
      ],
      "metadata": {
        "id": "jopqYLdQpsBE"
      },
      "execution_count": 13,
      "outputs": []
    },
    {
      "cell_type": "markdown",
      "source": [
        "No obstante, también observamos que la columna **country-year** es de tipo objecto, ya que tiene información como una cadena y números enteros, pero esa información también se encuentran en las columnas **country** y **year**, con los tipos de datos correctos, por lo que también eliminamos la columna **country-year**, porque no es correcto que venga así la información sino que se trate por separado esa información."
      ],
      "metadata": {
        "id": "NcjZlIhmr51R"
      }
    },
    {
      "cell_type": "code",
      "source": [
        "# Elimina la columna \"country-year\"\n",
        "columna_a_eliminar = 'country-year'\n",
        "df = df.drop(columna_a_eliminar, axis=1)"
      ],
      "metadata": {
        "id": "U7AIsZh4thO7"
      },
      "execution_count": 14,
      "outputs": []
    },
    {
      "cell_type": "code",
      "source": [
        "df.columns"
      ],
      "metadata": {
        "colab": {
          "base_uri": "https://localhost:8080/"
        },
        "id": "wNzm9ZYhzOik",
        "outputId": "da34d275-fdf2-4747-c4c4-2de240c0319b"
      },
      "execution_count": 15,
      "outputs": [
        {
          "output_type": "execute_result",
          "data": {
            "text/plain": [
              "Index(['country', 'year', 'sex', 'age', 'suicides_no', 'population',\n",
              "       'suicides/100k pop', ' gdp_for_year ($) ', 'gdp_per_capita ($)',\n",
              "       'generation'],\n",
              "      dtype='object')"
            ]
          },
          "metadata": {},
          "execution_count": 15
        }
      ]
    },
    {
      "cell_type": "code",
      "source": [
        "# Elimina la columna \"gdp_for_year ($)\"\n",
        "columna_a_eliminar = ' gdp_for_year ($) '\n",
        "df = df.drop(columna_a_eliminar, axis=1)"
      ],
      "metadata": {
        "id": "YvXS4mEwyeh0"
      },
      "execution_count": 16,
      "outputs": []
    },
    {
      "cell_type": "code",
      "source": [
        "# Elimina la columna \"population\"\n",
        "columna_a_eliminar = 'population'\n",
        "df = df.drop(columna_a_eliminar, axis=1)"
      ],
      "metadata": {
        "id": "CkKXtQqu1EHf"
      },
      "execution_count": 17,
      "outputs": []
    },
    {
      "cell_type": "code",
      "source": [
        "# Elimina la columna \"suicides/100k pop\"\n",
        "columna_a_eliminar = 'suicides/100k pop'\n",
        "df = df.drop(columna_a_eliminar, axis=1)"
      ],
      "metadata": {
        "id": "dSZ76Yk23NaA"
      },
      "execution_count": 18,
      "outputs": []
    },
    {
      "cell_type": "code",
      "source": [
        "df.info()"
      ],
      "metadata": {
        "colab": {
          "base_uri": "https://localhost:8080/"
        },
        "id": "cUGOgaTc1yx6",
        "outputId": "7231ee8e-bf82-440f-edae-29784ed99c03"
      },
      "execution_count": 19,
      "outputs": [
        {
          "output_type": "stream",
          "name": "stdout",
          "text": [
            "<class 'pandas.core.frame.DataFrame'>\n",
            "RangeIndex: 27820 entries, 0 to 27819\n",
            "Data columns (total 7 columns):\n",
            " #   Column              Non-Null Count  Dtype \n",
            "---  ------              --------------  ----- \n",
            " 0   country             27820 non-null  object\n",
            " 1   year                27820 non-null  int64 \n",
            " 2   sex                 27820 non-null  object\n",
            " 3   age                 27820 non-null  object\n",
            " 4   suicides_no         27820 non-null  int64 \n",
            " 5   gdp_per_capita ($)  27820 non-null  int64 \n",
            " 6   generation          27820 non-null  object\n",
            "dtypes: int64(3), object(4)\n",
            "memory usage: 1.5+ MB\n"
          ]
        }
      ]
    },
    {
      "cell_type": "markdown",
      "source": [
        "Las columnas están en inglés, no es tan relevante, pero nosotras cambiaremos el nombre de las columnas, para analizar los datos con nuestro lenguaje natural. Además, quitaremos los espacios en blanco y simbolos que podrían causar ruido, que tienen algunas columnas como: **suicides/100k pop**, ** gdp for year ($)** y **gdp per capita ($)**:"
      ],
      "metadata": {
        "id": "yLZd8wtFp6Go"
      }
    },
    {
      "cell_type": "code",
      "source": [
        "# Renombramiento de columnas\n",
        "column_name_mapping ={\n",
        "    'country':'pais',\n",
        "    'year':'año',\n",
        "    'sex':'sexo',\n",
        "    'age':'edad',\n",
        "    'suicides_no':'no_suicidios',\n",
        "    'gdp_per_capita ($)':'pib_per_capita',\n",
        "    'generation':'generacion'\n",
        "}"
      ],
      "metadata": {
        "id": "ffFfomgKxZ-z"
      },
      "execution_count": 20,
      "outputs": []
    },
    {
      "cell_type": "code",
      "source": [
        "# Cambio de nombres\n",
        "df = df.rename(columns=column_name_mapping)\n",
        "df.head()"
      ],
      "metadata": {
        "colab": {
          "base_uri": "https://localhost:8080/",
          "height": 206
        },
        "id": "GaqonbSQp6yL",
        "outputId": "1f52adf7-b0c5-4461-eb02-5e4f4b10a211"
      },
      "execution_count": 21,
      "outputs": [
        {
          "output_type": "execute_result",
          "data": {
            "text/plain": [
              "      pais   año    sexo         edad  no_suicidios  pib_per_capita  \\\n",
              "0  Albania  1987    male  15-24 years            21             796   \n",
              "1  Albania  1987    male  35-54 years            16             796   \n",
              "2  Albania  1987  female  15-24 years            14             796   \n",
              "3  Albania  1987    male    75+ years             1             796   \n",
              "4  Albania  1987    male  25-34 years             9             796   \n",
              "\n",
              "        generacion  \n",
              "0     Generation X  \n",
              "1           Silent  \n",
              "2     Generation X  \n",
              "3  G.I. Generation  \n",
              "4          Boomers  "
            ],
            "text/html": [
              "\n",
              "  <div id=\"df-3a31ca3e-a14d-4d0a-95cf-3cd5ec82f748\" class=\"colab-df-container\">\n",
              "    <div>\n",
              "<style scoped>\n",
              "    .dataframe tbody tr th:only-of-type {\n",
              "        vertical-align: middle;\n",
              "    }\n",
              "\n",
              "    .dataframe tbody tr th {\n",
              "        vertical-align: top;\n",
              "    }\n",
              "\n",
              "    .dataframe thead th {\n",
              "        text-align: right;\n",
              "    }\n",
              "</style>\n",
              "<table border=\"1\" class=\"dataframe\">\n",
              "  <thead>\n",
              "    <tr style=\"text-align: right;\">\n",
              "      <th></th>\n",
              "      <th>pais</th>\n",
              "      <th>año</th>\n",
              "      <th>sexo</th>\n",
              "      <th>edad</th>\n",
              "      <th>no_suicidios</th>\n",
              "      <th>pib_per_capita</th>\n",
              "      <th>generacion</th>\n",
              "    </tr>\n",
              "  </thead>\n",
              "  <tbody>\n",
              "    <tr>\n",
              "      <th>0</th>\n",
              "      <td>Albania</td>\n",
              "      <td>1987</td>\n",
              "      <td>male</td>\n",
              "      <td>15-24 years</td>\n",
              "      <td>21</td>\n",
              "      <td>796</td>\n",
              "      <td>Generation X</td>\n",
              "    </tr>\n",
              "    <tr>\n",
              "      <th>1</th>\n",
              "      <td>Albania</td>\n",
              "      <td>1987</td>\n",
              "      <td>male</td>\n",
              "      <td>35-54 years</td>\n",
              "      <td>16</td>\n",
              "      <td>796</td>\n",
              "      <td>Silent</td>\n",
              "    </tr>\n",
              "    <tr>\n",
              "      <th>2</th>\n",
              "      <td>Albania</td>\n",
              "      <td>1987</td>\n",
              "      <td>female</td>\n",
              "      <td>15-24 years</td>\n",
              "      <td>14</td>\n",
              "      <td>796</td>\n",
              "      <td>Generation X</td>\n",
              "    </tr>\n",
              "    <tr>\n",
              "      <th>3</th>\n",
              "      <td>Albania</td>\n",
              "      <td>1987</td>\n",
              "      <td>male</td>\n",
              "      <td>75+ years</td>\n",
              "      <td>1</td>\n",
              "      <td>796</td>\n",
              "      <td>G.I. Generation</td>\n",
              "    </tr>\n",
              "    <tr>\n",
              "      <th>4</th>\n",
              "      <td>Albania</td>\n",
              "      <td>1987</td>\n",
              "      <td>male</td>\n",
              "      <td>25-34 years</td>\n",
              "      <td>9</td>\n",
              "      <td>796</td>\n",
              "      <td>Boomers</td>\n",
              "    </tr>\n",
              "  </tbody>\n",
              "</table>\n",
              "</div>\n",
              "    <div class=\"colab-df-buttons\">\n",
              "\n",
              "  <div class=\"colab-df-container\">\n",
              "    <button class=\"colab-df-convert\" onclick=\"convertToInteractive('df-3a31ca3e-a14d-4d0a-95cf-3cd5ec82f748')\"\n",
              "            title=\"Convert this dataframe to an interactive table.\"\n",
              "            style=\"display:none;\">\n",
              "\n",
              "  <svg xmlns=\"http://www.w3.org/2000/svg\" height=\"24px\" viewBox=\"0 -960 960 960\">\n",
              "    <path d=\"M120-120v-720h720v720H120Zm60-500h600v-160H180v160Zm220 220h160v-160H400v160Zm0 220h160v-160H400v160ZM180-400h160v-160H180v160Zm440 0h160v-160H620v160ZM180-180h160v-160H180v160Zm440 0h160v-160H620v160Z\"/>\n",
              "  </svg>\n",
              "    </button>\n",
              "\n",
              "  <style>\n",
              "    .colab-df-container {\n",
              "      display:flex;\n",
              "      gap: 12px;\n",
              "    }\n",
              "\n",
              "    .colab-df-convert {\n",
              "      background-color: #E8F0FE;\n",
              "      border: none;\n",
              "      border-radius: 50%;\n",
              "      cursor: pointer;\n",
              "      display: none;\n",
              "      fill: #1967D2;\n",
              "      height: 32px;\n",
              "      padding: 0 0 0 0;\n",
              "      width: 32px;\n",
              "    }\n",
              "\n",
              "    .colab-df-convert:hover {\n",
              "      background-color: #E2EBFA;\n",
              "      box-shadow: 0px 1px 2px rgba(60, 64, 67, 0.3), 0px 1px 3px 1px rgba(60, 64, 67, 0.15);\n",
              "      fill: #174EA6;\n",
              "    }\n",
              "\n",
              "    .colab-df-buttons div {\n",
              "      margin-bottom: 4px;\n",
              "    }\n",
              "\n",
              "    [theme=dark] .colab-df-convert {\n",
              "      background-color: #3B4455;\n",
              "      fill: #D2E3FC;\n",
              "    }\n",
              "\n",
              "    [theme=dark] .colab-df-convert:hover {\n",
              "      background-color: #434B5C;\n",
              "      box-shadow: 0px 1px 3px 1px rgba(0, 0, 0, 0.15);\n",
              "      filter: drop-shadow(0px 1px 2px rgba(0, 0, 0, 0.3));\n",
              "      fill: #FFFFFF;\n",
              "    }\n",
              "  </style>\n",
              "\n",
              "    <script>\n",
              "      const buttonEl =\n",
              "        document.querySelector('#df-3a31ca3e-a14d-4d0a-95cf-3cd5ec82f748 button.colab-df-convert');\n",
              "      buttonEl.style.display =\n",
              "        google.colab.kernel.accessAllowed ? 'block' : 'none';\n",
              "\n",
              "      async function convertToInteractive(key) {\n",
              "        const element = document.querySelector('#df-3a31ca3e-a14d-4d0a-95cf-3cd5ec82f748');\n",
              "        const dataTable =\n",
              "          await google.colab.kernel.invokeFunction('convertToInteractive',\n",
              "                                                    [key], {});\n",
              "        if (!dataTable) return;\n",
              "\n",
              "        const docLinkHtml = 'Like what you see? Visit the ' +\n",
              "          '<a target=\"_blank\" href=https://colab.research.google.com/notebooks/data_table.ipynb>data table notebook</a>'\n",
              "          + ' to learn more about interactive tables.';\n",
              "        element.innerHTML = '';\n",
              "        dataTable['output_type'] = 'display_data';\n",
              "        await google.colab.output.renderOutput(dataTable, element);\n",
              "        const docLink = document.createElement('div');\n",
              "        docLink.innerHTML = docLinkHtml;\n",
              "        element.appendChild(docLink);\n",
              "      }\n",
              "    </script>\n",
              "  </div>\n",
              "\n",
              "\n",
              "<div id=\"df-d7b3fb0c-87c4-4a64-bf04-dead82a3e028\">\n",
              "  <button class=\"colab-df-quickchart\" onclick=\"quickchart('df-d7b3fb0c-87c4-4a64-bf04-dead82a3e028')\"\n",
              "            title=\"Suggest charts\"\n",
              "            style=\"display:none;\">\n",
              "\n",
              "<svg xmlns=\"http://www.w3.org/2000/svg\" height=\"24px\"viewBox=\"0 0 24 24\"\n",
              "     width=\"24px\">\n",
              "    <g>\n",
              "        <path d=\"M19 3H5c-1.1 0-2 .9-2 2v14c0 1.1.9 2 2 2h14c1.1 0 2-.9 2-2V5c0-1.1-.9-2-2-2zM9 17H7v-7h2v7zm4 0h-2V7h2v10zm4 0h-2v-4h2v4z\"/>\n",
              "    </g>\n",
              "</svg>\n",
              "  </button>\n",
              "\n",
              "<style>\n",
              "  .colab-df-quickchart {\n",
              "      --bg-color: #E8F0FE;\n",
              "      --fill-color: #1967D2;\n",
              "      --hover-bg-color: #E2EBFA;\n",
              "      --hover-fill-color: #174EA6;\n",
              "      --disabled-fill-color: #AAA;\n",
              "      --disabled-bg-color: #DDD;\n",
              "  }\n",
              "\n",
              "  [theme=dark] .colab-df-quickchart {\n",
              "      --bg-color: #3B4455;\n",
              "      --fill-color: #D2E3FC;\n",
              "      --hover-bg-color: #434B5C;\n",
              "      --hover-fill-color: #FFFFFF;\n",
              "      --disabled-bg-color: #3B4455;\n",
              "      --disabled-fill-color: #666;\n",
              "  }\n",
              "\n",
              "  .colab-df-quickchart {\n",
              "    background-color: var(--bg-color);\n",
              "    border: none;\n",
              "    border-radius: 50%;\n",
              "    cursor: pointer;\n",
              "    display: none;\n",
              "    fill: var(--fill-color);\n",
              "    height: 32px;\n",
              "    padding: 0;\n",
              "    width: 32px;\n",
              "  }\n",
              "\n",
              "  .colab-df-quickchart:hover {\n",
              "    background-color: var(--hover-bg-color);\n",
              "    box-shadow: 0 1px 2px rgba(60, 64, 67, 0.3), 0 1px 3px 1px rgba(60, 64, 67, 0.15);\n",
              "    fill: var(--button-hover-fill-color);\n",
              "  }\n",
              "\n",
              "  .colab-df-quickchart-complete:disabled,\n",
              "  .colab-df-quickchart-complete:disabled:hover {\n",
              "    background-color: var(--disabled-bg-color);\n",
              "    fill: var(--disabled-fill-color);\n",
              "    box-shadow: none;\n",
              "  }\n",
              "\n",
              "  .colab-df-spinner {\n",
              "    border: 2px solid var(--fill-color);\n",
              "    border-color: transparent;\n",
              "    border-bottom-color: var(--fill-color);\n",
              "    animation:\n",
              "      spin 1s steps(1) infinite;\n",
              "  }\n",
              "\n",
              "  @keyframes spin {\n",
              "    0% {\n",
              "      border-color: transparent;\n",
              "      border-bottom-color: var(--fill-color);\n",
              "      border-left-color: var(--fill-color);\n",
              "    }\n",
              "    20% {\n",
              "      border-color: transparent;\n",
              "      border-left-color: var(--fill-color);\n",
              "      border-top-color: var(--fill-color);\n",
              "    }\n",
              "    30% {\n",
              "      border-color: transparent;\n",
              "      border-left-color: var(--fill-color);\n",
              "      border-top-color: var(--fill-color);\n",
              "      border-right-color: var(--fill-color);\n",
              "    }\n",
              "    40% {\n",
              "      border-color: transparent;\n",
              "      border-right-color: var(--fill-color);\n",
              "      border-top-color: var(--fill-color);\n",
              "    }\n",
              "    60% {\n",
              "      border-color: transparent;\n",
              "      border-right-color: var(--fill-color);\n",
              "    }\n",
              "    80% {\n",
              "      border-color: transparent;\n",
              "      border-right-color: var(--fill-color);\n",
              "      border-bottom-color: var(--fill-color);\n",
              "    }\n",
              "    90% {\n",
              "      border-color: transparent;\n",
              "      border-bottom-color: var(--fill-color);\n",
              "    }\n",
              "  }\n",
              "</style>\n",
              "\n",
              "  <script>\n",
              "    async function quickchart(key) {\n",
              "      const quickchartButtonEl =\n",
              "        document.querySelector('#' + key + ' button');\n",
              "      quickchartButtonEl.disabled = true;  // To prevent multiple clicks.\n",
              "      quickchartButtonEl.classList.add('colab-df-spinner');\n",
              "      try {\n",
              "        const charts = await google.colab.kernel.invokeFunction(\n",
              "            'suggestCharts', [key], {});\n",
              "      } catch (error) {\n",
              "        console.error('Error during call to suggestCharts:', error);\n",
              "      }\n",
              "      quickchartButtonEl.classList.remove('colab-df-spinner');\n",
              "      quickchartButtonEl.classList.add('colab-df-quickchart-complete');\n",
              "    }\n",
              "    (() => {\n",
              "      let quickchartButtonEl =\n",
              "        document.querySelector('#df-d7b3fb0c-87c4-4a64-bf04-dead82a3e028 button');\n",
              "      quickchartButtonEl.style.display =\n",
              "        google.colab.kernel.accessAllowed ? 'block' : 'none';\n",
              "    })();\n",
              "  </script>\n",
              "</div>\n",
              "\n",
              "    </div>\n",
              "  </div>\n"
            ]
          },
          "metadata": {},
          "execution_count": 21
        }
      ]
    },
    {
      "cell_type": "markdown",
      "source": [
        "Dentro de la información de la columna **generacion**, observamos que la palabra \"Generación\" se repite constantemente, entonces procedemos a eliminar esa palabra repetida, ya que el nombre de la columna indica que se habla de las generaciones."
      ],
      "metadata": {
        "id": "b0A_PDw-yCH6"
      }
    },
    {
      "cell_type": "code",
      "source": [
        "#Eliminar la palabra \"Generation\" de la columna 'generacion'\n",
        "df['generacion']=df['generacion'].str.replace('Generation', '')\n",
        "\n",
        "df.head()"
      ],
      "metadata": {
        "colab": {
          "base_uri": "https://localhost:8080/",
          "height": 206
        },
        "id": "XUW-t__JznGH",
        "outputId": "86633cf4-a3ef-45ce-a549-41d8c4da23df"
      },
      "execution_count": 22,
      "outputs": [
        {
          "output_type": "execute_result",
          "data": {
            "text/plain": [
              "      pais   año    sexo         edad  no_suicidios  pib_per_capita generacion\n",
              "0  Albania  1987    male  15-24 years            21             796          X\n",
              "1  Albania  1987    male  35-54 years            16             796     Silent\n",
              "2  Albania  1987  female  15-24 years            14             796          X\n",
              "3  Albania  1987    male    75+ years             1             796      G.I. \n",
              "4  Albania  1987    male  25-34 years             9             796    Boomers"
            ],
            "text/html": [
              "\n",
              "  <div id=\"df-dc523b62-39b9-4f29-976d-28a1ce1ee231\" class=\"colab-df-container\">\n",
              "    <div>\n",
              "<style scoped>\n",
              "    .dataframe tbody tr th:only-of-type {\n",
              "        vertical-align: middle;\n",
              "    }\n",
              "\n",
              "    .dataframe tbody tr th {\n",
              "        vertical-align: top;\n",
              "    }\n",
              "\n",
              "    .dataframe thead th {\n",
              "        text-align: right;\n",
              "    }\n",
              "</style>\n",
              "<table border=\"1\" class=\"dataframe\">\n",
              "  <thead>\n",
              "    <tr style=\"text-align: right;\">\n",
              "      <th></th>\n",
              "      <th>pais</th>\n",
              "      <th>año</th>\n",
              "      <th>sexo</th>\n",
              "      <th>edad</th>\n",
              "      <th>no_suicidios</th>\n",
              "      <th>pib_per_capita</th>\n",
              "      <th>generacion</th>\n",
              "    </tr>\n",
              "  </thead>\n",
              "  <tbody>\n",
              "    <tr>\n",
              "      <th>0</th>\n",
              "      <td>Albania</td>\n",
              "      <td>1987</td>\n",
              "      <td>male</td>\n",
              "      <td>15-24 years</td>\n",
              "      <td>21</td>\n",
              "      <td>796</td>\n",
              "      <td>X</td>\n",
              "    </tr>\n",
              "    <tr>\n",
              "      <th>1</th>\n",
              "      <td>Albania</td>\n",
              "      <td>1987</td>\n",
              "      <td>male</td>\n",
              "      <td>35-54 years</td>\n",
              "      <td>16</td>\n",
              "      <td>796</td>\n",
              "      <td>Silent</td>\n",
              "    </tr>\n",
              "    <tr>\n",
              "      <th>2</th>\n",
              "      <td>Albania</td>\n",
              "      <td>1987</td>\n",
              "      <td>female</td>\n",
              "      <td>15-24 years</td>\n",
              "      <td>14</td>\n",
              "      <td>796</td>\n",
              "      <td>X</td>\n",
              "    </tr>\n",
              "    <tr>\n",
              "      <th>3</th>\n",
              "      <td>Albania</td>\n",
              "      <td>1987</td>\n",
              "      <td>male</td>\n",
              "      <td>75+ years</td>\n",
              "      <td>1</td>\n",
              "      <td>796</td>\n",
              "      <td>G.I.</td>\n",
              "    </tr>\n",
              "    <tr>\n",
              "      <th>4</th>\n",
              "      <td>Albania</td>\n",
              "      <td>1987</td>\n",
              "      <td>male</td>\n",
              "      <td>25-34 years</td>\n",
              "      <td>9</td>\n",
              "      <td>796</td>\n",
              "      <td>Boomers</td>\n",
              "    </tr>\n",
              "  </tbody>\n",
              "</table>\n",
              "</div>\n",
              "    <div class=\"colab-df-buttons\">\n",
              "\n",
              "  <div class=\"colab-df-container\">\n",
              "    <button class=\"colab-df-convert\" onclick=\"convertToInteractive('df-dc523b62-39b9-4f29-976d-28a1ce1ee231')\"\n",
              "            title=\"Convert this dataframe to an interactive table.\"\n",
              "            style=\"display:none;\">\n",
              "\n",
              "  <svg xmlns=\"http://www.w3.org/2000/svg\" height=\"24px\" viewBox=\"0 -960 960 960\">\n",
              "    <path d=\"M120-120v-720h720v720H120Zm60-500h600v-160H180v160Zm220 220h160v-160H400v160Zm0 220h160v-160H400v160ZM180-400h160v-160H180v160Zm440 0h160v-160H620v160ZM180-180h160v-160H180v160Zm440 0h160v-160H620v160Z\"/>\n",
              "  </svg>\n",
              "    </button>\n",
              "\n",
              "  <style>\n",
              "    .colab-df-container {\n",
              "      display:flex;\n",
              "      gap: 12px;\n",
              "    }\n",
              "\n",
              "    .colab-df-convert {\n",
              "      background-color: #E8F0FE;\n",
              "      border: none;\n",
              "      border-radius: 50%;\n",
              "      cursor: pointer;\n",
              "      display: none;\n",
              "      fill: #1967D2;\n",
              "      height: 32px;\n",
              "      padding: 0 0 0 0;\n",
              "      width: 32px;\n",
              "    }\n",
              "\n",
              "    .colab-df-convert:hover {\n",
              "      background-color: #E2EBFA;\n",
              "      box-shadow: 0px 1px 2px rgba(60, 64, 67, 0.3), 0px 1px 3px 1px rgba(60, 64, 67, 0.15);\n",
              "      fill: #174EA6;\n",
              "    }\n",
              "\n",
              "    .colab-df-buttons div {\n",
              "      margin-bottom: 4px;\n",
              "    }\n",
              "\n",
              "    [theme=dark] .colab-df-convert {\n",
              "      background-color: #3B4455;\n",
              "      fill: #D2E3FC;\n",
              "    }\n",
              "\n",
              "    [theme=dark] .colab-df-convert:hover {\n",
              "      background-color: #434B5C;\n",
              "      box-shadow: 0px 1px 3px 1px rgba(0, 0, 0, 0.15);\n",
              "      filter: drop-shadow(0px 1px 2px rgba(0, 0, 0, 0.3));\n",
              "      fill: #FFFFFF;\n",
              "    }\n",
              "  </style>\n",
              "\n",
              "    <script>\n",
              "      const buttonEl =\n",
              "        document.querySelector('#df-dc523b62-39b9-4f29-976d-28a1ce1ee231 button.colab-df-convert');\n",
              "      buttonEl.style.display =\n",
              "        google.colab.kernel.accessAllowed ? 'block' : 'none';\n",
              "\n",
              "      async function convertToInteractive(key) {\n",
              "        const element = document.querySelector('#df-dc523b62-39b9-4f29-976d-28a1ce1ee231');\n",
              "        const dataTable =\n",
              "          await google.colab.kernel.invokeFunction('convertToInteractive',\n",
              "                                                    [key], {});\n",
              "        if (!dataTable) return;\n",
              "\n",
              "        const docLinkHtml = 'Like what you see? Visit the ' +\n",
              "          '<a target=\"_blank\" href=https://colab.research.google.com/notebooks/data_table.ipynb>data table notebook</a>'\n",
              "          + ' to learn more about interactive tables.';\n",
              "        element.innerHTML = '';\n",
              "        dataTable['output_type'] = 'display_data';\n",
              "        await google.colab.output.renderOutput(dataTable, element);\n",
              "        const docLink = document.createElement('div');\n",
              "        docLink.innerHTML = docLinkHtml;\n",
              "        element.appendChild(docLink);\n",
              "      }\n",
              "    </script>\n",
              "  </div>\n",
              "\n",
              "\n",
              "<div id=\"df-42974780-6e15-4c62-878a-cff0b3100b80\">\n",
              "  <button class=\"colab-df-quickchart\" onclick=\"quickchart('df-42974780-6e15-4c62-878a-cff0b3100b80')\"\n",
              "            title=\"Suggest charts\"\n",
              "            style=\"display:none;\">\n",
              "\n",
              "<svg xmlns=\"http://www.w3.org/2000/svg\" height=\"24px\"viewBox=\"0 0 24 24\"\n",
              "     width=\"24px\">\n",
              "    <g>\n",
              "        <path d=\"M19 3H5c-1.1 0-2 .9-2 2v14c0 1.1.9 2 2 2h14c1.1 0 2-.9 2-2V5c0-1.1-.9-2-2-2zM9 17H7v-7h2v7zm4 0h-2V7h2v10zm4 0h-2v-4h2v4z\"/>\n",
              "    </g>\n",
              "</svg>\n",
              "  </button>\n",
              "\n",
              "<style>\n",
              "  .colab-df-quickchart {\n",
              "      --bg-color: #E8F0FE;\n",
              "      --fill-color: #1967D2;\n",
              "      --hover-bg-color: #E2EBFA;\n",
              "      --hover-fill-color: #174EA6;\n",
              "      --disabled-fill-color: #AAA;\n",
              "      --disabled-bg-color: #DDD;\n",
              "  }\n",
              "\n",
              "  [theme=dark] .colab-df-quickchart {\n",
              "      --bg-color: #3B4455;\n",
              "      --fill-color: #D2E3FC;\n",
              "      --hover-bg-color: #434B5C;\n",
              "      --hover-fill-color: #FFFFFF;\n",
              "      --disabled-bg-color: #3B4455;\n",
              "      --disabled-fill-color: #666;\n",
              "  }\n",
              "\n",
              "  .colab-df-quickchart {\n",
              "    background-color: var(--bg-color);\n",
              "    border: none;\n",
              "    border-radius: 50%;\n",
              "    cursor: pointer;\n",
              "    display: none;\n",
              "    fill: var(--fill-color);\n",
              "    height: 32px;\n",
              "    padding: 0;\n",
              "    width: 32px;\n",
              "  }\n",
              "\n",
              "  .colab-df-quickchart:hover {\n",
              "    background-color: var(--hover-bg-color);\n",
              "    box-shadow: 0 1px 2px rgba(60, 64, 67, 0.3), 0 1px 3px 1px rgba(60, 64, 67, 0.15);\n",
              "    fill: var(--button-hover-fill-color);\n",
              "  }\n",
              "\n",
              "  .colab-df-quickchart-complete:disabled,\n",
              "  .colab-df-quickchart-complete:disabled:hover {\n",
              "    background-color: var(--disabled-bg-color);\n",
              "    fill: var(--disabled-fill-color);\n",
              "    box-shadow: none;\n",
              "  }\n",
              "\n",
              "  .colab-df-spinner {\n",
              "    border: 2px solid var(--fill-color);\n",
              "    border-color: transparent;\n",
              "    border-bottom-color: var(--fill-color);\n",
              "    animation:\n",
              "      spin 1s steps(1) infinite;\n",
              "  }\n",
              "\n",
              "  @keyframes spin {\n",
              "    0% {\n",
              "      border-color: transparent;\n",
              "      border-bottom-color: var(--fill-color);\n",
              "      border-left-color: var(--fill-color);\n",
              "    }\n",
              "    20% {\n",
              "      border-color: transparent;\n",
              "      border-left-color: var(--fill-color);\n",
              "      border-top-color: var(--fill-color);\n",
              "    }\n",
              "    30% {\n",
              "      border-color: transparent;\n",
              "      border-left-color: var(--fill-color);\n",
              "      border-top-color: var(--fill-color);\n",
              "      border-right-color: var(--fill-color);\n",
              "    }\n",
              "    40% {\n",
              "      border-color: transparent;\n",
              "      border-right-color: var(--fill-color);\n",
              "      border-top-color: var(--fill-color);\n",
              "    }\n",
              "    60% {\n",
              "      border-color: transparent;\n",
              "      border-right-color: var(--fill-color);\n",
              "    }\n",
              "    80% {\n",
              "      border-color: transparent;\n",
              "      border-right-color: var(--fill-color);\n",
              "      border-bottom-color: var(--fill-color);\n",
              "    }\n",
              "    90% {\n",
              "      border-color: transparent;\n",
              "      border-bottom-color: var(--fill-color);\n",
              "    }\n",
              "  }\n",
              "</style>\n",
              "\n",
              "  <script>\n",
              "    async function quickchart(key) {\n",
              "      const quickchartButtonEl =\n",
              "        document.querySelector('#' + key + ' button');\n",
              "      quickchartButtonEl.disabled = true;  // To prevent multiple clicks.\n",
              "      quickchartButtonEl.classList.add('colab-df-spinner');\n",
              "      try {\n",
              "        const charts = await google.colab.kernel.invokeFunction(\n",
              "            'suggestCharts', [key], {});\n",
              "      } catch (error) {\n",
              "        console.error('Error during call to suggestCharts:', error);\n",
              "      }\n",
              "      quickchartButtonEl.classList.remove('colab-df-spinner');\n",
              "      quickchartButtonEl.classList.add('colab-df-quickchart-complete');\n",
              "    }\n",
              "    (() => {\n",
              "      let quickchartButtonEl =\n",
              "        document.querySelector('#df-42974780-6e15-4c62-878a-cff0b3100b80 button');\n",
              "      quickchartButtonEl.style.display =\n",
              "        google.colab.kernel.accessAllowed ? 'block' : 'none';\n",
              "    })();\n",
              "  </script>\n",
              "</div>\n",
              "\n",
              "    </div>\n",
              "  </div>\n"
            ]
          },
          "metadata": {},
          "execution_count": 22
        }
      ]
    },
    {
      "cell_type": "code",
      "source": [
        "df.dtypes"
      ],
      "metadata": {
        "colab": {
          "base_uri": "https://localhost:8080/"
        },
        "id": "fZyE0Xgz1YJ2",
        "outputId": "679e0324-ba72-4c05-b17a-280d3c2eab84"
      },
      "execution_count": 23,
      "outputs": [
        {
          "output_type": "execute_result",
          "data": {
            "text/plain": [
              "pais              object\n",
              "año                int64\n",
              "sexo              object\n",
              "edad              object\n",
              "no_suicidios       int64\n",
              "pib_per_capita     int64\n",
              "generacion        object\n",
              "dtype: object"
            ]
          },
          "metadata": {},
          "execution_count": 23
        }
      ]
    },
    {
      "cell_type": "markdown",
      "source": [
        "Luego, observamos que la columna **age** es de tipo objeto, y debería de ser de tipo entero ya que la edad es numérica, pero esto se debe a que en la información que tiene la columna, tiene la palabra **years**, entonces también procedemos a eliminarla."
      ],
      "metadata": {
        "id": "8kinzVpQ2nMh"
      }
    },
    {
      "cell_type": "code",
      "source": [
        "#Eliminar \"years\" de la columna edad\n",
        "\n",
        "df['edad']=df['edad'].str.replace(' years', '')\n",
        "\n",
        "df.head()"
      ],
      "metadata": {
        "id": "p0h1c40hbv5l",
        "colab": {
          "base_uri": "https://localhost:8080/",
          "height": 206
        },
        "outputId": "4b65b89c-10aa-4c5b-eea3-d3a4f2d3ec32"
      },
      "execution_count": 24,
      "outputs": [
        {
          "output_type": "execute_result",
          "data": {
            "text/plain": [
              "      pais   año    sexo   edad  no_suicidios  pib_per_capita generacion\n",
              "0  Albania  1987    male  15-24            21             796          X\n",
              "1  Albania  1987    male  35-54            16             796     Silent\n",
              "2  Albania  1987  female  15-24            14             796          X\n",
              "3  Albania  1987    male    75+             1             796      G.I. \n",
              "4  Albania  1987    male  25-34             9             796    Boomers"
            ],
            "text/html": [
              "\n",
              "  <div id=\"df-25023397-8693-455f-95d9-3797c2eee103\" class=\"colab-df-container\">\n",
              "    <div>\n",
              "<style scoped>\n",
              "    .dataframe tbody tr th:only-of-type {\n",
              "        vertical-align: middle;\n",
              "    }\n",
              "\n",
              "    .dataframe tbody tr th {\n",
              "        vertical-align: top;\n",
              "    }\n",
              "\n",
              "    .dataframe thead th {\n",
              "        text-align: right;\n",
              "    }\n",
              "</style>\n",
              "<table border=\"1\" class=\"dataframe\">\n",
              "  <thead>\n",
              "    <tr style=\"text-align: right;\">\n",
              "      <th></th>\n",
              "      <th>pais</th>\n",
              "      <th>año</th>\n",
              "      <th>sexo</th>\n",
              "      <th>edad</th>\n",
              "      <th>no_suicidios</th>\n",
              "      <th>pib_per_capita</th>\n",
              "      <th>generacion</th>\n",
              "    </tr>\n",
              "  </thead>\n",
              "  <tbody>\n",
              "    <tr>\n",
              "      <th>0</th>\n",
              "      <td>Albania</td>\n",
              "      <td>1987</td>\n",
              "      <td>male</td>\n",
              "      <td>15-24</td>\n",
              "      <td>21</td>\n",
              "      <td>796</td>\n",
              "      <td>X</td>\n",
              "    </tr>\n",
              "    <tr>\n",
              "      <th>1</th>\n",
              "      <td>Albania</td>\n",
              "      <td>1987</td>\n",
              "      <td>male</td>\n",
              "      <td>35-54</td>\n",
              "      <td>16</td>\n",
              "      <td>796</td>\n",
              "      <td>Silent</td>\n",
              "    </tr>\n",
              "    <tr>\n",
              "      <th>2</th>\n",
              "      <td>Albania</td>\n",
              "      <td>1987</td>\n",
              "      <td>female</td>\n",
              "      <td>15-24</td>\n",
              "      <td>14</td>\n",
              "      <td>796</td>\n",
              "      <td>X</td>\n",
              "    </tr>\n",
              "    <tr>\n",
              "      <th>3</th>\n",
              "      <td>Albania</td>\n",
              "      <td>1987</td>\n",
              "      <td>male</td>\n",
              "      <td>75+</td>\n",
              "      <td>1</td>\n",
              "      <td>796</td>\n",
              "      <td>G.I.</td>\n",
              "    </tr>\n",
              "    <tr>\n",
              "      <th>4</th>\n",
              "      <td>Albania</td>\n",
              "      <td>1987</td>\n",
              "      <td>male</td>\n",
              "      <td>25-34</td>\n",
              "      <td>9</td>\n",
              "      <td>796</td>\n",
              "      <td>Boomers</td>\n",
              "    </tr>\n",
              "  </tbody>\n",
              "</table>\n",
              "</div>\n",
              "    <div class=\"colab-df-buttons\">\n",
              "\n",
              "  <div class=\"colab-df-container\">\n",
              "    <button class=\"colab-df-convert\" onclick=\"convertToInteractive('df-25023397-8693-455f-95d9-3797c2eee103')\"\n",
              "            title=\"Convert this dataframe to an interactive table.\"\n",
              "            style=\"display:none;\">\n",
              "\n",
              "  <svg xmlns=\"http://www.w3.org/2000/svg\" height=\"24px\" viewBox=\"0 -960 960 960\">\n",
              "    <path d=\"M120-120v-720h720v720H120Zm60-500h600v-160H180v160Zm220 220h160v-160H400v160Zm0 220h160v-160H400v160ZM180-400h160v-160H180v160Zm440 0h160v-160H620v160ZM180-180h160v-160H180v160Zm440 0h160v-160H620v160Z\"/>\n",
              "  </svg>\n",
              "    </button>\n",
              "\n",
              "  <style>\n",
              "    .colab-df-container {\n",
              "      display:flex;\n",
              "      gap: 12px;\n",
              "    }\n",
              "\n",
              "    .colab-df-convert {\n",
              "      background-color: #E8F0FE;\n",
              "      border: none;\n",
              "      border-radius: 50%;\n",
              "      cursor: pointer;\n",
              "      display: none;\n",
              "      fill: #1967D2;\n",
              "      height: 32px;\n",
              "      padding: 0 0 0 0;\n",
              "      width: 32px;\n",
              "    }\n",
              "\n",
              "    .colab-df-convert:hover {\n",
              "      background-color: #E2EBFA;\n",
              "      box-shadow: 0px 1px 2px rgba(60, 64, 67, 0.3), 0px 1px 3px 1px rgba(60, 64, 67, 0.15);\n",
              "      fill: #174EA6;\n",
              "    }\n",
              "\n",
              "    .colab-df-buttons div {\n",
              "      margin-bottom: 4px;\n",
              "    }\n",
              "\n",
              "    [theme=dark] .colab-df-convert {\n",
              "      background-color: #3B4455;\n",
              "      fill: #D2E3FC;\n",
              "    }\n",
              "\n",
              "    [theme=dark] .colab-df-convert:hover {\n",
              "      background-color: #434B5C;\n",
              "      box-shadow: 0px 1px 3px 1px rgba(0, 0, 0, 0.15);\n",
              "      filter: drop-shadow(0px 1px 2px rgba(0, 0, 0, 0.3));\n",
              "      fill: #FFFFFF;\n",
              "    }\n",
              "  </style>\n",
              "\n",
              "    <script>\n",
              "      const buttonEl =\n",
              "        document.querySelector('#df-25023397-8693-455f-95d9-3797c2eee103 button.colab-df-convert');\n",
              "      buttonEl.style.display =\n",
              "        google.colab.kernel.accessAllowed ? 'block' : 'none';\n",
              "\n",
              "      async function convertToInteractive(key) {\n",
              "        const element = document.querySelector('#df-25023397-8693-455f-95d9-3797c2eee103');\n",
              "        const dataTable =\n",
              "          await google.colab.kernel.invokeFunction('convertToInteractive',\n",
              "                                                    [key], {});\n",
              "        if (!dataTable) return;\n",
              "\n",
              "        const docLinkHtml = 'Like what you see? Visit the ' +\n",
              "          '<a target=\"_blank\" href=https://colab.research.google.com/notebooks/data_table.ipynb>data table notebook</a>'\n",
              "          + ' to learn more about interactive tables.';\n",
              "        element.innerHTML = '';\n",
              "        dataTable['output_type'] = 'display_data';\n",
              "        await google.colab.output.renderOutput(dataTable, element);\n",
              "        const docLink = document.createElement('div');\n",
              "        docLink.innerHTML = docLinkHtml;\n",
              "        element.appendChild(docLink);\n",
              "      }\n",
              "    </script>\n",
              "  </div>\n",
              "\n",
              "\n",
              "<div id=\"df-b7de1086-447a-483f-9da7-2c75caffcf86\">\n",
              "  <button class=\"colab-df-quickchart\" onclick=\"quickchart('df-b7de1086-447a-483f-9da7-2c75caffcf86')\"\n",
              "            title=\"Suggest charts\"\n",
              "            style=\"display:none;\">\n",
              "\n",
              "<svg xmlns=\"http://www.w3.org/2000/svg\" height=\"24px\"viewBox=\"0 0 24 24\"\n",
              "     width=\"24px\">\n",
              "    <g>\n",
              "        <path d=\"M19 3H5c-1.1 0-2 .9-2 2v14c0 1.1.9 2 2 2h14c1.1 0 2-.9 2-2V5c0-1.1-.9-2-2-2zM9 17H7v-7h2v7zm4 0h-2V7h2v10zm4 0h-2v-4h2v4z\"/>\n",
              "    </g>\n",
              "</svg>\n",
              "  </button>\n",
              "\n",
              "<style>\n",
              "  .colab-df-quickchart {\n",
              "      --bg-color: #E8F0FE;\n",
              "      --fill-color: #1967D2;\n",
              "      --hover-bg-color: #E2EBFA;\n",
              "      --hover-fill-color: #174EA6;\n",
              "      --disabled-fill-color: #AAA;\n",
              "      --disabled-bg-color: #DDD;\n",
              "  }\n",
              "\n",
              "  [theme=dark] .colab-df-quickchart {\n",
              "      --bg-color: #3B4455;\n",
              "      --fill-color: #D2E3FC;\n",
              "      --hover-bg-color: #434B5C;\n",
              "      --hover-fill-color: #FFFFFF;\n",
              "      --disabled-bg-color: #3B4455;\n",
              "      --disabled-fill-color: #666;\n",
              "  }\n",
              "\n",
              "  .colab-df-quickchart {\n",
              "    background-color: var(--bg-color);\n",
              "    border: none;\n",
              "    border-radius: 50%;\n",
              "    cursor: pointer;\n",
              "    display: none;\n",
              "    fill: var(--fill-color);\n",
              "    height: 32px;\n",
              "    padding: 0;\n",
              "    width: 32px;\n",
              "  }\n",
              "\n",
              "  .colab-df-quickchart:hover {\n",
              "    background-color: var(--hover-bg-color);\n",
              "    box-shadow: 0 1px 2px rgba(60, 64, 67, 0.3), 0 1px 3px 1px rgba(60, 64, 67, 0.15);\n",
              "    fill: var(--button-hover-fill-color);\n",
              "  }\n",
              "\n",
              "  .colab-df-quickchart-complete:disabled,\n",
              "  .colab-df-quickchart-complete:disabled:hover {\n",
              "    background-color: var(--disabled-bg-color);\n",
              "    fill: var(--disabled-fill-color);\n",
              "    box-shadow: none;\n",
              "  }\n",
              "\n",
              "  .colab-df-spinner {\n",
              "    border: 2px solid var(--fill-color);\n",
              "    border-color: transparent;\n",
              "    border-bottom-color: var(--fill-color);\n",
              "    animation:\n",
              "      spin 1s steps(1) infinite;\n",
              "  }\n",
              "\n",
              "  @keyframes spin {\n",
              "    0% {\n",
              "      border-color: transparent;\n",
              "      border-bottom-color: var(--fill-color);\n",
              "      border-left-color: var(--fill-color);\n",
              "    }\n",
              "    20% {\n",
              "      border-color: transparent;\n",
              "      border-left-color: var(--fill-color);\n",
              "      border-top-color: var(--fill-color);\n",
              "    }\n",
              "    30% {\n",
              "      border-color: transparent;\n",
              "      border-left-color: var(--fill-color);\n",
              "      border-top-color: var(--fill-color);\n",
              "      border-right-color: var(--fill-color);\n",
              "    }\n",
              "    40% {\n",
              "      border-color: transparent;\n",
              "      border-right-color: var(--fill-color);\n",
              "      border-top-color: var(--fill-color);\n",
              "    }\n",
              "    60% {\n",
              "      border-color: transparent;\n",
              "      border-right-color: var(--fill-color);\n",
              "    }\n",
              "    80% {\n",
              "      border-color: transparent;\n",
              "      border-right-color: var(--fill-color);\n",
              "      border-bottom-color: var(--fill-color);\n",
              "    }\n",
              "    90% {\n",
              "      border-color: transparent;\n",
              "      border-bottom-color: var(--fill-color);\n",
              "    }\n",
              "  }\n",
              "</style>\n",
              "\n",
              "  <script>\n",
              "    async function quickchart(key) {\n",
              "      const quickchartButtonEl =\n",
              "        document.querySelector('#' + key + ' button');\n",
              "      quickchartButtonEl.disabled = true;  // To prevent multiple clicks.\n",
              "      quickchartButtonEl.classList.add('colab-df-spinner');\n",
              "      try {\n",
              "        const charts = await google.colab.kernel.invokeFunction(\n",
              "            'suggestCharts', [key], {});\n",
              "      } catch (error) {\n",
              "        console.error('Error during call to suggestCharts:', error);\n",
              "      }\n",
              "      quickchartButtonEl.classList.remove('colab-df-spinner');\n",
              "      quickchartButtonEl.classList.add('colab-df-quickchart-complete');\n",
              "    }\n",
              "    (() => {\n",
              "      let quickchartButtonEl =\n",
              "        document.querySelector('#df-b7de1086-447a-483f-9da7-2c75caffcf86 button');\n",
              "      quickchartButtonEl.style.display =\n",
              "        google.colab.kernel.accessAllowed ? 'block' : 'none';\n",
              "    })();\n",
              "  </script>\n",
              "</div>\n",
              "\n",
              "    </div>\n",
              "  </div>\n"
            ]
          },
          "metadata": {},
          "execution_count": 24
        }
      ]
    },
    {
      "cell_type": "code",
      "source": [
        "df.dtypes"
      ],
      "metadata": {
        "id": "TG1qIhvo6QT9",
        "outputId": "577b7369-ea3f-4fab-a83b-f66a66eb23b6",
        "colab": {
          "base_uri": "https://localhost:8080/"
        }
      },
      "execution_count": 25,
      "outputs": [
        {
          "output_type": "execute_result",
          "data": {
            "text/plain": [
              "pais              object\n",
              "año                int64\n",
              "sexo              object\n",
              "edad              object\n",
              "no_suicidios       int64\n",
              "pib_per_capita     int64\n",
              "generacion        object\n",
              "dtype: object"
            ]
          },
          "metadata": {},
          "execution_count": 25
        }
      ]
    },
    {
      "cell_type": "markdown",
      "source": [
        "Notamos que apesar de que ya se eliminó la palabra \"years\", sigue considerando la columna \"edad\" como objeto, ya que también contiene símbolos como **+** y **-**. Para lidiar con este problema, lo vamos a dejar como objeto y lo vamos a considerar como si fuera una variable categórica"
      ],
      "metadata": {
        "id": "Q-8DQ2KY4SKz"
      }
    },
    {
      "cell_type": "markdown",
      "source": [
        "Luego, vamos a cambiar \"male\" y \"female\" de la columna sexo a una abreviatura más cómoda."
      ],
      "metadata": {
        "id": "s13vjiUC8LFL"
      }
    },
    {
      "cell_type": "code",
      "source": [
        "#Cambiar \"male\" y \"female\" de la columna sexo\n",
        "# \\b para representar límites de palabras\n",
        "df['sexo']=df['sexo'].str.replace(r'\\bmale\\b', 'M', case= False)\n",
        "df['sexo']=df['sexo'].str.replace(r'\\bfemale\\b', 'F', case= False)\n",
        "df.head()"
      ],
      "metadata": {
        "id": "DLDxco7J7wkk",
        "colab": {
          "base_uri": "https://localhost:8080/",
          "height": 276
        },
        "outputId": "c4595e80-d145-4537-a9f2-9a9db80a78a7"
      },
      "execution_count": 26,
      "outputs": [
        {
          "output_type": "stream",
          "name": "stderr",
          "text": [
            "<ipython-input-26-1c2770f12575>:3: FutureWarning: The default value of regex will change from True to False in a future version.\n",
            "  df['sexo']=df['sexo'].str.replace(r'\\bmale\\b', 'M', case= False)\n",
            "<ipython-input-26-1c2770f12575>:4: FutureWarning: The default value of regex will change from True to False in a future version.\n",
            "  df['sexo']=df['sexo'].str.replace(r'\\bfemale\\b', 'F', case= False)\n"
          ]
        },
        {
          "output_type": "execute_result",
          "data": {
            "text/plain": [
              "      pais   año sexo   edad  no_suicidios  pib_per_capita generacion\n",
              "0  Albania  1987    M  15-24            21             796          X\n",
              "1  Albania  1987    M  35-54            16             796     Silent\n",
              "2  Albania  1987    F  15-24            14             796          X\n",
              "3  Albania  1987    M    75+             1             796      G.I. \n",
              "4  Albania  1987    M  25-34             9             796    Boomers"
            ],
            "text/html": [
              "\n",
              "  <div id=\"df-b25826b5-9595-41f5-a817-ab1410777bee\" class=\"colab-df-container\">\n",
              "    <div>\n",
              "<style scoped>\n",
              "    .dataframe tbody tr th:only-of-type {\n",
              "        vertical-align: middle;\n",
              "    }\n",
              "\n",
              "    .dataframe tbody tr th {\n",
              "        vertical-align: top;\n",
              "    }\n",
              "\n",
              "    .dataframe thead th {\n",
              "        text-align: right;\n",
              "    }\n",
              "</style>\n",
              "<table border=\"1\" class=\"dataframe\">\n",
              "  <thead>\n",
              "    <tr style=\"text-align: right;\">\n",
              "      <th></th>\n",
              "      <th>pais</th>\n",
              "      <th>año</th>\n",
              "      <th>sexo</th>\n",
              "      <th>edad</th>\n",
              "      <th>no_suicidios</th>\n",
              "      <th>pib_per_capita</th>\n",
              "      <th>generacion</th>\n",
              "    </tr>\n",
              "  </thead>\n",
              "  <tbody>\n",
              "    <tr>\n",
              "      <th>0</th>\n",
              "      <td>Albania</td>\n",
              "      <td>1987</td>\n",
              "      <td>M</td>\n",
              "      <td>15-24</td>\n",
              "      <td>21</td>\n",
              "      <td>796</td>\n",
              "      <td>X</td>\n",
              "    </tr>\n",
              "    <tr>\n",
              "      <th>1</th>\n",
              "      <td>Albania</td>\n",
              "      <td>1987</td>\n",
              "      <td>M</td>\n",
              "      <td>35-54</td>\n",
              "      <td>16</td>\n",
              "      <td>796</td>\n",
              "      <td>Silent</td>\n",
              "    </tr>\n",
              "    <tr>\n",
              "      <th>2</th>\n",
              "      <td>Albania</td>\n",
              "      <td>1987</td>\n",
              "      <td>F</td>\n",
              "      <td>15-24</td>\n",
              "      <td>14</td>\n",
              "      <td>796</td>\n",
              "      <td>X</td>\n",
              "    </tr>\n",
              "    <tr>\n",
              "      <th>3</th>\n",
              "      <td>Albania</td>\n",
              "      <td>1987</td>\n",
              "      <td>M</td>\n",
              "      <td>75+</td>\n",
              "      <td>1</td>\n",
              "      <td>796</td>\n",
              "      <td>G.I.</td>\n",
              "    </tr>\n",
              "    <tr>\n",
              "      <th>4</th>\n",
              "      <td>Albania</td>\n",
              "      <td>1987</td>\n",
              "      <td>M</td>\n",
              "      <td>25-34</td>\n",
              "      <td>9</td>\n",
              "      <td>796</td>\n",
              "      <td>Boomers</td>\n",
              "    </tr>\n",
              "  </tbody>\n",
              "</table>\n",
              "</div>\n",
              "    <div class=\"colab-df-buttons\">\n",
              "\n",
              "  <div class=\"colab-df-container\">\n",
              "    <button class=\"colab-df-convert\" onclick=\"convertToInteractive('df-b25826b5-9595-41f5-a817-ab1410777bee')\"\n",
              "            title=\"Convert this dataframe to an interactive table.\"\n",
              "            style=\"display:none;\">\n",
              "\n",
              "  <svg xmlns=\"http://www.w3.org/2000/svg\" height=\"24px\" viewBox=\"0 -960 960 960\">\n",
              "    <path d=\"M120-120v-720h720v720H120Zm60-500h600v-160H180v160Zm220 220h160v-160H400v160Zm0 220h160v-160H400v160ZM180-400h160v-160H180v160Zm440 0h160v-160H620v160ZM180-180h160v-160H180v160Zm440 0h160v-160H620v160Z\"/>\n",
              "  </svg>\n",
              "    </button>\n",
              "\n",
              "  <style>\n",
              "    .colab-df-container {\n",
              "      display:flex;\n",
              "      gap: 12px;\n",
              "    }\n",
              "\n",
              "    .colab-df-convert {\n",
              "      background-color: #E8F0FE;\n",
              "      border: none;\n",
              "      border-radius: 50%;\n",
              "      cursor: pointer;\n",
              "      display: none;\n",
              "      fill: #1967D2;\n",
              "      height: 32px;\n",
              "      padding: 0 0 0 0;\n",
              "      width: 32px;\n",
              "    }\n",
              "\n",
              "    .colab-df-convert:hover {\n",
              "      background-color: #E2EBFA;\n",
              "      box-shadow: 0px 1px 2px rgba(60, 64, 67, 0.3), 0px 1px 3px 1px rgba(60, 64, 67, 0.15);\n",
              "      fill: #174EA6;\n",
              "    }\n",
              "\n",
              "    .colab-df-buttons div {\n",
              "      margin-bottom: 4px;\n",
              "    }\n",
              "\n",
              "    [theme=dark] .colab-df-convert {\n",
              "      background-color: #3B4455;\n",
              "      fill: #D2E3FC;\n",
              "    }\n",
              "\n",
              "    [theme=dark] .colab-df-convert:hover {\n",
              "      background-color: #434B5C;\n",
              "      box-shadow: 0px 1px 3px 1px rgba(0, 0, 0, 0.15);\n",
              "      filter: drop-shadow(0px 1px 2px rgba(0, 0, 0, 0.3));\n",
              "      fill: #FFFFFF;\n",
              "    }\n",
              "  </style>\n",
              "\n",
              "    <script>\n",
              "      const buttonEl =\n",
              "        document.querySelector('#df-b25826b5-9595-41f5-a817-ab1410777bee button.colab-df-convert');\n",
              "      buttonEl.style.display =\n",
              "        google.colab.kernel.accessAllowed ? 'block' : 'none';\n",
              "\n",
              "      async function convertToInteractive(key) {\n",
              "        const element = document.querySelector('#df-b25826b5-9595-41f5-a817-ab1410777bee');\n",
              "        const dataTable =\n",
              "          await google.colab.kernel.invokeFunction('convertToInteractive',\n",
              "                                                    [key], {});\n",
              "        if (!dataTable) return;\n",
              "\n",
              "        const docLinkHtml = 'Like what you see? Visit the ' +\n",
              "          '<a target=\"_blank\" href=https://colab.research.google.com/notebooks/data_table.ipynb>data table notebook</a>'\n",
              "          + ' to learn more about interactive tables.';\n",
              "        element.innerHTML = '';\n",
              "        dataTable['output_type'] = 'display_data';\n",
              "        await google.colab.output.renderOutput(dataTable, element);\n",
              "        const docLink = document.createElement('div');\n",
              "        docLink.innerHTML = docLinkHtml;\n",
              "        element.appendChild(docLink);\n",
              "      }\n",
              "    </script>\n",
              "  </div>\n",
              "\n",
              "\n",
              "<div id=\"df-b8f3eab0-aaf8-495c-afc3-b872b069e4fb\">\n",
              "  <button class=\"colab-df-quickchart\" onclick=\"quickchart('df-b8f3eab0-aaf8-495c-afc3-b872b069e4fb')\"\n",
              "            title=\"Suggest charts\"\n",
              "            style=\"display:none;\">\n",
              "\n",
              "<svg xmlns=\"http://www.w3.org/2000/svg\" height=\"24px\"viewBox=\"0 0 24 24\"\n",
              "     width=\"24px\">\n",
              "    <g>\n",
              "        <path d=\"M19 3H5c-1.1 0-2 .9-2 2v14c0 1.1.9 2 2 2h14c1.1 0 2-.9 2-2V5c0-1.1-.9-2-2-2zM9 17H7v-7h2v7zm4 0h-2V7h2v10zm4 0h-2v-4h2v4z\"/>\n",
              "    </g>\n",
              "</svg>\n",
              "  </button>\n",
              "\n",
              "<style>\n",
              "  .colab-df-quickchart {\n",
              "      --bg-color: #E8F0FE;\n",
              "      --fill-color: #1967D2;\n",
              "      --hover-bg-color: #E2EBFA;\n",
              "      --hover-fill-color: #174EA6;\n",
              "      --disabled-fill-color: #AAA;\n",
              "      --disabled-bg-color: #DDD;\n",
              "  }\n",
              "\n",
              "  [theme=dark] .colab-df-quickchart {\n",
              "      --bg-color: #3B4455;\n",
              "      --fill-color: #D2E3FC;\n",
              "      --hover-bg-color: #434B5C;\n",
              "      --hover-fill-color: #FFFFFF;\n",
              "      --disabled-bg-color: #3B4455;\n",
              "      --disabled-fill-color: #666;\n",
              "  }\n",
              "\n",
              "  .colab-df-quickchart {\n",
              "    background-color: var(--bg-color);\n",
              "    border: none;\n",
              "    border-radius: 50%;\n",
              "    cursor: pointer;\n",
              "    display: none;\n",
              "    fill: var(--fill-color);\n",
              "    height: 32px;\n",
              "    padding: 0;\n",
              "    width: 32px;\n",
              "  }\n",
              "\n",
              "  .colab-df-quickchart:hover {\n",
              "    background-color: var(--hover-bg-color);\n",
              "    box-shadow: 0 1px 2px rgba(60, 64, 67, 0.3), 0 1px 3px 1px rgba(60, 64, 67, 0.15);\n",
              "    fill: var(--button-hover-fill-color);\n",
              "  }\n",
              "\n",
              "  .colab-df-quickchart-complete:disabled,\n",
              "  .colab-df-quickchart-complete:disabled:hover {\n",
              "    background-color: var(--disabled-bg-color);\n",
              "    fill: var(--disabled-fill-color);\n",
              "    box-shadow: none;\n",
              "  }\n",
              "\n",
              "  .colab-df-spinner {\n",
              "    border: 2px solid var(--fill-color);\n",
              "    border-color: transparent;\n",
              "    border-bottom-color: var(--fill-color);\n",
              "    animation:\n",
              "      spin 1s steps(1) infinite;\n",
              "  }\n",
              "\n",
              "  @keyframes spin {\n",
              "    0% {\n",
              "      border-color: transparent;\n",
              "      border-bottom-color: var(--fill-color);\n",
              "      border-left-color: var(--fill-color);\n",
              "    }\n",
              "    20% {\n",
              "      border-color: transparent;\n",
              "      border-left-color: var(--fill-color);\n",
              "      border-top-color: var(--fill-color);\n",
              "    }\n",
              "    30% {\n",
              "      border-color: transparent;\n",
              "      border-left-color: var(--fill-color);\n",
              "      border-top-color: var(--fill-color);\n",
              "      border-right-color: var(--fill-color);\n",
              "    }\n",
              "    40% {\n",
              "      border-color: transparent;\n",
              "      border-right-color: var(--fill-color);\n",
              "      border-top-color: var(--fill-color);\n",
              "    }\n",
              "    60% {\n",
              "      border-color: transparent;\n",
              "      border-right-color: var(--fill-color);\n",
              "    }\n",
              "    80% {\n",
              "      border-color: transparent;\n",
              "      border-right-color: var(--fill-color);\n",
              "      border-bottom-color: var(--fill-color);\n",
              "    }\n",
              "    90% {\n",
              "      border-color: transparent;\n",
              "      border-bottom-color: var(--fill-color);\n",
              "    }\n",
              "  }\n",
              "</style>\n",
              "\n",
              "  <script>\n",
              "    async function quickchart(key) {\n",
              "      const quickchartButtonEl =\n",
              "        document.querySelector('#' + key + ' button');\n",
              "      quickchartButtonEl.disabled = true;  // To prevent multiple clicks.\n",
              "      quickchartButtonEl.classList.add('colab-df-spinner');\n",
              "      try {\n",
              "        const charts = await google.colab.kernel.invokeFunction(\n",
              "            'suggestCharts', [key], {});\n",
              "      } catch (error) {\n",
              "        console.error('Error during call to suggestCharts:', error);\n",
              "      }\n",
              "      quickchartButtonEl.classList.remove('colab-df-spinner');\n",
              "      quickchartButtonEl.classList.add('colab-df-quickchart-complete');\n",
              "    }\n",
              "    (() => {\n",
              "      let quickchartButtonEl =\n",
              "        document.querySelector('#df-b8f3eab0-aaf8-495c-afc3-b872b069e4fb button');\n",
              "      quickchartButtonEl.style.display =\n",
              "        google.colab.kernel.accessAllowed ? 'block' : 'none';\n",
              "    })();\n",
              "  </script>\n",
              "</div>\n",
              "\n",
              "    </div>\n",
              "  </div>\n"
            ]
          },
          "metadata": {},
          "execution_count": 26
        }
      ]
    },
    {
      "cell_type": "markdown",
      "source": [
        "Por último en nuestra limpieza de datos, verificamos que no haya NANs en nuestro dataset con `isna()` y `sum()` para contabilizarlos:"
      ],
      "metadata": {
        "id": "wZTL4Vlx8fvV"
      }
    },
    {
      "cell_type": "code",
      "source": [
        "#Contabiliza las NANs\n",
        "df.isna().sum(axis=0)"
      ],
      "metadata": {
        "colab": {
          "base_uri": "https://localhost:8080/"
        },
        "id": "Y4LwH4C3q019",
        "outputId": "b6f9ab60-64ec-4a27-fe6d-3c3471ed070f"
      },
      "execution_count": 27,
      "outputs": [
        {
          "output_type": "execute_result",
          "data": {
            "text/plain": [
              "pais              0\n",
              "año               0\n",
              "sexo              0\n",
              "edad              0\n",
              "no_suicidios      0\n",
              "pib_per_capita    0\n",
              "generacion        0\n",
              "dtype: int64"
            ]
          },
          "metadata": {},
          "execution_count": 27
        }
      ]
    },
    {
      "cell_type": "markdown",
      "source": [
        "Por lo que notamos que no hay NANs en nuestro dataset en cada una de las columnas, por lo que ya podemos graficar y hacer uso de los datos."
      ],
      "metadata": {
        "id": "NxTADCHd-ITn"
      }
    },
    {
      "cell_type": "code",
      "source": [
        "df.dtypes"
      ],
      "metadata": {
        "colab": {
          "base_uri": "https://localhost:8080/"
        },
        "id": "JZI3Dsd-jFD8",
        "outputId": "f32c0736-6179-4ee7-e260-966269d6d8bb"
      },
      "execution_count": 28,
      "outputs": [
        {
          "output_type": "execute_result",
          "data": {
            "text/plain": [
              "pais              object\n",
              "año                int64\n",
              "sexo              object\n",
              "edad              object\n",
              "no_suicidios       int64\n",
              "pib_per_capita     int64\n",
              "generacion        object\n",
              "dtype: object"
            ]
          },
          "metadata": {},
          "execution_count": 28
        }
      ]
    },
    {
      "cell_type": "markdown",
      "source": [
        "Datos numéricos:\n",
        "- año\n",
        "- no_suicidios\n",
        "- población (No es tan relevante)\n",
        "- pib anual\n",
        "- pib_per_capita  (No es tan relevante)"
      ],
      "metadata": {
        "id": "MH1gnuCxwIPq"
      }
    },
    {
      "cell_type": "markdown",
      "source": [
        "# Análisis de datos con Python"
      ],
      "metadata": {
        "id": "4uQ0NkY7Bm7T"
      }
    },
    {
      "cell_type": "markdown",
      "source": [
        "## Estimados de locación y Variabilidad"
      ],
      "metadata": {
        "id": "_G-_Kn_aBzJB"
      }
    },
    {
      "cell_type": "markdown",
      "source": [
        "Para utilizar los estimados de locaclión y variabilidad, lo que hacemos es utilizar `info()` para identificar los datos númericos"
      ],
      "metadata": {
        "id": "oUwKrDEM-0yk"
      }
    },
    {
      "cell_type": "code",
      "source": [
        "df.info()"
      ],
      "metadata": {
        "colab": {
          "base_uri": "https://localhost:8080/"
        },
        "id": "YpGhVgyi_R7T",
        "outputId": "1e512391-c886-4f64-83b9-f29d7aafc43d"
      },
      "execution_count": 29,
      "outputs": [
        {
          "output_type": "stream",
          "name": "stdout",
          "text": [
            "<class 'pandas.core.frame.DataFrame'>\n",
            "RangeIndex: 27820 entries, 0 to 27819\n",
            "Data columns (total 7 columns):\n",
            " #   Column          Non-Null Count  Dtype \n",
            "---  ------          --------------  ----- \n",
            " 0   pais            27820 non-null  object\n",
            " 1   año             27820 non-null  int64 \n",
            " 2   sexo            27820 non-null  object\n",
            " 3   edad            27820 non-null  object\n",
            " 4   no_suicidios    27820 non-null  int64 \n",
            " 5   pib_per_capita  27820 non-null  int64 \n",
            " 6   generacion      27820 non-null  object\n",
            "dtypes: int64(3), object(4)\n",
            "memory usage: 1.5+ MB\n"
          ]
        }
      ]
    },
    {
      "cell_type": "markdown",
      "source": [
        "Observamos que las columnas que tienen datos númericos son:\n",
        "\n",
        "* año\n",
        "* no_suicidios\n",
        "* pib_per_capita\n",
        "\n",
        "Pero las columnas que nos van ayudar a responder las preguntas van hacer:\n",
        "* año\n",
        "* no_suicidios\n",
        "* pib_per_capita\n",
        "\n",
        "Por lo que vamos a obtener los siguientes estimados de tus columnas numéricas:\n",
        "* Promedio\n",
        "* Mediana\n",
        "* Media Truncada\n",
        "* Desviación estándar\n",
        "* Rango\n",
        "* Percentiles 25 y 75 (por lo menos)\n",
        "* Rango intercuartil"
      ],
      "metadata": {
        "id": "6MKr48MT_XsU"
      }
    },
    {
      "cell_type": "code",
      "source": [],
      "metadata": {
        "id": "xfCqHqbg4sMF"
      },
      "execution_count": 29,
      "outputs": []
    },
    {
      "cell_type": "markdown",
      "source": [
        "## Año (Lesly)"
      ],
      "metadata": {
        "id": "UvZEiB-xz2nH"
      }
    },
    {
      "cell_type": "markdown",
      "source": [
        "Promedio"
      ],
      "metadata": {
        "id": "mfp74TnlXrEA"
      }
    },
    {
      "cell_type": "code",
      "source": [
        "#para imprimir el promedio con formato:\n",
        "formatted_año = \"{:.0f}\".format(df['año'].mean())\n",
        "print(formatted_año)"
      ],
      "metadata": {
        "id": "aEuw7crRBICh",
        "outputId": "7098014f-d194-401f-8565-a8a8f9a42804",
        "colab": {
          "base_uri": "https://localhost:8080/"
        }
      },
      "execution_count": 30,
      "outputs": [
        {
          "output_type": "stream",
          "name": "stdout",
          "text": [
            "2001\n"
          ]
        }
      ]
    },
    {
      "cell_type": "markdown",
      "source": [
        "Media"
      ],
      "metadata": {
        "id": "fv1AVoEmXu2-"
      }
    },
    {
      "cell_type": "code",
      "source": [
        "formatted_año = \"{:.0f}\".format(df['año'].median())\n",
        "print(formatted_año)"
      ],
      "metadata": {
        "id": "RYmfXyx2Xxk1",
        "colab": {
          "base_uri": "https://localhost:8080/"
        },
        "outputId": "24442ac6-60a7-4c97-cd5e-95c83d2c6016"
      },
      "execution_count": 31,
      "outputs": [
        {
          "output_type": "stream",
          "name": "stdout",
          "text": [
            "2002\n"
          ]
        }
      ]
    },
    {
      "cell_type": "markdown",
      "source": [
        "Media Truncada"
      ],
      "metadata": {
        "id": "1yHpsXWXXyPY"
      }
    },
    {
      "cell_type": "code",
      "source": [
        "from scipy import stats #funcionalidad de estadisticas"
      ],
      "metadata": {
        "id": "DmN3Q59c-0dE"
      },
      "execution_count": 32,
      "outputs": []
    },
    {
      "cell_type": "code",
      "source": [
        "#truncar el valor promedio de la columna de año  con el porcentaje, 5% a la izquierda y 5% a la dereha, es decir el 10% en total\n",
        "media_truncada = stats.trim_mean(df['año'], 0.1)\n",
        "print(f'Media Recortada: {media_truncada:.0f}')"
      ],
      "metadata": {
        "id": "vyUKChNez3qs",
        "colab": {
          "base_uri": "https://localhost:8080/"
        },
        "outputId": "c3784241-9ec6-4276-d236-b6ac3c1efbce"
      },
      "execution_count": 33,
      "outputs": [
        {
          "output_type": "stream",
          "name": "stdout",
          "text": [
            "Media Recortada: 2001\n"
          ]
        }
      ]
    },
    {
      "cell_type": "code",
      "source": [
        "correct_año_mean = df['año'].mean() #Promedio\n",
        "correct_año_median = df['año'].median() #Mediana\n",
        "correct_año_mode = df['año'].mode()[0] #Moda\n",
        "\n",
        "print(\"Media: {:.0f}, \\nMediana: {:.0f}, \\nModa: {:.0f}\".format(correct_año_mean, correct_año_median, correct_año_mode))"
      ],
      "metadata": {
        "id": "T_c9jrnwBSnT",
        "colab": {
          "base_uri": "https://localhost:8080/"
        },
        "outputId": "2b937a66-2577-4430-ab56-09fb29660aa6"
      },
      "execution_count": 34,
      "outputs": [
        {
          "output_type": "stream",
          "name": "stdout",
          "text": [
            "Media: 2001, \n",
            "Mediana: 2002, \n",
            "Moda: 2009\n"
          ]
        }
      ]
    },
    {
      "cell_type": "code",
      "source": [
        "import matplotlib.pyplot as plt\n",
        "import seaborn as sns\n",
        "\n",
        "# Set the style of seaborn plot\n",
        "sns.set(style=\"whitegrid\")\n",
        "\n",
        "# Plotting the distribution of the 'año' column\n",
        "plt.figure(figsize=(8, 6))\n",
        "sns.histplot(df['año'], kde=True, bins=25, color='orange')\n",
        "\n",
        "# Plotting the mean, median, and mode\n",
        "plt.axvline(correct_año_mean, color='red', linestyle='--', label=f'Mean: {correct_año_mean:.0f}')\n",
        "plt.axvline(correct_año_median, color='green', linestyle='-', label=f'Median: {correct_año_median:.0f}')\n",
        "plt.axvline(correct_año_mode, color='pink', linestyle='-.', label=f'Mode: {correct_año_mode:.0f}')\n",
        "\n",
        "# Adding title and labels\n",
        "plt.title('Años que se registraron los datos sobre suicidios')\n",
        "plt.xlabel('Años registrados')\n",
        "plt.ylabel('Frecuencia')\n",
        "plt.legend()\n",
        "\n",
        "# Show the plot\n",
        "plt.show()"
      ],
      "metadata": {
        "id": "U_8aIoNrBboo",
        "outputId": "323317e3-be68-4dab-fd1a-d9676034f2d8",
        "colab": {
          "base_uri": "https://localhost:8080/",
          "height": 573
        }
      },
      "execution_count": 35,
      "outputs": [
        {
          "output_type": "display_data",
          "data": {
            "text/plain": [
              "<Figure size 800x600 with 1 Axes>"
            ],
            "image/png": "[encoded data removed]"
          },
          "metadata": {}
        }
      ]
    },
    {
      "cell_type": "markdown",
      "source": [
        "## Desviación estandar"
      ],
      "metadata": {
        "id": "bFCHyFLn4CGd"
      }
    },
    {
      "cell_type": "code",
      "source": [
        "standar_deviation=df['año'].std()"
      ],
      "metadata": {
        "id": "6JIV7yFZ4BBT"
      },
      "execution_count": 36,
      "outputs": []
    },
    {
      "cell_type": "code",
      "source": [
        "print(\"Media: {:.0f}, \\nMediana: {:.0f}, \\nModa: {:.0f}\".format(correct_año_mean, correct_año_median, correct_año_mode))\n",
        "print(\"Des Est: {:,.0f}\".format(standar_deviation))"
      ],
      "metadata": {
        "id": "ayadkqtT4QtI",
        "colab": {
          "base_uri": "https://localhost:8080/"
        },
        "outputId": "3739f62e-78ba-4626-f823-6aa58072c6b5"
      },
      "execution_count": 37,
      "outputs": [
        {
          "output_type": "stream",
          "name": "stdout",
          "text": [
            "Media: 2001, \n",
            "Mediana: 2002, \n",
            "Moda: 2009\n",
            "Des Est: 8\n"
          ]
        }
      ]
    },
    {
      "cell_type": "markdown",
      "source": [
        "## Rango"
      ],
      "metadata": {
        "id": "_WCwLr6L4_dF"
      }
    },
    {
      "cell_type": "code",
      "source": [
        "año_range = df['año'].max() - df['año'].min()\n",
        "formatted_año_range = f'{año_range:,.0f}'\n",
        "print(formatted_año_range)"
      ],
      "metadata": {
        "id": "ownTcG5z5EqJ",
        "colab": {
          "base_uri": "https://localhost:8080/"
        },
        "outputId": "611a4c61-beff-4725-ff56-53b6d6524e23"
      },
      "execution_count": 38,
      "outputs": [
        {
          "output_type": "stream",
          "name": "stdout",
          "text": [
            "31\n"
          ]
        }
      ]
    },
    {
      "cell_type": "markdown",
      "source": [
        "### Percentiles 25 y 75"
      ],
      "metadata": {
        "id": "5WK_s11L5vB4"
      }
    },
    {
      "cell_type": "code",
      "source": [
        "print(f'Valor mínimo: {df[\"año\"].min():.0f}')\n",
        "print(f'Percentil 10: {df[\"año\"].quantile(0.1):.0f}')\n",
        "print(f'Percentil 25: {df[\"año\"].quantile(0.25):.0f}')\n",
        "print(f'Percentil 50: {df[\"año\"].median():.0f}')\n",
        "print(f'Percentil 75: {df[\"año\"].quantile(0.75):.0f}')\n",
        "print(f'Percentil 90: {df[\"año\"].quantile(0.9):.0f}')\n",
        "print(f'Valor máximo: {df[\"año\"].max():.0f}')"
      ],
      "metadata": {
        "id": "Tp7-_4gI6JwR",
        "colab": {
          "base_uri": "https://localhost:8080/"
        },
        "outputId": "aa5eccad-9aff-4ebf-de99-9acb181d4bc8"
      },
      "execution_count": 39,
      "outputs": [
        {
          "output_type": "stream",
          "name": "stdout",
          "text": [
            "Valor mínimo: 1985\n",
            "Percentil 10: 1989\n",
            "Percentil 25: 1995\n",
            "Percentil 50: 2002\n",
            "Percentil 75: 2008\n",
            "Percentil 90: 2013\n",
            "Valor máximo: 2016\n"
          ]
        }
      ]
    },
    {
      "cell_type": "markdown",
      "source": [
        "## Rango intercuartil"
      ],
      "metadata": {
        "id": "BU-h2ZlZ7bJK"
      }
    },
    {
      "cell_type": "code",
      "source": [
        "interquartile_range = df[\"año\"].quantile(0.75) - df[\"año\"].quantile(0.25)\n",
        "formatted_interquartile_range = f'{interquartile_range:.0f}'\n",
        "print(formatted_interquartile_range)"
      ],
      "metadata": {
        "id": "ltDuj1NJ7i_c",
        "colab": {
          "base_uri": "https://localhost:8080/"
        },
        "outputId": "16a52382-b239-4ca2-f4ef-33377157a99f"
      },
      "execution_count": 40,
      "outputs": [
        {
          "output_type": "stream",
          "name": "stdout",
          "text": [
            "13\n"
          ]
        }
      ]
    },
    {
      "cell_type": "markdown",
      "source": [
        "## no_suicidios (Miriam)"
      ],
      "metadata": {
        "id": "ct04VOjnz5Ns"
      }
    },
    {
      "cell_type": "code",
      "source": [
        "# Eliminar filas donde 'no_suicidios' es igual a 0\n",
        "df = df.loc[df['no_suicidios'] != 0]"
      ],
      "metadata": {
        "id": "ZGIPaa84SdU-"
      },
      "execution_count": 41,
      "outputs": []
    },
    {
      "cell_type": "markdown",
      "source": [
        "#### Promedio:"
      ],
      "metadata": {
        "id": "xiPxLs5r7Fxn"
      }
    },
    {
      "cell_type": "code",
      "source": [
        "no_suicidios = \"{:,.0f}\".format(df['no_suicidios'].mean())\n",
        "print(no_suicidios)"
      ],
      "metadata": {
        "id": "82HkXym8z8oP",
        "outputId": "f11114f7-9a36-4ab2-c356-a87ede91f485",
        "colab": {
          "base_uri": "https://localhost:8080/"
        }
      },
      "execution_count": 42,
      "outputs": [
        {
          "output_type": "stream",
          "name": "stdout",
          "text": [
            "287\n"
          ]
        }
      ]
    },
    {
      "cell_type": "markdown",
      "source": [
        "#### Mediana"
      ],
      "metadata": {
        "id": "8wyGgViB_uHs"
      }
    },
    {
      "cell_type": "code",
      "source": [
        "no_suicidios = \"{:,.0f}\".format(df['no_suicidios'].median())\n",
        "print(no_suicidios)"
      ],
      "metadata": {
        "id": "q1yOvQyK_yk1",
        "colab": {
          "base_uri": "https://localhost:8080/"
        },
        "outputId": "2af72981-13fd-4399-f364-af671fd00aac"
      },
      "execution_count": 43,
      "outputs": [
        {
          "output_type": "stream",
          "name": "stdout",
          "text": [
            "42\n"
          ]
        }
      ]
    },
    {
      "cell_type": "markdown",
      "source": [
        "#### Media Truncada"
      ],
      "metadata": {
        "id": "c6QsyKfMEiBW"
      }
    },
    {
      "cell_type": "code",
      "source": [
        "from scipy import stats #funcionalidad de estadisticas"
      ],
      "metadata": {
        "id": "5rZK8lk_EnaH"
      },
      "execution_count": 44,
      "outputs": []
    },
    {
      "cell_type": "code",
      "source": [
        "#truncar el valor promedio de la columna no_suicidios con el porcentaje, 5% a la izquierda y 5% a la dereha, es decir el 10% en total\n",
        "media_truncada = stats.trim_mean(df['no_suicidios'], 0.1)\n",
        "print(f'Media Truncada: {media_truncada:,.0f}')"
      ],
      "metadata": {
        "id": "aEtkMvdWEsYn",
        "outputId": "0c518ba8-90c4-4bb9-93b5-024691db3066",
        "colab": {
          "base_uri": "https://localhost:8080/"
        }
      },
      "execution_count": 45,
      "outputs": [
        {
          "output_type": "stream",
          "name": "stdout",
          "text": [
            "Media Truncada: 98\n"
          ]
        }
      ]
    },
    {
      "cell_type": "code",
      "source": [
        "correct_no_suicidios_mean = df['no_suicidios'].mean() #Promedio\n",
        "correct_no_suicidios_median = df['no_suicidios'].median() #Mediana\n",
        "correct_no_suicidios_mode = df['no_suicidios'].mode()[0] #Moda\n",
        "\n",
        "print(\"Media: {:,.0f}, \\nMediana: {:,.0f}, \\nModa: {:,.0f}\".format(correct_no_suicidios_mean, correct_no_suicidios_median, correct_no_suicidios_mode))"
      ],
      "metadata": {
        "id": "v7aQBEoqGlZd",
        "colab": {
          "base_uri": "https://localhost:8080/"
        },
        "outputId": "01b05c3b-9992-41ba-de28-0f106f2df027"
      },
      "execution_count": 46,
      "outputs": [
        {
          "output_type": "stream",
          "name": "stdout",
          "text": [
            "Media: 287, \n",
            "Mediana: 42, \n",
            "Moda: 1\n"
          ]
        }
      ]
    },
    {
      "cell_type": "code",
      "source": [
        "import matplotlib.pyplot as plt\n",
        "import seaborn as sns\n",
        "\n",
        "# Set the style of seaborn plot\n",
        "sns.set(style=\"whitegrid\")\n",
        "\n",
        "# Plotting the distribution of the 'price' column\n",
        "plt.figure(figsize=(6, 6))\n",
        "sns.histplot(df['no_suicidios'], kde=True, bins=50, color='blue')\n",
        "\n",
        "# Plotting the mean, median, and mode\n",
        "plt.axvline(correct_no_suicidios_mean, color='red', linestyle='--', label=f'Mean: {correct_no_suicidios_mean:,.0f}')\n",
        "plt.axvline(correct_no_suicidios_median, color='green', linestyle='-', label=f'Median: {correct_no_suicidios_median:,.0f}')\n",
        "plt.axvline(correct_no_suicidios_mode, color='purple', linestyle='-.', label=f'Mode: {correct_no_suicidios_mode:,.0f}')\n",
        "\n",
        "# Adding title and labels\n",
        "plt.title('No DE SUICIDIOS')\n",
        "plt.xlabel('')\n",
        "plt.ylabel('Frecuencia')\n",
        "plt.legend()\n",
        "\n",
        "# Show the plot\n",
        "plt.show()"
      ],
      "metadata": {
        "id": "vKwGLlgFHTNS",
        "colab": {
          "base_uri": "https://localhost:8080/",
          "height": 549
        },
        "outputId": "70875c40-8c77-4d3b-c26e-40682ee92c17"
      },
      "execution_count": 47,
      "outputs": [
        {
          "output_type": "display_data",
          "data": {
            "text/plain": [
              "<Figure size 600x600 with 1 Axes>"
            ],
            "image/png": "[encoded data removed]"
          },
          "metadata": {}
        }
      ]
    },
    {
      "cell_type": "markdown",
      "source": [
        "#### Desviación estándar"
      ],
      "metadata": {
        "id": "N2gqmCQ2M2_Q"
      }
    },
    {
      "cell_type": "code",
      "source": [
        "standar_deviation=df['no_suicidios'].std()"
      ],
      "metadata": {
        "id": "PiVh9vtKM9Ku"
      },
      "execution_count": 48,
      "outputs": []
    },
    {
      "cell_type": "code",
      "source": [
        "print(\"Media: {:,.0f}, \\nMediana: {:,.0f}, \\nModa: {:,.0f}\".format(correct_no_suicidios_mean, correct_no_suicidios_median, correct_no_suicidios_mode))\n",
        "print(\"Des Est: {:,.0f}\".format(standar_deviation))"
      ],
      "metadata": {
        "id": "P7TcFxbZNFNT",
        "colab": {
          "base_uri": "https://localhost:8080/"
        },
        "outputId": "a5a1b0bf-04ff-477f-d388-c8a28148f092"
      },
      "execution_count": 49,
      "outputs": [
        {
          "output_type": "stream",
          "name": "stdout",
          "text": [
            "Media: 287, \n",
            "Mediana: 42, \n",
            "Moda: 1\n",
            "Des Est: 974\n"
          ]
        }
      ]
    },
    {
      "cell_type": "markdown",
      "source": [
        "#### Rango"
      ],
      "metadata": {
        "id": "JXlBy-jONRXa"
      }
    },
    {
      "cell_type": "code",
      "source": [
        "no_suicidios_range = df['no_suicidios'].max() - df['no_suicidios'].min()\n",
        "formatted_no_suicidios_range = f'{no_suicidios_range:,.0f}'\n",
        "print(formatted_no_suicidios_range)"
      ],
      "metadata": {
        "id": "FGRK77glNSos",
        "colab": {
          "base_uri": "https://localhost:8080/"
        },
        "outputId": "2d27c3fe-76cb-45dc-fcb8-26fe8861791f"
      },
      "execution_count": 50,
      "outputs": [
        {
          "output_type": "stream",
          "name": "stdout",
          "text": [
            "22,337\n"
          ]
        }
      ]
    },
    {
      "cell_type": "markdown",
      "source": [
        "#### Percentiles 25 y 75"
      ],
      "metadata": {
        "id": "QXraPZ51Nv0c"
      }
    },
    {
      "cell_type": "code",
      "source": [
        "print(f'Valor mínimo: {df[\"no_suicidios\"].min():,.0f}')\n",
        "print(f'Percentil 10: {df[\"no_suicidios\"].quantile(0.1):,.0f}')\n",
        "print(f'Percentil 25: {df[\"no_suicidios\"].quantile(0.25):,.0f}')\n",
        "print(f'Percentil 50: {df[\"no_suicidios\"].median():,.0f}')\n",
        "print(f'Percentil 75: {df[\"no_suicidios\"].quantile(0.75):,.0f}')\n",
        "print(f'Percentil 90: {df[\"no_suicidios\"].quantile(0.9):,.0f}')\n",
        "print(f'Valor máximo: {df[\"no_suicidios\"].max():,.0f}')"
      ],
      "metadata": {
        "id": "VdyaJk_pN1vU",
        "colab": {
          "base_uri": "https://localhost:8080/"
        },
        "outputId": "863e8019-dd83-4502-cb7c-36fdfad77ef2"
      },
      "execution_count": 51,
      "outputs": [
        {
          "output_type": "stream",
          "name": "stdout",
          "text": [
            "Valor mínimo: 1\n",
            "Percentil 10: 2\n",
            "Percentil 25: 8\n",
            "Percentil 50: 42\n",
            "Percentil 75: 175\n",
            "Percentil 90: 607\n",
            "Valor máximo: 22,338\n"
          ]
        }
      ]
    },
    {
      "cell_type": "markdown",
      "source": [
        "#### Rango intercuartil"
      ],
      "metadata": {
        "id": "PqpYqWD3ODah"
      }
    },
    {
      "cell_type": "code",
      "source": [
        "interquartile_range = df[\"no_suicidios\"].quantile(0.75) - df[\"no_suicidios\"].quantile(0.25)\n",
        "formatted_interquartile_range = f'{interquartile_range:,.0f}'\n",
        "print(formatted_interquartile_range)"
      ],
      "metadata": {
        "id": "mVmA8PN1OKIw",
        "colab": {
          "base_uri": "https://localhost:8080/"
        },
        "outputId": "5d45b5ba-8b49-411e-ff23-de2ae15c38ed"
      },
      "execution_count": 52,
      "outputs": [
        {
          "output_type": "stream",
          "name": "stdout",
          "text": [
            "167\n"
          ]
        }
      ]
    },
    {
      "cell_type": "markdown",
      "source": [
        "## pib anual (Gisell)"
      ],
      "metadata": {
        "id": "am0csTMIz91M"
      }
    },
    {
      "cell_type": "markdown",
      "source": [
        "#### Promedio:"
      ],
      "metadata": {
        "id": "YIMDlmLqBG2Y"
      }
    },
    {
      "cell_type": "code",
      "source": [
        "#Para imprimir el promedio con formato:\n",
        "formatted_pib_per_capita = \"$ {:,.3f}\".format(df['pib_per_capita'].mean())\n",
        "print(formatted_pib_per_capita)"
      ],
      "metadata": {
        "colab": {
          "base_uri": "https://localhost:8080/"
        },
        "id": "kX8_t9rCBRyo",
        "outputId": "4b3b1129-aba4-40f0-d00e-2083dce16e61"
      },
      "execution_count": 53,
      "outputs": [
        {
          "output_type": "stream",
          "name": "stdout",
          "text": [
            "$ 17,229.712\n"
          ]
        }
      ]
    },
    {
      "cell_type": "markdown",
      "source": [
        "#### Mediana"
      ],
      "metadata": {
        "id": "nwgfne89BkqW"
      }
    },
    {
      "cell_type": "code",
      "source": [
        "formatted_pib_per_capita = \"$ {:,.3f}\".format(df['pib_per_capita'].median())\n",
        "print(formatted_pib_per_capita)"
      ],
      "metadata": {
        "colab": {
          "base_uri": "https://localhost:8080/"
        },
        "id": "5Uxc-PkaBmSP",
        "outputId": "b8c1895e-6a65-4e27-e1f8-ebe3b2541175"
      },
      "execution_count": 54,
      "outputs": [
        {
          "output_type": "stream",
          "name": "stdout",
          "text": [
            "$ 9,667.000\n"
          ]
        }
      ]
    },
    {
      "cell_type": "markdown",
      "source": [
        "#### Mediana truncada"
      ],
      "metadata": {
        "id": "dyRp0yC8B3pt"
      }
    },
    {
      "cell_type": "code",
      "source": [
        "from scipy import stats #funcionalidad de estadisticas"
      ],
      "metadata": {
        "id": "_K-XshdiCgvr"
      },
      "execution_count": 55,
      "outputs": []
    },
    {
      "cell_type": "code",
      "source": [
        "#truncar el valor promedio de la columna de price con el porcentaje, 5% a la izquierda y 5% a la dereha, es decir el 10% en total\n",
        "media_truncada = stats.trim_mean(df['pib_per_capita'], 0.1)\n",
        "print(f'Media Recortada: ${media_truncada:,.3f}')"
      ],
      "metadata": {
        "colab": {
          "base_uri": "https://localhost:8080/"
        },
        "id": "WzqHW2wCB5sf",
        "outputId": "b0b4a278-1dc0-452b-df96-27288608cd4f"
      },
      "execution_count": 56,
      "outputs": [
        {
          "output_type": "stream",
          "name": "stdout",
          "text": [
            "Media Recortada: $13,813.279\n"
          ]
        }
      ]
    },
    {
      "cell_type": "code",
      "source": [
        "correct_pib_per_capita_mean = df['pib_per_capita'].mean() #Promedio\n",
        "correct_pib_per_capita_median = df['pib_per_capita'].median() #Mediana\n",
        "correct_pib_per_capita_mode = df['pib_per_capita'].mode()[0] #Moda\n",
        "\n",
        "print(\"Media: ${:,.3f}, \\nMediana: ${:,.3f}, \\nModa: ${:,.3f}\".format(correct_pib_per_capita_mean, correct_pib_per_capita_median, correct_pib_per_capita_mode))"
      ],
      "metadata": {
        "colab": {
          "base_uri": "https://localhost:8080/"
        },
        "id": "WF7_W3GND67U",
        "outputId": "df815732-9a05-4c81-8f1e-6aface3ec437"
      },
      "execution_count": 57,
      "outputs": [
        {
          "output_type": "stream",
          "name": "stdout",
          "text": [
            "Media: $17,229.712, \n",
            "Mediana: $9,667.000, \n",
            "Moda: $2,303.000\n"
          ]
        }
      ]
    },
    {
      "cell_type": "code",
      "source": [
        "import matplotlib.pyplot as plt\n",
        "import seaborn as sns\n",
        "\n",
        "# Set the style of seaborn plot\n",
        "sns.set(style=\"whitegrid\")\n",
        "\n",
        "# Plotting the distribution of the 'price' column\n",
        "plt.figure(figsize=(6, 6))\n",
        "sns.histplot(df['pib_per_capita'], kde=True, bins=25, color='blue')\n",
        "\n",
        "# Plotting the mean, median, and mode\n",
        "plt.axvline(correct_pib_per_capita_mean, color='red', linestyle='--', label=f'Mean: ${correct_pib_per_capita_mean:,.2f}')\n",
        "plt.axvline(correct_pib_per_capita_median, color='green', linestyle='-', label=f'Median: ${correct_pib_per_capita_median:,.2f}')\n",
        "plt.axvline(correct_pib_per_capita_mode, color='purple', linestyle='-.', label=f'Mode: ${correct_pib_per_capita_mode:,.2f}')\n",
        "\n",
        "# Adding title and labels\n",
        "plt.title('PIB PER CAPITA')\n",
        "plt.xlabel('')\n",
        "plt.ylabel('Frecuencia')\n",
        "plt.legend()\n",
        "\n",
        "# Show the plot\n",
        "plt.show()"
      ],
      "metadata": {
        "colab": {
          "base_uri": "https://localhost:8080/",
          "height": 549
        },
        "id": "KQvtiwyUDEgv",
        "outputId": "d9501645-6cb2-423a-fc2f-6f51f730bd1a"
      },
      "execution_count": 58,
      "outputs": [
        {
          "output_type": "display_data",
          "data": {
            "text/plain": [
              "<Figure size 600x600 with 1 Axes>"
            ],
            "image/png": "[encoded data removed]"
          },
          "metadata": {}
        }
      ]
    },
    {
      "cell_type": "markdown",
      "source": [
        "#### Desviación estandar"
      ],
      "metadata": {
        "id": "PEzkUKnSB6Y8"
      }
    },
    {
      "cell_type": "code",
      "source": [
        "standar_deviation=df['pib_per_capita'].std()"
      ],
      "metadata": {
        "id": "iPhYG1GNFtek"
      },
      "execution_count": 59,
      "outputs": []
    },
    {
      "cell_type": "code",
      "source": [
        "print(\"Media: ${:,.3f}, \\nMediana: ${:,.3f}, \\nModa: ${:,.3f}\".format(correct_pib_per_capita_mean, correct_pib_per_capita_median, correct_pib_per_capita_mode))\n",
        "print(\"Des Est: ${:,.3f}\".format(standar_deviation))"
      ],
      "metadata": {
        "colab": {
          "base_uri": "https://localhost:8080/"
        },
        "id": "kBonqJjhB-gu",
        "outputId": "4a4617ed-9943-43f5-b06b-b271bcdcda6b"
      },
      "execution_count": 60,
      "outputs": [
        {
          "output_type": "stream",
          "name": "stdout",
          "text": [
            "Media: $17,229.712, \n",
            "Mediana: $9,667.000, \n",
            "Moda: $2,303.000\n",
            "Des Est: $19,107.378\n"
          ]
        }
      ]
    },
    {
      "cell_type": "markdown",
      "source": [
        "#### Rango"
      ],
      "metadata": {
        "id": "DgMXBVWWCBrk"
      }
    },
    {
      "cell_type": "code",
      "source": [
        "pib_per_capita_range = df['pib_per_capita'].max() - df['pib_per_capita'].min()\n",
        "formatted_pib_per_capita_range = f'${pib_per_capita_range:,.2f}'\n",
        "print(formatted_pib_per_capita_range)"
      ],
      "metadata": {
        "colab": {
          "base_uri": "https://localhost:8080/"
        },
        "id": "cDYYJcOgCCzF",
        "outputId": "e93a66c8-0693-4996-9256-dbc19980fab1"
      },
      "execution_count": 61,
      "outputs": [
        {
          "output_type": "stream",
          "name": "stdout",
          "text": [
            "$126,101.00\n"
          ]
        }
      ]
    },
    {
      "cell_type": "markdown",
      "source": [
        "#### Percentiles 25 y 75"
      ],
      "metadata": {
        "id": "Gk0nnu0LCDWw"
      }
    },
    {
      "cell_type": "code",
      "source": [
        "print(f'Valor mínimo: ${df[\"pib_per_capita\"].min():,.2f}')\n",
        "print(f'Percentil 10: ${df[\"pib_per_capita\"].quantile(0.1):,.2f}')\n",
        "print(f'Percentil 25: ${df[\"pib_per_capita\"].quantile(0.25):,.2f}')\n",
        "print(f'Percentil 50: ${df[\"pib_per_capita\"].median():,.2f}')\n",
        "print(f'Percentil 75: ${df[\"pib_per_capita\"].quantile(0.75):,.2f}')\n",
        "print(f'Percentil 90: ${df[\"pib_per_capita\"].quantile(0.9):,.2f}')\n",
        "print(f'Valor máximo: ${df[\"pib_per_capita\"].max():,.2f}')"
      ],
      "metadata": {
        "colab": {
          "base_uri": "https://localhost:8080/"
        },
        "id": "0LbMW3m8CFt2",
        "outputId": "7c45f96f-2870-4e4c-a947-a61813475547"
      },
      "execution_count": 62,
      "outputs": [
        {
          "output_type": "stream",
          "name": "stdout",
          "text": [
            "Valor mínimo: $251.00\n",
            "Percentil 10: $1,423.00\n",
            "Percentil 25: $3,293.00\n",
            "Percentil 50: $9,667.00\n",
            "Percentil 75: $25,735.00\n",
            "Percentil 90: $44,491.00\n",
            "Valor máximo: $126,352.00\n"
          ]
        }
      ]
    },
    {
      "cell_type": "markdown",
      "source": [
        "#### Rango intercuartil"
      ],
      "metadata": {
        "id": "2TJ6WWWCCITc"
      }
    },
    {
      "cell_type": "code",
      "source": [
        "interquartile_range = df[\"pib_per_capita\"].quantile(0.75) - df[\"pib_per_capita\"].quantile(0.25)\n",
        "formatted_interquartile_range = f'${interquartile_range:,.2f}'\n",
        "print(formatted_interquartile_range)"
      ],
      "metadata": {
        "colab": {
          "base_uri": "https://localhost:8080/"
        },
        "id": "mk13eaygCK7m",
        "outputId": "14b3fc55-575c-44aa-81d5-fe467de1c249"
      },
      "execution_count": 63,
      "outputs": [
        {
          "output_type": "stream",
          "name": "stdout",
          "text": [
            "$22,442.00\n"
          ]
        }
      ]
    },
    {
      "cell_type": "markdown",
      "source": [
        "## Introducción a la visualización de datos: Distribuciones"
      ],
      "metadata": {
        "id": "PchUdLoECPXR"
      }
    },
    {
      "cell_type": "markdown",
      "source": [
        "* Utiliza boxplots para analizar la distribución de tus variables numéricas. Piensa acerca de cuáles son los valores típicos y atípicos y dónde están concentrados el grueso de tus datos.\n",
        "* Utiliza el Score de Rango Intercuartílico para filtrar tus valores atípicos. Compara tus medianas, medias y desviaciones estándares antes y después de realizar la filtración y ve cuánto cambiaron.\n",
        "* Utiliza tablas de frecuencia e histogramas para observar la distribución de tus variables. Caracteriza cada una de las distribuciones usando los términos que aprendiste durante la sesión. Obtén medidas de asimetría y curtosis para ver qué tan alejadas de la distribución normal están tus variables.\n",
        "* Utiliza gráficas de densidad para comparar una variable numérica que pueda ser segmentada en dos o más categorías. Usa esta técnica para entender mejor cómo están distribuidos tus datos en cada uno de los grupos presentes."
      ],
      "metadata": {
        "id": "J06b3u-LCY2z"
      }
    },
    {
      "cell_type": "markdown",
      "source": [
        "## Año (Lesly)"
      ],
      "metadata": {
        "id": "J_OZokny0Qr4"
      }
    },
    {
      "cell_type": "code",
      "source": [
        "sns.set(style=\"whitegrid\") #estilo de la grafica\n",
        "sns.boxplot(x=df['año']) #Ponemos la grafica y escogemos la columna año\n",
        "plt.title(\"años\") #Agregamos un titulo"
      ],
      "metadata": {
        "id": "QenjCioO0T-2",
        "colab": {
          "base_uri": "https://localhost:8080/",
          "height": 497
        },
        "outputId": "91317f15-c0f6-4332-910d-c0e8c94afaf0"
      },
      "execution_count": 64,
      "outputs": [
        {
          "output_type": "execute_result",
          "data": {
            "text/plain": [
              "Text(0.5, 1.0, 'años')"
            ]
          },
          "metadata": {},
          "execution_count": 64
        },
        {
          "output_type": "display_data",
          "data": {
            "text/plain": [
              "<Figure size 640x480 with 1 Axes>"
            ],
            "image/png": "[encoded data removed]"
          },
          "metadata": {}
        }
      ]
    },
    {
      "cell_type": "markdown",
      "source": [
        "#no_suicidios (Miriam)"
      ],
      "metadata": {
        "id": "H5cj4gZ30Ugo"
      }
    },
    {
      "cell_type": "markdown",
      "source": [
        "#### Boxplots"
      ],
      "metadata": {
        "id": "H4185Mx8O5My"
      }
    },
    {
      "cell_type": "code",
      "source": [
        "sns.set(style=\"whitegrid\") #estilo de la grafica\n",
        "sns.boxplot(x=df['no_suicidios']) #Ponemos la grafica y escogemos la columna no_suicidios\n",
        "plt.title(\"No DE SUICIDIOS\") #Agregamos un titulo"
      ],
      "metadata": {
        "id": "kbo0wWUB0XK_",
        "colab": {
          "base_uri": "https://localhost:8080/",
          "height": 497
        },
        "outputId": "809d6586-f21d-4a4d-c5cb-6d39e16068bd"
      },
      "execution_count": 65,
      "outputs": [
        {
          "output_type": "execute_result",
          "data": {
            "text/plain": [
              "Text(0.5, 1.0, 'No DE SUICIDIOS')"
            ]
          },
          "metadata": {},
          "execution_count": 65
        },
        {
          "output_type": "display_data",
          "data": {
            "text/plain": [
              "<Figure size 640x480 with 1 Axes>"
            ],
            "image/png": "[encoded data removed]"
          },
          "metadata": {}
        }
      ]
    },
    {
      "cell_type": "code",
      "source": [
        "#Se calcula el rango intercuartílico:\n",
        "# que es la diferencia del percentil 75 y percentil 25\n",
        "iqr = df['no_suicidios'].quantile(0.75) - df['no_suicidios'].quantile(0.25)\n",
        "\n",
        "#se hace un filtrado de los datos para eliminar los valores atipicos considerando los limites inferiores y superiores\n",
        "filtro_inferior = df['no_suicidios'] > df['no_suicidios'].quantile(0.25) - (iqr * 1.5)\n",
        "filtro_superior = df['no_suicidios'] < df['no_suicidios'].quantile(0.75) + (iqr * 1.5)\n",
        "\n",
        "df2_filtrado = df[filtro_inferior & filtro_superior]"
      ],
      "metadata": {
        "id": "D_PeNjIWSP6g"
      },
      "execution_count": 66,
      "outputs": []
    },
    {
      "cell_type": "code",
      "source": [
        "sns.set(style=\"whitegrid\") #estilo de la grafica\n",
        "sns.boxplot(x=df2_filtrado['no_suicidios']) #Ponemos la grafica y escogemos la columna no_suicidios\n",
        "plt.title(\"No DE SUICIDIOS\") #Agregamos un titulo"
      ],
      "metadata": {
        "colab": {
          "base_uri": "https://localhost:8080/",
          "height": 497
        },
        "id": "m4Z53fLLh9de",
        "outputId": "8f46dbc2-a098-4d65-ec27-936b5aa944ec"
      },
      "execution_count": 67,
      "outputs": [
        {
          "output_type": "execute_result",
          "data": {
            "text/plain": [
              "Text(0.5, 1.0, 'No DE SUICIDIOS')"
            ]
          },
          "metadata": {},
          "execution_count": 67
        },
        {
          "output_type": "display_data",
          "data": {
            "text/plain": [
              "<Figure size 640x480 with 1 Axes>"
            ],
            "image/png": "[encoded data removed]"
          },
          "metadata": {}
        }
      ]
    },
    {
      "cell_type": "markdown",
      "source": [
        "## pib anual (Gisell)"
      ],
      "metadata": {
        "id": "b7E3crzZ0Xu8"
      }
    },
    {
      "cell_type": "markdown",
      "source": [
        "#### Boxplots"
      ],
      "metadata": {
        "id": "oVkmKyYGHW1-"
      }
    },
    {
      "cell_type": "code",
      "source": [
        "sns.set(style=\"whitegrid\") #estilo de la grafica\n",
        "sns.boxplot(x=df['pib_per_capita']) #Ponemos la grafica y escogemos la columna price\n",
        "plt.title(\"PIB PER CAPITA\") #Agregamos un titulo"
      ],
      "metadata": {
        "id": "apMIK7VOHYU9",
        "colab": {
          "base_uri": "https://localhost:8080/",
          "height": 497
        },
        "outputId": "d3b3c3df-493e-44ad-aaf8-96ca8b7b10a7"
      },
      "execution_count": 68,
      "outputs": [
        {
          "output_type": "execute_result",
          "data": {
            "text/plain": [
              "Text(0.5, 1.0, 'PIB PER CAPITA')"
            ]
          },
          "metadata": {},
          "execution_count": 68
        },
        {
          "output_type": "display_data",
          "data": {
            "text/plain": [
              "<Figure size 640x480 with 1 Axes>"
            ],
            "image/png": "[encoded data removed]"
          },
          "metadata": {}
        }
      ]
    },
    {
      "cell_type": "markdown",
      "source": [
        "Observamos que tenemos valores atípicos, los cuales nos están estorbando en nuestro análisis. Por lo que proceedemos a eliminarlos usando el Score de Rango Intercuartílico."
      ],
      "metadata": {
        "id": "JvtIABxFeyYY"
      }
    },
    {
      "cell_type": "code",
      "source": [
        "#Se calcula el rango intercuartílico:\n",
        "# que es la diferencia del percentil 75 y percentil 25\n",
        "iqr = df['pib_per_capita'].quantile(0.75) - df['pib_per_capita'].quantile(0.25)\n",
        "\n",
        "#se hace un filtrado de los datos para eliminar los valores atipicos considerando los limites inferiores y superiores\n",
        "filtro_inferior = df['pib_per_capita'] > df['pib_per_capita'].quantile(0.25) - (iqr * 1.5)\n",
        "filtro_superior = df['pib_per_capita'] < df['pib_per_capita'].quantile(0.75) + (iqr * 1.5)\n",
        "\n",
        "df3_filtrado = df[filtro_inferior & filtro_superior]"
      ],
      "metadata": {
        "id": "b1EPl3PCfNym"
      },
      "execution_count": 69,
      "outputs": []
    },
    {
      "cell_type": "code",
      "source": [
        "sns.set(style=\"whitegrid\") #estilo de la grafica\n",
        "sns.boxplot(x=df3_filtrado['pib_per_capita']) #Ponemos la grafica y escogemos la columna price\n",
        "plt.title(\"PIB PER CAPITA\") #Agregamos un titulo"
      ],
      "metadata": {
        "id": "iHf_yqfuHc_9",
        "colab": {
          "base_uri": "https://localhost:8080/",
          "height": 497
        },
        "outputId": "c42d581a-14a0-484f-c8db-585999290988"
      },
      "execution_count": 70,
      "outputs": [
        {
          "output_type": "execute_result",
          "data": {
            "text/plain": [
              "Text(0.5, 1.0, 'PIB PER CAPITA')"
            ]
          },
          "metadata": {},
          "execution_count": 70
        },
        {
          "output_type": "display_data",
          "data": {
            "text/plain": [
              "<Figure size 640x480 with 1 Axes>"
            ],
            "image/png": "[encoded data removed]"
          },
          "metadata": {}
        }
      ]
    },
    {
      "cell_type": "code",
      "source": [],
      "metadata": {
        "id": "j92l0Awq0aeG"
      },
      "execution_count": 70,
      "outputs": []
    },
    {
      "cell_type": "markdown",
      "source": [
        "## Exploración de Variables Categóricas y Análisis Multivariable"
      ],
      "metadata": {
        "id": "WhDz20DYClBc"
      }
    },
    {
      "cell_type": "code",
      "source": [],
      "metadata": {
        "id": "lajysf7SFeJI"
      },
      "execution_count": 70,
      "outputs": []
    },
    {
      "cell_type": "markdown",
      "source": [
        "* Si ya tienes gráficas realizadas en Postworks anteriores, agrega títulos, anotaciones y leyendas donde sea necesario. También cambia el tamaño de las gráficas donde tenga sentido hacerlo.\n",
        "* Identifica todas las variables categóricas en tu dataset.\n",
        "* Utiliza gráficas de barras para explorar la distribución de tus variables categóricas.\n",
        "* Planea tu análisis multivariable: ¿qué combinaciones de variables categóricas podrían darme información útil acerca de la distribución de mis datos? ¿qué combinaciones de una variable numérica con una variable categórica podrían ser interesantes?\n",
        "* Utiliza tablas de contingencia y múltiples gráficas en la misma figure para explorar combinaciones de variables categóricas.\n",
        "* Utiliza boxplots y violinplots para explorar combinaciones de variables numéricas con variables categóricas.\n",
        "* De preferencia ve registrando por escrito (ahí mismo en tu Notebook) todos tus hallazgos. Describe qué vas descubriendo y qué podría significar."
      ],
      "metadata": {
        "id": "V7EfeL3yEmYx"
      }
    },
    {
      "cell_type": "markdown",
      "source": [
        "Identifica todas las variables categóricas en tu dataset."
      ],
      "metadata": {
        "id": "RUv_2yB-ABy4"
      }
    },
    {
      "cell_type": "code",
      "source": [
        "df.info()"
      ],
      "metadata": {
        "colab": {
          "base_uri": "https://localhost:8080/"
        },
        "id": "kFGYnZRMACiM",
        "outputId": "fa150ec2-465c-4401-e30d-8069a3d80bfc"
      },
      "execution_count": 71,
      "outputs": [
        {
          "output_type": "stream",
          "name": "stdout",
          "text": [
            "<class 'pandas.core.frame.DataFrame'>\n",
            "Int64Index: 23539 entries, 0 to 27819\n",
            "Data columns (total 7 columns):\n",
            " #   Column          Non-Null Count  Dtype \n",
            "---  ------          --------------  ----- \n",
            " 0   pais            23539 non-null  object\n",
            " 1   año             23539 non-null  int64 \n",
            " 2   sexo            23539 non-null  object\n",
            " 3   edad            23539 non-null  object\n",
            " 4   no_suicidios    23539 non-null  int64 \n",
            " 5   pib_per_capita  23539 non-null  int64 \n",
            " 6   generacion      23539 non-null  object\n",
            "dtypes: int64(3), object(4)\n",
            "memory usage: 1.4+ MB\n"
          ]
        }
      ]
    },
    {
      "cell_type": "markdown",
      "source": [
        "Nuestras variables categóricas son:\n",
        "* pais\n",
        "* sexo\n",
        "* edad\n",
        "* generación"
      ],
      "metadata": {
        "id": "_XwAwyI0AN18"
      }
    },
    {
      "cell_type": "markdown",
      "source": [
        "### Grafica de barras"
      ],
      "metadata": {
        "id": "banYbLNqAdFd"
      }
    },
    {
      "cell_type": "markdown",
      "source": [
        "#### Pais (Lesly)"
      ],
      "metadata": {
        "id": "gh551L0kAhWL"
      }
    },
    {
      "cell_type": "code",
      "source": [
        "sns.set_style('white')"
      ],
      "metadata": {
        "id": "A50tyR0FA3x0"
      },
      "execution_count": 72,
      "outputs": []
    },
    {
      "cell_type": "code",
      "source": [
        "df['pais'].unique()"
      ],
      "metadata": {
        "id": "pnVLhBU7AjG5",
        "colab": {
          "base_uri": "https://localhost:8080/"
        },
        "outputId": "ae77a746-75de-4b18-92d5-f3a8aec1011d"
      },
      "execution_count": 73,
      "outputs": [
        {
          "output_type": "execute_result",
          "data": {
            "text/plain": [
              "array(['Albania', 'Antigua and Barbuda', 'Argentina', 'Armenia', 'Aruba',\n",
              "       'Australia', 'Austria', 'Azerbaijan', 'Bahamas', 'Bahrain',\n",
              "       'Barbados', 'Belarus', 'Belgium', 'Belize',\n",
              "       'Bosnia and Herzegovina', 'Brazil', 'Bulgaria', 'Cabo Verde',\n",
              "       'Canada', 'Chile', 'Colombia', 'Costa Rica', 'Croatia', 'Cuba',\n",
              "       'Cyprus', 'Czech Republic', 'Denmark', 'Ecuador', 'El Salvador',\n",
              "       'Estonia', 'Fiji', 'Finland', 'France', 'Georgia', 'Germany',\n",
              "       'Greece', 'Grenada', 'Guatemala', 'Guyana', 'Hungary', 'Iceland',\n",
              "       'Ireland', 'Israel', 'Italy', 'Jamaica', 'Japan', 'Kazakhstan',\n",
              "       'Kiribati', 'Kuwait', 'Kyrgyzstan', 'Latvia', 'Lithuania',\n",
              "       'Luxembourg', 'Macau', 'Maldives', 'Malta', 'Mauritius', 'Mexico',\n",
              "       'Mongolia', 'Montenegro', 'Netherlands', 'New Zealand',\n",
              "       'Nicaragua', 'Norway', 'Oman', 'Panama', 'Paraguay', 'Philippines',\n",
              "       'Poland', 'Portugal', 'Puerto Rico', 'Qatar', 'Republic of Korea',\n",
              "       'Romania', 'Russian Federation', 'Saint Lucia',\n",
              "       'Saint Vincent and Grenadines', 'San Marino', 'Serbia',\n",
              "       'Seychelles', 'Singapore', 'Slovakia', 'Slovenia', 'South Africa',\n",
              "       'Spain', 'Sri Lanka', 'Suriname', 'Sweden', 'Switzerland',\n",
              "       'Thailand', 'Trinidad and Tobago', 'Turkey', 'Turkmenistan',\n",
              "       'Ukraine', 'United Arab Emirates', 'United Kingdom',\n",
              "       'United States', 'Uruguay', 'Uzbekistan'], dtype=object)"
            ]
          },
          "metadata": {},
          "execution_count": 73
        }
      ]
    },
    {
      "cell_type": "code",
      "source": [
        "counts = df['pais'].value_counts()\n",
        "print(counts)"
      ],
      "metadata": {
        "id": "PRT1LQvaG3Y6",
        "colab": {
          "base_uri": "https://localhost:8080/"
        },
        "outputId": "29be6c97-4df8-4e9a-b9d2-94b6fcf00659"
      },
      "execution_count": 74,
      "outputs": [
        {
          "output_type": "stream",
          "name": "stdout",
          "text": [
            "Netherlands            378\n",
            "Austria                373\n",
            "Ecuador                372\n",
            "Argentina              372\n",
            "United States          372\n",
            "                      ... \n",
            "Mongolia                10\n",
            "Antigua and Barbuda     10\n",
            "Cabo Verde               9\n",
            "Macau                    9\n",
            "San Marino               4\n",
            "Name: pais, Length: 99, dtype: int64\n"
          ]
        }
      ]
    },
    {
      "cell_type": "code",
      "source": [
        "# Calcular la frecuencia de cada valor único\n",
        "counts = df['pais'].value_counts()\n",
        "print(counts)"
      ],
      "metadata": {
        "id": "vKtcHMA5HBgl",
        "colab": {
          "base_uri": "https://localhost:8080/"
        },
        "outputId": "7cd73688-5575-431f-d2d1-188455dcea3d"
      },
      "execution_count": 75,
      "outputs": [
        {
          "output_type": "stream",
          "name": "stdout",
          "text": [
            "Netherlands            378\n",
            "Austria                373\n",
            "Ecuador                372\n",
            "Argentina              372\n",
            "United States          372\n",
            "                      ... \n",
            "Mongolia                10\n",
            "Antigua and Barbuda     10\n",
            "Cabo Verde               9\n",
            "Macau                    9\n",
            "San Marino               4\n",
            "Name: pais, Length: 99, dtype: int64\n"
          ]
        }
      ]
    },
    {
      "cell_type": "code",
      "source": [
        "# Crear un gráfico de barras con Seaborn\n",
        "ax = sns.barplot(x=counts.index, y=counts.values)\n",
        "\n",
        "# Configurar el título y las etiquetas\n",
        "fig = plt.figure(figsize= (6,6))\n",
        "ax = sns.distplot(df['pais'], kde=False, norm_hist=False)\n",
        "ax.set(title='conteo de suicidio por pais', xlabel='edad', ylabel='conteo');"
      ],
      "metadata": {
        "id": "8cAYK9tDL7du",
        "colab": {
          "base_uri": "https://localhost:8080/",
          "height": 1000
        },
        "outputId": "db813b23-f5b7-4b9c-b0f6-1ad5cf803f9b"
      },
      "execution_count": 76,
      "outputs": [
        {
          "output_type": "stream",
          "name": "stderr",
          "text": [
            "<ipython-input-76-de17bfc158fe>:6: UserWarning: \n",
            "\n",
            "`distplot` is a deprecated function and will be removed in seaborn v0.14.0.\n",
            "\n",
            "Please adapt your code to use either `displot` (a figure-level function with\n",
            "similar flexibility) or `histplot` (an axes-level function for histograms).\n",
            "\n",
            "For a guide to updating your code to use the new functions, please see\n",
            "https://gist.github.com/mwaskom/de44147ed2974457ad6372750bbe5751\n",
            "\n",
            "  ax = sns.distplot(df['pais'], kde=False, norm_hist=False)\n"
          ]
        },
        {
          "output_type": "error",
          "ename": "ValueError",
          "evalue": "could not convert string to float: 'Albania'",
          "traceback": [
            "\u001b[0;31m---------------------------------------------------------------------------\u001b[0m",
            "\u001b[0;31mValueError\u001b[0m                                Traceback (most recent call last)",
            "\u001b[0;32m<ipython-input-76-de17bfc158fe>\u001b[0m in \u001b[0;36m<cell line: 6>\u001b[0;34m()\u001b[0m\n\u001b[1;32m      4\u001b[0m \u001b[0;31m# Configurar el título y las etiquetas\u001b[0m\u001b[0;34m\u001b[0m\u001b[0;34m\u001b[0m\u001b[0m\n\u001b[1;32m      5\u001b[0m \u001b[0mfig\u001b[0m \u001b[0;34m=\u001b[0m \u001b[0mplt\u001b[0m\u001b[0;34m.\u001b[0m\u001b[0mfigure\u001b[0m\u001b[0;34m(\u001b[0m\u001b[0mfigsize\u001b[0m\u001b[0;34m=\u001b[0m \u001b[0;34m(\u001b[0m\u001b[0;36m6\u001b[0m\u001b[0;34m,\u001b[0m\u001b[0;36m6\u001b[0m\u001b[0;34m)\u001b[0m\u001b[0;34m)\u001b[0m\u001b[0;34m\u001b[0m\u001b[0;34m\u001b[0m\u001b[0m\n\u001b[0;32m----> 6\u001b[0;31m \u001b[0max\u001b[0m \u001b[0;34m=\u001b[0m \u001b[0msns\u001b[0m\u001b[0;34m.\u001b[0m\u001b[0mdistplot\u001b[0m\u001b[0;34m(\u001b[0m\u001b[0mdf\u001b[0m\u001b[0;34m[\u001b[0m\u001b[0;34m'pais'\u001b[0m\u001b[0;34m]\u001b[0m\u001b[0;34m,\u001b[0m \u001b[0mkde\u001b[0m\u001b[0;34m=\u001b[0m\u001b[0;32mFalse\u001b[0m\u001b[0;34m,\u001b[0m \u001b[0mnorm_hist\u001b[0m\u001b[0;34m=\u001b[0m\u001b[0;32mFalse\u001b[0m\u001b[0;34m)\u001b[0m\u001b[0;34m\u001b[0m\u001b[0;34m\u001b[0m\u001b[0m\n\u001b[0m\u001b[1;32m      7\u001b[0m \u001b[0max\u001b[0m\u001b[0;34m.\u001b[0m\u001b[0mset\u001b[0m\u001b[0;34m(\u001b[0m\u001b[0mtitle\u001b[0m\u001b[0;34m=\u001b[0m\u001b[0;34m'conteo de suicidio por pais'\u001b[0m\u001b[0;34m,\u001b[0m \u001b[0mxlabel\u001b[0m\u001b[0;34m=\u001b[0m\u001b[0;34m'edad'\u001b[0m\u001b[0;34m,\u001b[0m \u001b[0mylabel\u001b[0m\u001b[0;34m=\u001b[0m\u001b[0;34m'conteo'\u001b[0m\u001b[0;34m)\u001b[0m\u001b[0;34m;\u001b[0m\u001b[0;34m\u001b[0m\u001b[0;34m\u001b[0m\u001b[0m\n",
            "\u001b[0;32m/usr/local/lib/python3.10/dist-packages/seaborn/distributions.py\u001b[0m in \u001b[0;36mdistplot\u001b[0;34m(a, bins, hist, kde, rug, fit, hist_kws, kde_kws, rug_kws, fit_kws, color, vertical, norm_hist, axlabel, label, ax, x)\u001b[0m\n\u001b[1;32m   2441\u001b[0m \u001b[0;34m\u001b[0m\u001b[0m\n\u001b[1;32m   2442\u001b[0m     \u001b[0;31m# Make a a 1-d float array\u001b[0m\u001b[0;34m\u001b[0m\u001b[0;34m\u001b[0m\u001b[0m\n\u001b[0;32m-> 2443\u001b[0;31m     \u001b[0ma\u001b[0m \u001b[0;34m=\u001b[0m \u001b[0mnp\u001b[0m\u001b[0;34m.\u001b[0m\u001b[0masarray\u001b[0m\u001b[0;34m(\u001b[0m\u001b[0ma\u001b[0m\u001b[0;34m,\u001b[0m \u001b[0mfloat\u001b[0m\u001b[0;34m)\u001b[0m\u001b[0;34m\u001b[0m\u001b[0;34m\u001b[0m\u001b[0m\n\u001b[0m\u001b[1;32m   2444\u001b[0m     \u001b[0;32mif\u001b[0m \u001b[0ma\u001b[0m\u001b[0;34m.\u001b[0m\u001b[0mndim\u001b[0m \u001b[0;34m>\u001b[0m \u001b[0;36m1\u001b[0m\u001b[0;34m:\u001b[0m\u001b[0;34m\u001b[0m\u001b[0;34m\u001b[0m\u001b[0m\n\u001b[1;32m   2445\u001b[0m         \u001b[0ma\u001b[0m \u001b[0;34m=\u001b[0m \u001b[0ma\u001b[0m\u001b[0;34m.\u001b[0m\u001b[0msqueeze\u001b[0m\u001b[0;34m(\u001b[0m\u001b[0;34m)\u001b[0m\u001b[0;34m\u001b[0m\u001b[0;34m\u001b[0m\u001b[0m\n",
            "\u001b[0;32m/usr/local/lib/python3.10/dist-packages/pandas/core/series.py\u001b[0m in \u001b[0;36m__array__\u001b[0;34m(self, dtype)\u001b[0m\n\u001b[1;32m    891\u001b[0m               dtype='datetime64[ns]')\n\u001b[1;32m    892\u001b[0m         \"\"\"\n\u001b[0;32m--> 893\u001b[0;31m         \u001b[0;32mreturn\u001b[0m \u001b[0mnp\u001b[0m\u001b[0;34m.\u001b[0m\u001b[0masarray\u001b[0m\u001b[0;34m(\u001b[0m\u001b[0mself\u001b[0m\u001b[0;34m.\u001b[0m\u001b[0m_values\u001b[0m\u001b[0;34m,\u001b[0m \u001b[0mdtype\u001b[0m\u001b[0;34m)\u001b[0m\u001b[0;34m\u001b[0m\u001b[0;34m\u001b[0m\u001b[0m\n\u001b[0m\u001b[1;32m    894\u001b[0m \u001b[0;34m\u001b[0m\u001b[0m\n\u001b[1;32m    895\u001b[0m     \u001b[0;31m# ----------------------------------------------------------------------\u001b[0m\u001b[0;34m\u001b[0m\u001b[0;34m\u001b[0m\u001b[0m\n",
            "\u001b[0;31mValueError\u001b[0m: could not convert string to float: 'Albania'"
          ]
        },
        {
          "output_type": "display_data",
          "data": {
            "text/plain": [
              "<Figure size 640x480 with 1 Axes>"
            ],
            "image/png": "[encoded data removed]"
          },
          "metadata": {}
        },
        {
          "output_type": "display_data",
          "data": {
            "text/plain": [
              "<Figure size 600x600 with 1 Axes>"
            ],
            "image/png": "[encoded data removed]"
          },
          "metadata": {}
        }
      ]
    },
    {
      "cell_type": "markdown",
      "source": [
        "#### Sexo (Miriam)"
      ],
      "metadata": {
        "id": "LkUEsFGXAjru"
      }
    },
    {
      "cell_type": "code",
      "source": [
        "sns.set_style('white')"
      ],
      "metadata": {
        "id": "64_4I3rkA6Kr"
      },
      "execution_count": 79,
      "outputs": []
    },
    {
      "cell_type": "code",
      "source": [
        "df['sexo'].unique()"
      ],
      "metadata": {
        "id": "d_RyRtfZAmbT",
        "outputId": "37695122-2fa2-4a9d-a9b1-be71fd1364f1",
        "colab": {
          "base_uri": "https://localhost:8080/"
        }
      },
      "execution_count": 80,
      "outputs": [
        {
          "output_type": "execute_result",
          "data": {
            "text/plain": [
              "array(['M', 'F'], dtype=object)"
            ]
          },
          "metadata": {},
          "execution_count": 80
        }
      ]
    },
    {
      "cell_type": "code",
      "source": [
        "counts = df['sexo'].value_counts()\n",
        "print(counts)"
      ],
      "metadata": {
        "id": "YdRm4nD9FNaI",
        "outputId": "7011b2c4-5a71-4187-d712-c6e386c1fb1f",
        "colab": {
          "base_uri": "https://localhost:8080/"
        }
      },
      "execution_count": 81,
      "outputs": [
        {
          "output_type": "stream",
          "name": "stdout",
          "text": [
            "M    12286\n",
            "F    11253\n",
            "Name: sexo, dtype: int64\n"
          ]
        }
      ]
    },
    {
      "cell_type": "code",
      "source": [
        "#Cambio de conteos a porcentajes\n",
        "as_percentages = (counts * 100) / counts.sum() # Funcion vectorizada, Funcion de Agregacion.\n",
        "print(as_percentages)"
      ],
      "metadata": {
        "id": "4d5CkVWqKAfX",
        "colab": {
          "base_uri": "https://localhost:8080/"
        },
        "outputId": "ad2de9e9-9fba-4636-c17b-ca9ba74584e2"
      },
      "execution_count": 82,
      "outputs": [
        {
          "output_type": "stream",
          "name": "stdout",
          "text": [
            "M    52.194231\n",
            "F    47.805769\n",
            "Name: sexo, dtype: float64\n"
          ]
        }
      ]
    },
    {
      "cell_type": "code",
      "source": [
        " #Crear un gráfico de barras con Seaborn\n",
        "ax = sns.barplot(x=as_percentages.index, y=as_percentages.values, hue=as_percentages.index, palette='viridis')\n",
        "\n",
        "# Configurar el título y las etiquetas\n",
        "ax.set_title('Porcentaje de suicidio por sexo')\n",
        "ax.set(xlabel= \"sexo\", ylabel='%')\n",
        "\n",
        "# Mostrar el gráfico\n",
        "plt.show()"
      ],
      "metadata": {
        "colab": {
          "base_uri": "https://localhost:8080/",
          "height": 480
        },
        "id": "A77hh9aWIrGt",
        "outputId": "ebc470db-55e8-4005-9e68-bf0b2e0b1a43"
      },
      "execution_count": 83,
      "outputs": [
        {
          "output_type": "display_data",
          "data": {
            "text/plain": [
              "<Figure size 640x480 with 1 Axes>"
            ],
            "image/png": "[encoded data removed]"
          },
          "metadata": {}
        }
      ]
    },
    {
      "cell_type": "markdown",
      "source": [
        "#### edad (Gisell)"
      ],
      "metadata": {
        "id": "d6YwuqSUAm9P"
      }
    },
    {
      "cell_type": "code",
      "source": [
        "sns.set_style('white')"
      ],
      "metadata": {
        "id": "4m5pkt7mBHz6"
      },
      "execution_count": 84,
      "outputs": []
    },
    {
      "cell_type": "markdown",
      "source": [
        "Identificamos los valores únicos de los datos que tenemos en la columna de edades"
      ],
      "metadata": {
        "id": "V5SewjoKEQIL"
      }
    },
    {
      "cell_type": "code",
      "source": [
        "df['edad'].unique()"
      ],
      "metadata": {
        "colab": {
          "base_uri": "https://localhost:8080/"
        },
        "id": "lLeZg8e2AqUD",
        "outputId": "386136ff-b2bf-46aa-9dba-0de5712ecf0c"
      },
      "execution_count": 85,
      "outputs": [
        {
          "output_type": "execute_result",
          "data": {
            "text/plain": [
              "array(['15-24', '35-54', '75+', '25-34', '55-74', '5-14'], dtype=object)"
            ]
          },
          "metadata": {},
          "execution_count": 85
        }
      ]
    },
    {
      "cell_type": "markdown",
      "source": [
        "Luego, calculamos la frecuencia de cada valor único de la columna de edades"
      ],
      "metadata": {
        "id": "h8LZmxpPEa5R"
      }
    },
    {
      "cell_type": "code",
      "source": [
        "# Calcular la frecuencia de cada valor único\n",
        "counts = df['edad'].value_counts()\n",
        "print(counts)"
      ],
      "metadata": {
        "colab": {
          "base_uri": "https://localhost:8080/"
        },
        "id": "LYe5sIvwDE3z",
        "outputId": "e40a8e3a-de58-4565-d890-7d839de6c660"
      },
      "execution_count": 86,
      "outputs": [
        {
          "output_type": "stream",
          "name": "stdout",
          "text": [
            "35-54    4272\n",
            "25-34    4191\n",
            "15-24    4131\n",
            "55-74    4083\n",
            "75+      3720\n",
            "5-14     3142\n",
            "Name: edad, dtype: int64\n"
          ]
        }
      ]
    },
    {
      "cell_type": "code",
      "source": [
        "# Crear un gráfico de barras con Seaborn\n",
        "ax = sns.barplot(x=counts.index, y=counts.values)\n",
        "\n",
        "# Configurar el título y las etiquetas\n",
        "ax.set_title('Conteo de rango de edades')\n",
        "ax.set(xlabel= \"Rango de edades\", ylabel='Conteo')\n",
        "\n",
        "# Mostrar el gráfico\n",
        "plt.show()"
      ],
      "metadata": {
        "colab": {
          "base_uri": "https://localhost:8080/",
          "height": 480
        },
        "id": "i3lpjPZLDWJa",
        "outputId": "f0f46ef1-56b9-4362-abc2-c34a3aa2a24f"
      },
      "execution_count": 87,
      "outputs": [
        {
          "output_type": "display_data",
          "data": {
            "text/plain": [
              "<Figure size 640x480 with 1 Axes>"
            ],
            "image/png": "[encoded data removed]"
          },
          "metadata": {}
        }
      ]
    },
    {
      "cell_type": "markdown",
      "source": [
        "#### generación"
      ],
      "metadata": {
        "id": "eeI4fQF4Aq07"
      }
    },
    {
      "cell_type": "code",
      "source": [
        "df['generacion'].unique()"
      ],
      "metadata": {
        "colab": {
          "base_uri": "https://localhost:8080/"
        },
        "id": "vzhe4H6BBnby",
        "outputId": "ea4cfd52-669d-4e9e-93bd-bd1768fa5938"
      },
      "execution_count": 88,
      "outputs": [
        {
          "output_type": "execute_result",
          "data": {
            "text/plain": [
              "array([' X', 'Silent', 'G.I. ', 'Boomers', 'Millenials', ' Z'],\n",
              "      dtype=object)"
            ]
          },
          "metadata": {},
          "execution_count": 88
        }
      ]
    },
    {
      "cell_type": "code",
      "source": [
        "# Calcular la frecuencia de cada valor único\n",
        "counts = df['generacion'].value_counts()\n",
        "print(counts)"
      ],
      "metadata": {
        "id": "cKkCjXPeE0ER",
        "colab": {
          "base_uri": "https://localhost:8080/"
        },
        "outputId": "5b8df57d-c19b-4b9a-8810-8b0f17ea02c4"
      },
      "execution_count": 89,
      "outputs": [
        {
          "output_type": "stream",
          "name": "stdout",
          "text": [
            " X            5638\n",
            "Silent        5382\n",
            "Millenials    4716\n",
            "Boomers       4568\n",
            "G.I.          2251\n",
            " Z             984\n",
            "Name: generacion, dtype: int64\n"
          ]
        }
      ]
    },
    {
      "cell_type": "code",
      "source": [
        "# Crear un gráfico de barras con Seaborn\n",
        "ax = sns.barplot(x=counts.index, y=counts.values)\n",
        "\n",
        "# Configurar el título y las etiquetas\n",
        "ax.set_title('Conteo de generaciones')\n",
        "ax.set(xlabel= \"generaciones\", ylabel='Conteo')\n",
        "\n",
        "# Mostrar el gráfico\n",
        "plt.show()"
      ],
      "metadata": {
        "id": "56EAWD9SAMct",
        "colab": {
          "base_uri": "https://localhost:8080/",
          "height": 480
        },
        "outputId": "649ae41b-dba3-430f-f41d-9108fa877dea"
      },
      "execution_count": 90,
      "outputs": [
        {
          "output_type": "display_data",
          "data": {
            "text/plain": [
              "<Figure size 640x480 with 1 Axes>"
            ],
            "image/png": "[encoded data removed]"
          },
          "metadata": {}
        }
      ]
    },
    {
      "cell_type": "markdown",
      "source": [
        "Planea tu análisis multivariable: ¿qué combinaciones de variables categóricas podrían darme información útil acerca de la distribución de mis datos?"
      ],
      "metadata": {
        "id": "wqn1FutGBaCI"
      }
    },
    {
      "cell_type": "markdown",
      "source": [
        "Las combinaciones de variables que nos darían inforamión sería:\n",
        "* sexo - rango de edades\n",
        "* sexo - generación\n",
        "* rango de edades - generación\n",
        "\n",
        "Realizar tablas de contingencia y múltiples gráficas"
      ],
      "metadata": {
        "id": "dhwQeAmQLC1n"
      }
    },
    {
      "cell_type": "markdown",
      "source": [
        "#### sexo - rango de edades (Lesly)"
      ],
      "metadata": {
        "id": "Z9h48-0HOb_3"
      }
    },
    {
      "cell_type": "code",
      "source": [
        "pd.crosstab(df['sexo'], df['edad'], margins=True, margins_name='total')"
      ],
      "metadata": {
        "id": "l9rEBRaGPDHC",
        "colab": {
          "base_uri": "https://localhost:8080/",
          "height": 175
        },
        "outputId": "5a4e190a-6aa1-42a4-d1da-5ea97a768fc7"
      },
      "execution_count": 91,
      "outputs": [
        {
          "output_type": "execute_result",
          "data": {
            "text/plain": [
              "edad   15-24  25-34  35-54  5-14  55-74   75+  total\n",
              "sexo                                                \n",
              "F       1987   2025   2052  1463   1964  1762  11253\n",
              "M       2144   2166   2220  1679   2119  1958  12286\n",
              "total   4131   4191   4272  3142   4083  3720  23539"
            ],
            "text/html": [
              "\n",
              "  <div id=\"df-754c48c0-475f-42b3-b17e-21a3048f8eb7\" class=\"colab-df-container\">\n",
              "    <div>\n",
              "<style scoped>\n",
              "    .dataframe tbody tr th:only-of-type {\n",
              "        vertical-align: middle;\n",
              "    }\n",
              "\n",
              "    .dataframe tbody tr th {\n",
              "        vertical-align: top;\n",
              "    }\n",
              "\n",
              "    .dataframe thead th {\n",
              "        text-align: right;\n",
              "    }\n",
              "</style>\n",
              "<table border=\"1\" class=\"dataframe\">\n",
              "  <thead>\n",
              "    <tr style=\"text-align: right;\">\n",
              "      <th>edad</th>\n",
              "      <th>15-24</th>\n",
              "      <th>25-34</th>\n",
              "      <th>35-54</th>\n",
              "      <th>5-14</th>\n",
              "      <th>55-74</th>\n",
              "      <th>75+</th>\n",
              "      <th>total</th>\n",
              "    </tr>\n",
              "    <tr>\n",
              "      <th>sexo</th>\n",
              "      <th></th>\n",
              "      <th></th>\n",
              "      <th></th>\n",
              "      <th></th>\n",
              "      <th></th>\n",
              "      <th></th>\n",
              "      <th></th>\n",
              "    </tr>\n",
              "  </thead>\n",
              "  <tbody>\n",
              "    <tr>\n",
              "      <th>F</th>\n",
              "      <td>1987</td>\n",
              "      <td>2025</td>\n",
              "      <td>2052</td>\n",
              "      <td>1463</td>\n",
              "      <td>1964</td>\n",
              "      <td>1762</td>\n",
              "      <td>11253</td>\n",
              "    </tr>\n",
              "    <tr>\n",
              "      <th>M</th>\n",
              "      <td>2144</td>\n",
              "      <td>2166</td>\n",
              "      <td>2220</td>\n",
              "      <td>1679</td>\n",
              "      <td>2119</td>\n",
              "      <td>1958</td>\n",
              "      <td>12286</td>\n",
              "    </tr>\n",
              "    <tr>\n",
              "      <th>total</th>\n",
              "      <td>4131</td>\n",
              "      <td>4191</td>\n",
              "      <td>4272</td>\n",
              "      <td>3142</td>\n",
              "      <td>4083</td>\n",
              "      <td>3720</td>\n",
              "      <td>23539</td>\n",
              "    </tr>\n",
              "  </tbody>\n",
              "</table>\n",
              "</div>\n",
              "    <div class=\"colab-df-buttons\">\n",
              "\n",
              "  <div class=\"colab-df-container\">\n",
              "    <button class=\"colab-df-convert\" onclick=\"convertToInteractive('df-754c48c0-475f-42b3-b17e-21a3048f8eb7')\"\n",
              "            title=\"Convert this dataframe to an interactive table.\"\n",
              "            style=\"display:none;\">\n",
              "\n",
              "  <svg xmlns=\"http://www.w3.org/2000/svg\" height=\"24px\" viewBox=\"0 -960 960 960\">\n",
              "    <path d=\"M120-120v-720h720v720H120Zm60-500h600v-160H180v160Zm220 220h160v-160H400v160Zm0 220h160v-160H400v160ZM180-400h160v-160H180v160Zm440 0h160v-160H620v160ZM180-180h160v-160H180v160Zm440 0h160v-160H620v160Z\"/>\n",
              "  </svg>\n",
              "    </button>\n",
              "\n",
              "  <style>\n",
              "    .colab-df-container {\n",
              "      display:flex;\n",
              "      gap: 12px;\n",
              "    }\n",
              "\n",
              "    .colab-df-convert {\n",
              "      background-color: #E8F0FE;\n",
              "      border: none;\n",
              "      border-radius: 50%;\n",
              "      cursor: pointer;\n",
              "      display: none;\n",
              "      fill: #1967D2;\n",
              "      height: 32px;\n",
              "      padding: 0 0 0 0;\n",
              "      width: 32px;\n",
              "    }\n",
              "\n",
              "    .colab-df-convert:hover {\n",
              "      background-color: #E2EBFA;\n",
              "      box-shadow: 0px 1px 2px rgba(60, 64, 67, 0.3), 0px 1px 3px 1px rgba(60, 64, 67, 0.15);\n",
              "      fill: #174EA6;\n",
              "    }\n",
              "\n",
              "    .colab-df-buttons div {\n",
              "      margin-bottom: 4px;\n",
              "    }\n",
              "\n",
              "    [theme=dark] .colab-df-convert {\n",
              "      background-color: #3B4455;\n",
              "      fill: #D2E3FC;\n",
              "    }\n",
              "\n",
              "    [theme=dark] .colab-df-convert:hover {\n",
              "      background-color: #434B5C;\n",
              "      box-shadow: 0px 1px 3px 1px rgba(0, 0, 0, 0.15);\n",
              "      filter: drop-shadow(0px 1px 2px rgba(0, 0, 0, 0.3));\n",
              "      fill: #FFFFFF;\n",
              "    }\n",
              "  </style>\n",
              "\n",
              "    <script>\n",
              "      const buttonEl =\n",
              "        document.querySelector('#df-754c48c0-475f-42b3-b17e-21a3048f8eb7 button.colab-df-convert');\n",
              "      buttonEl.style.display =\n",
              "        google.colab.kernel.accessAllowed ? 'block' : 'none';\n",
              "\n",
              "      async function convertToInteractive(key) {\n",
              "        const element = document.querySelector('#df-754c48c0-475f-42b3-b17e-21a3048f8eb7');\n",
              "        const dataTable =\n",
              "          await google.colab.kernel.invokeFunction('convertToInteractive',\n",
              "                                                    [key], {});\n",
              "        if (!dataTable) return;\n",
              "\n",
              "        const docLinkHtml = 'Like what you see? Visit the ' +\n",
              "          '<a target=\"_blank\" href=https://colab.research.google.com/notebooks/data_table.ipynb>data table notebook</a>'\n",
              "          + ' to learn more about interactive tables.';\n",
              "        element.innerHTML = '';\n",
              "        dataTable['output_type'] = 'display_data';\n",
              "        await google.colab.output.renderOutput(dataTable, element);\n",
              "        const docLink = document.createElement('div');\n",
              "        docLink.innerHTML = docLinkHtml;\n",
              "        element.appendChild(docLink);\n",
              "      }\n",
              "    </script>\n",
              "  </div>\n",
              "\n",
              "\n",
              "<div id=\"df-9fe41725-009b-4c44-833e-8de0a81ec496\">\n",
              "  <button class=\"colab-df-quickchart\" onclick=\"quickchart('df-9fe41725-009b-4c44-833e-8de0a81ec496')\"\n",
              "            title=\"Suggest charts\"\n",
              "            style=\"display:none;\">\n",
              "\n",
              "<svg xmlns=\"http://www.w3.org/2000/svg\" height=\"24px\"viewBox=\"0 0 24 24\"\n",
              "     width=\"24px\">\n",
              "    <g>\n",
              "        <path d=\"M19 3H5c-1.1 0-2 .9-2 2v14c0 1.1.9 2 2 2h14c1.1 0 2-.9 2-2V5c0-1.1-.9-2-2-2zM9 17H7v-7h2v7zm4 0h-2V7h2v10zm4 0h-2v-4h2v4z\"/>\n",
              "    </g>\n",
              "</svg>\n",
              "  </button>\n",
              "\n",
              "<style>\n",
              "  .colab-df-quickchart {\n",
              "      --bg-color: #E8F0FE;\n",
              "      --fill-color: #1967D2;\n",
              "      --hover-bg-color: #E2EBFA;\n",
              "      --hover-fill-color: #174EA6;\n",
              "      --disabled-fill-color: #AAA;\n",
              "      --disabled-bg-color: #DDD;\n",
              "  }\n",
              "\n",
              "  [theme=dark] .colab-df-quickchart {\n",
              "      --bg-color: #3B4455;\n",
              "      --fill-color: #D2E3FC;\n",
              "      --hover-bg-color: #434B5C;\n",
              "      --hover-fill-color: #FFFFFF;\n",
              "      --disabled-bg-color: #3B4455;\n",
              "      --disabled-fill-color: #666;\n",
              "  }\n",
              "\n",
              "  .colab-df-quickchart {\n",
              "    background-color: var(--bg-color);\n",
              "    border: none;\n",
              "    border-radius: 50%;\n",
              "    cursor: pointer;\n",
              "    display: none;\n",
              "    fill: var(--fill-color);\n",
              "    height: 32px;\n",
              "    padding: 0;\n",
              "    width: 32px;\n",
              "  }\n",
              "\n",
              "  .colab-df-quickchart:hover {\n",
              "    background-color: var(--hover-bg-color);\n",
              "    box-shadow: 0 1px 2px rgba(60, 64, 67, 0.3), 0 1px 3px 1px rgba(60, 64, 67, 0.15);\n",
              "    fill: var(--button-hover-fill-color);\n",
              "  }\n",
              "\n",
              "  .colab-df-quickchart-complete:disabled,\n",
              "  .colab-df-quickchart-complete:disabled:hover {\n",
              "    background-color: var(--disabled-bg-color);\n",
              "    fill: var(--disabled-fill-color);\n",
              "    box-shadow: none;\n",
              "  }\n",
              "\n",
              "  .colab-df-spinner {\n",
              "    border: 2px solid var(--fill-color);\n",
              "    border-color: transparent;\n",
              "    border-bottom-color: var(--fill-color);\n",
              "    animation:\n",
              "      spin 1s steps(1) infinite;\n",
              "  }\n",
              "\n",
              "  @keyframes spin {\n",
              "    0% {\n",
              "      border-color: transparent;\n",
              "      border-bottom-color: var(--fill-color);\n",
              "      border-left-color: var(--fill-color);\n",
              "    }\n",
              "    20% {\n",
              "      border-color: transparent;\n",
              "      border-left-color: var(--fill-color);\n",
              "      border-top-color: var(--fill-color);\n",
              "    }\n",
              "    30% {\n",
              "      border-color: transparent;\n",
              "      border-left-color: var(--fill-color);\n",
              "      border-top-color: var(--fill-color);\n",
              "      border-right-color: var(--fill-color);\n",
              "    }\n",
              "    40% {\n",
              "      border-color: transparent;\n",
              "      border-right-color: var(--fill-color);\n",
              "      border-top-color: var(--fill-color);\n",
              "    }\n",
              "    60% {\n",
              "      border-color: transparent;\n",
              "      border-right-color: var(--fill-color);\n",
              "    }\n",
              "    80% {\n",
              "      border-color: transparent;\n",
              "      border-right-color: var(--fill-color);\n",
              "      border-bottom-color: var(--fill-color);\n",
              "    }\n",
              "    90% {\n",
              "      border-color: transparent;\n",
              "      border-bottom-color: var(--fill-color);\n",
              "    }\n",
              "  }\n",
              "</style>\n",
              "\n",
              "  <script>\n",
              "    async function quickchart(key) {\n",
              "      const quickchartButtonEl =\n",
              "        document.querySelector('#' + key + ' button');\n",
              "      quickchartButtonEl.disabled = true;  // To prevent multiple clicks.\n",
              "      quickchartButtonEl.classList.add('colab-df-spinner');\n",
              "      try {\n",
              "        const charts = await google.colab.kernel.invokeFunction(\n",
              "            'suggestCharts', [key], {});\n",
              "      } catch (error) {\n",
              "        console.error('Error during call to suggestCharts:', error);\n",
              "      }\n",
              "      quickchartButtonEl.classList.remove('colab-df-spinner');\n",
              "      quickchartButtonEl.classList.add('colab-df-quickchart-complete');\n",
              "    }\n",
              "    (() => {\n",
              "      let quickchartButtonEl =\n",
              "        document.querySelector('#df-9fe41725-009b-4c44-833e-8de0a81ec496 button');\n",
              "      quickchartButtonEl.style.display =\n",
              "        google.colab.kernel.accessAllowed ? 'block' : 'none';\n",
              "    })();\n",
              "  </script>\n",
              "</div>\n",
              "\n",
              "    </div>\n",
              "  </div>\n"
            ]
          },
          "metadata": {},
          "execution_count": 91
        }
      ]
    },
    {
      "cell_type": "code",
      "source": [],
      "metadata": {
        "id": "pX5NocXoOeq0"
      },
      "execution_count": null,
      "outputs": []
    },
    {
      "cell_type": "markdown",
      "source": [
        "#### sexo - generación (Miriam)"
      ],
      "metadata": {
        "id": "SbQEJfy-Oggs"
      }
    },
    {
      "cell_type": "code",
      "source": [
        "pd.crosstab(df['sexo'], df['generacion'],margins=True, margins_name='Total')"
      ],
      "metadata": {
        "id": "jbBkSYNCPF6S",
        "colab": {
          "base_uri": "https://localhost:8080/",
          "height": 175
        },
        "outputId": "65e4d3f1-b5f7-4052-dfaa-8652473a0bef"
      },
      "execution_count": 93,
      "outputs": [
        {
          "output_type": "execute_result",
          "data": {
            "text/plain": [
              "generacion     X    Z  Boomers  G.I.   Millenials  Silent  Total\n",
              "sexo                                                            \n",
              "F           2710  455     2201   1073        2247    2567  11253\n",
              "M           2928  529     2367   1178        2469    2815  12286\n",
              "Total       5638  984     4568   2251        4716    5382  23539"
            ],
            "text/html": [
              "\n",
              "  <div id=\"df-c859b0bf-6bbf-4203-afbb-dc97c4267889\" class=\"colab-df-container\">\n",
              "    <div>\n",
              "<style scoped>\n",
              "    .dataframe tbody tr th:only-of-type {\n",
              "        vertical-align: middle;\n",
              "    }\n",
              "\n",
              "    .dataframe tbody tr th {\n",
              "        vertical-align: top;\n",
              "    }\n",
              "\n",
              "    .dataframe thead th {\n",
              "        text-align: right;\n",
              "    }\n",
              "</style>\n",
              "<table border=\"1\" class=\"dataframe\">\n",
              "  <thead>\n",
              "    <tr style=\"text-align: right;\">\n",
              "      <th>generacion</th>\n",
              "      <th>X</th>\n",
              "      <th>Z</th>\n",
              "      <th>Boomers</th>\n",
              "      <th>G.I.</th>\n",
              "      <th>Millenials</th>\n",
              "      <th>Silent</th>\n",
              "      <th>Total</th>\n",
              "    </tr>\n",
              "    <tr>\n",
              "      <th>sexo</th>\n",
              "      <th></th>\n",
              "      <th></th>\n",
              "      <th></th>\n",
              "      <th></th>\n",
              "      <th></th>\n",
              "      <th></th>\n",
              "      <th></th>\n",
              "    </tr>\n",
              "  </thead>\n",
              "  <tbody>\n",
              "    <tr>\n",
              "      <th>F</th>\n",
              "      <td>2710</td>\n",
              "      <td>455</td>\n",
              "      <td>2201</td>\n",
              "      <td>1073</td>\n",
              "      <td>2247</td>\n",
              "      <td>2567</td>\n",
              "      <td>11253</td>\n",
              "    </tr>\n",
              "    <tr>\n",
              "      <th>M</th>\n",
              "      <td>2928</td>\n",
              "      <td>529</td>\n",
              "      <td>2367</td>\n",
              "      <td>1178</td>\n",
              "      <td>2469</td>\n",
              "      <td>2815</td>\n",
              "      <td>12286</td>\n",
              "    </tr>\n",
              "    <tr>\n",
              "      <th>Total</th>\n",
              "      <td>5638</td>\n",
              "      <td>984</td>\n",
              "      <td>4568</td>\n",
              "      <td>2251</td>\n",
              "      <td>4716</td>\n",
              "      <td>5382</td>\n",
              "      <td>23539</td>\n",
              "    </tr>\n",
              "  </tbody>\n",
              "</table>\n",
              "</div>\n",
              "    <div class=\"colab-df-buttons\">\n",
              "\n",
              "  <div class=\"colab-df-container\">\n",
              "    <button class=\"colab-df-convert\" onclick=\"convertToInteractive('df-c859b0bf-6bbf-4203-afbb-dc97c4267889')\"\n",
              "            title=\"Convert this dataframe to an interactive table.\"\n",
              "            style=\"display:none;\">\n",
              "\n",
              "  <svg xmlns=\"http://www.w3.org/2000/svg\" height=\"24px\" viewBox=\"0 -960 960 960\">\n",
              "    <path d=\"M120-120v-720h720v720H120Zm60-500h600v-160H180v160Zm220 220h160v-160H400v160Zm0 220h160v-160H400v160ZM180-400h160v-160H180v160Zm440 0h160v-160H620v160ZM180-180h160v-160H180v160Zm440 0h160v-160H620v160Z\"/>\n",
              "  </svg>\n",
              "    </button>\n",
              "\n",
              "  <style>\n",
              "    .colab-df-container {\n",
              "      display:flex;\n",
              "      gap: 12px;\n",
              "    }\n",
              "\n",
              "    .colab-df-convert {\n",
              "      background-color: #E8F0FE;\n",
              "      border: none;\n",
              "      border-radius: 50%;\n",
              "      cursor: pointer;\n",
              "      display: none;\n",
              "      fill: #1967D2;\n",
              "      height: 32px;\n",
              "      padding: 0 0 0 0;\n",
              "      width: 32px;\n",
              "    }\n",
              "\n",
              "    .colab-df-convert:hover {\n",
              "      background-color: #E2EBFA;\n",
              "      box-shadow: 0px 1px 2px rgba(60, 64, 67, 0.3), 0px 1px 3px 1px rgba(60, 64, 67, 0.15);\n",
              "      fill: #174EA6;\n",
              "    }\n",
              "\n",
              "    .colab-df-buttons div {\n",
              "      margin-bottom: 4px;\n",
              "    }\n",
              "\n",
              "    [theme=dark] .colab-df-convert {\n",
              "      background-color: #3B4455;\n",
              "      fill: #D2E3FC;\n",
              "    }\n",
              "\n",
              "    [theme=dark] .colab-df-convert:hover {\n",
              "      background-color: #434B5C;\n",
              "      box-shadow: 0px 1px 3px 1px rgba(0, 0, 0, 0.15);\n",
              "      filter: drop-shadow(0px 1px 2px rgba(0, 0, 0, 0.3));\n",
              "      fill: #FFFFFF;\n",
              "    }\n",
              "  </style>\n",
              "\n",
              "    <script>\n",
              "      const buttonEl =\n",
              "        document.querySelector('#df-c859b0bf-6bbf-4203-afbb-dc97c4267889 button.colab-df-convert');\n",
              "      buttonEl.style.display =\n",
              "        google.colab.kernel.accessAllowed ? 'block' : 'none';\n",
              "\n",
              "      async function convertToInteractive(key) {\n",
              "        const element = document.querySelector('#df-c859b0bf-6bbf-4203-afbb-dc97c4267889');\n",
              "        const dataTable =\n",
              "          await google.colab.kernel.invokeFunction('convertToInteractive',\n",
              "                                                    [key], {});\n",
              "        if (!dataTable) return;\n",
              "\n",
              "        const docLinkHtml = 'Like what you see? Visit the ' +\n",
              "          '<a target=\"_blank\" href=https://colab.research.google.com/notebooks/data_table.ipynb>data table notebook</a>'\n",
              "          + ' to learn more about interactive tables.';\n",
              "        element.innerHTML = '';\n",
              "        dataTable['output_type'] = 'display_data';\n",
              "        await google.colab.output.renderOutput(dataTable, element);\n",
              "        const docLink = document.createElement('div');\n",
              "        docLink.innerHTML = docLinkHtml;\n",
              "        element.appendChild(docLink);\n",
              "      }\n",
              "    </script>\n",
              "  </div>\n",
              "\n",
              "\n",
              "<div id=\"df-dcc73166-4cc9-48a2-8952-d91044cae5b7\">\n",
              "  <button class=\"colab-df-quickchart\" onclick=\"quickchart('df-dcc73166-4cc9-48a2-8952-d91044cae5b7')\"\n",
              "            title=\"Suggest charts\"\n",
              "            style=\"display:none;\">\n",
              "\n",
              "<svg xmlns=\"http://www.w3.org/2000/svg\" height=\"24px\"viewBox=\"0 0 24 24\"\n",
              "     width=\"24px\">\n",
              "    <g>\n",
              "        <path d=\"M19 3H5c-1.1 0-2 .9-2 2v14c0 1.1.9 2 2 2h14c1.1 0 2-.9 2-2V5c0-1.1-.9-2-2-2zM9 17H7v-7h2v7zm4 0h-2V7h2v10zm4 0h-2v-4h2v4z\"/>\n",
              "    </g>\n",
              "</svg>\n",
              "  </button>\n",
              "\n",
              "<style>\n",
              "  .colab-df-quickchart {\n",
              "      --bg-color: #E8F0FE;\n",
              "      --fill-color: #1967D2;\n",
              "      --hover-bg-color: #E2EBFA;\n",
              "      --hover-fill-color: #174EA6;\n",
              "      --disabled-fill-color: #AAA;\n",
              "      --disabled-bg-color: #DDD;\n",
              "  }\n",
              "\n",
              "  [theme=dark] .colab-df-quickchart {\n",
              "      --bg-color: #3B4455;\n",
              "      --fill-color: #D2E3FC;\n",
              "      --hover-bg-color: #434B5C;\n",
              "      --hover-fill-color: #FFFFFF;\n",
              "      --disabled-bg-color: #3B4455;\n",
              "      --disabled-fill-color: #666;\n",
              "  }\n",
              "\n",
              "  .colab-df-quickchart {\n",
              "    background-color: var(--bg-color);\n",
              "    border: none;\n",
              "    border-radius: 50%;\n",
              "    cursor: pointer;\n",
              "    display: none;\n",
              "    fill: var(--fill-color);\n",
              "    height: 32px;\n",
              "    padding: 0;\n",
              "    width: 32px;\n",
              "  }\n",
              "\n",
              "  .colab-df-quickchart:hover {\n",
              "    background-color: var(--hover-bg-color);\n",
              "    box-shadow: 0 1px 2px rgba(60, 64, 67, 0.3), 0 1px 3px 1px rgba(60, 64, 67, 0.15);\n",
              "    fill: var(--button-hover-fill-color);\n",
              "  }\n",
              "\n",
              "  .colab-df-quickchart-complete:disabled,\n",
              "  .colab-df-quickchart-complete:disabled:hover {\n",
              "    background-color: var(--disabled-bg-color);\n",
              "    fill: var(--disabled-fill-color);\n",
              "    box-shadow: none;\n",
              "  }\n",
              "\n",
              "  .colab-df-spinner {\n",
              "    border: 2px solid var(--fill-color);\n",
              "    border-color: transparent;\n",
              "    border-bottom-color: var(--fill-color);\n",
              "    animation:\n",
              "      spin 1s steps(1) infinite;\n",
              "  }\n",
              "\n",
              "  @keyframes spin {\n",
              "    0% {\n",
              "      border-color: transparent;\n",
              "      border-bottom-color: var(--fill-color);\n",
              "      border-left-color: var(--fill-color);\n",
              "    }\n",
              "    20% {\n",
              "      border-color: transparent;\n",
              "      border-left-color: var(--fill-color);\n",
              "      border-top-color: var(--fill-color);\n",
              "    }\n",
              "    30% {\n",
              "      border-color: transparent;\n",
              "      border-left-color: var(--fill-color);\n",
              "      border-top-color: var(--fill-color);\n",
              "      border-right-color: var(--fill-color);\n",
              "    }\n",
              "    40% {\n",
              "      border-color: transparent;\n",
              "      border-right-color: var(--fill-color);\n",
              "      border-top-color: var(--fill-color);\n",
              "    }\n",
              "    60% {\n",
              "      border-color: transparent;\n",
              "      border-right-color: var(--fill-color);\n",
              "    }\n",
              "    80% {\n",
              "      border-color: transparent;\n",
              "      border-right-color: var(--fill-color);\n",
              "      border-bottom-color: var(--fill-color);\n",
              "    }\n",
              "    90% {\n",
              "      border-color: transparent;\n",
              "      border-bottom-color: var(--fill-color);\n",
              "    }\n",
              "  }\n",
              "</style>\n",
              "\n",
              "  <script>\n",
              "    async function quickchart(key) {\n",
              "      const quickchartButtonEl =\n",
              "        document.querySelector('#' + key + ' button');\n",
              "      quickchartButtonEl.disabled = true;  // To prevent multiple clicks.\n",
              "      quickchartButtonEl.classList.add('colab-df-spinner');\n",
              "      try {\n",
              "        const charts = await google.colab.kernel.invokeFunction(\n",
              "            'suggestCharts', [key], {});\n",
              "      } catch (error) {\n",
              "        console.error('Error during call to suggestCharts:', error);\n",
              "      }\n",
              "      quickchartButtonEl.classList.remove('colab-df-spinner');\n",
              "      quickchartButtonEl.classList.add('colab-df-quickchart-complete');\n",
              "    }\n",
              "    (() => {\n",
              "      let quickchartButtonEl =\n",
              "        document.querySelector('#df-dcc73166-4cc9-48a2-8952-d91044cae5b7 button');\n",
              "      quickchartButtonEl.style.display =\n",
              "        google.colab.kernel.accessAllowed ? 'block' : 'none';\n",
              "    })();\n",
              "  </script>\n",
              "</div>\n",
              "\n",
              "    </div>\n",
              "  </div>\n"
            ]
          },
          "metadata": {},
          "execution_count": 93
        }
      ]
    },
    {
      "cell_type": "code",
      "source": [],
      "metadata": {
        "id": "htmoBh3bOiFj"
      },
      "execution_count": null,
      "outputs": []
    },
    {
      "cell_type": "markdown",
      "source": [
        "#### rango de edades - generación  (Gisell)"
      ],
      "metadata": {
        "id": "h9sWv_mfOimI"
      }
    },
    {
      "cell_type": "code",
      "source": [
        "# Podemos obtener una columna y una fila con los totales añadiendo la bandera margins y margins_name:\n",
        "crosstab = pd.crosstab(df['edad'], df['generacion'],margins=True, margins_name='Total')\n",
        "crosstab"
      ],
      "metadata": {
        "colab": {
          "base_uri": "https://localhost:8080/",
          "height": 300
        },
        "id": "3vx5LS96QUmW",
        "outputId": "c11bc743-e375-4b97-c962-9c17ee31b697"
      },
      "execution_count": 94,
      "outputs": [
        {
          "output_type": "execute_result",
          "data": {
            "text/plain": [
              "generacion     X    Z  Boomers  G.I.   Millenials  Silent  Total\n",
              "edad                                                            \n",
              "15-24       1891    0        0      0        2240       0   4131\n",
              "25-34       2414    0     1041      0         736       0   4191\n",
              "35-54        915    0     2796      0           0     561   4272\n",
              "5-14         418  984        0      0        1740       0   3142\n",
              "55-74          0    0      731    532           0    2820   4083\n",
              "75+            0    0        0   1719           0    2001   3720\n",
              "Total       5638  984     4568   2251        4716    5382  23539"
            ],
            "text/html": [
              "\n",
              "  <div id=\"df-5463f7ff-8655-4ba5-a1f5-ea4954d5eded\" class=\"colab-df-container\">\n",
              "    <div>\n",
              "<style scoped>\n",
              "    .dataframe tbody tr th:only-of-type {\n",
              "        vertical-align: middle;\n",
              "    }\n",
              "\n",
              "    .dataframe tbody tr th {\n",
              "        vertical-align: top;\n",
              "    }\n",
              "\n",
              "    .dataframe thead th {\n",
              "        text-align: right;\n",
              "    }\n",
              "</style>\n",
              "<table border=\"1\" class=\"dataframe\">\n",
              "  <thead>\n",
              "    <tr style=\"text-align: right;\">\n",
              "      <th>generacion</th>\n",
              "      <th>X</th>\n",
              "      <th>Z</th>\n",
              "      <th>Boomers</th>\n",
              "      <th>G.I.</th>\n",
              "      <th>Millenials</th>\n",
              "      <th>Silent</th>\n",
              "      <th>Total</th>\n",
              "    </tr>\n",
              "    <tr>\n",
              "      <th>edad</th>\n",
              "      <th></th>\n",
              "      <th></th>\n",
              "      <th></th>\n",
              "      <th></th>\n",
              "      <th></th>\n",
              "      <th></th>\n",
              "      <th></th>\n",
              "    </tr>\n",
              "  </thead>\n",
              "  <tbody>\n",
              "    <tr>\n",
              "      <th>15-24</th>\n",
              "      <td>1891</td>\n",
              "      <td>0</td>\n",
              "      <td>0</td>\n",
              "      <td>0</td>\n",
              "      <td>2240</td>\n",
              "      <td>0</td>\n",
              "      <td>4131</td>\n",
              "    </tr>\n",
              "    <tr>\n",
              "      <th>25-34</th>\n",
              "      <td>2414</td>\n",
              "      <td>0</td>\n",
              "      <td>1041</td>\n",
              "      <td>0</td>\n",
              "      <td>736</td>\n",
              "      <td>0</td>\n",
              "      <td>4191</td>\n",
              "    </tr>\n",
              "    <tr>\n",
              "      <th>35-54</th>\n",
              "      <td>915</td>\n",
              "      <td>0</td>\n",
              "      <td>2796</td>\n",
              "      <td>0</td>\n",
              "      <td>0</td>\n",
              "      <td>561</td>\n",
              "      <td>4272</td>\n",
              "    </tr>\n",
              "    <tr>\n",
              "      <th>5-14</th>\n",
              "      <td>418</td>\n",
              "      <td>984</td>\n",
              "      <td>0</td>\n",
              "      <td>0</td>\n",
              "      <td>1740</td>\n",
              "      <td>0</td>\n",
              "      <td>3142</td>\n",
              "    </tr>\n",
              "    <tr>\n",
              "      <th>55-74</th>\n",
              "      <td>0</td>\n",
              "      <td>0</td>\n",
              "      <td>731</td>\n",
              "      <td>532</td>\n",
              "      <td>0</td>\n",
              "      <td>2820</td>\n",
              "      <td>4083</td>\n",
              "    </tr>\n",
              "    <tr>\n",
              "      <th>75+</th>\n",
              "      <td>0</td>\n",
              "      <td>0</td>\n",
              "      <td>0</td>\n",
              "      <td>1719</td>\n",
              "      <td>0</td>\n",
              "      <td>2001</td>\n",
              "      <td>3720</td>\n",
              "    </tr>\n",
              "    <tr>\n",
              "      <th>Total</th>\n",
              "      <td>5638</td>\n",
              "      <td>984</td>\n",
              "      <td>4568</td>\n",
              "      <td>2251</td>\n",
              "      <td>4716</td>\n",
              "      <td>5382</td>\n",
              "      <td>23539</td>\n",
              "    </tr>\n",
              "  </tbody>\n",
              "</table>\n",
              "</div>\n",
              "    <div class=\"colab-df-buttons\">\n",
              "\n",
              "  <div class=\"colab-df-container\">\n",
              "    <button class=\"colab-df-convert\" onclick=\"convertToInteractive('df-5463f7ff-8655-4ba5-a1f5-ea4954d5eded')\"\n",
              "            title=\"Convert this dataframe to an interactive table.\"\n",
              "            style=\"display:none;\">\n",
              "\n",
              "  <svg xmlns=\"http://www.w3.org/2000/svg\" height=\"24px\" viewBox=\"0 -960 960 960\">\n",
              "    <path d=\"M120-120v-720h720v720H120Zm60-500h600v-160H180v160Zm220 220h160v-160H400v160Zm0 220h160v-160H400v160ZM180-400h160v-160H180v160Zm440 0h160v-160H620v160ZM180-180h160v-160H180v160Zm440 0h160v-160H620v160Z\"/>\n",
              "  </svg>\n",
              "    </button>\n",
              "\n",
              "  <style>\n",
              "    .colab-df-container {\n",
              "      display:flex;\n",
              "      gap: 12px;\n",
              "    }\n",
              "\n",
              "    .colab-df-convert {\n",
              "      background-color: #E8F0FE;\n",
              "      border: none;\n",
              "      border-radius: 50%;\n",
              "      cursor: pointer;\n",
              "      display: none;\n",
              "      fill: #1967D2;\n",
              "      height: 32px;\n",
              "      padding: 0 0 0 0;\n",
              "      width: 32px;\n",
              "    }\n",
              "\n",
              "    .colab-df-convert:hover {\n",
              "      background-color: #E2EBFA;\n",
              "      box-shadow: 0px 1px 2px rgba(60, 64, 67, 0.3), 0px 1px 3px 1px rgba(60, 64, 67, 0.15);\n",
              "      fill: #174EA6;\n",
              "    }\n",
              "\n",
              "    .colab-df-buttons div {\n",
              "      margin-bottom: 4px;\n",
              "    }\n",
              "\n",
              "    [theme=dark] .colab-df-convert {\n",
              "      background-color: #3B4455;\n",
              "      fill: #D2E3FC;\n",
              "    }\n",
              "\n",
              "    [theme=dark] .colab-df-convert:hover {\n",
              "      background-color: #434B5C;\n",
              "      box-shadow: 0px 1px 3px 1px rgba(0, 0, 0, 0.15);\n",
              "      filter: drop-shadow(0px 1px 2px rgba(0, 0, 0, 0.3));\n",
              "      fill: #FFFFFF;\n",
              "    }\n",
              "  </style>\n",
              "\n",
              "    <script>\n",
              "      const buttonEl =\n",
              "        document.querySelector('#df-5463f7ff-8655-4ba5-a1f5-ea4954d5eded button.colab-df-convert');\n",
              "      buttonEl.style.display =\n",
              "        google.colab.kernel.accessAllowed ? 'block' : 'none';\n",
              "\n",
              "      async function convertToInteractive(key) {\n",
              "        const element = document.querySelector('#df-5463f7ff-8655-4ba5-a1f5-ea4954d5eded');\n",
              "        const dataTable =\n",
              "          await google.colab.kernel.invokeFunction('convertToInteractive',\n",
              "                                                    [key], {});\n",
              "        if (!dataTable) return;\n",
              "\n",
              "        const docLinkHtml = 'Like what you see? Visit the ' +\n",
              "          '<a target=\"_blank\" href=https://colab.research.google.com/notebooks/data_table.ipynb>data table notebook</a>'\n",
              "          + ' to learn more about interactive tables.';\n",
              "        element.innerHTML = '';\n",
              "        dataTable['output_type'] = 'display_data';\n",
              "        await google.colab.output.renderOutput(dataTable, element);\n",
              "        const docLink = document.createElement('div');\n",
              "        docLink.innerHTML = docLinkHtml;\n",
              "        element.appendChild(docLink);\n",
              "      }\n",
              "    </script>\n",
              "  </div>\n",
              "\n",
              "\n",
              "<div id=\"df-7ce79efa-ce45-4990-a4c8-58245fe3a886\">\n",
              "  <button class=\"colab-df-quickchart\" onclick=\"quickchart('df-7ce79efa-ce45-4990-a4c8-58245fe3a886')\"\n",
              "            title=\"Suggest charts\"\n",
              "            style=\"display:none;\">\n",
              "\n",
              "<svg xmlns=\"http://www.w3.org/2000/svg\" height=\"24px\"viewBox=\"0 0 24 24\"\n",
              "     width=\"24px\">\n",
              "    <g>\n",
              "        <path d=\"M19 3H5c-1.1 0-2 .9-2 2v14c0 1.1.9 2 2 2h14c1.1 0 2-.9 2-2V5c0-1.1-.9-2-2-2zM9 17H7v-7h2v7zm4 0h-2V7h2v10zm4 0h-2v-4h2v4z\"/>\n",
              "    </g>\n",
              "</svg>\n",
              "  </button>\n",
              "\n",
              "<style>\n",
              "  .colab-df-quickchart {\n",
              "      --bg-color: #E8F0FE;\n",
              "      --fill-color: #1967D2;\n",
              "      --hover-bg-color: #E2EBFA;\n",
              "      --hover-fill-color: #174EA6;\n",
              "      --disabled-fill-color: #AAA;\n",
              "      --disabled-bg-color: #DDD;\n",
              "  }\n",
              "\n",
              "  [theme=dark] .colab-df-quickchart {\n",
              "      --bg-color: #3B4455;\n",
              "      --fill-color: #D2E3FC;\n",
              "      --hover-bg-color: #434B5C;\n",
              "      --hover-fill-color: #FFFFFF;\n",
              "      --disabled-bg-color: #3B4455;\n",
              "      --disabled-fill-color: #666;\n",
              "  }\n",
              "\n",
              "  .colab-df-quickchart {\n",
              "    background-color: var(--bg-color);\n",
              "    border: none;\n",
              "    border-radius: 50%;\n",
              "    cursor: pointer;\n",
              "    display: none;\n",
              "    fill: var(--fill-color);\n",
              "    height: 32px;\n",
              "    padding: 0;\n",
              "    width: 32px;\n",
              "  }\n",
              "\n",
              "  .colab-df-quickchart:hover {\n",
              "    background-color: var(--hover-bg-color);\n",
              "    box-shadow: 0 1px 2px rgba(60, 64, 67, 0.3), 0 1px 3px 1px rgba(60, 64, 67, 0.15);\n",
              "    fill: var(--button-hover-fill-color);\n",
              "  }\n",
              "\n",
              "  .colab-df-quickchart-complete:disabled,\n",
              "  .colab-df-quickchart-complete:disabled:hover {\n",
              "    background-color: var(--disabled-bg-color);\n",
              "    fill: var(--disabled-fill-color);\n",
              "    box-shadow: none;\n",
              "  }\n",
              "\n",
              "  .colab-df-spinner {\n",
              "    border: 2px solid var(--fill-color);\n",
              "    border-color: transparent;\n",
              "    border-bottom-color: var(--fill-color);\n",
              "    animation:\n",
              "      spin 1s steps(1) infinite;\n",
              "  }\n",
              "\n",
              "  @keyframes spin {\n",
              "    0% {\n",
              "      border-color: transparent;\n",
              "      border-bottom-color: var(--fill-color);\n",
              "      border-left-color: var(--fill-color);\n",
              "    }\n",
              "    20% {\n",
              "      border-color: transparent;\n",
              "      border-left-color: var(--fill-color);\n",
              "      border-top-color: var(--fill-color);\n",
              "    }\n",
              "    30% {\n",
              "      border-color: transparent;\n",
              "      border-left-color: var(--fill-color);\n",
              "      border-top-color: var(--fill-color);\n",
              "      border-right-color: var(--fill-color);\n",
              "    }\n",
              "    40% {\n",
              "      border-color: transparent;\n",
              "      border-right-color: var(--fill-color);\n",
              "      border-top-color: var(--fill-color);\n",
              "    }\n",
              "    60% {\n",
              "      border-color: transparent;\n",
              "      border-right-color: var(--fill-color);\n",
              "    }\n",
              "    80% {\n",
              "      border-color: transparent;\n",
              "      border-right-color: var(--fill-color);\n",
              "      border-bottom-color: var(--fill-color);\n",
              "    }\n",
              "    90% {\n",
              "      border-color: transparent;\n",
              "      border-bottom-color: var(--fill-color);\n",
              "    }\n",
              "  }\n",
              "</style>\n",
              "\n",
              "  <script>\n",
              "    async function quickchart(key) {\n",
              "      const quickchartButtonEl =\n",
              "        document.querySelector('#' + key + ' button');\n",
              "      quickchartButtonEl.disabled = true;  // To prevent multiple clicks.\n",
              "      quickchartButtonEl.classList.add('colab-df-spinner');\n",
              "      try {\n",
              "        const charts = await google.colab.kernel.invokeFunction(\n",
              "            'suggestCharts', [key], {});\n",
              "      } catch (error) {\n",
              "        console.error('Error during call to suggestCharts:', error);\n",
              "      }\n",
              "      quickchartButtonEl.classList.remove('colab-df-spinner');\n",
              "      quickchartButtonEl.classList.add('colab-df-quickchart-complete');\n",
              "    }\n",
              "    (() => {\n",
              "      let quickchartButtonEl =\n",
              "        document.querySelector('#df-7ce79efa-ce45-4990-a4c8-58245fe3a886 button');\n",
              "      quickchartButtonEl.style.display =\n",
              "        google.colab.kernel.accessAllowed ? 'block' : 'none';\n",
              "    })();\n",
              "  </script>\n",
              "</div>\n",
              "\n",
              "  <div id=\"id_652f2ef6-3ad0-446f-b67c-013d2e20b3aa\">\n",
              "    <style>\n",
              "      .colab-df-generate {\n",
              "        background-color: #E8F0FE;\n",
              "        border: none;\n",
              "        border-radius: 50%;\n",
              "        cursor: pointer;\n",
              "        display: none;\n",
              "        fill: #1967D2;\n",
              "        height: 32px;\n",
              "        padding: 0 0 0 0;\n",
              "        width: 32px;\n",
              "      }\n",
              "\n",
              "      .colab-df-generate:hover {\n",
              "        background-color: #E2EBFA;\n",
              "        box-shadow: 0px 1px 2px rgba(60, 64, 67, 0.3), 0px 1px 3px 1px rgba(60, 64, 67, 0.15);\n",
              "        fill: #174EA6;\n",
              "      }\n",
              "\n",
              "      [theme=dark] .colab-df-generate {\n",
              "        background-color: #3B4455;\n",
              "        fill: #D2E3FC;\n",
              "      }\n",
              "\n",
              "      [theme=dark] .colab-df-generate:hover {\n",
              "        background-color: #434B5C;\n",
              "        box-shadow: 0px 1px 3px 1px rgba(0, 0, 0, 0.15);\n",
              "        filter: drop-shadow(0px 1px 2px rgba(0, 0, 0, 0.3));\n",
              "        fill: #FFFFFF;\n",
              "      }\n",
              "    </style>\n",
              "    <button class=\"colab-df-generate\" onclick=\"generateWithVariable('crosstab')\"\n",
              "            title=\"Generate code using this dataframe.\"\n",
              "            style=\"display:none;\">\n",
              "\n",
              "  <svg xmlns=\"http://www.w3.org/2000/svg\" height=\"24px\"viewBox=\"0 0 24 24\"\n",
              "       width=\"24px\">\n",
              "    <path d=\"M7,19H8.4L18.45,9,17,7.55,7,17.6ZM5,21V16.75L18.45,3.32a2,2,0,0,1,2.83,0l1.4,1.43a1.91,1.91,0,0,1,.58,1.4,1.91,1.91,0,0,1-.58,1.4L9.25,21ZM18.45,9,17,7.55Zm-12,3A5.31,5.31,0,0,0,4.9,8.1,5.31,5.31,0,0,0,1,6.5,5.31,5.31,0,0,0,4.9,4.9,5.31,5.31,0,0,0,6.5,1,5.31,5.31,0,0,0,8.1,4.9,5.31,5.31,0,0,0,12,6.5,5.46,5.46,0,0,0,6.5,12Z\"/>\n",
              "  </svg>\n",
              "    </button>\n",
              "    <script>\n",
              "      (() => {\n",
              "      const buttonEl =\n",
              "        document.querySelector('#id_652f2ef6-3ad0-446f-b67c-013d2e20b3aa button.colab-df-generate');\n",
              "      buttonEl.style.display =\n",
              "        google.colab.kernel.accessAllowed ? 'block' : 'none';\n",
              "\n",
              "      buttonEl.onclick = () => {\n",
              "        google.colab.notebook.generateWithVariable('crosstab');\n",
              "      }\n",
              "      })();\n",
              "    </script>\n",
              "  </div>\n",
              "\n",
              "    </div>\n",
              "  </div>\n"
            ]
          },
          "metadata": {},
          "execution_count": 94
        }
      ]
    },
    {
      "cell_type": "code",
      "source": [
        "# figure es el objeto que contiene nuestras gráficas, los objetos axes son los encargados de dibujar cada una de las gráficas.\n",
        "# figure contiene axes y nuestras gráficas se dibujan sobre los axes.\n",
        "\n",
        "# Usando el método subplots, podemos generar al mismo tiempo una nueva figura y múltiples axes que están contenidos en esa figura:\n",
        "fig, axes =plt.subplots(2, 2)"
      ],
      "metadata": {
        "colab": {
          "base_uri": "https://localhost:8080/",
          "height": 440
        },
        "id": "9EHpyO5hQ9Ux",
        "outputId": "10184417-1edb-4a13-a827-fbb36d5ed2fc"
      },
      "execution_count": 95,
      "outputs": [
        {
          "output_type": "display_data",
          "data": {
            "text/plain": [
              "<Figure size 640x480 with 4 Axes>"
            ],
            "image/png": "[encoded data removed]"
          },
          "metadata": {}
        }
      ]
    },
    {
      "cell_type": "code",
      "source": [
        "sns.set_style('whitegrid')\n",
        "\n",
        "#crosstab = pd.crosstab(df['edad'],[df['sexo'], df['generacion']])\n",
        "#crosstab"
      ],
      "metadata": {
        "id": "UxrbENNLR1Ci"
      },
      "execution_count": 96,
      "outputs": []
    },
    {
      "cell_type": "code",
      "source": [
        "fig, axes=  plt.subplots(2,2, figsize=(10, 8), sharex=True, sharey=True)\n",
        "\n",
        "sns.barplot(x=crosstab.columns, y=crosstab.loc[1], ax=axes[0, 0, 0], hue=crosstab.columns, palette=\"coolwarm\", legend=False)\n",
        "sns.barplot(x=crosstab.columns, y=crosstab.loc[2], ax=axes[0, 0, 1], hue=crosstab.columns, palette=\"seismic\", legend=False)\n",
        "sns.barplot(x=crosstab.columns, y=crosstab.loc[3], ax=axes[0, 1, 0], hue=crosstab.columns, palette=\"RdYlGn\", legend=False)\n",
        "sns.barplot(x=crosstab.columns, y=crosstab.loc[4], ax=axes[0, 1, 1], hue=crosstab.columns, palette=\"BrBG\", legend=False)\n",
        "sns.barplot(x=crosstab.columns, y=crosstab.loc[5], ax=axes[1, 0, 0], hue=crosstab.columns, palette=\"coolwarm\", legend=False)\n",
        "sns.barplot(x=crosstab.columns, y=crosstab.loc[6], ax=axes[1, 0, 1], hue=crosstab.columns, palette=\"seismic\", legend=False)\n",
        "sns.barplot(x=crosstab.columns, y=crosstab.loc[7], ax=axes[1, 1, 0], hue=crosstab.columns, palette=\"RdYlGn\", legend=False)\n",
        "\n",
        "\n",
        "axes[0, 0].set(xlabel='', ylabel='', title='Rango de Precio: 1')\n",
        "axes[0, 1].set(xlabel='', ylabel='', title='Rango de Precio: 2')\n",
        "axes[1, 0].set(xlabel='', ylabel='', title='Rango de Precio: 3')\n",
        "axes[1, 1].set(xlabel='', ylabel='', title='Rango de Precio: 4')\n",
        "\n",
        "fig.suptitle('Ratings de restaurantes separados por rango de precio', fontsize=15)\n",
        "plt.tight_layout(rect=[0, 0.03, 1, 0.95])  # Ajustar el layout para acomodar el título superior, tuple (left, bottom, right, top), default: (0, 0, 1, 1)\n"
      ],
      "metadata": {
        "id": "vXH5DCifRTSb"
      },
      "execution_count": null,
      "outputs": []
    },
    {
      "cell_type": "markdown",
      "source": [
        "¿qué combinaciones de una variable numérica con una variable categórica podrían ser interesantes?"
      ],
      "metadata": {
        "id": "iHR6UKUhBc7f"
      }
    },
    {
      "cell_type": "markdown",
      "source": [
        "* pais - pib per capita\n",
        "* no_suicidios - sexo\n",
        "* no_suicidios - rango de edades\n",
        "\n",
        "\n",
        "Realizar boxplots y violinplots"
      ],
      "metadata": {
        "id": "M-E1pdCXNxwS"
      }
    },
    {
      "cell_type": "markdown",
      "source": [
        "#### pais - pib per capita (Lesly)"
      ],
      "metadata": {
        "id": "VcxAiFxxOyAj"
      }
    },
    {
      "cell_type": "code",
      "source": [],
      "metadata": {
        "id": "XH_Sd5jsPLOK"
      },
      "execution_count": null,
      "outputs": []
    },
    {
      "cell_type": "code",
      "source": [],
      "metadata": {
        "id": "BMdZCn79O0GZ"
      },
      "execution_count": null,
      "outputs": []
    },
    {
      "cell_type": "markdown",
      "source": [
        "#### no_suicidios - sexo (Miriam)"
      ],
      "metadata": {
        "id": "_crwoS23O0x_"
      }
    },
    {
      "cell_type": "code",
      "source": [],
      "metadata": {
        "id": "rP2zkpPyPM0B"
      },
      "execution_count": null,
      "outputs": []
    },
    {
      "cell_type": "code",
      "source": [],
      "metadata": {
        "id": "51MmjnEcO4Ab"
      },
      "execution_count": null,
      "outputs": []
    },
    {
      "cell_type": "markdown",
      "source": [
        "#### no_suicidios - rango de edades (Gisell)"
      ],
      "metadata": {
        "id": "Fot20On-O5tr"
      }
    },
    {
      "cell_type": "code",
      "source": [
        "by_athlete = df.groupby(level=0)[['no_suicidios', 'edad']].mean()\n",
        "sex = df.groupby(level=0)['edad'].last()\n",
        "merged = by_athlete.merge(sex, left_index=True, right_index=True)"
      ],
      "metadata": {
        "colab": {
          "base_uri": "https://localhost:8080/"
        },
        "id": "gxVCCaCVc0Dy",
        "outputId": "c912f620-6188-4b7b-eb1d-1d466161f101"
      },
      "execution_count": 77,
      "outputs": [
        {
          "output_type": "stream",
          "name": "stderr",
          "text": [
            "<ipython-input-77-b529aace709b>:1: FutureWarning: The default value of numeric_only in DataFrameGroupBy.mean is deprecated. In a future version, numeric_only will default to False. Either specify numeric_only or select only columns which should be valid for the function.\n",
            "  by_athlete = df.groupby(level=0)[['no_suicidios', 'edad']].mean()\n"
          ]
        }
      ]
    },
    {
      "cell_type": "code",
      "source": [
        "plt.figure(figsize=(5, 10))\n",
        "# Crea el boxplot con Seaborn y asigna colores\n",
        "sns.boxplot(data=merged, x='no_suicidios', y='edad', hue='no_suicidios', palette=['blue', 'red'], dodge=False)\n",
        "\n",
        "# Omitir la leyenda si no es necesaria\n",
        "plt.legend([],[], frameon=False)\n",
        "\n",
        "# Añade un título principal al gráfico\n",
        "plt.title('Distribución del peso por sexo', fontsize=14)\n",
        "\n",
        "# Añade títulos a los ejes X e Y\n",
        "plt.xlabel('Sexo', fontsize=12)\n",
        "plt.ylabel('Peso', fontsize=12)\n",
        "\n",
        "plt.show()"
      ],
      "metadata": {
        "id": "bJ7hTEBDBeBy",
        "colab": {
          "base_uri": "https://localhost:8080/",
          "height": 935
        },
        "outputId": "baef4c8c-d1fb-45b0-fbbf-a1d9dc5c27e1"
      },
      "execution_count": 78,
      "outputs": [
        {
          "output_type": "stream",
          "name": "stderr",
          "text": [
            "<ipython-input-78-102dddbb74d6>:3: UserWarning: \n",
            "The palette list has fewer values (2) than needed (2083) and will cycle, which may produce an uninterpretable plot.\n",
            "  sns.boxplot(data=merged, x='no_suicidios', y='edad', hue='no_suicidios', palette=['blue', 'red'], dodge=False)\n"
          ]
        },
        {
          "output_type": "display_data",
          "data": {
            "text/plain": [
              "<Figure size 500x1000 with 1 Axes>"
            ],
            "image/png": "[encoded data removed]"
          },
          "metadata": {}
        }
      ]
    },
    {
      "cell_type": "markdown",
      "source": [
        "## Correlaciones y Regresión Linear Simple"
      ],
      "metadata": {
        "id": "VZkDLwTAFBim"
      }
    },
    {
      "cell_type": "code",
      "source": [],
      "metadata": {
        "id": "WhjO6vPBFcLJ"
      },
      "execution_count": null,
      "outputs": []
    },
    {
      "cell_type": "markdown",
      "source": [
        "* Identifica cuáles son las variables numéricas en tu dataset.\n",
        "* Asegúrate de que tengan el tipo de dato correcto y que no haya NaNs por ahí escondidos.\n",
        "* Genera una matriz de correlaciones y un pairplot para visualizar de manera general las relaciones entre tus variables numéricas.\n",
        "* Utilizando gráficas de dispersión y tus medidas de locación y dispersión, identifica dónde hay valores atípicos y decide qué hacer con ellos.\n",
        "* Revisa si tu revisión de valores atípicos cambió de alguna manera las relaciones existentes.\n",
        "* Donde consideres necesario, entrena modelos de Regresión Lineal con un o más pares de variables. Incluso si no te parece que realizar predicciones entre pares de variables tiene sentido para tu proyecto, prueba realizar un par de regresiones para que practiques el procedimiento."
      ],
      "metadata": {
        "id": "Xx8-mRf5FJxQ"
      }
    },
    {
      "cell_type": "code",
      "source": [],
      "metadata": {
        "id": "cGpVNi2tFQJ5"
      },
      "execution_count": null,
      "outputs": []
    },
    {
      "cell_type": "markdown",
      "source": [
        "## Distribuciones muestrales y técnicas de evaluación de modelos"
      ],
      "metadata": {
        "id": "8_Ax-ez7FSjT"
      }
    },
    {
      "cell_type": "code",
      "source": [],
      "metadata": {
        "id": "KF6RM38xGbWw"
      },
      "execution_count": null,
      "outputs": []
    },
    {
      "cell_type": "markdown",
      "source": [
        "* Identifica las variables numéricas en tu dataset y revisa las medidas de locación y dispersión que ya has realizado de ellas.\n",
        "* Utilizando la técnica de bootstrap, explora las distribuciones muestrales de las estadísticas que obtuviste anteriormente y reporta:\n",
        "** La distribución, su asimetría y curtosis\n",
        "** El error estándar\n",
        "** El intervalo de confianza que te parezca más apropiado\n",
        "* Si tiene sentido, elige algunas de tus variables numéricas para entrenar uno o más modelos de Regresión Lineal Múltiple. Utiliza las técnicas de división de dataset y validación cruzada de K-iteraciones para asegurarte de que tu modelo generalice.\n"
      ],
      "metadata": {
        "id": "Dxyd6xNUFq_D"
      }
    },
    {
      "cell_type": "code",
      "source": [],
      "metadata": {
        "id": "dXnLsSB1F0me"
      },
      "execution_count": null,
      "outputs": []
    },
    {
      "cell_type": "markdown",
      "source": [
        "## Visualización de datos avanzada"
      ],
      "metadata": {
        "id": "EJqs4x3FGH0B"
      }
    },
    {
      "cell_type": "markdown",
      "source": [
        "* Si hay relaciones jerárquicas que quieras hacer claras o si quieres explorar las proporciones de una variable numérica agrupada en múltiples niveles utiliza un treemap.\n",
        "* Si quieres explorar la relación entre dos variables numéricas divididas por una variable categórica, utiliza scatterplots por categorías o scatterplots con variables condicionantes.\n",
        "* Si quieres explorar la relación entre dos variables numéricas pero tu dataset es tan grande que es imposible definir las densidades de tus datos, utiliza un binning hexagonal.\n",
        "* Si quieres explorar datos geográficos, como definir regiones o puntos en un mapa o visualizar una variable numérica que puede segmentarse por regiones geográficas, utiliza un mapa cloroplético.\n",
        "* Si quieres explorar una variable numérica agrupada en dos niveles por variables categóricas, utiliza una gráfica de barras apiladas."
      ],
      "metadata": {
        "id": "St1NYcGNF4Xh"
      }
    },
    {
      "cell_type": "code",
      "source": [],
      "metadata": {
        "id": "p5Xaht4RGFzK"
      },
      "execution_count": null,
      "outputs": []
    }
  ]
}